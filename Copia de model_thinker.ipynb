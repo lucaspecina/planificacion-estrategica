{
 "cells": [
  {
   "cell_type": "markdown",
   "metadata": {},
   "source": [
    "# The model thinker - Scott E. Page\n",
    "\n",
    "https://www.coursera.org/learn/model-thinking/home/welcome\n",
    "\n",
    "https://www.math.ubc.ca/~pwalls/math-python/jupyter/latex/ LaTeX"
   ]
  },
  {
   "cell_type": "code",
   "execution_count": 328,
   "metadata": {},
   "outputs": [],
   "source": [
    "import numpy as np\n",
    "import pandas as pd\n",
    "import matplotlib.pyplot as plt\n",
    "import seaborn as sns\n",
    "import plotly.express as px\n",
    "import sympy as sp\n",
    "sp.init_printing()\n",
    "import networkx as nx"
   ]
  },
  {
   "cell_type": "markdown",
   "metadata": {},
   "source": [
    "## 11. Broadcast, Diffusion, and Contagion\n",
    "\n",
    "Se modela el spread (esparcimiento) de informacion, tecnologias, comportamientos, creencias y enfermedades a traves de una poblacion, usando modelos de transmision, difusion y contagio. Estos modelos juegan un rol fundamental en la comunicacion, el marketing y la epidemiologia. \n",
    "\n",
    "Estos modelos **particionan la poblacion entre los que saben/tienen y los que no. Con el tiempo, los individuos se mueven entre los grupos/estados**.\n",
    "\n",
    "**Curva de adopcion**: plot empirico sobre la cantidad de individuos que pasan al estado \"activo\". Suele ser concavo o con forma de S. Depende de la forma en la que la gente pasa a ese estado (por broadcast o difusion).\n",
    "\n",
    "> **Broadcasting (transmision):** cuando la gente escucha una idea o se agarra una enfermedad **desde una unica fuente**. Produce plots con forma de r.\n",
    "\n",
    "> **Diffussion (difusion):** cuando la gente lo hace mediante el contacto, se va **pasando de persona a persona**. Produce plots con forma de S.\n",
    "\n",
    "> **Bass model:** se expanden por ambas **(broadcasting y diffussion)**. La forma del plot depende del peso que tenga cada mecanismo de expansion.\n",
    "\n",
    "> **SIR (contagio):** incluye una tasa de recuperacion, puede ser el sistema inmune, que algo pase de moda, que algo se pierda, baje su caildad, informacion perdiendo su valor, etc. El modelo produce un **tipping point**, donde cambios pequeños en los atributos produce el exito o el fracaso (como por ejemplo un pequeño cambio en la probabilidad de que se comente sobre un nuevo lugar puede terminar en una gran diferencia de marketing a favor."
   ]
  },
  {
   "cell_type": "markdown",
   "metadata": {},
   "source": [
    "#### Links:\n",
    "\n",
    "Notebook NetworkX\n",
    "https://www.youtube.com/watch?v=gxAaO2rsdIs&t=701s 3b1b\n",
    "https://www.youtube.com/watch?v=sPeMBB7qkmI&feature=emb_logo pablo groisman\n",
    "https://towardsdatascience.com/random-walks-with-python-8420981bc4bc random walk 2d"
   ]
  },
  {
   "cell_type": "markdown",
   "metadata": {},
   "source": [
    "### Broadcast Model\n",
    "\n",
    "Hay una poblacion $N$, en cada momento $t$, una cantidad de esa poblacion sabe la info/tiene la enfermedad, $I_t$. El resto de la poblacion son susceptibles de adquirirlo, $S_t$. $N=I_t+S_t$. Para saber **la cantidad de gente que va a estar infectada en t+1, $I_{t+1}$.**:\n",
    "\n",
    "#### $$I_{t+1} = I_{t} + P_{broad} * S_{t}$$\n",
    "\n",
    "$P_{broad}$ es la probabilidad de la transmision (puede ser la probabilidad de que una persona escuche una noticia por television o que tome un agua que esta contaminada).\n",
    "\n",
    "Captra la transmision de ideas, rumores, informacion, tecnologia mediante medios como la tele, radio, internet. Una fuente, como el gobierno, una empresa o diario expande la informacion. O contaminacion por una fuente de agua. **No se aplica a los que se contagia de persona a persona**.\n"
   ]
  },
  {
   "cell_type": "markdown",
   "metadata": {},
   "source": [
    "#### Calculandolo secuencialmente"
   ]
  },
  {
   "cell_type": "code",
   "execution_count": 329,
   "metadata": {},
   "outputs": [],
   "source": [
    "t= np.arange(1,20,1)\n",
    "p= 0.15\n",
    "s=1000000\n",
    "\n",
    "df= pd.DataFrame({'t':t})\n",
    "df['I']= 0\n",
    "df['S']= 1000000\n",
    "df['p']=p\n",
    "\n",
    "for i in t:\n",
    "    df.loc[i,'I']= df.loc[i-1,'I'] + p * df.loc[i-1,'S']\n",
    "    df.loc[i,'S']= 1000000-df.loc[i,'I']\n",
    "\n",
    "t= np.arange(1,20,1)\n",
    "p= 0.05\n",
    "s=1000000\n",
    "\n",
    "df2= pd.DataFrame({'t':t})\n",
    "df2['I']= 0\n",
    "df2['S']= 1000000\n",
    "df2['p']=p\n",
    "\n",
    "for i in t:\n",
    "    df2.loc[i,'I']= df2.loc[i-1,'I'] + p * df2.loc[i-1,'S']\n",
    "    df2.loc[i,'S']= 1000000-df2.loc[i,'I']\n",
    "    \n",
    "t= np.arange(1,20,1)\n",
    "p= 0.01\n",
    "s=1000000\n",
    "\n",
    "df3= pd.DataFrame({'t':t})\n",
    "df3['I']= 0\n",
    "df3['S']= 1000000\n",
    "df3['p']=p\n",
    "\n",
    "for i in t:\n",
    "    df3.loc[i,'I']= df3.loc[i-1,'I'] + p * df3.loc[i-1,'S']\n",
    "    df3.loc[i,'S']= 1000000-df3.loc[i,'I']\n",
    "\n",
    "t= np.arange(1,20,1)\n",
    "p= 0.25\n",
    "s=1000000\n",
    "\n",
    "df4= pd.DataFrame({'t':t})\n",
    "df4['I']= 0\n",
    "df4['S']= 1000000\n",
    "df4['p']=p\n",
    "\n",
    "for i in t:\n",
    "    df4.loc[i,'I']= df4.loc[i-1,'I'] + p * df4.loc[i-1,'S']\n",
    "    df4.loc[i,'S']= 1000000-df4.loc[i,'I']\n",
    "    \n",
    "df= pd.concat([df,df2,df3,df4])\n",
    "df= df.dropna().reset_index(drop=True)"
   ]
  },
  {
   "cell_type": "code",
   "execution_count": 330,
   "metadata": {},
   "outputs": [],
   "source": [
    "df= df.melt(id_vars=['t','p'], value_vars=['I','S'] ,var_name='Estado')"
   ]
  },
  {
   "cell_type": "code",
   "execution_count": 331,
   "metadata": {},
   "outputs": [
    {
     "data": {
      "image/svg+xml": [
       "<svg class=\"main-svg\" xmlns=\"http://www.w3.org/2000/svg\" xmlns:xlink=\"http://www.w3.org/1999/xlink\" width=\"700\" height=\"450\" style=\"\" viewBox=\"0 0 700 450\"><rect x=\"0\" y=\"0\" width=\"700\" height=\"450\" style=\"fill: rgb(255, 255, 255); fill-opacity: 1;\"/><defs id=\"defs-fcecc3\"><g class=\"clips\"><clipPath id=\"clipfcecc3xyplot\" class=\"plotclip\"><rect width=\"243.84\" height=\"310\"/></clipPath><clipPath id=\"clipfcecc3x2y2plot\" class=\"plotclip\"><rect width=\"243.84\" height=\"310\"/></clipPath><clipPath class=\"axesclip\" id=\"clipfcecc3x\"><rect x=\"80\" y=\"0\" width=\"243.84\" height=\"450\"/></clipPath><clipPath class=\"axesclip\" id=\"clipfcecc3y\"><rect x=\"0\" y=\"60\" width=\"700\" height=\"310\"/></clipPath><clipPath class=\"axesclip\" id=\"clipfcecc3xy\"><rect x=\"80\" y=\"60\" width=\"243.84\" height=\"310\"/></clipPath><clipPath class=\"axesclip\" id=\"clipfcecc3y2\"><rect x=\"0\" y=\"60\" width=\"700\" height=\"310\"/></clipPath><clipPath class=\"axesclip\" id=\"clipfcecc3xy2\"><rect x=\"80\" y=\"60\" width=\"243.84\" height=\"310\"/></clipPath><clipPath class=\"axesclip\" id=\"clipfcecc3x2\"><rect x=\"334\" y=\"0\" width=\"243.84\" height=\"450\"/></clipPath><clipPath class=\"axesclip\" id=\"clipfcecc3x2y\"><rect x=\"334\" y=\"60\" width=\"243.84\" height=\"310\"/></clipPath><clipPath class=\"axesclip\" id=\"clipfcecc3x2y2\"><rect x=\"334\" y=\"60\" width=\"243.84\" height=\"310\"/></clipPath></g><g class=\"gradients\"/></defs><g class=\"bglayer\"><rect class=\"bg\" x=\"80\" y=\"60\" width=\"243.84\" height=\"310\" style=\"fill: rgb(229, 236, 246); fill-opacity: 1; stroke-width: 0;\"/><rect class=\"bg\" x=\"334\" y=\"60\" width=\"243.84\" height=\"310\" style=\"fill: rgb(229, 236, 246); fill-opacity: 1; stroke-width: 0;\"/></g><g class=\"layer-below\"><g class=\"imagelayer\"/><g class=\"shapelayer\"/></g><g class=\"cartesianlayer\"><g class=\"subplot xy\"><g class=\"layer-subplot\"><g class=\"shapelayer\"/><g class=\"imagelayer\"/></g><g class=\"gridlayer\"><g class=\"x\"><path class=\"xgrid crisp\" transform=\"translate(134.19,0)\" d=\"M0,60v310\" style=\"stroke: rgb(255, 255, 255); stroke-opacity: 1; stroke-width: 1px;\"/><path class=\"xgrid crisp\" transform=\"translate(201.92000000000002,0)\" d=\"M0,60v310\" style=\"stroke: rgb(255, 255, 255); stroke-opacity: 1; stroke-width: 1px;\"/><path class=\"xgrid crisp\" transform=\"translate(269.65,0)\" d=\"M0,60v310\" style=\"stroke: rgb(255, 255, 255); stroke-opacity: 1; stroke-width: 1px;\"/></g><g class=\"y\"><path class=\"ygrid crisp\" transform=\"translate(0,298.75)\" d=\"M80,0h243.84\" style=\"stroke: rgb(255, 255, 255); stroke-opacity: 1; stroke-width: 1px;\"/><path class=\"ygrid crisp\" transform=\"translate(0,242.92)\" d=\"M80,0h243.84\" style=\"stroke: rgb(255, 255, 255); stroke-opacity: 1; stroke-width: 1px;\"/><path class=\"ygrid crisp\" transform=\"translate(0,187.07999999999998)\" d=\"M80,0h243.84\" style=\"stroke: rgb(255, 255, 255); stroke-opacity: 1; stroke-width: 1px;\"/><path class=\"ygrid crisp\" transform=\"translate(0,131.25)\" d=\"M80,0h243.84\" style=\"stroke: rgb(255, 255, 255); stroke-opacity: 1; stroke-width: 1px;\"/><path class=\"ygrid crisp\" transform=\"translate(0,75.42)\" d=\"M80,0h243.84\" style=\"stroke: rgb(255, 255, 255); stroke-opacity: 1; stroke-width: 1px;\"/></g></g><g class=\"zerolinelayer\"><path class=\"yzl zl crisp\" transform=\"translate(0,354.58)\" d=\"M80,0h243.84\" style=\"stroke: rgb(255, 255, 255); stroke-opacity: 1; stroke-width: 2px;\"/></g><path class=\"xlines-below\"/><path class=\"ylines-below\"/><g class=\"overlines-below\"/><g class=\"xaxislayer-below\"/><g class=\"yaxislayer-below\"/><g class=\"overaxes-below\"/><g class=\"plot\" transform=\"translate(80, 60)\" clip-path=\"url('#clipfcecc3xyplot')\"><g class=\"scatterlayer mlayer\"><g class=\"trace scatter tracec4ada3\" style=\"stroke-miterlimit: 2; opacity: 1;\"><g class=\"fills\"/><g class=\"errorbars\"/><g class=\"lines\"><path class=\"js-line\" d=\"M0,294.58L13.55,252.71L27.09,217.11L40.64,186.86L54.19,161.14L67.73,139.28L81.28,120.71L94.83,104.91L108.37,91.49L121.92,80.08L135.47,70.38L149.01,62.14L162.56,55.13L176.11,49.17L189.65,44.11L216.75,36.15L230.29,33.04L243.84,30.4\" style=\"vector-effect: non-scaling-stroke; fill: none; stroke: rgb(99, 110, 250); stroke-opacity: 1; stroke-width: 2px; opacity: 1;\"/></g><g class=\"points\"/><g class=\"text\"/></g><g class=\"trace scatter tracea12ba2\" style=\"stroke-miterlimit: 2; opacity: 1;\"><g class=\"fills\"/><g class=\"errorbars\"/><g class=\"lines\"><path class=\"js-line\" d=\"M0,294.58L27.09,267.36L40.64,254.76L67.73,231.43L81.28,220.63L108.37,200.62L121.92,191.36L149.01,174.21L162.56,166.27L189.65,151.56L203.2,144.75L230.29,132.14L243.84,126.31\" style=\"vector-effect: non-scaling-stroke; fill: none; stroke: rgb(239, 85, 59); stroke-opacity: 1; stroke-width: 2px; opacity: 1;\"/></g><g class=\"points\"/><g class=\"text\"/></g><g class=\"trace scatter traceddc7ba\" style=\"stroke-miterlimit: 2; opacity: 1;\"><g class=\"fills\"/><g class=\"errorbars\"/><g class=\"lines\"><path class=\"js-line\" d=\"M0,294.58L108.37,273.01L121.92,270.44L230.29,250.74L243.84,248.38\" style=\"vector-effect: non-scaling-stroke; fill: none; stroke: rgb(0, 204, 150); stroke-opacity: 1; stroke-width: 2px; opacity: 1;\"/></g><g class=\"points\"/><g class=\"text\"/></g><g class=\"trace scatter trace094f54\" style=\"stroke-miterlimit: 2; opacity: 1;\"><g class=\"fills\"/><g class=\"errorbars\"/><g class=\"lines\"><path class=\"js-line\" d=\"M0,294.58L13.55,224.79L27.09,172.45L40.64,133.19L54.19,103.75L67.73,81.67L81.28,65.11L94.83,52.68L108.37,43.37L121.92,36.38L135.47,31.14L149.01,27.21L162.56,24.26L189.65,20.4L203.2,19.15L243.84,17\" style=\"vector-effect: non-scaling-stroke; fill: none; stroke: rgb(171, 99, 250); stroke-opacity: 1; stroke-width: 2px; opacity: 1;\"/></g><g class=\"points\"/><g class=\"text\"/></g></g></g><g class=\"overplot\"/><path class=\"xlines-above crisp\" style=\"fill: none;\" d=\"M0,0\"/><path class=\"ylines-above crisp\" style=\"fill: none;\" d=\"M0,0\"/><g class=\"overlines-above\"/><g class=\"xaxislayer-above\"><g class=\"xtick\"><text text-anchor=\"middle\" x=\"0\" y=\"383\" transform=\"translate(134.19,0)\" style=\"font-family: 'Open Sans', verdana, arial, sans-serif; font-size: 12px; fill: rgb(42, 63, 95); fill-opacity: 1; white-space: pre;\">5</text></g><g class=\"xtick\"><text text-anchor=\"middle\" x=\"0\" y=\"383\" transform=\"translate(201.92000000000002,0)\" style=\"font-family: 'Open Sans', verdana, arial, sans-serif; font-size: 12px; fill: rgb(42, 63, 95); fill-opacity: 1; white-space: pre;\">10</text></g><g class=\"xtick\"><text text-anchor=\"middle\" x=\"0\" y=\"383\" transform=\"translate(269.65,0)\" style=\"font-family: 'Open Sans', verdana, arial, sans-serif; font-size: 12px; fill: rgb(42, 63, 95); fill-opacity: 1; white-space: pre;\">15</text></g></g><g class=\"yaxislayer-above\"><g class=\"ytick\"><text text-anchor=\"end\" x=\"79\" y=\"4.199999999999999\" transform=\"translate(0,354.58)\" style=\"font-family: 'Open Sans', verdana, arial, sans-serif; font-size: 12px; fill: rgb(42, 63, 95); fill-opacity: 1; white-space: pre;\">0</text></g><g class=\"ytick\"><text text-anchor=\"end\" x=\"79\" y=\"4.199999999999999\" transform=\"translate(0,298.75)\" style=\"font-family: 'Open Sans', verdana, arial, sans-serif; font-size: 12px; fill: rgb(42, 63, 95); fill-opacity: 1; white-space: pre;\">0.2M</text></g><g class=\"ytick\"><text text-anchor=\"end\" x=\"79\" y=\"4.199999999999999\" transform=\"translate(0,242.92)\" style=\"font-family: 'Open Sans', verdana, arial, sans-serif; font-size: 12px; fill: rgb(42, 63, 95); fill-opacity: 1; white-space: pre;\">0.4M</text></g><g class=\"ytick\"><text text-anchor=\"end\" x=\"79\" y=\"4.199999999999999\" transform=\"translate(0,187.07999999999998)\" style=\"font-family: 'Open Sans', verdana, arial, sans-serif; font-size: 12px; fill: rgb(42, 63, 95); fill-opacity: 1; white-space: pre;\">0.6M</text></g><g class=\"ytick\"><text text-anchor=\"end\" x=\"79\" y=\"4.199999999999999\" transform=\"translate(0,131.25)\" style=\"font-family: 'Open Sans', verdana, arial, sans-serif; font-size: 12px; fill: rgb(42, 63, 95); fill-opacity: 1; white-space: pre;\">0.8M</text></g><g class=\"ytick\"><text text-anchor=\"end\" x=\"79\" y=\"4.199999999999999\" transform=\"translate(0,75.42)\" style=\"font-family: 'Open Sans', verdana, arial, sans-serif; font-size: 12px; fill: rgb(42, 63, 95); fill-opacity: 1; white-space: pre;\">1M</text></g></g><g class=\"overaxes-above\"/></g><g class=\"subplot x2y2\"><g class=\"layer-subplot\"><g class=\"shapelayer\"/><g class=\"imagelayer\"/></g><g class=\"gridlayer\"><g class=\"x2\"><path class=\"x2grid crisp\" transform=\"translate(388.19,0)\" d=\"M0,60v310\" style=\"stroke: rgb(255, 255, 255); stroke-opacity: 1; stroke-width: 1px;\"/><path class=\"x2grid crisp\" transform=\"translate(455.92,0)\" d=\"M0,60v310\" style=\"stroke: rgb(255, 255, 255); stroke-opacity: 1; stroke-width: 1px;\"/><path class=\"x2grid crisp\" transform=\"translate(523.65,0)\" d=\"M0,60v310\" style=\"stroke: rgb(255, 255, 255); stroke-opacity: 1; stroke-width: 1px;\"/></g><g class=\"y2\"><path class=\"y2grid crisp\" transform=\"translate(0,298.75)\" d=\"M334,0h243.84\" style=\"stroke: rgb(255, 255, 255); stroke-opacity: 1; stroke-width: 1px;\"/><path class=\"y2grid crisp\" transform=\"translate(0,242.92)\" d=\"M334,0h243.84\" style=\"stroke: rgb(255, 255, 255); stroke-opacity: 1; stroke-width: 1px;\"/><path class=\"y2grid crisp\" transform=\"translate(0,187.07999999999998)\" d=\"M334,0h243.84\" style=\"stroke: rgb(255, 255, 255); stroke-opacity: 1; stroke-width: 1px;\"/><path class=\"y2grid crisp\" transform=\"translate(0,131.25)\" d=\"M334,0h243.84\" style=\"stroke: rgb(255, 255, 255); stroke-opacity: 1; stroke-width: 1px;\"/><path class=\"y2grid crisp\" transform=\"translate(0,75.42)\" d=\"M334,0h243.84\" style=\"stroke: rgb(255, 255, 255); stroke-opacity: 1; stroke-width: 1px;\"/></g></g><g class=\"zerolinelayer\"><path class=\"y2zl zl crisp\" transform=\"translate(0,354.58)\" d=\"M334,0h243.84\" style=\"stroke: rgb(255, 255, 255); stroke-opacity: 1; stroke-width: 2px;\"/></g><path class=\"xlines-below\"/><path class=\"ylines-below\"/><g class=\"overlines-below\"/><g class=\"xaxislayer-below\"/><g class=\"yaxislayer-below\"/><g class=\"overaxes-below\"/><g class=\"plot\" transform=\"translate(334, 60)\" clip-path=\"url('#clipfcecc3x2y2plot')\"><g class=\"scatterlayer mlayer\"><g class=\"trace scatter traceac80a3\" style=\"stroke-miterlimit: 2; opacity: 1;\"><g class=\"fills\"/><g class=\"errorbars\"/><g class=\"lines\"><path class=\"js-line\" d=\"M0,15.42L13.55,57.29L27.09,92.89L40.64,123.14L54.19,148.86L67.73,170.72L81.28,189.29L94.83,205.09L108.37,218.51L121.92,229.92L135.47,239.62L149.01,247.86L162.56,254.87L176.11,260.83L189.65,265.89L216.75,273.85L230.29,276.96L243.84,279.6\" style=\"vector-effect: non-scaling-stroke; fill: none; stroke: rgb(99, 110, 250); stroke-opacity: 1; stroke-width: 2px; opacity: 1;\"/></g><g class=\"points\"/><g class=\"text\"/></g><g class=\"trace scatter trace97ec87\" style=\"stroke-miterlimit: 2; opacity: 1;\"><g class=\"fills\"/><g class=\"errorbars\"/><g class=\"lines\"><path class=\"js-line\" d=\"M0,15.42L27.09,42.64L40.64,55.24L67.73,78.57L81.28,89.37L108.37,109.38L121.92,118.64L149.01,135.79L162.56,143.73L189.65,158.44L203.2,165.25L230.29,177.86L243.84,183.69\" style=\"vector-effect: non-scaling-stroke; fill: none; stroke: rgb(239, 85, 59); stroke-opacity: 1; stroke-width: 2px; opacity: 1;\"/></g><g class=\"points\"/><g class=\"text\"/></g><g class=\"trace scatter trace06d742\" style=\"stroke-miterlimit: 2; opacity: 1;\"><g class=\"fills\"/><g class=\"errorbars\"/><g class=\"lines\"><path class=\"js-line\" d=\"M0,15.42L108.37,36.99L121.92,39.56L230.29,59.26L243.84,61.62\" style=\"vector-effect: non-scaling-stroke; fill: none; stroke: rgb(0, 204, 150); stroke-opacity: 1; stroke-width: 2px; opacity: 1;\"/></g><g class=\"points\"/><g class=\"text\"/></g><g class=\"trace scatter trace43ccab\" style=\"stroke-miterlimit: 2; opacity: 1;\"><g class=\"fills\"/><g class=\"errorbars\"/><g class=\"lines\"><path class=\"js-line\" d=\"M0,15.42L13.55,85.21L27.09,137.55L40.64,176.81L54.19,206.25L67.73,228.33L81.28,244.89L94.83,257.32L108.37,266.63L121.92,273.62L135.47,278.86L149.01,282.79L162.56,285.74L189.65,289.6L203.2,290.85L243.84,293\" style=\"vector-effect: non-scaling-stroke; fill: none; stroke: rgb(171, 99, 250); stroke-opacity: 1; stroke-width: 2px; opacity: 1;\"/></g><g class=\"points\"/><g class=\"text\"/></g></g></g><g class=\"overplot\"/><path class=\"xlines-above crisp\" style=\"fill: none;\" d=\"M0,0\"/><path class=\"ylines-above crisp\" style=\"fill: none;\" d=\"M0,0\"/><g class=\"overlines-above\"/><g class=\"xaxislayer-above\"><g class=\"x2tick\"><text text-anchor=\"middle\" x=\"0\" y=\"383\" transform=\"translate(388.19,0)\" style=\"font-family: 'Open Sans', verdana, arial, sans-serif; font-size: 12px; fill: rgb(42, 63, 95); fill-opacity: 1; white-space: pre;\">5</text></g><g class=\"x2tick\"><text text-anchor=\"middle\" x=\"0\" y=\"383\" transform=\"translate(455.92,0)\" style=\"font-family: 'Open Sans', verdana, arial, sans-serif; font-size: 12px; fill: rgb(42, 63, 95); fill-opacity: 1; white-space: pre;\">10</text></g><g class=\"x2tick\"><text text-anchor=\"middle\" x=\"0\" y=\"383\" transform=\"translate(523.65,0)\" style=\"font-family: 'Open Sans', verdana, arial, sans-serif; font-size: 12px; fill: rgb(42, 63, 95); fill-opacity: 1; white-space: pre;\">15</text></g></g><g class=\"yaxislayer-above\"/><g class=\"overaxes-above\"/></g></g><g class=\"polarlayer\"/><g class=\"ternarylayer\"/><g class=\"geolayer\"/><g class=\"funnelarealayer\"/><g class=\"pielayer\"/><g class=\"sunburstlayer\"/><g class=\"glimages\"/><defs id=\"topdefs-fcecc3\"><g class=\"clips\"/><clipPath id=\"legendfcecc3\"><rect width=\"90\" height=\"86\" x=\"0\" y=\"0\"/></clipPath></defs><g class=\"layer-above\"><g class=\"imagelayer\"/><g class=\"shapelayer\"/></g><g class=\"infolayer\"><g class=\"legend\" pointer-events=\"all\" transform=\"translate(598.16, 60)\"><rect class=\"bg\" shape-rendering=\"crispEdges\" style=\"stroke: rgb(68, 68, 68); stroke-opacity: 1; fill: rgb(255, 255, 255); fill-opacity: 1; stroke-width: 0px;\" width=\"90\" height=\"86\" x=\"0\" y=\"0\"/><g class=\"scrollbox\" transform=\"translate(0, 0)\" clip-path=\"url('#legendfcecc3')\"><g class=\"groups\" transform=\"translate(0, 0)\"><g class=\"traces\" style=\"opacity: 1;\" transform=\"translate(0, 14.5)\"><text class=\"legendtext user-select-none\" text-anchor=\"start\" x=\"40\" y=\"4.680000000000001\" style=\"font-family: 'Open Sans', verdana, arial, sans-serif; font-size: 12px; fill: rgb(42, 63, 95); fill-opacity: 1; white-space: pre;\">p=0.15</text><g class=\"layers\" style=\"opacity: 1;\"><g class=\"legendfill\"/><g class=\"legendlines\"><path class=\"js-line\" d=\"M5,0h30\" style=\"fill: none; stroke: rgb(99, 110, 250); stroke-opacity: 1; stroke-width: 2px;\"/></g><g class=\"legendsymbols\"><g class=\"legendpoints\"/></g></g><rect class=\"legendtoggle\" pointer-events=\"all\" x=\"0\" y=\"-9.5\" width=\"130\" height=\"19\" style=\"cursor: pointer; fill: rgb(0, 0, 0); fill-opacity: 0;\"/></g></g><g class=\"groups\" transform=\"translate(0, 0)\"><g class=\"traces\" style=\"opacity: 1;\" transform=\"translate(0, 33.5)\"><text class=\"legendtext user-select-none\" text-anchor=\"start\" x=\"40\" y=\"4.680000000000001\" style=\"font-family: 'Open Sans', verdana, arial, sans-serif; font-size: 12px; fill: rgb(42, 63, 95); fill-opacity: 1; white-space: pre;\">p=0.05</text><g class=\"layers\" style=\"opacity: 1;\"><g class=\"legendfill\"/><g class=\"legendlines\"><path class=\"js-line\" d=\"M5,0h30\" style=\"fill: none; stroke: rgb(239, 85, 59); stroke-opacity: 1; stroke-width: 2px;\"/></g><g class=\"legendsymbols\"><g class=\"legendpoints\"/></g></g><rect class=\"legendtoggle\" pointer-events=\"all\" x=\"0\" y=\"-9.5\" width=\"130\" height=\"19\" style=\"cursor: pointer; fill: rgb(0, 0, 0); fill-opacity: 0;\"/></g></g><g class=\"groups\" transform=\"translate(0, 0)\"><g class=\"traces\" style=\"opacity: 1;\" transform=\"translate(0, 52.5)\"><text class=\"legendtext user-select-none\" text-anchor=\"start\" x=\"40\" y=\"4.680000000000001\" style=\"font-family: 'Open Sans', verdana, arial, sans-serif; font-size: 12px; fill: rgb(42, 63, 95); fill-opacity: 1; white-space: pre;\">p=0.01</text><g class=\"layers\" style=\"opacity: 1;\"><g class=\"legendfill\"/><g class=\"legendlines\"><path class=\"js-line\" d=\"M5,0h30\" style=\"fill: none; stroke: rgb(0, 204, 150); stroke-opacity: 1; stroke-width: 2px;\"/></g><g class=\"legendsymbols\"><g class=\"legendpoints\"/></g></g><rect class=\"legendtoggle\" pointer-events=\"all\" x=\"0\" y=\"-9.5\" width=\"130\" height=\"19\" style=\"cursor: pointer; fill: rgb(0, 0, 0); fill-opacity: 0;\"/></g></g><g class=\"groups\" transform=\"translate(0, 0)\"><g class=\"traces\" style=\"opacity: 1;\" transform=\"translate(0, 71.5)\"><text class=\"legendtext user-select-none\" text-anchor=\"start\" x=\"40\" y=\"4.680000000000001\" style=\"font-family: 'Open Sans', verdana, arial, sans-serif; font-size: 12px; fill: rgb(42, 63, 95); fill-opacity: 1; white-space: pre;\">p=0.25</text><g class=\"layers\" style=\"opacity: 1;\"><g class=\"legendfill\"/><g class=\"legendlines\"><path class=\"js-line\" d=\"M5,0h30\" style=\"fill: none; stroke: rgb(171, 99, 250); stroke-opacity: 1; stroke-width: 2px;\"/></g><g class=\"legendsymbols\"><g class=\"legendpoints\"/></g></g><rect class=\"legendtoggle\" pointer-events=\"all\" x=\"0\" y=\"-9.5\" width=\"130\" height=\"19\" style=\"cursor: pointer; fill: rgb(0, 0, 0); fill-opacity: 0;\"/></g></g></g><rect class=\"scrollbar\" rx=\"20\" ry=\"3\" width=\"0\" height=\"0\" style=\"fill: rgb(128, 139, 164); fill-opacity: 1;\" x=\"0\" y=\"0\"/></g><g class=\"g-gtitle\"/><g class=\"g-xtitle\"><text class=\"xtitle\" x=\"201.92000000000002\" y=\"422\" text-anchor=\"middle\" style=\"font-family: 'Open Sans', verdana, arial, sans-serif; font-size: 14px; fill: rgb(42, 63, 95); opacity: 1; font-weight: normal; white-space: pre;\">t</text></g><g class=\"g-x2title\"><text class=\"x2title\" x=\"455.92\" y=\"422\" text-anchor=\"middle\" style=\"font-family: 'Open Sans', verdana, arial, sans-serif; font-size: 14px; fill: rgb(42, 63, 95); opacity: 1; font-weight: normal; white-space: pre;\">t</text></g><g class=\"g-ytitle\"><text class=\"ytitle\" transform=\"rotate(-90,42,215)\" x=\"42\" y=\"215\" text-anchor=\"middle\" style=\"font-family: 'Open Sans', verdana, arial, sans-serif; font-size: 14px; fill: rgb(42, 63, 95); opacity: 1; font-weight: normal; white-space: pre;\">value</text></g><g class=\"g-y2title\"/><g class=\"annotation\" data-index=\"0\" style=\"opacity: 1;\"><g class=\"annotation-text-g\" transform=\"rotate(0,201.92000000000002,50.5)\"><g class=\"cursor-pointer\" transform=\"translate(172, 41)\"><rect class=\"bg\" x=\"0.5\" y=\"0.5\" width=\"58\" height=\"18\" style=\"stroke-width: 1px; stroke: rgb(0, 0, 0); stroke-opacity: 0; fill: rgb(0, 0, 0); fill-opacity: 0;\"/><text class=\"annotation-text\" text-anchor=\"middle\" x=\"29.703125\" y=\"14\" style=\"font-family: 'Open Sans', verdana, arial, sans-serif; font-size: 12px; fill: rgb(42, 63, 95); fill-opacity: 1; white-space: pre;\">Estado=I</text></g></g></g><g class=\"annotation\" data-index=\"1\" style=\"opacity: 1;\"><g class=\"annotation-text-g\" transform=\"rotate(0,455.92,50.5)\"><g class=\"cursor-pointer\" transform=\"translate(424, 41)\"><rect class=\"bg\" x=\"0.5\" y=\"0.5\" width=\"62\" height=\"18\" style=\"stroke-width: 1px; stroke: rgb(0, 0, 0); stroke-opacity: 0; fill: rgb(0, 0, 0); fill-opacity: 0;\"/><text class=\"annotation-text\" text-anchor=\"middle\" x=\"31.28125\" y=\"14\" style=\"font-family: 'Open Sans', verdana, arial, sans-serif; font-size: 12px; fill: rgb(42, 63, 95); fill-opacity: 1; white-space: pre;\">Estado=S</text></g></g></g></g></svg>"
      ]
     },
     "metadata": {},
     "output_type": "display_data"
    }
   ],
   "source": [
    "fig=px.line(df,x='t',y='value',color='p',facet_col='Estado', height=400,width=600)\n",
    "fig.show(renderer=\"svg\")"
   ]
  },
  {
   "cell_type": "markdown",
   "metadata": {},
   "source": [
    "#### Calculandolo con una **difference equation**\n",
    "\n",
    "Parto del crecimiento logistico porque es mas facil... y despues hago la resta para saber I.\n",
    "\n",
    "- $S_t=S_0-I_t$\n",
    "- $I_t=S_0-S_t$\n",
    "- $S_t=S_0(1-p)^t$\n",
    "- $I_t=S_0-[S_0(1-p)^t]$\n",
    "\n",
    "Si hay un millon de habitantes, y se anuncia algo y la prob de escucharlo es de 15%, al primer dia, $I_1=S_0*0.15=150000$. Despues, el 30% **de los que quedan**, $850000=S_0(1-p)$, se le van a sumar a esos 150000, $I_2= I_1 + S_0(1-p)$..."
   ]
  },
  {
   "cell_type": "code",
   "execution_count": 332,
   "metadata": {},
   "outputs": [
    {
     "data": {
      "text/html": [
       "<div>\n",
       "<style scoped>\n",
       "    .dataframe tbody tr th:only-of-type {\n",
       "        vertical-align: middle;\n",
       "    }\n",
       "\n",
       "    .dataframe tbody tr th {\n",
       "        vertical-align: top;\n",
       "    }\n",
       "\n",
       "    .dataframe thead th {\n",
       "        text-align: right;\n",
       "    }\n",
       "</style>\n",
       "<table border=\"1\" class=\"dataframe\">\n",
       "  <thead>\n",
       "    <tr style=\"text-align: right;\">\n",
       "      <th></th>\n",
       "      <th>t</th>\n",
       "      <th>S</th>\n",
       "      <th>I</th>\n",
       "    </tr>\n",
       "  </thead>\n",
       "  <tbody>\n",
       "    <tr>\n",
       "      <th>0</th>\n",
       "      <td>1</td>\n",
       "      <td>85000.00000</td>\n",
       "      <td>15000.00000</td>\n",
       "    </tr>\n",
       "    <tr>\n",
       "      <th>1</th>\n",
       "      <td>2</td>\n",
       "      <td>72250.00000</td>\n",
       "      <td>27750.00000</td>\n",
       "    </tr>\n",
       "    <tr>\n",
       "      <th>2</th>\n",
       "      <td>3</td>\n",
       "      <td>61412.50000</td>\n",
       "      <td>38587.50000</td>\n",
       "    </tr>\n",
       "    <tr>\n",
       "      <th>3</th>\n",
       "      <td>4</td>\n",
       "      <td>52200.62500</td>\n",
       "      <td>47799.37500</td>\n",
       "    </tr>\n",
       "    <tr>\n",
       "      <th>4</th>\n",
       "      <td>5</td>\n",
       "      <td>44370.53125</td>\n",
       "      <td>55629.46875</td>\n",
       "    </tr>\n",
       "  </tbody>\n",
       "</table>\n",
       "</div>"
      ],
      "text/plain": [
       "   t            S            I\n",
       "0  1  85000.00000  15000.00000\n",
       "1  2  72250.00000  27750.00000\n",
       "2  3  61412.50000  38587.50000\n",
       "3  4  52200.62500  47799.37500\n",
       "4  5  44370.53125  55629.46875"
      ]
     },
     "execution_count": 332,
     "metadata": {},
     "output_type": "execute_result"
    }
   ],
   "source": [
    "t= np.arange(1,20,1)\n",
    "p= 0.15\n",
    "s=1000000\n",
    "\n",
    "broad= pd.DataFrame({'t':t})\n",
    "broad['S']= 100000*(1-p)**broad.t\n",
    "broad['I']= 100000-broad.S\n",
    "broad.head()"
   ]
  },
  {
   "cell_type": "code",
   "execution_count": 333,
   "metadata": {},
   "outputs": [
    {
     "data": {
      "image/svg+xml": [
       "<svg class=\"main-svg\" xmlns=\"http://www.w3.org/2000/svg\" xmlns:xlink=\"http://www.w3.org/1999/xlink\" width=\"700\" height=\"450\" style=\"\" viewBox=\"0 0 700 450\"><rect x=\"0\" y=\"0\" width=\"700\" height=\"450\" style=\"fill: rgb(255, 255, 255); fill-opacity: 1;\"/><defs id=\"defs-df6c5d\"><g class=\"clips\"><clipPath id=\"clipdf6c5dxyplot\" class=\"plotclip\"><rect width=\"484.12\" height=\"310\"/></clipPath><clipPath class=\"axesclip\" id=\"clipdf6c5dx\"><rect x=\"80\" y=\"0\" width=\"484.12\" height=\"450\"/></clipPath><clipPath class=\"axesclip\" id=\"clipdf6c5dy\"><rect x=\"0\" y=\"60\" width=\"700\" height=\"310\"/></clipPath><clipPath class=\"axesclip\" id=\"clipdf6c5dxy\"><rect x=\"80\" y=\"60\" width=\"484.12\" height=\"310\"/></clipPath></g><g class=\"gradients\"/></defs><g class=\"bglayer\"><rect class=\"bg\" x=\"80\" y=\"60\" width=\"484.12\" height=\"310\" style=\"fill: rgb(229, 236, 246); fill-opacity: 1; stroke-width: 0;\"/></g><g class=\"layer-below\"><g class=\"imagelayer\"/><g class=\"shapelayer\"/></g><g class=\"cartesianlayer\"><g class=\"subplot xy\"><g class=\"layer-subplot\"><g class=\"shapelayer\"/><g class=\"imagelayer\"/></g><g class=\"gridlayer\"><g class=\"x\"><path class=\"xgrid crisp\" transform=\"translate(187.57999999999998,0)\" d=\"M0,60v310\" style=\"stroke: rgb(255, 255, 255); stroke-opacity: 1; stroke-width: 1px;\"/><path class=\"xgrid crisp\" transform=\"translate(322.06,0)\" d=\"M0,60v310\" style=\"stroke: rgb(255, 255, 255); stroke-opacity: 1; stroke-width: 1px;\"/><path class=\"xgrid crisp\" transform=\"translate(456.54,0)\" d=\"M0,60v310\" style=\"stroke: rgb(255, 255, 255); stroke-opacity: 1; stroke-width: 1px;\"/></g><g class=\"y\"><path class=\"ygrid crisp\" transform=\"translate(0,307.1)\" d=\"M80,0h484.12\" style=\"stroke: rgb(255, 255, 255); stroke-opacity: 1; stroke-width: 1px;\"/><path class=\"ygrid crisp\" transform=\"translate(0,245.7)\" d=\"M80,0h484.12\" style=\"stroke: rgb(255, 255, 255); stroke-opacity: 1; stroke-width: 1px;\"/><path class=\"ygrid crisp\" transform=\"translate(0,184.3)\" d=\"M80,0h484.12\" style=\"stroke: rgb(255, 255, 255); stroke-opacity: 1; stroke-width: 1px;\"/><path class=\"ygrid crisp\" transform=\"translate(0,122.9)\" d=\"M80,0h484.12\" style=\"stroke: rgb(255, 255, 255); stroke-opacity: 1; stroke-width: 1px;\"/><path class=\"ygrid crisp\" transform=\"translate(0,61.5)\" d=\"M80,0h484.12\" style=\"stroke: rgb(255, 255, 255); stroke-opacity: 1; stroke-width: 1px;\"/></g></g><g class=\"zerolinelayer\"><path class=\"yzl zl crisp\" transform=\"translate(0,368.5)\" d=\"M80,0h484.12\" style=\"stroke: rgb(255, 255, 255); stroke-opacity: 1; stroke-width: 2px;\"/></g><path class=\"xlines-below\"/><path class=\"ylines-below\"/><g class=\"overlines-below\"/><g class=\"xaxislayer-below\"/><g class=\"yaxislayer-below\"/><g class=\"overaxes-below\"/><g class=\"plot\" transform=\"translate(80, 60)\" clip-path=\"url('#clipdf6c5dxyplot')\"><g class=\"scatterlayer mlayer\"><g class=\"trace scatter trace4db77a\" style=\"stroke-miterlimit: 2; opacity: 1;\"><g class=\"fills\"/><g class=\"errorbars\"/><g class=\"lines\"><path class=\"js-line\" d=\"M0,47.55L26.9,86.69L53.79,119.96L80.69,148.24L107.58,172.28L134.48,192.71L161.37,210.08L188.27,224.84L215.16,237.39L242.06,248.06L268.96,257.12L295.85,264.83L322.75,271.38L349.64,276.95L376.54,281.68L430.33,289.12L457.22,292.03L484.12,294.5\" style=\"vector-effect: non-scaling-stroke; fill: none; stroke: rgb(99, 110, 250); stroke-opacity: 1; stroke-width: 2px; opacity: 1;\"/></g><g class=\"points\"/><g class=\"text\"/></g><g class=\"trace scatter trace448f17\" style=\"stroke-miterlimit: 2; opacity: 1;\"><g class=\"fills\"/><g class=\"errorbars\"/><g class=\"lines\"><path class=\"js-line\" d=\"M0,262.45L26.9,223.31L53.79,190.04L80.69,161.76L107.58,137.72L134.48,117.29L161.37,99.92L188.27,85.16L215.16,72.61L242.06,61.94L268.96,52.88L295.85,45.17L322.75,38.62L349.64,33.05L376.54,28.32L430.33,20.88L457.22,17.97L484.12,15.5\" style=\"vector-effect: non-scaling-stroke; fill: none; stroke: rgb(239, 85, 59); stroke-opacity: 1; stroke-width: 2px; opacity: 1;\"/></g><g class=\"points\"/><g class=\"text\"/></g></g></g><g class=\"overplot\"/><path class=\"xlines-above crisp\" style=\"fill: none;\" d=\"M0,0\"/><path class=\"ylines-above crisp\" style=\"fill: none;\" d=\"M0,0\"/><g class=\"overlines-above\"/><g class=\"xaxislayer-above\"><g class=\"xtick\"><text text-anchor=\"middle\" x=\"0\" y=\"383\" transform=\"translate(187.57999999999998,0)\" style=\"font-family: 'Open Sans', verdana, arial, sans-serif; font-size: 12px; fill: rgb(42, 63, 95); fill-opacity: 1; white-space: pre;\">5</text></g><g class=\"xtick\"><text text-anchor=\"middle\" x=\"0\" y=\"383\" transform=\"translate(322.06,0)\" style=\"font-family: 'Open Sans', verdana, arial, sans-serif; font-size: 12px; fill: rgb(42, 63, 95); fill-opacity: 1; white-space: pre;\">10</text></g><g class=\"xtick\"><text text-anchor=\"middle\" x=\"0\" y=\"383\" transform=\"translate(456.54,0)\" style=\"font-family: 'Open Sans', verdana, arial, sans-serif; font-size: 12px; fill: rgb(42, 63, 95); fill-opacity: 1; white-space: pre;\">15</text></g></g><g class=\"yaxislayer-above\"><g class=\"ytick\"><text text-anchor=\"end\" x=\"79\" y=\"4.199999999999999\" transform=\"translate(0,368.5)\" style=\"font-family: 'Open Sans', verdana, arial, sans-serif; font-size: 12px; fill: rgb(42, 63, 95); fill-opacity: 1; white-space: pre;\">0</text></g><g class=\"ytick\"><text text-anchor=\"end\" x=\"79\" y=\"4.199999999999999\" transform=\"translate(0,307.1)\" style=\"font-family: 'Open Sans', verdana, arial, sans-serif; font-size: 12px; fill: rgb(42, 63, 95); fill-opacity: 1; white-space: pre;\">20k</text></g><g class=\"ytick\"><text text-anchor=\"end\" x=\"79\" y=\"4.199999999999999\" transform=\"translate(0,245.7)\" style=\"font-family: 'Open Sans', verdana, arial, sans-serif; font-size: 12px; fill: rgb(42, 63, 95); fill-opacity: 1; white-space: pre;\">40k</text></g><g class=\"ytick\"><text text-anchor=\"end\" x=\"79\" y=\"4.199999999999999\" transform=\"translate(0,184.3)\" style=\"font-family: 'Open Sans', verdana, arial, sans-serif; font-size: 12px; fill: rgb(42, 63, 95); fill-opacity: 1; white-space: pre;\">60k</text></g><g class=\"ytick\"><text text-anchor=\"end\" x=\"79\" y=\"4.199999999999999\" transform=\"translate(0,122.9)\" style=\"font-family: 'Open Sans', verdana, arial, sans-serif; font-size: 12px; fill: rgb(42, 63, 95); fill-opacity: 1; white-space: pre;\">80k</text></g><g class=\"ytick\"><text text-anchor=\"end\" x=\"79\" y=\"4.199999999999999\" transform=\"translate(0,61.5)\" style=\"font-family: 'Open Sans', verdana, arial, sans-serif; font-size: 12px; fill: rgb(42, 63, 95); fill-opacity: 1; white-space: pre;\">100k</text></g></g><g class=\"overaxes-above\"/></g></g><g class=\"polarlayer\"/><g class=\"ternarylayer\"/><g class=\"geolayer\"/><g class=\"funnelarealayer\"/><g class=\"pielayer\"/><g class=\"sunburstlayer\"/><g class=\"glimages\"/><defs id=\"topdefs-df6c5d\"><g class=\"clips\"/><clipPath id=\"legenddf6c5d\"><rect width=\"104\" height=\"48\" x=\"0\" y=\"0\"/></clipPath></defs><g class=\"layer-above\"><g class=\"imagelayer\"/><g class=\"shapelayer\"/></g><g class=\"infolayer\"><g class=\"legend\" pointer-events=\"all\" transform=\"translate(583.88, 60)\"><rect class=\"bg\" shape-rendering=\"crispEdges\" style=\"stroke: rgb(68, 68, 68); stroke-opacity: 1; fill: rgb(255, 255, 255); fill-opacity: 1; stroke-width: 0px;\" width=\"104\" height=\"48\" x=\"0\" y=\"0\"/><g class=\"scrollbox\" transform=\"translate(0, 0)\" clip-path=\"url('#legenddf6c5d')\"><g class=\"groups\" transform=\"translate(0, 0)\"><g class=\"traces\" style=\"opacity: 1;\" transform=\"translate(0, 14.5)\"><text class=\"legendtext user-select-none\" text-anchor=\"start\" x=\"40\" y=\"4.680000000000001\" style=\"font-family: 'Open Sans', verdana, arial, sans-serif; font-size: 12px; fill: rgb(42, 63, 95); fill-opacity: 1; white-space: pre;\">Estado=S</text><g class=\"layers\" style=\"opacity: 1;\"><g class=\"legendfill\"/><g class=\"legendlines\"><path class=\"js-line\" d=\"M5,0h30\" style=\"fill: none; stroke: rgb(99, 110, 250); stroke-opacity: 1; stroke-width: 2px;\"/></g><g class=\"legendsymbols\"><g class=\"legendpoints\"/></g></g><rect class=\"legendtoggle\" pointer-events=\"all\" x=\"0\" y=\"-9.5\" width=\"144\" height=\"19\" style=\"cursor: pointer; fill: rgb(0, 0, 0); fill-opacity: 0;\"/></g></g><g class=\"groups\" transform=\"translate(0, 0)\"><g class=\"traces\" style=\"opacity: 1;\" transform=\"translate(0, 33.5)\"><text class=\"legendtext user-select-none\" text-anchor=\"start\" x=\"40\" y=\"4.680000000000001\" style=\"font-family: 'Open Sans', verdana, arial, sans-serif; font-size: 12px; fill: rgb(42, 63, 95); fill-opacity: 1; white-space: pre;\">Estado=I</text><g class=\"layers\" style=\"opacity: 1;\"><g class=\"legendfill\"/><g class=\"legendlines\"><path class=\"js-line\" d=\"M5,0h30\" style=\"fill: none; stroke: rgb(239, 85, 59); stroke-opacity: 1; stroke-width: 2px;\"/></g><g class=\"legendsymbols\"><g class=\"legendpoints\"/></g></g><rect class=\"legendtoggle\" pointer-events=\"all\" x=\"0\" y=\"-9.5\" width=\"144\" height=\"19\" style=\"cursor: pointer; fill: rgb(0, 0, 0); fill-opacity: 0;\"/></g></g></g><rect class=\"scrollbar\" rx=\"20\" ry=\"3\" width=\"0\" height=\"0\" style=\"fill: rgb(128, 139, 164); fill-opacity: 1;\" x=\"0\" y=\"0\"/></g><g class=\"g-gtitle\"/><g class=\"g-xtitle\"><text class=\"xtitle\" x=\"322.06\" y=\"422\" text-anchor=\"middle\" style=\"font-family: 'Open Sans', verdana, arial, sans-serif; font-size: 14px; fill: rgb(42, 63, 95); opacity: 1; font-weight: normal; white-space: pre;\">t</text></g><g class=\"g-ytitle\"><text class=\"ytitle\" transform=\"rotate(-90,42,215)\" x=\"42\" y=\"215\" text-anchor=\"middle\" style=\"font-family: 'Open Sans', verdana, arial, sans-serif; font-size: 14px; fill: rgb(42, 63, 95); opacity: 1; font-weight: normal; white-space: pre;\">value</text></g></g></svg>"
      ]
     },
     "metadata": {},
     "output_type": "display_data"
    }
   ],
   "source": [
    "broad= broad.melt(id_vars=['t'], var_name='Estado')\n",
    "fig=px.line(broad,x='t',y='value',color='Estado',height=400,width=600)\n",
    "fig.show(renderer=\"svg\")"
   ]
  },
  {
   "cell_type": "markdown",
   "metadata": {},
   "source": [
    "Aca hago simplemente $I_t=S_0-[S_0(1-p)^t]$"
   ]
  },
  {
   "cell_type": "code",
   "execution_count": 334,
   "metadata": {},
   "outputs": [
    {
     "data": {
      "text/html": [
       "<div>\n",
       "<style scoped>\n",
       "    .dataframe tbody tr th:only-of-type {\n",
       "        vertical-align: middle;\n",
       "    }\n",
       "\n",
       "    .dataframe tbody tr th {\n",
       "        vertical-align: top;\n",
       "    }\n",
       "\n",
       "    .dataframe thead th {\n",
       "        text-align: right;\n",
       "    }\n",
       "</style>\n",
       "<table border=\"1\" class=\"dataframe\">\n",
       "  <thead>\n",
       "    <tr style=\"text-align: right;\">\n",
       "      <th></th>\n",
       "      <th>t</th>\n",
       "      <th>I</th>\n",
       "    </tr>\n",
       "  </thead>\n",
       "  <tbody>\n",
       "    <tr>\n",
       "      <th>0</th>\n",
       "      <td>1</td>\n",
       "      <td>150000.0000</td>\n",
       "    </tr>\n",
       "    <tr>\n",
       "      <th>1</th>\n",
       "      <td>2</td>\n",
       "      <td>277500.0000</td>\n",
       "    </tr>\n",
       "    <tr>\n",
       "      <th>2</th>\n",
       "      <td>3</td>\n",
       "      <td>385875.0000</td>\n",
       "    </tr>\n",
       "    <tr>\n",
       "      <th>3</th>\n",
       "      <td>4</td>\n",
       "      <td>477993.7500</td>\n",
       "    </tr>\n",
       "    <tr>\n",
       "      <th>4</th>\n",
       "      <td>5</td>\n",
       "      <td>556294.6875</td>\n",
       "    </tr>\n",
       "  </tbody>\n",
       "</table>\n",
       "</div>"
      ],
      "text/plain": [
       "   t            I\n",
       "0  1  150000.0000\n",
       "1  2  277500.0000\n",
       "2  3  385875.0000\n",
       "3  4  477993.7500\n",
       "4  5  556294.6875"
      ]
     },
     "execution_count": 334,
     "metadata": {},
     "output_type": "execute_result"
    }
   ],
   "source": [
    "t= np.arange(1,20,1)\n",
    "p= 0.15\n",
    "s=1000000\n",
    "\n",
    "broad= pd.DataFrame({'t':t})\n",
    "broad['I']= 1000000-(1000000*(1-p)**broad.t)\n",
    "broad.head()"
   ]
  },
  {
   "cell_type": "markdown",
   "metadata": {},
   "source": [
    "#### Ajustando el modelo a datos\n",
    "\n",
    "Una vez que sabemos que **TIPO DE MODELO (con las suposiciones del modelo)** es, podemos acercarlo a los datos de la realidad para sacar conclusiones especificas del caso.\n",
    "\n",
    "Usando datos de ventas iniciales, podemos **estimar el tamaño de la poblacion**. Como estamos suponiendo que **todos se van a enterar en algun momento**, podemos ver a la velocidad que se enteran en unos periodos para estimar la cantidad de gente que hay en esa poblacion: Hay 20000 enterados en periodo 1 y 36000 en periodo 2.\n",
    "\n",
    "- Periodo 1: $I_1=20000=P*N$\n",
    "- Periodo 2: $I_2=36000=20000+P*(N-20000)$\n",
    "- Periodo 3: $I_3=49000=36000+P*(N-36000)$\n",
    "- Solucion: $P=0.2$ y $N=100000$\n",
    "\n",
    "Entonces, si queremos **proyectar**, segun este modelo, **cuanta gente se va a enterar**, comenzamos pensando que hay un numero de gente que es la poblacion total, y un porcentaje que es el fijo que la gente se entera (porque asumimos que solo se enteran por unico medio). Sabemos que estan ahi pero no cuales son. Si los primeros resultados son 20000, sabemos que eso tiene que ser $P*N$, entonces con un dato mas ya podemos estimar como es la curva y ver donde termina."
   ]
  },
  {
   "cell_type": "markdown",
   "metadata": {},
   "source": [
    "### Diffusion Model\n",
    "\n",
    "#### Cuando una persona se infecta, esa persona tiene una probabilidad de pasarselo a las personas con las que tiene contacto. \n",
    "La expansion se hace **de individuo a individuo**. No se considera la \"eleccion\" en este modelo (que la persona que se expone decida informarse (como adoptar una nueva tecnologia), sino que lo absorbemos en la probabilidad (si la tecnologia/idea es buena, va a tener mas prob de contagio).\n",
    "\n",
    "La gente se informa/infecta cuando: \n",
    "- **Probabilidad de contacto**: tiene contacto con una persona infectada\n",
    "- **Probabilidad de contagio**: le pasa la idea/enfermedad\n",
    "\n",
    "Son dos eventos que varian segun el contexto (por ej en ciudades la probabilidad de contacto es mayor) y las noticias jugosas (de aliens) tienen mas llegada/ probabilidad de contagio que otras.\n",
    "\n",
    "- **DIFUSSION PROBABILIY**: es el producto de de la **probabilidad de contacto** y la **probabilidad de contagio**.\n",
    "\n",
    "**Suposicion**: el modelo asume **random mixing**: que dos personas cualquiera en una poblacion tienen la misma probabilidad de contactarse (a diferencia de otros como los de redes).\n",
    "\n",
    "#### $$I_{t+1}=I_t+P_{diffuse}*\\frac{I_t}{N}*S_t$$\n",
    "\n",
    "donde $P_{diffuse}=P_{spread}*P_{contact}$. Como ahora no se contagia mas de una sola fuente, el nivel de contagio esta influido por la gente que ya esta contagiada. Por eso se le agrega el **porcentaje de gente contagiada**. \n",
    "\n",
    "- $\\frac{I_t}{N}$: llegada o alcance. Cantidad relativa de los medios de difusion\n",
    "- $P_{contact}$: facilidad de encontrarme o exponerme a esas personas infectadas\n",
    "- $P_{spread}$: peligrosidad de, una vez que me encuentro con alguien, de que me lo pase\n",
    "\n",
    "Todos esos son porcentajes. Si eso se lo aplicamos a las personas que estan susceptibles, nos da la cantidad de gente que va a infectarse. A su vez, $\\frac{I_t}{N}$ se compensa con $S_t$, porque si aumenta el primero, disminuye el segundo.\n",
    "\n",
    "Es como pensar: la probabilidad de que me contagie depende del porcentaje de gente contagiada $\\frac{I_t}{N}$ (porque es el alcance que tiene), despues de la probabilidad de que me encuentre una de esas personas $P_{contact}$ (segun ciertos recaudos o condiciones como el aislamiento) y despues de que contagie $P_{spread}$ (como ciertas medidas de higiene. "
   ]
  },
  {
   "cell_type": "code",
   "execution_count": 335,
   "metadata": {},
   "outputs": [
    {
     "data": {
      "text/html": [
       "<div>\n",
       "<style scoped>\n",
       "    .dataframe tbody tr th:only-of-type {\n",
       "        vertical-align: middle;\n",
       "    }\n",
       "\n",
       "    .dataframe tbody tr th {\n",
       "        vertical-align: top;\n",
       "    }\n",
       "\n",
       "    .dataframe thead th {\n",
       "        text-align: right;\n",
       "    }\n",
       "</style>\n",
       "<table border=\"1\" class=\"dataframe\">\n",
       "  <thead>\n",
       "    <tr style=\"text-align: right;\">\n",
       "      <th></th>\n",
       "      <th>t</th>\n",
       "      <th>I</th>\n",
       "      <th>S</th>\n",
       "      <th>p</th>\n",
       "    </tr>\n",
       "  </thead>\n",
       "  <tbody>\n",
       "    <tr>\n",
       "      <th>0</th>\n",
       "      <td>1.0</td>\n",
       "      <td>1.000000</td>\n",
       "      <td>1000000.000000</td>\n",
       "      <td>0.05</td>\n",
       "    </tr>\n",
       "    <tr>\n",
       "      <th>1</th>\n",
       "      <td>2.0</td>\n",
       "      <td>1.000000</td>\n",
       "      <td>1000000.000000</td>\n",
       "      <td>0.05</td>\n",
       "    </tr>\n",
       "    <tr>\n",
       "      <th>2</th>\n",
       "      <td>3.0</td>\n",
       "      <td>1.050000</td>\n",
       "      <td>999998.950000</td>\n",
       "      <td>0.05</td>\n",
       "    </tr>\n",
       "    <tr>\n",
       "      <th>3</th>\n",
       "      <td>4.0</td>\n",
       "      <td>1.102500</td>\n",
       "      <td>999998.897500</td>\n",
       "      <td>0.05</td>\n",
       "    </tr>\n",
       "    <tr>\n",
       "      <th>4</th>\n",
       "      <td>5.0</td>\n",
       "      <td>1.157625</td>\n",
       "      <td>999998.842375</td>\n",
       "      <td>0.05</td>\n",
       "    </tr>\n",
       "  </tbody>\n",
       "</table>\n",
       "</div>"
      ],
      "text/plain": [
       "     t         I               S     p\n",
       "0  1.0  1.000000  1000000.000000  0.05\n",
       "1  2.0  1.000000  1000000.000000  0.05\n",
       "2  3.0  1.050000   999998.950000  0.05\n",
       "3  4.0  1.102500   999998.897500  0.05\n",
       "4  5.0  1.157625   999998.842375  0.05"
      ]
     },
     "execution_count": 335,
     "metadata": {},
     "output_type": "execute_result"
    }
   ],
   "source": [
    "t= np.arange(1,400,1)\n",
    "N= 1000000\n",
    "\n",
    "p= 0.05\n",
    "df= pd.DataFrame({'t':t})\n",
    "df['I']= 1\n",
    "df['S']= N\n",
    "df['p']=p\n",
    "for i in t:\n",
    "    df.loc[i+1,'I']= df.loc[i,'I'] + p * df.loc[i,'S']  * df.loc[i,'I']/N\n",
    "    df.loc[i+1,'S']= N-df.loc[i+1,'I']\n",
    "\n",
    "p= 0.1\n",
    "df2= pd.DataFrame({'t':t})\n",
    "df2['I']= 1\n",
    "df2['S']= N\n",
    "df2['p']=p\n",
    "for i in t:\n",
    "    df2.loc[i+1,'I']= df2.loc[i,'I'] + p * df2.loc[i,'S']  * df2.loc[i,'I']/N\n",
    "    df2.loc[i+1,'S']= N-df2.loc[i+1,'I']\n",
    "\n",
    "p= 0.25\n",
    "df3= pd.DataFrame({'t':t})\n",
    "df3['I']= 1\n",
    "df3['S']= N\n",
    "df3['p']=p\n",
    "for i in t:\n",
    "    df3.loc[i+1,'I']= df3.loc[i,'I'] + p * df3.loc[i,'S']  * df3.loc[i,'I']/N\n",
    "    df3.loc[i+1,'S']= N-df3.loc[i+1,'I']\n",
    "  \n",
    "p= 0.40\n",
    "df4= pd.DataFrame({'t':t})\n",
    "df4['I']= 1\n",
    "df4['S']= N\n",
    "df4['p']=p\n",
    "for i in t:\n",
    "    df4.loc[i+1,'I']= df4.loc[i,'I'] + p * df4.loc[i,'S']  * df4.loc[i,'I']/N\n",
    "    df4.loc[i+1,'S']= N-df4.loc[i+1,'I']\n",
    "    \n",
    "df= pd.concat([df,df2,df3,df4])\n",
    "df= df.dropna().reset_index(drop=True)\n",
    "df.head()"
   ]
  },
  {
   "cell_type": "code",
   "execution_count": 336,
   "metadata": {},
   "outputs": [],
   "source": [
    "df= df.melt(id_vars=['t','p'], value_vars=['I','S'] ,var_name='Estado')"
   ]
  },
  {
   "cell_type": "code",
   "execution_count": 337,
   "metadata": {},
   "outputs": [
    {
     "data": {
      "image/svg+xml": [
       "<svg class=\"main-svg\" xmlns=\"http://www.w3.org/2000/svg\" xmlns:xlink=\"http://www.w3.org/1999/xlink\" width=\"700\" height=\"450\" style=\"\" viewBox=\"0 0 700 450\"><rect x=\"0\" y=\"0\" width=\"700\" height=\"450\" style=\"fill: rgb(255, 255, 255); fill-opacity: 1;\"/><defs id=\"defs-cff789\"><g class=\"clips\"><clipPath id=\"clipcff789xyplot\" class=\"plotclip\"><rect width=\"243.84\" height=\"310\"/></clipPath><clipPath id=\"clipcff789x2y2plot\" class=\"plotclip\"><rect width=\"243.84\" height=\"310\"/></clipPath><clipPath class=\"axesclip\" id=\"clipcff789x\"><rect x=\"80\" y=\"0\" width=\"243.84\" height=\"450\"/></clipPath><clipPath class=\"axesclip\" id=\"clipcff789y\"><rect x=\"0\" y=\"60\" width=\"700\" height=\"310\"/></clipPath><clipPath class=\"axesclip\" id=\"clipcff789xy\"><rect x=\"80\" y=\"60\" width=\"243.84\" height=\"310\"/></clipPath><clipPath class=\"axesclip\" id=\"clipcff789y2\"><rect x=\"0\" y=\"60\" width=\"700\" height=\"310\"/></clipPath><clipPath class=\"axesclip\" id=\"clipcff789xy2\"><rect x=\"80\" y=\"60\" width=\"243.84\" height=\"310\"/></clipPath><clipPath class=\"axesclip\" id=\"clipcff789x2\"><rect x=\"334\" y=\"0\" width=\"243.84\" height=\"450\"/></clipPath><clipPath class=\"axesclip\" id=\"clipcff789x2y\"><rect x=\"334\" y=\"60\" width=\"243.84\" height=\"310\"/></clipPath><clipPath class=\"axesclip\" id=\"clipcff789x2y2\"><rect x=\"334\" y=\"60\" width=\"243.84\" height=\"310\"/></clipPath></g><g class=\"gradients\"/></defs><g class=\"bglayer\"><rect class=\"bg\" x=\"80\" y=\"60\" width=\"243.84\" height=\"310\" style=\"fill: rgb(229, 236, 246); fill-opacity: 1; stroke-width: 0;\"/><rect class=\"bg\" x=\"334\" y=\"60\" width=\"243.84\" height=\"310\" style=\"fill: rgb(229, 236, 246); fill-opacity: 1; stroke-width: 0;\"/></g><g class=\"layer-below\"><g class=\"imagelayer\"/><g class=\"shapelayer\"/></g><g class=\"cartesianlayer\"><g class=\"subplot xy\"><g class=\"layer-subplot\"><g class=\"shapelayer\"/><g class=\"imagelayer\"/></g><g class=\"gridlayer\"><g class=\"x\"><path class=\"xgrid crisp\" transform=\"translate(140.65,0)\" d=\"M0,60v310\" style=\"stroke: rgb(255, 255, 255); stroke-opacity: 1; stroke-width: 1px;\"/><path class=\"xgrid crisp\" transform=\"translate(201.92000000000002,0)\" d=\"M0,60v310\" style=\"stroke: rgb(255, 255, 255); stroke-opacity: 1; stroke-width: 1px;\"/><path class=\"xgrid crisp\" transform=\"translate(263.19,0)\" d=\"M0,60v310\" style=\"stroke: rgb(255, 255, 255); stroke-opacity: 1; stroke-width: 1px;\"/></g><g class=\"y\"><path class=\"ygrid crisp\" transform=\"translate(0,298.7)\" d=\"M80,0h243.84\" style=\"stroke: rgb(255, 255, 255); stroke-opacity: 1; stroke-width: 1px;\"/><path class=\"ygrid crisp\" transform=\"translate(0,242.9)\" d=\"M80,0h243.84\" style=\"stroke: rgb(255, 255, 255); stroke-opacity: 1; stroke-width: 1px;\"/><path class=\"ygrid crisp\" transform=\"translate(0,187.1)\" d=\"M80,0h243.84\" style=\"stroke: rgb(255, 255, 255); stroke-opacity: 1; stroke-width: 1px;\"/><path class=\"ygrid crisp\" transform=\"translate(0,131.3)\" d=\"M80,0h243.84\" style=\"stroke: rgb(255, 255, 255); stroke-opacity: 1; stroke-width: 1px;\"/><path class=\"ygrid crisp\" transform=\"translate(0,75.5)\" d=\"M80,0h243.84\" style=\"stroke: rgb(255, 255, 255); stroke-opacity: 1; stroke-width: 1px;\"/></g></g><g class=\"zerolinelayer\"><path class=\"yzl zl crisp\" transform=\"translate(0,354.5)\" d=\"M80,0h243.84\" style=\"stroke: rgb(255, 255, 255); stroke-opacity: 1; stroke-width: 2px;\"/></g><path class=\"xlines-below\"/><path class=\"ylines-below\"/><g class=\"overlines-below\"/><g class=\"xaxislayer-below\"/><g class=\"yaxislayer-below\"/><g class=\"overaxes-below\"/><g class=\"plot\" transform=\"translate(80, 60)\" clip-path=\"url('#clipcff789xyplot')\"/><g class=\"overplot\"/><path class=\"xlines-above crisp\" style=\"fill: none;\" d=\"M0,0\"/><path class=\"ylines-above crisp\" style=\"fill: none;\" d=\"M0,0\"/><g class=\"overlines-above\"/><g class=\"xaxislayer-above\"><g class=\"xtick\"><text text-anchor=\"middle\" x=\"0\" y=\"383\" transform=\"translate(140.65,0)\" style=\"font-family: 'Open Sans', verdana, arial, sans-serif; font-size: 12px; fill: rgb(42, 63, 95); fill-opacity: 1; white-space: pre;\">100</text></g><g class=\"xtick\"><text text-anchor=\"middle\" x=\"0\" y=\"383\" transform=\"translate(201.92000000000002,0)\" style=\"font-family: 'Open Sans', verdana, arial, sans-serif; font-size: 12px; fill: rgb(42, 63, 95); fill-opacity: 1; white-space: pre;\">200</text></g><g class=\"xtick\"><text text-anchor=\"middle\" x=\"0\" y=\"383\" transform=\"translate(263.19,0)\" style=\"font-family: 'Open Sans', verdana, arial, sans-serif; font-size: 12px; fill: rgb(42, 63, 95); fill-opacity: 1; white-space: pre;\">300</text></g></g><g class=\"yaxislayer-above\"><g class=\"ytick\"><text text-anchor=\"end\" x=\"79\" y=\"4.199999999999999\" transform=\"translate(0,354.5)\" style=\"font-family: 'Open Sans', verdana, arial, sans-serif; font-size: 12px; fill: rgb(42, 63, 95); fill-opacity: 1; white-space: pre;\">0</text></g><g class=\"ytick\"><text text-anchor=\"end\" x=\"79\" y=\"4.199999999999999\" transform=\"translate(0,298.7)\" style=\"font-family: 'Open Sans', verdana, arial, sans-serif; font-size: 12px; fill: rgb(42, 63, 95); fill-opacity: 1; white-space: pre;\">0.2M</text></g><g class=\"ytick\"><text text-anchor=\"end\" x=\"79\" y=\"4.199999999999999\" transform=\"translate(0,242.9)\" style=\"font-family: 'Open Sans', verdana, arial, sans-serif; font-size: 12px; fill: rgb(42, 63, 95); fill-opacity: 1; white-space: pre;\">0.4M</text></g><g class=\"ytick\"><text text-anchor=\"end\" x=\"79\" y=\"4.199999999999999\" transform=\"translate(0,187.1)\" style=\"font-family: 'Open Sans', verdana, arial, sans-serif; font-size: 12px; fill: rgb(42, 63, 95); fill-opacity: 1; white-space: pre;\">0.6M</text></g><g class=\"ytick\"><text text-anchor=\"end\" x=\"79\" y=\"4.199999999999999\" transform=\"translate(0,131.3)\" style=\"font-family: 'Open Sans', verdana, arial, sans-serif; font-size: 12px; fill: rgb(42, 63, 95); fill-opacity: 1; white-space: pre;\">0.8M</text></g><g class=\"ytick\"><text text-anchor=\"end\" x=\"79\" y=\"4.199999999999999\" transform=\"translate(0,75.5)\" style=\"font-family: 'Open Sans', verdana, arial, sans-serif; font-size: 12px; fill: rgb(42, 63, 95); fill-opacity: 1; white-space: pre;\">1M</text></g></g><g class=\"overaxes-above\"/></g><g class=\"subplot x2y2\"><g class=\"layer-subplot\"><g class=\"shapelayer\"/><g class=\"imagelayer\"/></g><g class=\"gridlayer\"><g class=\"x2\"><path class=\"x2grid crisp\" transform=\"translate(394.65,0)\" d=\"M0,60v310\" style=\"stroke: rgb(255, 255, 255); stroke-opacity: 1; stroke-width: 1px;\"/><path class=\"x2grid crisp\" transform=\"translate(455.92,0)\" d=\"M0,60v310\" style=\"stroke: rgb(255, 255, 255); stroke-opacity: 1; stroke-width: 1px;\"/><path class=\"x2grid crisp\" transform=\"translate(517.19,0)\" d=\"M0,60v310\" style=\"stroke: rgb(255, 255, 255); stroke-opacity: 1; stroke-width: 1px;\"/></g><g class=\"y2\"><path class=\"y2grid crisp\" transform=\"translate(0,298.7)\" d=\"M334,0h243.84\" style=\"stroke: rgb(255, 255, 255); stroke-opacity: 1; stroke-width: 1px;\"/><path class=\"y2grid crisp\" transform=\"translate(0,242.9)\" d=\"M334,0h243.84\" style=\"stroke: rgb(255, 255, 255); stroke-opacity: 1; stroke-width: 1px;\"/><path class=\"y2grid crisp\" transform=\"translate(0,187.1)\" d=\"M334,0h243.84\" style=\"stroke: rgb(255, 255, 255); stroke-opacity: 1; stroke-width: 1px;\"/><path class=\"y2grid crisp\" transform=\"translate(0,131.3)\" d=\"M334,0h243.84\" style=\"stroke: rgb(255, 255, 255); stroke-opacity: 1; stroke-width: 1px;\"/><path class=\"y2grid crisp\" transform=\"translate(0,75.5)\" d=\"M334,0h243.84\" style=\"stroke: rgb(255, 255, 255); stroke-opacity: 1; stroke-width: 1px;\"/></g></g><g class=\"zerolinelayer\"><path class=\"y2zl zl crisp\" transform=\"translate(0,354.5)\" d=\"M334,0h243.84\" style=\"stroke: rgb(255, 255, 255); stroke-opacity: 1; stroke-width: 2px;\"/></g><path class=\"xlines-below\"/><path class=\"ylines-below\"/><g class=\"overlines-below\"/><g class=\"xaxislayer-below\"/><g class=\"yaxislayer-below\"/><g class=\"overaxes-below\"/><g class=\"plot\" transform=\"translate(334, 60)\" clip-path=\"url('#clipcff789x2y2plot')\"/><g class=\"overplot\"/><path class=\"xlines-above crisp\" style=\"fill: none;\" d=\"M0,0\"/><path class=\"ylines-above crisp\" style=\"fill: none;\" d=\"M0,0\"/><g class=\"overlines-above\"/><g class=\"xaxislayer-above\"><g class=\"x2tick\"><text text-anchor=\"middle\" x=\"0\" y=\"383\" transform=\"translate(394.65,0)\" style=\"font-family: 'Open Sans', verdana, arial, sans-serif; font-size: 12px; fill: rgb(42, 63, 95); fill-opacity: 1; white-space: pre;\">100</text></g><g class=\"x2tick\"><text text-anchor=\"middle\" x=\"0\" y=\"383\" transform=\"translate(455.92,0)\" style=\"font-family: 'Open Sans', verdana, arial, sans-serif; font-size: 12px; fill: rgb(42, 63, 95); fill-opacity: 1; white-space: pre;\">200</text></g><g class=\"x2tick\"><text text-anchor=\"middle\" x=\"0\" y=\"383\" transform=\"translate(517.19,0)\" style=\"font-family: 'Open Sans', verdana, arial, sans-serif; font-size: 12px; fill: rgb(42, 63, 95); fill-opacity: 1; white-space: pre;\">300</text></g></g><g class=\"yaxislayer-above\"/><g class=\"overaxes-above\"/></g></g><g class=\"polarlayer\"/><g class=\"ternarylayer\"/><g class=\"geolayer\"/><g class=\"funnelarealayer\"/><g class=\"pielayer\"/><g class=\"sunburstlayer\"/><g class=\"glimages\"><image xmlns=\"http://www.w3.org/2000/svg\" xlink:href=\"data:image/png;base64,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\" preserveAspectRatio=\"none\" x=\"0\" y=\"0\" width=\"700\" height=\"450\"/><image xmlns=\"http://www.w3.org/2000/svg\" xlink:href=\"data:image/png;base64,iVBORw0KGgoAAAANSUhEUgAAArwAAAHCCAYAAAANehpvAAAZCUlEQVR4Xu3WQREAAAgCQelf2h43awMWH+wcAQIECBAgQIAAgbDAwtlEI0CAAAECBAgQIHAGrycgQIAAAQIECBBICxi86XqFI0CAAAECBAgQMHj9AAECBAgQIECAQFrA4E3XKxwBAgQIECBAgIDB6wcIECBAgAABAgTSAgZvul7hCBAgQIAAAQIEDF4/QIAAAQIECBAgkBYweNP1CkeAAAECBAgQIGDw+gECBAgQIECAAIG0gMGbrlc4AgQIECBAgAABg9cPECBAgAABAgQIpAUM3nS9whEgQIAAAQIECBi8foAAAQIECBAgQCAtYPCm6xWOAAECBAgQIEDA4PUDBAgQIECAAAECaQGDN12vcAQIECBAgAABAgavHyBAgAABAgQIEEgLGLzpeoUjQIAAAQIECBAweP0AAQIECBAgQIBAWsDgTdcrHAECBAgQIECAgMHrBwgQIECAAAECBNICBm+6XuEIECBAgAABAgQMXj9AgAABAgQIECCQFjB40/UKR4AAAQIECBAgYPD6AQIECBAgQIAAgbSAwZuuVzgCBAgQIECAAAGD1w8QIECAAAECBAikBQzedL3CESBAgAABAgQIGLx+gAABAgQIECBAIC1g8KbrFY4AAQIECBAgQMDg9QMECBAgQIAAAQJpAYM3Xa9wBAgQIECAAAECBq8fIECAAAECBAgQSAsYvOl6hSNAgAABAgQIEDB4/QABAgQIECBAgEBawOBN1yscAQIECBAgQICAwesHCBAgQIAAAQIE0gIGb7pe4QgQIECAAAECBAxeP0CAAAECBAgQIJAWMHjT9QpHgAABAgQIECBg8PoBAgQIECBAgACBtIDBm65XOAIECBAgQIAAAYPXDxAgQIAAAQIECKQFDN50vcIRIECAAAECBAgYvH6AAAECBAgQIEAgLWDwpusVjgABAgQIECBAwOD1AwQIECBAgAABAmkBgzddr3AECBAgQIAAAQIGrx8gQIAAAQIECBBICxi86XqFI0CAAAECBAgQMHj9AAECBAgQIECAQFrA4E3XKxwBAgQIECBAgIDB6wcIECBAgAABAgTSAgZvul7hCBAgQIAAAQIEDF4/QIAAAQIECBAgkBYweNP1CkeAAAECBAgQIGDw+gECBAgQIECAAIG0gMGbrlc4AgQIECBAgAABg9cPECBAgAABAgQIpAUM3nS9whEgQIAAAQIECBi8foAAAQIECBAgQCAtYPCm6xWOAAECBAgQIEDA4PUDBAgQIECAAAECaQGDN12vcAQIECBAgAABAgavHyBAgAABAgQIEEgLGLzpeoUjQIAAAQIECBAweP0AAQIECBAgQIBAWsDgTdcrHAECBAgQIECAgMHrBwgQIECAAAECBNICBm+6XuEIECBAgAABAgQMXj9AgAABAgQIECCQFjB40/UKR4AAAQIECBAgYPD6AQIECBAgQIAAgbSAwZuuVzgCBAgQIECAAAGD1w8QIECAAAECBAikBQzedL3CESBAgAABAgQIGLx+gAABAgQIECBAIC1g8KbrFY4AAQIECBAgQMDg9QMECBAgQIAAAQJpAYM3Xa9wBAgQIECAAAECBq8fIECAAAECBAgQSAsYvOl6hSNAgAABAgQIEDB4/QABAgQIECBAgEBawOBN1yscAQIECBAgQICAwesHCBAgQIAAAQIE0gIGb7pe4QgQIECAAAECBAxeP0CAAAECBAgQIJAWMHjT9QpHgAABAgQIECBg8PoBAgQIECBAgACBtIDBm65XOAIECBAgQIAAAYPXDxAgQIAAAQIECKQFDN50vcIRIECAAAECBAgYvH6AAAECBAgQIEAgLWDwpusVjgABAgQIECBAwOD1AwQIECBAgAABAmkBgzddr3AECBAgQIAAAQIGrx8gQIAAAQIECBBICxi86XqFI0CAAAECBAgQMHj9AAECBAgQIECAQFrA4E3XKxwBAgQIECBAgIDB6wcIECBAgAABAgTSAgZvul7hCBAgQIAAAQIEDF4/QIAAAQIECBAgkBYweNP1CkeAAAECBAgQIGDw+gECBAgQIECAAIG0gMGbrlc4AgQIECBAgAABg9cPECBAgAABAgQIpAUM3nS9whEgQIAAAQIECBi8foAAAQIECBAgQCAtYPCm6xWOAAECBAgQIEDA4PUDBAgQIECAAAECaQGDN12vcAQIECBAgAABAgavHyBAgAABAgQIEEgLGLzpeoUjQIAAAQIECBAweP0AAQIECBAgQIBAWsDgTdcrHAECBAgQIECAgMHrBwgQIECAAAECBNICBm+6XuEIECBAgAABAgQMXj9AgAABAgQIECCQFjB40/UKR4AAAQIECBAgYPD6AQIECBAgQIAAgbSAwZuuVzgCBAgQIECAAAGD1w8QIECAAAECBAikBQzedL3CESBAgAABAgQIGLx+gAABAgQIECBAIC1g8KbrFY4AAQIECBAgQMDg9QMECBAgQIAAAQJpAYM3Xa9wBAgQIECAAAECBq8fIECAAAECBAgQSAsYvOl6hSNAgAABAgQIEDB4/QABAgQIECBAgEBawOBN1yscAQIECBAgQICAwesHCBAgQIAAAQIE0gIGb7pe4QgQIECAAAECBAxeP0CAAAECBAgQIJAWMHjT9QpHgAABAgQIECBg8PoBAgQIECBAgACBtIDBm65XOAIECBAgQIAAAYPXDxAgQIAAAQIECKQFDN50vcIRIECAAAECBAgYvH6AAAECBAgQIEAgLWDwpusVjgABAgQIECBAwOD1AwQIECBAgAABAmkBgzddr3AECBAgQIAAAQIGrx8gQIAAAQIECBBICxi86XqFI0CAAAECBAgQMHj9AAECBAgQIECAQFrA4E3XKxwBAgQIECBAgIDB6wcIECBAgAABAgTSAgZvul7hCBAgQIAAAQIEDF4/QIAAAQIECBAgkBYweNP1CkeAAAECBAgQIGDw+gECBAgQIECAAIG0gMGbrlc4AgQIECBAgAABg9cPECBAgAABAgQIpAUM3nS9whEgQIAAAQIECBi8foAAAQIECBAgQCAtYPCm6xWOAAECBAgQIEDA4PUDBAgQIECAAAECaQGDN12vcAQIECBAgAABAgavHyBAgAABAgQIEEgLGLzpeoUjQIAAAQIECBAweP0AAQIECBAgQIBAWsDgTdcrHAECBAgQIECAgMHrBwgQIECAAAECBNICBm+6XuEIECBAgAABAgQMXj9AgAABAgQIECCQFjB40/UKR4AAAQIECBAgYPD6AQIECBAgQIAAgbSAwZuuVzgCBAgQIECAAAGD1w8QIECAAAECBAikBQzedL3CESBAgAABAgQIGLx+gAABAgQIECBAIC1g8KbrFY4AAQIECBAgQMDg9QMECBAgQIAAAQJpAYM3Xa9wBAgQIECAAAECBq8fIECAAAECBAgQSAsYvOl6hSNAgAABAgQIEDB4/QABAgQIECBAgEBawOBN1yscAQIECBAgQICAwesHCBAgQIAAAQIE0gIGb7pe4QgQIECAAAECBAxeP0CAAAECBAgQIJAWMHjT9QpHgAABAgQIECBg8PoBAgQIECBAgACBtIDBm65XOAIECBAgQIAAAYPXDxAgQIAAAQIECKQFDN50vcIRIECAAAECBAgYvH6AAAECBAgQIEAgLWDwpusVjgABAgQIECBAwOD1AwQIECBAgAABAmkBgzddr3AECBAgQIAAAQIGrx8gQIAAAQIECBBICxi86XqFI0CAAAECBAgQMHj9AAECBAgQIECAQFrA4E3XKxwBAgQIECBAgIDB6wcIECBAgAABAgTSAgZvul7hCBAgQIAAAQIEDF4/QIAAAQIECBAgkBYweNP1CkeAAAECBAgQIGDw+gECBAgQIECAAIG0gMGbrlc4AgQIECBAgAABg9cPECBAgAABAgQIpAUM3nS9whEgQIAAAQIECBi8foAAAQIECBAgQCAtYPCm6xWOAAECBAgQIEDA4PUDBAgQIECAAAECaQGDN12vcAQIECBAgAABAgavHyBAgAABAgQIEEgLGLzpeoUjQIAAAQIECBAweP0AAQIECBAgQIBAWsDgTdcrHAECBAgQIECAgMHrBwgQIECAAAECBNICBm+6XuEIECBAgAABAgQMXj9AgAABAgQIECCQFjB40/UKR4AAAQIECBAgYPD6AQIECBAgQIAAgbSAwZuuVzgCBAgQIECAAAGD1w8QIECAAAECBAikBQzedL3CESBAgAABAgQIGLx+gAABAgQIECBAIC1g8KbrFY4AAQIECBAgQMDg9QMECBAgQIAAAQJpAYM3Xa9wBAgQIECAAAECBq8fIECAAAECBAgQSAsYvOl6hSNAgAABAgQIEDB4/QABAgQIECBAgEBawOBN1yscAQIECBAgQICAwesHCBAgQIAAAQIE0gIGb7pe4QgQIECAAAECBAxeP0CAAAECBAgQIJAWMHjT9QpHgAABAgQIECBg8PoBAgQIECBAgACBtIDBm65XOAIECBAgQIAAAYPXDxAgQIAAAQIECKQFDN50vcIRIECAAAECBAgYvH6AAAECBAgQIEAgLWDwpusVjgABAgQIECBAwOD1AwQIECBAgAABAmkBgzddr3AECBAgQIAAAQIGrx8gQIAAAQIECBBICxi86XqFI0CAAAECBAgQMHj9AAECBAgQIECAQFrA4E3XKxwBAgQIECBAgIDB6wcIECBAgAABAgTSAgZvul7hCBAgQIAAAQIEDF4/QIAAAQIECBAgkBYweNP1CkeAAAECBAgQIGDw+gECBAgQIECAAIG0gMGbrlc4AgQIECBAgAABg9cPECBAgAABAgQIpAUM3nS9whEgQIAAAQIECBi8foAAAQIECBAgQCAtYPCm6xWOAAECBAgQIEDA4PUDBAgQIECAAAECaQGDN12vcAQIECBAgAABAgavHyBAgAABAgQIEEgLGLzpeoUjQIAAAQIECBAweP0AAQIECBAgQIBAWsDgTdcrHAECBAgQIECAgMHrBwgQIECAAAECBNICBm+6XuEIECBAgAABAgQMXj9AgAABAgQIECCQFjB40/UKR4AAAQIECBAgYPD6AQIECBAgQIAAgbSAwZuuVzgCBAgQIECAAAGD1w8QIECAAAECBAikBQzedL3CESBAgAABAgQIGLx+gAABAgQIECBAIC1g8KbrFY4AAQIECBAgQMDg9QMECBAgQIAAAQJpAYM3Xa9wBAgQIECAAAECBq8fIECAAAECBAgQSAsYvOl6hSNAgAABAgQIEDB4/QABAgQIECBAgEBawOBN1yscAQIECBAgQICAwesHCBAgQIAAAQIE0gIGb7pe4QgQIECAAAECBAxeP0CAAAECBAgQIJAWMHjT9QpHgAABAgQIECBg8PoBAgQIECBAgACBtIDBm65XOAIECBAgQIAAAYPXDxAgQIAAAQIECKQFDN50vcIRIECAAAECBAgYvH6AAAECBAgQIEAgLWDwpusVjgABAgQIECBAwOD1AwQIECBAgAABAmkBgzddr3AECBAgQIAAAQIGrx8gQIAAAQIECBBICxi86XqFI0CAAAECBAgQMHj9AAECBAgQIECAQFrA4E3XKxwBAgQIECBAgIDB6wcIECBAgAABAgTSAgZvul7hCBAgQIAAAQIEDF4/QIAAAQIECBAgkBYweNP1CkeAAAECBAgQIGDw+gECBAgQIECAAIG0gMGbrlc4AgQIECBAgAABg9cPECBAgAABAgQIpAUM3nS9whEgQIAAAQIECBi8foAAAQIECBAgQCAtYPCm6xWOAAECBAgQIEDA4PUDBAgQIECAAAECaQGDN12vcAQIECBAgAABAgavHyBAgAABAgQIEEgLGLzpeoUjQIAAAQIECBAweP0AAQIECBAgQIBAWsDgTdcrHAECBAgQIECAgMHrBwgQIECAAAECBNICBm+6XuEIECBAgAABAgQMXj9AgAABAgQIECCQFjB40/UKR4AAAQIECBAgYPD6AQIECBAgQIAAgbSAwZuuVzgCBAgQIECAAAGD1w8QIECAAAECBAikBQzedL3CESBAgAABAgQIGLx+gAABAgQIECBAIC1g8KbrFY4AAQIECBAgQMDg9QMECBAgQIAAAQJpAYM3Xa9wBAgQIECAAAECBq8fIECAAAECBAgQSAsYvOl6hSNAgAABAgQIEDB4/QABAgQIECBAgEBawOBN1yscAQIECBAgQICAwesHCBAgQIAAAQIE0gIGb7pe4QgQIECAAAECBAxeP0CAAAECBAgQIJAWMHjT9QpHgAABAgQIECBg8PoBAgQIECBAgACBtIDBm65XOAIECBAgQIAAAYPXDxAgQIAAAQIECKQFDN50vcIRIECAAAECBAgYvH6AAAECBAgQIEAgLWDwpusVjgABAgQIECBAwOD1AwQIECBAgAABAmkBgzddr3AECBAgQIAAAQIGrx8gQIAAAQIECBBICxi86XqFI0CAAAECBAgQMHj9AAECBAgQIECAQFrA4E3XKxwBAgQIECBAgIDB6wcIECBAgAABAgTSAgZvul7hCBAgQIAAAQIEDF4/QIAAAQIECBAgkBYweNP1CkeAAAECBAgQIGDw+gECBAgQIECAAIG0gMGbrlc4AgQIECBAgAABg9cPECBAgAABAgQIpAUM3nS9whEgQIAAAQIECBi8foAAAQIECBAgQCAtYPCm6xWOAAECBAgQIEDA4PUDBAgQIECAAAECaQGDN12vcAQIECBAgAABAgavHyBAgAABAgQIEEgLGLzpeoUjQIAAAQIECBAweP0AAQIECBAgQIBAWsDgTdcrHAECBAgQIECAgMHrBwgQIECAAAECBNICBm+6XuEIECBAgAABAgQMXj9AgAABAgQIECCQFjB40/UKR4AAAQIECBAgYPD6AQIECBAgQIAAgbSAwZuuVzgCBAgQIECAAAGD1w8QIECAAAECBAikBQzedL3CESBAgAABAgQIGLx+gAABAgQIECBAIC1g8KbrFY4AAQIECBAgQMDg9QMECBAgQIAAAQJpAYM3Xa9wBAgQIECAAAECBq8fIECAAAECBAgQSAsYvOl6hSNAgAABAgQIEDB4/QABAgQIECBAgEBawOBN1yscAQIECBAgQICAwesHCBAgQIAAAQIE0gIGb7pe4QgQIECAAAECBAxeP0CAAAECBAgQIJAWMHjT9QpHgAABAgQIECBg8PoBAgQIECBAgACBtIDBm65XOAIECBAgQIAAAYPXDxAgQIAAAQIECKQFDN50vcIRIECAAAECBAgYvH6AAAECBAgQIEAgLWDwpusVjgABAgQIECBAwOD1AwQIECBAgAABAmkBgzddr3AECBAgQIAAAQIGrx8gQIAAAQIECBBICxi86XqFI0CAAAECBAgQMHj9AAECBAgQIECAQFrA4E3XKxwBAgQIECBAgIDB6wcIECBAgAABAgTSAgZvul7hCBAgQIAAAQIEDF4/QIAAAQIECBAgkBYweNP1CkeAAAECBAgQIGDw+gECBAgQIECAAIG0gMGbrlc4AgQIECBAgAABg9cPECBAgAABAgQIpAUM3nS9whEgQIAAAQIECBi8foAAAQIECBAgQCAtYPCm6xWOAAECBAgQIEDA4PUDBAgQIECAAAECaQGDN12vcAQIECBAgAABAgavHyBAgAABAgQIEEgLGLzpeoUjQIAAAQIECBAweP0AAQIECBAgQIBAWsDgTdcrHAECBAgQIECAgMHrBwgQIECAAAECBNICBm+6XuEIECBAgAABAgQMXj9AgAABAgQIECCQFjB40/UKR4AAAQIECBAgYPD6AQIECBAgQIAAgbSAwZuuVzgCBAgQIECAAAGD1w8QIECAAAECBAikBQzedL3CESBAgAABAgQIGLx+gAABAgQIECBAIC1g8KbrFY4AAQIECBAgQMDg9QMECBAgQIAAAQJpAYM3Xa9wBAgQIECAAAECBq8fIECAAAECBAgQSAsYvOl6hSNAgAABAgQIEDB4/QABAgQIECBAgEBawOBN1yscAQIECBAgQICAwesHCBAgQIAAAQIE0gIGb7pe4QgQIECAAAECBAxeP0CAAAECBAgQIJAWMHjT9QpHgAABAgQIECBg8PoBAgQIECBAgACBtIDBm65XOAIECBAgQIAAAYPXDxAgQIAAAQIECKQFDN50vcIRIECAAAECBAgYvH6AAAECBAgQIEAgLWDwpusVjgABAgQIECBAwOD1AwQIECBAgAABAmkBgzddr3AECBAgQIAAAQIGrx8gQIAAAQIECBBICxi86XqFI0CAAAECBAgQMHj9AAECBAgQIECAQFrA4E3XKxwBAgQIECBAgIDB6wcIECBAgAABAgTSAgZvul7hCBAgQIAAAQIEDF4/QIAAAQIECBAgkBYweNP1CkeAAAECBAgQIGDw+gECBAgQIECAAIG0gMGbrlc4AgQIECBAgAABg9cPECBAgAABAgQIpAUM3nS9whEgQIAAAQIECBi8foAAAQIECBAgQCAtYPCm6xWOAAECBAgQIEDA4PUDBAgQIECAAAECaQGDN12vcAQIECBAgAABAg9CIAHDn1PJLgAAAABJRU5ErkJggg==\" preserveAspectRatio=\"none\" x=\"0\" y=\"0\" width=\"700\" height=\"450\"/></g><defs id=\"topdefs-cff789\"><g class=\"clips\"/><clipPath id=\"legendcff789\"><rect width=\"90\" height=\"86\" x=\"0\" y=\"0\"/></clipPath></defs><g class=\"layer-above\"><g class=\"imagelayer\"/><g class=\"shapelayer\"/></g><g class=\"infolayer\"><g class=\"legend\" pointer-events=\"all\" transform=\"translate(598.16, 60)\"><rect class=\"bg\" shape-rendering=\"crispEdges\" style=\"stroke: rgb(68, 68, 68); stroke-opacity: 1; fill: rgb(255, 255, 255); fill-opacity: 1; stroke-width: 0px;\" width=\"90\" height=\"86\" x=\"0\" y=\"0\"/><g class=\"scrollbox\" transform=\"translate(0, 0)\" clip-path=\"url('#legendcff789')\"><g class=\"groups\" transform=\"translate(0, 0)\"><g class=\"traces\" style=\"opacity: 1;\" transform=\"translate(0, 14.5)\"><text class=\"legendtext user-select-none\" text-anchor=\"start\" x=\"40\" y=\"4.680000000000001\" style=\"font-family: 'Open Sans', verdana, arial, sans-serif; font-size: 12px; fill: rgb(42, 63, 95); fill-opacity: 1; white-space: pre;\">p=0.05</text><g class=\"layers\" style=\"opacity: 1;\"><g class=\"legendfill\"/><g class=\"legendlines\"><path class=\"js-line\" d=\"M5,0h30\" style=\"fill: none; stroke: rgb(99, 110, 250); stroke-opacity: 1; stroke-width: 2px;\"/></g><g class=\"legendsymbols\"><g class=\"legendpoints\"/></g></g><rect class=\"legendtoggle\" pointer-events=\"all\" x=\"0\" y=\"-9.5\" width=\"130\" height=\"19\" style=\"cursor: pointer; fill: rgb(0, 0, 0); fill-opacity: 0;\"/></g></g><g class=\"groups\" transform=\"translate(0, 0)\"><g class=\"traces\" style=\"opacity: 1;\" transform=\"translate(0, 33.5)\"><text class=\"legendtext user-select-none\" text-anchor=\"start\" x=\"40\" y=\"4.680000000000001\" style=\"font-family: 'Open Sans', verdana, arial, sans-serif; font-size: 12px; fill: rgb(42, 63, 95); fill-opacity: 1; white-space: pre;\">p=0.1</text><g class=\"layers\" style=\"opacity: 1;\"><g class=\"legendfill\"/><g class=\"legendlines\"><path class=\"js-line\" d=\"M5,0h30\" style=\"fill: none; stroke: rgb(239, 85, 59); stroke-opacity: 1; stroke-width: 2px;\"/></g><g class=\"legendsymbols\"><g class=\"legendpoints\"/></g></g><rect class=\"legendtoggle\" pointer-events=\"all\" x=\"0\" y=\"-9.5\" width=\"130\" height=\"19\" style=\"cursor: pointer; fill: rgb(0, 0, 0); fill-opacity: 0;\"/></g></g><g class=\"groups\" transform=\"translate(0, 0)\"><g class=\"traces\" style=\"opacity: 1;\" transform=\"translate(0, 52.5)\"><text class=\"legendtext user-select-none\" text-anchor=\"start\" x=\"40\" y=\"4.680000000000001\" style=\"font-family: 'Open Sans', verdana, arial, sans-serif; font-size: 12px; fill: rgb(42, 63, 95); fill-opacity: 1; white-space: pre;\">p=0.25</text><g class=\"layers\" style=\"opacity: 1;\"><g class=\"legendfill\"/><g class=\"legendlines\"><path class=\"js-line\" d=\"M5,0h30\" style=\"fill: none; stroke: rgb(0, 204, 150); stroke-opacity: 1; stroke-width: 2px;\"/></g><g class=\"legendsymbols\"><g class=\"legendpoints\"/></g></g><rect class=\"legendtoggle\" pointer-events=\"all\" x=\"0\" y=\"-9.5\" width=\"130\" height=\"19\" style=\"cursor: pointer; fill: rgb(0, 0, 0); fill-opacity: 0;\"/></g></g><g class=\"groups\" transform=\"translate(0, 0)\"><g class=\"traces\" style=\"opacity: 1;\" transform=\"translate(0, 71.5)\"><text class=\"legendtext user-select-none\" text-anchor=\"start\" x=\"40\" y=\"4.680000000000001\" style=\"font-family: 'Open Sans', verdana, arial, sans-serif; font-size: 12px; fill: rgb(42, 63, 95); fill-opacity: 1; white-space: pre;\">p=0.4</text><g class=\"layers\" style=\"opacity: 1;\"><g class=\"legendfill\"/><g class=\"legendlines\"><path class=\"js-line\" d=\"M5,0h30\" style=\"fill: none; stroke: rgb(171, 99, 250); stroke-opacity: 1; stroke-width: 2px;\"/></g><g class=\"legendsymbols\"><g class=\"legendpoints\"/></g></g><rect class=\"legendtoggle\" pointer-events=\"all\" x=\"0\" y=\"-9.5\" width=\"130\" height=\"19\" style=\"cursor: pointer; fill: rgb(0, 0, 0); fill-opacity: 0;\"/></g></g></g><rect class=\"scrollbar\" rx=\"20\" ry=\"3\" width=\"0\" height=\"0\" style=\"fill: rgb(128, 139, 164); fill-opacity: 1;\" x=\"0\" y=\"0\"/></g><g class=\"g-gtitle\"/><g class=\"g-xtitle\"><text class=\"xtitle\" x=\"201.92000000000002\" y=\"422\" text-anchor=\"middle\" style=\"font-family: 'Open Sans', verdana, arial, sans-serif; font-size: 14px; fill: rgb(42, 63, 95); opacity: 1; font-weight: normal; white-space: pre;\">t</text></g><g class=\"g-x2title\"><text class=\"x2title\" x=\"455.92\" y=\"422\" text-anchor=\"middle\" style=\"font-family: 'Open Sans', verdana, arial, sans-serif; font-size: 14px; fill: rgb(42, 63, 95); opacity: 1; font-weight: normal; white-space: pre;\">t</text></g><g class=\"g-ytitle\"><text class=\"ytitle\" transform=\"rotate(-90,42,215)\" x=\"42\" y=\"215\" text-anchor=\"middle\" style=\"font-family: 'Open Sans', verdana, arial, sans-serif; font-size: 14px; fill: rgb(42, 63, 95); opacity: 1; font-weight: normal; white-space: pre;\">value</text></g><g class=\"g-y2title\"/><g class=\"annotation\" data-index=\"0\" style=\"opacity: 1;\"><g class=\"annotation-text-g\" transform=\"rotate(0,201.92000000000002,50.5)\"><g class=\"cursor-pointer\" transform=\"translate(172, 41)\"><rect class=\"bg\" x=\"0.5\" y=\"0.5\" width=\"58\" height=\"18\" style=\"stroke-width: 1px; stroke: rgb(0, 0, 0); stroke-opacity: 0; fill: rgb(0, 0, 0); fill-opacity: 0;\"/><text class=\"annotation-text\" text-anchor=\"middle\" x=\"29.703125\" y=\"14\" style=\"font-family: 'Open Sans', verdana, arial, sans-serif; font-size: 12px; fill: rgb(42, 63, 95); fill-opacity: 1; white-space: pre;\">Estado=I</text></g></g></g><g class=\"annotation\" data-index=\"1\" style=\"opacity: 1;\"><g class=\"annotation-text-g\" transform=\"rotate(0,455.92,50.5)\"><g class=\"cursor-pointer\" transform=\"translate(424, 41)\"><rect class=\"bg\" x=\"0.5\" y=\"0.5\" width=\"62\" height=\"18\" style=\"stroke-width: 1px; stroke: rgb(0, 0, 0); stroke-opacity: 0; fill: rgb(0, 0, 0); fill-opacity: 0;\"/><text class=\"annotation-text\" text-anchor=\"middle\" x=\"31.28125\" y=\"14\" style=\"font-family: 'Open Sans', verdana, arial, sans-serif; font-size: 12px; fill: rgb(42, 63, 95); fill-opacity: 1; white-space: pre;\">Estado=S</text></g></g></g></g></svg>"
      ]
     },
     "metadata": {},
     "output_type": "display_data"
    }
   ],
   "source": [
    "fig=px.line(df,x='t',y='value',color='p',facet_col='Estado', height=400,width=600)\n",
    "fig.show(renderer=\"svg\")"
   ]
  },
  {
   "cell_type": "markdown",
   "metadata": {},
   "source": [
    "Otra suposicion es que **todos se terminan informando**. Tiene una forma de S. En el modelo de broadcasting, estimar la poblacion era facil porque se correlaciona muy bien con los informados iniciales. En este no. Puede empezar tranquilo en los dos y uno llegar a una poblacion muy grande y otra que empezo mejor llegar a una mas chica nada mas. Es dificil darse cuenta de entrada cual es la poblacion final al que se va a llegar."
   ]
  },
  {
   "cell_type": "markdown",
   "metadata": {},
   "source": [
    "#### Si le sacamos $P$, nos queda asi, es mas abrupto. $P$ le agrega un factor mas para que se relentice la expansion (que no sea tan abrupta"
   ]
  },
  {
   "cell_type": "code",
   "execution_count": 338,
   "metadata": {},
   "outputs": [
    {
     "data": {
      "text/html": [
       "<div>\n",
       "<style scoped>\n",
       "    .dataframe tbody tr th:only-of-type {\n",
       "        vertical-align: middle;\n",
       "    }\n",
       "\n",
       "    .dataframe tbody tr th {\n",
       "        vertical-align: top;\n",
       "    }\n",
       "\n",
       "    .dataframe thead th {\n",
       "        text-align: right;\n",
       "    }\n",
       "</style>\n",
       "<table border=\"1\" class=\"dataframe\">\n",
       "  <thead>\n",
       "    <tr style=\"text-align: right;\">\n",
       "      <th></th>\n",
       "      <th>t</th>\n",
       "      <th>I</th>\n",
       "      <th>S</th>\n",
       "      <th>p</th>\n",
       "    </tr>\n",
       "  </thead>\n",
       "  <tbody>\n",
       "    <tr>\n",
       "      <th>0</th>\n",
       "      <td>1.0</td>\n",
       "      <td>1.000000</td>\n",
       "      <td>1000000.000000</td>\n",
       "      <td>sin p</td>\n",
       "    </tr>\n",
       "    <tr>\n",
       "      <th>1</th>\n",
       "      <td>2.0</td>\n",
       "      <td>1.000000</td>\n",
       "      <td>1000000.000000</td>\n",
       "      <td>sin p</td>\n",
       "    </tr>\n",
       "    <tr>\n",
       "      <th>2</th>\n",
       "      <td>3.0</td>\n",
       "      <td>2.000000</td>\n",
       "      <td>999998.000000</td>\n",
       "      <td>sin p</td>\n",
       "    </tr>\n",
       "    <tr>\n",
       "      <th>3</th>\n",
       "      <td>4.0</td>\n",
       "      <td>3.999996</td>\n",
       "      <td>999996.000004</td>\n",
       "      <td>sin p</td>\n",
       "    </tr>\n",
       "    <tr>\n",
       "      <th>4</th>\n",
       "      <td>5.0</td>\n",
       "      <td>7.999976</td>\n",
       "      <td>999992.000024</td>\n",
       "      <td>sin p</td>\n",
       "    </tr>\n",
       "  </tbody>\n",
       "</table>\n",
       "</div>"
      ],
      "text/plain": [
       "     t         I               S      p\n",
       "0  1.0  1.000000  1000000.000000  sin p\n",
       "1  2.0  1.000000  1000000.000000  sin p\n",
       "2  3.0  2.000000   999998.000000  sin p\n",
       "3  4.0  3.999996   999996.000004  sin p\n",
       "4  5.0  7.999976   999992.000024  sin p"
      ]
     },
     "execution_count": 338,
     "metadata": {},
     "output_type": "execute_result"
    }
   ],
   "source": [
    "t= np.arange(1,150,1)\n",
    "N= 1000000\n",
    "\n",
    "p= 0.05\n",
    "df= pd.DataFrame({'t':t})\n",
    "df['I']= 1\n",
    "df['S']= N\n",
    "df['p']='sin p'\n",
    "for i in t:\n",
    "    df.loc[i+1,'I']= df.loc[i,'I'] +  df.loc[i,'S']  * df.loc[i,'I']/N\n",
    "    df.loc[i+1,'S']= N-df.loc[i+1,'I']\n",
    "\n",
    "\n",
    "p= 0.15\n",
    "df2= pd.DataFrame({'t':t})\n",
    "df2['I']= 1\n",
    "df2['S']= N\n",
    "df2['p']='0,15'\n",
    "for i in t:\n",
    "    df2.loc[i+1,'I']= df2.loc[i,'I'] + p * df2.loc[i,'S']  * df2.loc[i,'I']/N\n",
    "    df2.loc[i+1,'S']= N-df2.loc[i+1,'I']\n",
    "    \n",
    "df= pd.concat([df,df2])\n",
    "df= df.dropna().reset_index(drop=True)\n",
    "df.head()"
   ]
  },
  {
   "cell_type": "code",
   "execution_count": 339,
   "metadata": {},
   "outputs": [
    {
     "data": {
      "image/svg+xml": [
       "<svg class=\"main-svg\" xmlns=\"http://www.w3.org/2000/svg\" xmlns:xlink=\"http://www.w3.org/1999/xlink\" width=\"700\" height=\"450\" style=\"\" viewBox=\"0 0 700 450\"><rect x=\"0\" y=\"0\" width=\"700\" height=\"450\" style=\"fill: rgb(255, 255, 255); fill-opacity: 1;\"/><defs id=\"defs-648c17\"><g class=\"clips\"><clipPath id=\"clip648c17xyplot\" class=\"plotclip\"><rect width=\"495.88\" height=\"310\"/></clipPath><clipPath class=\"axesclip\" id=\"clip648c17x\"><rect x=\"80\" y=\"0\" width=\"495.88\" height=\"450\"/></clipPath><clipPath class=\"axesclip\" id=\"clip648c17y\"><rect x=\"0\" y=\"60\" width=\"700\" height=\"310\"/></clipPath><clipPath class=\"axesclip\" id=\"clip648c17xy\"><rect x=\"80\" y=\"60\" width=\"495.88\" height=\"310\"/></clipPath></g><g class=\"gradients\"/></defs><g class=\"bglayer\"><rect class=\"bg\" x=\"80\" y=\"60\" width=\"495.88\" height=\"310\" style=\"fill: rgb(229, 236, 246); fill-opacity: 1; stroke-width: 0;\"/></g><g class=\"layer-below\"><g class=\"imagelayer\"/><g class=\"shapelayer\"/></g><g class=\"cartesianlayer\"><g class=\"subplot xy\"><g class=\"layer-subplot\"><g class=\"shapelayer\"/><g class=\"imagelayer\"/></g><g class=\"gridlayer\"><g class=\"x\"><path class=\"xgrid crisp\" transform=\"translate(244.18,0)\" d=\"M0,60v310\" style=\"stroke: rgb(255, 255, 255); stroke-opacity: 1; stroke-width: 1px;\"/><path class=\"xgrid crisp\" transform=\"translate(411.7,0)\" d=\"M0,60v310\" style=\"stroke: rgb(255, 255, 255); stroke-opacity: 1; stroke-width: 1px;\"/></g><g class=\"y\"><path class=\"ygrid crisp\" transform=\"translate(0,298.7)\" d=\"M80,0h495.88\" style=\"stroke: rgb(255, 255, 255); stroke-opacity: 1; stroke-width: 1px;\"/><path class=\"ygrid crisp\" transform=\"translate(0,242.9)\" d=\"M80,0h495.88\" style=\"stroke: rgb(255, 255, 255); stroke-opacity: 1; stroke-width: 1px;\"/><path class=\"ygrid crisp\" transform=\"translate(0,187.1)\" d=\"M80,0h495.88\" style=\"stroke: rgb(255, 255, 255); stroke-opacity: 1; stroke-width: 1px;\"/><path class=\"ygrid crisp\" transform=\"translate(0,131.3)\" d=\"M80,0h495.88\" style=\"stroke: rgb(255, 255, 255); stroke-opacity: 1; stroke-width: 1px;\"/><path class=\"ygrid crisp\" transform=\"translate(0,75.5)\" d=\"M80,0h495.88\" style=\"stroke: rgb(255, 255, 255); stroke-opacity: 1; stroke-width: 1px;\"/></g></g><g class=\"zerolinelayer\"><path class=\"yzl zl crisp\" transform=\"translate(0,354.5)\" d=\"M80,0h495.88\" style=\"stroke: rgb(255, 255, 255); stroke-opacity: 1; stroke-width: 2px;\"/></g><path class=\"xlines-below\"/><path class=\"ylines-below\"/><g class=\"overlines-below\"/><g class=\"xaxislayer-below\"/><g class=\"yaxislayer-below\"/><g class=\"overaxes-below\"/><g class=\"plot\" transform=\"translate(80, 60)\" clip-path=\"url('#clip648c17xyplot')\"><g class=\"scatterlayer mlayer\"><g class=\"trace scatter tracecfb95f\" style=\"stroke-miterlimit: 2; opacity: 1;\"><g class=\"fills\"/><g class=\"errorbars\"/><g class=\"lines\"><path class=\"js-line\" d=\"M0,294.5L40.21,293.93L43.56,293.36L46.91,292.22L50.26,289.97L53.61,285.51L56.96,276.8L60.31,260.23L63.66,230.16L67.01,180.66L70.36,113.27L73.71,49.76L77.06,19.71L80.41,15.56L83.76,15.5L495.88,15.5\" style=\"vector-effect: non-scaling-stroke; fill: none; stroke: rgb(99, 110, 250); stroke-opacity: 1; stroke-width: 2px; opacity: 1;\"/></g><g class=\"points\"/><g class=\"text\"/></g><g class=\"trace scatter trace6cfe18\" style=\"stroke-miterlimit: 2; opacity: 1;\"><g class=\"fills\"/><g class=\"errorbars\"/><g class=\"lines\"><path class=\"js-line\" d=\"M0,294.5L190.98,293.8L194.33,293.7L221.14,292.06L224.49,291.7L241.24,288.91L244.59,288.09L254.64,284.85L257.99,283.45L268.04,277.99L271.39,275.66L278.09,270.05L281.45,266.71L288.15,258.76L291.5,254.08L298.2,243.18L301.55,236.89L308.25,222.6L311.6,214.6L321.65,187.47L325,177.57L351.81,97.02L355.16,88.37L365.21,66L368.56,59.79L375.26,49.2L378.61,44.76L385.31,37.38L388.66,34.35L395.36,29.42L398.71,27.44L408.77,22.98L412.12,21.89L425.52,18.88L428.87,18.38L445.62,16.78L448.97,16.59L482.48,15.72L485.83,15.68L495.88,15.61\" style=\"vector-effect: non-scaling-stroke; fill: none; stroke: rgb(239, 85, 59); stroke-opacity: 1; stroke-width: 2px; opacity: 1;\"/></g><g class=\"points\"/><g class=\"text\"/></g></g></g><g class=\"overplot\"/><path class=\"xlines-above crisp\" style=\"fill: none;\" d=\"M0,0\"/><path class=\"ylines-above crisp\" style=\"fill: none;\" d=\"M0,0\"/><g class=\"overlines-above\"/><g class=\"xaxislayer-above\"><g class=\"xtick\"><text text-anchor=\"middle\" x=\"0\" y=\"383\" transform=\"translate(244.18,0)\" style=\"font-family: 'Open Sans', verdana, arial, sans-serif; font-size: 12px; fill: rgb(42, 63, 95); fill-opacity: 1; white-space: pre;\">50</text></g><g class=\"xtick\"><text text-anchor=\"middle\" x=\"0\" y=\"383\" transform=\"translate(411.7,0)\" style=\"font-family: 'Open Sans', verdana, arial, sans-serif; font-size: 12px; fill: rgb(42, 63, 95); fill-opacity: 1; white-space: pre;\">100</text></g></g><g class=\"yaxislayer-above\"><g class=\"ytick\"><text text-anchor=\"end\" x=\"79\" y=\"4.199999999999999\" transform=\"translate(0,354.5)\" style=\"font-family: 'Open Sans', verdana, arial, sans-serif; font-size: 12px; fill: rgb(42, 63, 95); fill-opacity: 1; white-space: pre;\">0</text></g><g class=\"ytick\"><text text-anchor=\"end\" x=\"79\" y=\"4.199999999999999\" transform=\"translate(0,298.7)\" style=\"font-family: 'Open Sans', verdana, arial, sans-serif; font-size: 12px; fill: rgb(42, 63, 95); fill-opacity: 1; white-space: pre;\">0.2M</text></g><g class=\"ytick\"><text text-anchor=\"end\" x=\"79\" y=\"4.199999999999999\" transform=\"translate(0,242.9)\" style=\"font-family: 'Open Sans', verdana, arial, sans-serif; font-size: 12px; fill: rgb(42, 63, 95); fill-opacity: 1; white-space: pre;\">0.4M</text></g><g class=\"ytick\"><text text-anchor=\"end\" x=\"79\" y=\"4.199999999999999\" transform=\"translate(0,187.1)\" style=\"font-family: 'Open Sans', verdana, arial, sans-serif; font-size: 12px; fill: rgb(42, 63, 95); fill-opacity: 1; white-space: pre;\">0.6M</text></g><g class=\"ytick\"><text text-anchor=\"end\" x=\"79\" y=\"4.199999999999999\" transform=\"translate(0,131.3)\" style=\"font-family: 'Open Sans', verdana, arial, sans-serif; font-size: 12px; fill: rgb(42, 63, 95); fill-opacity: 1; white-space: pre;\">0.8M</text></g><g class=\"ytick\"><text text-anchor=\"end\" x=\"79\" y=\"4.199999999999999\" transform=\"translate(0,75.5)\" style=\"font-family: 'Open Sans', verdana, arial, sans-serif; font-size: 12px; fill: rgb(42, 63, 95); fill-opacity: 1; white-space: pre;\">1M</text></g></g><g class=\"overaxes-above\"/></g></g><g class=\"polarlayer\"/><g class=\"ternarylayer\"/><g class=\"geolayer\"/><g class=\"funnelarealayer\"/><g class=\"pielayer\"/><g class=\"sunburstlayer\"/><g class=\"glimages\"/><defs id=\"topdefs-648c17\"><g class=\"clips\"/><clipPath id=\"legend648c17\"><rect width=\"92\" height=\"48\" x=\"0\" y=\"0\"/></clipPath></defs><g class=\"layer-above\"><g class=\"imagelayer\"/><g class=\"shapelayer\"/></g><g class=\"infolayer\"><g class=\"legend\" pointer-events=\"all\" transform=\"translate(596.12, 60)\"><rect class=\"bg\" shape-rendering=\"crispEdges\" style=\"stroke: rgb(68, 68, 68); stroke-opacity: 1; fill: rgb(255, 255, 255); fill-opacity: 1; stroke-width: 0px;\" width=\"92\" height=\"48\" x=\"0\" y=\"0\"/><g class=\"scrollbox\" transform=\"translate(0, 0)\" clip-path=\"url('#legend648c17')\"><g class=\"groups\" transform=\"translate(0, 0)\"><g class=\"traces\" style=\"opacity: 1;\" transform=\"translate(0, 14.5)\"><text class=\"legendtext user-select-none\" text-anchor=\"start\" x=\"40\" y=\"4.680000000000001\" style=\"font-family: 'Open Sans', verdana, arial, sans-serif; font-size: 12px; fill: rgb(42, 63, 95); fill-opacity: 1; white-space: pre;\">p=sin p</text><g class=\"layers\" style=\"opacity: 1;\"><g class=\"legendfill\"/><g class=\"legendlines\"><path class=\"js-line\" d=\"M5,0h30\" style=\"fill: none; stroke: rgb(99, 110, 250); stroke-opacity: 1; stroke-width: 2px;\"/></g><g class=\"legendsymbols\"><g class=\"legendpoints\"/></g></g><rect class=\"legendtoggle\" pointer-events=\"all\" x=\"0\" y=\"-9.5\" width=\"132\" height=\"19\" style=\"cursor: pointer; fill: rgb(0, 0, 0); fill-opacity: 0;\"/></g></g><g class=\"groups\" transform=\"translate(0, 0)\"><g class=\"traces\" style=\"opacity: 1;\" transform=\"translate(0, 33.5)\"><text class=\"legendtext user-select-none\" text-anchor=\"start\" x=\"40\" y=\"4.680000000000001\" style=\"font-family: 'Open Sans', verdana, arial, sans-serif; font-size: 12px; fill: rgb(42, 63, 95); fill-opacity: 1; white-space: pre;\">p=0,15</text><g class=\"layers\" style=\"opacity: 1;\"><g class=\"legendfill\"/><g class=\"legendlines\"><path class=\"js-line\" d=\"M5,0h30\" style=\"fill: none; stroke: rgb(239, 85, 59); stroke-opacity: 1; stroke-width: 2px;\"/></g><g class=\"legendsymbols\"><g class=\"legendpoints\"/></g></g><rect class=\"legendtoggle\" pointer-events=\"all\" x=\"0\" y=\"-9.5\" width=\"132\" height=\"19\" style=\"cursor: pointer; fill: rgb(0, 0, 0); fill-opacity: 0;\"/></g></g></g><rect class=\"scrollbar\" rx=\"20\" ry=\"3\" width=\"0\" height=\"0\" style=\"fill: rgb(128, 139, 164); fill-opacity: 1;\" x=\"0\" y=\"0\"/></g><g class=\"g-gtitle\"/><g class=\"g-xtitle\"><text class=\"xtitle\" x=\"327.94\" y=\"422\" text-anchor=\"middle\" style=\"font-family: 'Open Sans', verdana, arial, sans-serif; font-size: 14px; fill: rgb(42, 63, 95); opacity: 1; font-weight: normal; white-space: pre;\">t</text></g><g class=\"g-ytitle\"><text class=\"ytitle\" transform=\"rotate(-90,42,215)\" x=\"42\" y=\"215\" text-anchor=\"middle\" style=\"font-family: 'Open Sans', verdana, arial, sans-serif; font-size: 14px; fill: rgb(42, 63, 95); opacity: 1; font-weight: normal; white-space: pre;\">I</text></g></g></svg>"
      ]
     },
     "metadata": {},
     "output_type": "display_data"
    }
   ],
   "source": [
    "fig=px.line(df,x='t',y='I',color='p', height=400,width=600)\n",
    "fig.show(renderer=\"svg\")"
   ]
  },
  {
   "cell_type": "markdown",
   "metadata": {},
   "source": [
    "### Bass Model\n",
    "\n",
    "La mayoria de los bienes e  informacion es expanden mediante **ambos broadcast y difusion**. La difference equation del Bass es la suma de la difference equation del broadcast y del de difusion. Mientras mayor sea $P_{diffusion}$, mas parecido a un S-shape es.\n",
    "\n",
    "#### $$I_{t+1}= I_t + [P_{broad}*S_t] + [P_{diffuse}*\\frac{I_t}{N}*S_t]$$\n",
    "\n",
    "Ya que $S_t = [(1-\\frac{I_t}{N})*N]$, si lo distribuyo, es lo mismo que:\n",
    "\n",
    "#### $I_{t+1}= I_t + (P_{broad} + P_{diffuse}*\\frac{I_t}{N})*(1-\\frac{I_t}{N})*N$ \n",
    "\n",
    "Entonces el cambio en porcentaje de infectados sobre el total es:\n",
    "\n",
    "$\\Delta \\frac{I_t}{N}= (P_{broad} + P_{diffuse}*\\frac{I_t}{N})*(1-\\frac{I_t}{N})$\n",
    "\n",
    "$\\Delta I_t= (P_{broad} + P_{diffuse}*\\frac{I_t}{N})*(1-\\frac{I_t}{N})*N$\n",
    "\n",
    "$\\Delta I_t= (P_{broad} + P_{diffuse}*\\frac{I_t}{N})*S_t$\n",
    "\n",
    "$\\Delta I_t= [P_{broad}*S_t] + [P_{diffuse}*\\frac{I_t}{N}*S_t]$ ecuacion original del libro\n",
    "\n",
    "Situaciones:\n",
    "\n",
    "- Cuando $I_t≈N --> I_{t+1}≈0$\n",
    "- Cuando $I_t=0 --> I_{t+1}=P_{broad}*N$\n",
    "- Cuando $\\frac{I_t}{N}=\\epsilon --> I_{t+1}=(P_{broad} + P_{dif}*\\epsilon)*S_t$\n",
    "\n",
    "Lo bueno de este modelo es que al ser tan simple, no se necesita mucha data para estimar los parametros y completar el modelo."
   ]
  },
  {
   "cell_type": "code",
   "execution_count": 340,
   "metadata": {},
   "outputs": [
    {
     "data": {
      "text/html": [
       "<div>\n",
       "<style scoped>\n",
       "    .dataframe tbody tr th:only-of-type {\n",
       "        vertical-align: middle;\n",
       "    }\n",
       "\n",
       "    .dataframe tbody tr th {\n",
       "        vertical-align: top;\n",
       "    }\n",
       "\n",
       "    .dataframe thead th {\n",
       "        text-align: right;\n",
       "    }\n",
       "</style>\n",
       "<table border=\"1\" class=\"dataframe\">\n",
       "  <thead>\n",
       "    <tr style=\"text-align: right;\">\n",
       "      <th></th>\n",
       "      <th>t</th>\n",
       "      <th>I</th>\n",
       "      <th>S</th>\n",
       "      <th>p</th>\n",
       "    </tr>\n",
       "  </thead>\n",
       "  <tbody>\n",
       "    <tr>\n",
       "      <th>0</th>\n",
       "      <td>1.0</td>\n",
       "      <td>0.00000</td>\n",
       "      <td>1000000.00000</td>\n",
       "      <td>b=0.01, d=0.3</td>\n",
       "    </tr>\n",
       "    <tr>\n",
       "      <th>1</th>\n",
       "      <td>2.0</td>\n",
       "      <td>0.00000</td>\n",
       "      <td>1000000.00000</td>\n",
       "      <td>b=0.01, d=0.3</td>\n",
       "    </tr>\n",
       "    <tr>\n",
       "      <th>2</th>\n",
       "      <td>3.0</td>\n",
       "      <td>10000.00000</td>\n",
       "      <td>990000.00000</td>\n",
       "      <td>b=0.01, d=0.3</td>\n",
       "    </tr>\n",
       "    <tr>\n",
       "      <th>3</th>\n",
       "      <td>4.0</td>\n",
       "      <td>22870.00000</td>\n",
       "      <td>977130.00000</td>\n",
       "      <td>b=0.01, d=0.3</td>\n",
       "    </tr>\n",
       "    <tr>\n",
       "      <th>4</th>\n",
       "      <td>5.0</td>\n",
       "      <td>39345.38893</td>\n",
       "      <td>960654.61107</td>\n",
       "      <td>b=0.01, d=0.3</td>\n",
       "    </tr>\n",
       "  </tbody>\n",
       "</table>\n",
       "</div>"
      ],
      "text/plain": [
       "     t            I              S              p\n",
       "0  1.0      0.00000  1000000.00000  b=0.01, d=0.3\n",
       "1  2.0      0.00000  1000000.00000  b=0.01, d=0.3\n",
       "2  3.0  10000.00000   990000.00000  b=0.01, d=0.3\n",
       "3  4.0  22870.00000   977130.00000  b=0.01, d=0.3\n",
       "4  5.0  39345.38893   960654.61107  b=0.01, d=0.3"
      ]
     },
     "execution_count": 340,
     "metadata": {},
     "output_type": "execute_result"
    }
   ],
   "source": [
    "t= np.arange(1,50,1)\n",
    "N= 1000000\n",
    "\n",
    "p_d= 0.3\n",
    "p_b= 0.01\n",
    "df= pd.DataFrame({'t':t})\n",
    "df['I']= 0\n",
    "df['S']= N\n",
    "df['p']='b=0.01, d=0.3'\n",
    "for i in t:\n",
    "    df.loc[i+1,'I']= df.loc[i,'I'] + p_b*df.loc[i,'S'] +  df.loc[i,'S'] * p_d * df.loc[i,'I']/N # forma 1\n",
    "    df.loc[i+1,'S']= N-df.loc[i+1,'I']\n",
    "\n",
    "\n",
    "p_d= 0.1\n",
    "p_b= 0.01\n",
    "df2= pd.DataFrame({'t':t})\n",
    "df2['I']= 0\n",
    "df2['S']= N\n",
    "df2['p']='b=0.05, d=0.15'\n",
    "for i in t:\n",
    "    df2.loc[i+1,'I']= df2.loc[i,'I'] + ((p_b+ p_d*df2.loc[i,'I']/N)*(1-df2.loc[i,'I']/N)*N) # forma 2\n",
    "    df2.loc[i+1,'S']= N-df2.loc[i+1,'I']\n",
    "    \n",
    "df= pd.concat([df,df2])\n",
    "df= df.dropna().reset_index(drop=True)\n",
    "df.head()"
   ]
  },
  {
   "cell_type": "code",
   "execution_count": 341,
   "metadata": {},
   "outputs": [
    {
     "data": {
      "image/svg+xml": [
       "<svg class=\"main-svg\" xmlns=\"http://www.w3.org/2000/svg\" xmlns:xlink=\"http://www.w3.org/1999/xlink\" width=\"700\" height=\"450\" style=\"\" viewBox=\"0 0 700 450\"><rect x=\"0\" y=\"0\" width=\"700\" height=\"450\" style=\"fill: rgb(255, 255, 255); fill-opacity: 1;\"/><defs id=\"defs-44db7f\"><g class=\"clips\"><clipPath id=\"clip44db7fxyplot\" class=\"plotclip\"><rect width=\"430.21999999999997\" height=\"310\"/></clipPath><clipPath class=\"axesclip\" id=\"clip44db7fx\"><rect x=\"80\" y=\"0\" width=\"430.21999999999997\" height=\"450\"/></clipPath><clipPath class=\"axesclip\" id=\"clip44db7fy\"><rect x=\"0\" y=\"60\" width=\"700\" height=\"310\"/></clipPath><clipPath class=\"axesclip\" id=\"clip44db7fxy\"><rect x=\"80\" y=\"60\" width=\"430.21999999999997\" height=\"310\"/></clipPath></g><g class=\"gradients\"/></defs><g class=\"bglayer\"><rect class=\"bg\" x=\"80\" y=\"60\" width=\"430.21999999999997\" height=\"310\" style=\"fill: rgb(229, 236, 246); fill-opacity: 1; stroke-width: 0;\"/></g><g class=\"layer-below\"><g class=\"imagelayer\"/><g class=\"shapelayer\"/></g><g class=\"cartesianlayer\"><g class=\"subplot xy\"><g class=\"layer-subplot\"><g class=\"shapelayer\"/><g class=\"imagelayer\"/></g><g class=\"gridlayer\"><g class=\"x\"><path class=\"xgrid crisp\" transform=\"translate(160.67000000000002,0)\" d=\"M0,60v310\" style=\"stroke: rgb(255, 255, 255); stroke-opacity: 1; stroke-width: 1px;\"/><path class=\"xgrid crisp\" transform=\"translate(250.3,0)\" d=\"M0,60v310\" style=\"stroke: rgb(255, 255, 255); stroke-opacity: 1; stroke-width: 1px;\"/><path class=\"xgrid crisp\" transform=\"translate(339.92,0)\" d=\"M0,60v310\" style=\"stroke: rgb(255, 255, 255); stroke-opacity: 1; stroke-width: 1px;\"/><path class=\"xgrid crisp\" transform=\"translate(429.55,0)\" d=\"M0,60v310\" style=\"stroke: rgb(255, 255, 255); stroke-opacity: 1; stroke-width: 1px;\"/></g><g class=\"y\"><path class=\"ygrid crisp\" transform=\"translate(0,298.7)\" d=\"M80,0h430.21999999999997\" style=\"stroke: rgb(255, 255, 255); stroke-opacity: 1; stroke-width: 1px;\"/><path class=\"ygrid crisp\" transform=\"translate(0,242.9)\" d=\"M80,0h430.21999999999997\" style=\"stroke: rgb(255, 255, 255); stroke-opacity: 1; stroke-width: 1px;\"/><path class=\"ygrid crisp\" transform=\"translate(0,187.1)\" d=\"M80,0h430.21999999999997\" style=\"stroke: rgb(255, 255, 255); stroke-opacity: 1; stroke-width: 1px;\"/><path class=\"ygrid crisp\" transform=\"translate(0,131.3)\" d=\"M80,0h430.21999999999997\" style=\"stroke: rgb(255, 255, 255); stroke-opacity: 1; stroke-width: 1px;\"/><path class=\"ygrid crisp\" transform=\"translate(0,75.5)\" d=\"M80,0h430.21999999999997\" style=\"stroke: rgb(255, 255, 255); stroke-opacity: 1; stroke-width: 1px;\"/></g></g><g class=\"zerolinelayer\"><path class=\"yzl zl crisp\" transform=\"translate(0,354.5)\" d=\"M80,0h430.21999999999997\" style=\"stroke: rgb(255, 255, 255); stroke-opacity: 1; stroke-width: 2px;\"/></g><path class=\"xlines-below\"/><path class=\"ylines-below\"/><g class=\"overlines-below\"/><g class=\"xaxislayer-below\"/><g class=\"yaxislayer-below\"/><g class=\"overaxes-below\"/><g class=\"plot\" transform=\"translate(80, 60)\" clip-path=\"url('#clip44db7fxyplot')\"><g class=\"scatterlayer mlayer\"><g class=\"trace scatter tracea257a4\" style=\"stroke-miterlimit: 2; opacity: 1;\"><g class=\"fills\"/><g class=\"errorbars\"/><g class=\"lines\"><path class=\"js-line\" d=\"M0,294.5L8.96,294.5L17.93,291.71L26.89,288.12L35.85,283.52L44.81,277.68L53.78,270.31L62.74,261.14L71.7,249.87L80.67,236.28L89.63,220.25L98.59,201.86L107.56,181.43L143.41,95.21L152.37,77.33L161.33,62.27L170.3,50.13L179.26,40.68L188.22,33.56L197.18,28.31L206.15,24.51L224.07,19.89L233.04,18.55L259.92,16.51L268.89,16.2L322.67,15.57L331.63,15.55L430.22,15.5\" style=\"vector-effect: non-scaling-stroke; fill: none; stroke: rgb(99, 110, 250); stroke-opacity: 1; stroke-width: 2px; opacity: 1;\"/></g><g class=\"points\"/><g class=\"text\"/></g><g class=\"trace scatter tracea78352\" style=\"stroke-miterlimit: 2; opacity: 1;\"><g class=\"fills\"/><g class=\"errorbars\"/><g class=\"lines\"><path class=\"js-line\" d=\"M0,294.5L8.96,294.5L17.93,291.71L35.85,285.37L44.81,281.79L62.74,273.73L71.7,269.22L89.63,259.21L98.59,253.69L116.52,241.62L125.48,235.07L152.37,213.55L161.33,205.82L197.18,173.06L206.15,164.62L250.96,123.46L259.92,115.77L286.81,94.42L295.78,87.97L313.7,76.16L322.67,70.81L340.59,61.19L349.55,56.91L367.48,49.35L376.44,46.04L403.33,37.76L412.29,35.49L430.22,31.57\" style=\"vector-effect: non-scaling-stroke; fill: none; stroke: rgb(239, 85, 59); stroke-opacity: 1; stroke-width: 2px; opacity: 1;\"/></g><g class=\"points\"/><g class=\"text\"/></g></g></g><g class=\"overplot\"/><path class=\"xlines-above crisp\" style=\"fill: none;\" d=\"M0,0\"/><path class=\"ylines-above crisp\" style=\"fill: none;\" d=\"M0,0\"/><g class=\"overlines-above\"/><g class=\"xaxislayer-above\"><g class=\"xtick\"><text text-anchor=\"middle\" x=\"0\" y=\"383\" transform=\"translate(160.67000000000002,0)\" style=\"font-family: 'Open Sans', verdana, arial, sans-serif; font-size: 12px; fill: rgb(42, 63, 95); fill-opacity: 1; white-space: pre;\">10</text></g><g class=\"xtick\"><text text-anchor=\"middle\" x=\"0\" y=\"383\" transform=\"translate(250.3,0)\" style=\"font-family: 'Open Sans', verdana, arial, sans-serif; font-size: 12px; fill: rgb(42, 63, 95); fill-opacity: 1; white-space: pre;\">20</text></g><g class=\"xtick\"><text text-anchor=\"middle\" x=\"0\" y=\"383\" transform=\"translate(339.92,0)\" style=\"font-family: 'Open Sans', verdana, arial, sans-serif; font-size: 12px; fill: rgb(42, 63, 95); fill-opacity: 1; white-space: pre;\">30</text></g><g class=\"xtick\"><text text-anchor=\"middle\" x=\"0\" y=\"383\" transform=\"translate(429.55,0)\" style=\"font-family: 'Open Sans', verdana, arial, sans-serif; font-size: 12px; fill: rgb(42, 63, 95); fill-opacity: 1; white-space: pre;\">40</text></g></g><g class=\"yaxislayer-above\"><g class=\"ytick\"><text text-anchor=\"end\" x=\"79\" y=\"4.199999999999999\" transform=\"translate(0,354.5)\" style=\"font-family: 'Open Sans', verdana, arial, sans-serif; font-size: 12px; fill: rgb(42, 63, 95); fill-opacity: 1; white-space: pre;\">0</text></g><g class=\"ytick\"><text text-anchor=\"end\" x=\"79\" y=\"4.199999999999999\" transform=\"translate(0,298.7)\" style=\"font-family: 'Open Sans', verdana, arial, sans-serif; font-size: 12px; fill: rgb(42, 63, 95); fill-opacity: 1; white-space: pre;\">0.2M</text></g><g class=\"ytick\"><text text-anchor=\"end\" x=\"79\" y=\"4.199999999999999\" transform=\"translate(0,242.9)\" style=\"font-family: 'Open Sans', verdana, arial, sans-serif; font-size: 12px; fill: rgb(42, 63, 95); fill-opacity: 1; white-space: pre;\">0.4M</text></g><g class=\"ytick\"><text text-anchor=\"end\" x=\"79\" y=\"4.199999999999999\" transform=\"translate(0,187.1)\" style=\"font-family: 'Open Sans', verdana, arial, sans-serif; font-size: 12px; fill: rgb(42, 63, 95); fill-opacity: 1; white-space: pre;\">0.6M</text></g><g class=\"ytick\"><text text-anchor=\"end\" x=\"79\" y=\"4.199999999999999\" transform=\"translate(0,131.3)\" style=\"font-family: 'Open Sans', verdana, arial, sans-serif; font-size: 12px; fill: rgb(42, 63, 95); fill-opacity: 1; white-space: pre;\">0.8M</text></g><g class=\"ytick\"><text text-anchor=\"end\" x=\"79\" y=\"4.199999999999999\" transform=\"translate(0,75.5)\" style=\"font-family: 'Open Sans', verdana, arial, sans-serif; font-size: 12px; fill: rgb(42, 63, 95); fill-opacity: 1; white-space: pre;\">1M</text></g></g><g class=\"overaxes-above\"/></g></g><g class=\"polarlayer\"/><g class=\"ternarylayer\"/><g class=\"geolayer\"/><g class=\"funnelarealayer\"/><g class=\"pielayer\"/><g class=\"sunburstlayer\"/><g class=\"glimages\"/><defs id=\"topdefs-44db7f\"><g class=\"clips\"/><clipPath id=\"legend44db7f\"><rect width=\"160\" height=\"48\" x=\"0\" y=\"0\"/></clipPath></defs><g class=\"layer-above\"><g class=\"imagelayer\"/><g class=\"shapelayer\"/></g><g class=\"infolayer\"><g class=\"legend\" pointer-events=\"all\" transform=\"translate(527.78, 60)\"><rect class=\"bg\" shape-rendering=\"crispEdges\" style=\"stroke: rgb(68, 68, 68); stroke-opacity: 1; fill: rgb(255, 255, 255); fill-opacity: 1; stroke-width: 0px;\" width=\"160\" height=\"48\" x=\"0\" y=\"0\"/><g class=\"scrollbox\" transform=\"translate(0, 0)\" clip-path=\"url('#legend44db7f')\"><g class=\"groups\" transform=\"translate(0, 0)\"><g class=\"traces\" style=\"opacity: 1;\" transform=\"translate(0, 14.5)\"><text class=\"legendtext user-select-none\" text-anchor=\"start\" x=\"40\" y=\"4.680000000000001\" style=\"font-family: 'Open Sans', verdana, arial, sans-serif; font-size: 12px; fill: rgb(42, 63, 95); fill-opacity: 1; white-space: pre;\">p=b=0.01, d=0.3</text><g class=\"layers\" style=\"opacity: 1;\"><g class=\"legendfill\"/><g class=\"legendlines\"><path class=\"js-line\" d=\"M5,0h30\" style=\"fill: none; stroke: rgb(99, 110, 250); stroke-opacity: 1; stroke-width: 2px;\"/></g><g class=\"legendsymbols\"><g class=\"legendpoints\"/></g></g><rect class=\"legendtoggle\" pointer-events=\"all\" x=\"0\" y=\"-9.5\" width=\"200\" height=\"19\" style=\"cursor: pointer; fill: rgb(0, 0, 0); fill-opacity: 0;\"/></g></g><g class=\"groups\" transform=\"translate(0, 0)\"><g class=\"traces\" style=\"opacity: 1;\" transform=\"translate(0, 33.5)\"><text class=\"legendtext user-select-none\" text-anchor=\"start\" x=\"40\" y=\"4.680000000000001\" style=\"font-family: 'Open Sans', verdana, arial, sans-serif; font-size: 12px; fill: rgb(42, 63, 95); fill-opacity: 1; white-space: pre;\">p=b=0.05, d=0.15</text><g class=\"layers\" style=\"opacity: 1;\"><g class=\"legendfill\"/><g class=\"legendlines\"><path class=\"js-line\" d=\"M5,0h30\" style=\"fill: none; stroke: rgb(239, 85, 59); stroke-opacity: 1; stroke-width: 2px;\"/></g><g class=\"legendsymbols\"><g class=\"legendpoints\"/></g></g><rect class=\"legendtoggle\" pointer-events=\"all\" x=\"0\" y=\"-9.5\" width=\"200\" height=\"19\" style=\"cursor: pointer; fill: rgb(0, 0, 0); fill-opacity: 0;\"/></g></g></g><rect class=\"scrollbar\" rx=\"20\" ry=\"3\" width=\"0\" height=\"0\" style=\"fill: rgb(128, 139, 164); fill-opacity: 1;\" x=\"0\" y=\"0\"/></g><g class=\"g-gtitle\"/><g class=\"g-xtitle\"><text class=\"xtitle\" x=\"295.11\" y=\"422\" text-anchor=\"middle\" style=\"font-family: 'Open Sans', verdana, arial, sans-serif; font-size: 14px; fill: rgb(42, 63, 95); opacity: 1; font-weight: normal; white-space: pre;\">t</text></g><g class=\"g-ytitle\"><text class=\"ytitle\" transform=\"rotate(-90,42,215)\" x=\"42\" y=\"215\" text-anchor=\"middle\" style=\"font-family: 'Open Sans', verdana, arial, sans-serif; font-size: 14px; fill: rgb(42, 63, 95); opacity: 1; font-weight: normal; white-space: pre;\">I</text></g></g></svg>"
      ]
     },
     "metadata": {},
     "output_type": "display_data"
    }
   ],
   "source": [
    "fig=px.line(df,x='t',y='I',color='p', height=400,width=600)\n",
    "fig.show(renderer=\"svg\")"
   ]
  },
  {
   "cell_type": "markdown",
   "metadata": {},
   "source": [
    "### SIR Model\n",
    "\n",
    "En los modelos anteriores, una persona que adopta una tecnologia o adquiere una enfermedad o informacion, nunca la pierde. Si queremos modelar que los individuos puedan abandonar el estado de infectado, usamos otro estado mas, **recuperado/removido**.\n",
    "- S: susceptible\n",
    "- I: infectado/informado\n",
    "- R: recuperado/removido\n",
    "\n",
    "Asumimos que los que se recuperan vuelven a entrar a los susceptibles.\n",
    "\n",
    "#### $$I_{t+1}=I_t + [P_{contact}*P_{spread}*\\frac{I_t}{N}*S_t] - [P_{recover}*I_t]$$\n",
    "\n",
    "El modelo SIR produce un **tipping point** conocido como **basic reproduction number, $R_0$ (numero basico de reproduccion)**: el ratio de la probabilidad de contacto y de espread con la probabilidad de recuperacion:\n",
    "#### $$R_0 = \\frac{P_{contact}*P_{spread}}{P_{recover}}$$\n",
    "\n",
    "Si es >1, se puede expandir a la poblacion. Si es <1, se disipan. En este modelo, **no debe expandirse a toda la poblacion necesariamente**. Si lo hace o no, depende de $R_0$. Las medidas que se toman son para reducir esta metrica. Por ejemplo se puede vacunar. No es necesario vacunar a todos. Lo necesario es que la proporcion de vacunados, $V>= \\frac{R_0-1}{R_0}$. Si $R_0$ es mayor, se necesita una proporcion de vacunados mayor.\n"
   ]
  },
  {
   "cell_type": "code",
   "execution_count": 342,
   "metadata": {},
   "outputs": [
    {
     "data": {
      "text/html": [
       "<div>\n",
       "<style scoped>\n",
       "    .dataframe tbody tr th:only-of-type {\n",
       "        vertical-align: middle;\n",
       "    }\n",
       "\n",
       "    .dataframe tbody tr th {\n",
       "        vertical-align: top;\n",
       "    }\n",
       "\n",
       "    .dataframe thead th {\n",
       "        text-align: right;\n",
       "    }\n",
       "</style>\n",
       "<table border=\"1\" class=\"dataframe\">\n",
       "  <thead>\n",
       "    <tr style=\"text-align: right;\">\n",
       "      <th></th>\n",
       "      <th>I</th>\n",
       "      <th>R_0</th>\n",
       "      <th>S</th>\n",
       "      <th>t</th>\n",
       "    </tr>\n",
       "  </thead>\n",
       "  <tbody>\n",
       "    <tr>\n",
       "      <th>0</th>\n",
       "      <td>1.000000</td>\n",
       "      <td>3.6</td>\n",
       "      <td>1000000.000000</td>\n",
       "      <td>1.0</td>\n",
       "    </tr>\n",
       "    <tr>\n",
       "      <th>1</th>\n",
       "      <td>1.000000</td>\n",
       "      <td>3.6</td>\n",
       "      <td>1000000.000000</td>\n",
       "      <td>2.0</td>\n",
       "    </tr>\n",
       "    <tr>\n",
       "      <th>2</th>\n",
       "      <td>1.260000</td>\n",
       "      <td>3.6</td>\n",
       "      <td>999998.740000</td>\n",
       "      <td>3.0</td>\n",
       "    </tr>\n",
       "    <tr>\n",
       "      <th>3</th>\n",
       "      <td>1.587599</td>\n",
       "      <td>3.6</td>\n",
       "      <td>999998.412401</td>\n",
       "      <td>4.0</td>\n",
       "    </tr>\n",
       "    <tr>\n",
       "      <th>4</th>\n",
       "      <td>2.000374</td>\n",
       "      <td>3.6</td>\n",
       "      <td>999997.999626</td>\n",
       "      <td>5.0</td>\n",
       "    </tr>\n",
       "  </tbody>\n",
       "</table>\n",
       "</div>"
      ],
      "text/plain": [
       "          I  R_0               S    t\n",
       "0  1.000000  3.6  1000000.000000  1.0\n",
       "1  1.000000  3.6  1000000.000000  2.0\n",
       "2  1.260000  3.6   999998.740000  3.0\n",
       "3  1.587599  3.6   999998.412401  4.0\n",
       "4  2.000374  3.6   999997.999626  5.0"
      ]
     },
     "execution_count": 342,
     "metadata": {},
     "output_type": "execute_result"
    }
   ],
   "source": [
    "t= np.arange(1,150,1)\n",
    "N= 1000000\n",
    "\n",
    "p_con= 0.6\n",
    "p_spr= 0.6\n",
    "p_rec= 0.1\n",
    "df= pd.DataFrame({'t':t})\n",
    "df['I']= 1\n",
    "df['S']= N\n",
    "df['R_0']= p_con*p_spr/p_rec\n",
    "for i in t:\n",
    "    df.loc[i+1,'I']= df.loc[i,'I'] + [p_con*p_spr*df.loc[i,'I']/N*df.loc[i,'S']] - [p_rec*df.loc[i,'I']] \n",
    "    df.loc[i+1,'S']= N-df.loc[i+1,'I']\n",
    "\n",
    "\n",
    "p_con= 0.6\n",
    "p_spr= 0.9\n",
    "p_rec= 0.4\n",
    "df2= pd.DataFrame({'t':t})\n",
    "df2['I']= 1\n",
    "df2['S']= N\n",
    "df2['R_0']= p_con*p_spr/p_rec\n",
    "for i in t:\n",
    "    df2.loc[i+1,'I']= df2.loc[i,'I'] + [p_con*p_spr*df2.loc[i,'I']/N*df2.loc[i,'S']] - [p_rec*df2.loc[i,'I']] \n",
    "    df2.loc[i+1,'S']= N-df2.loc[i+1,'I']\n",
    "\n",
    "p_con= 0.6\n",
    "p_spr= 0.4\n",
    "p_rec= 0.4\n",
    "df3= pd.DataFrame({'t':t})\n",
    "df3['I']= 1\n",
    "df3['S']= N\n",
    "df3['R_0']= p_con*p_spr/p_rec\n",
    "for i in t:\n",
    "    df3.loc[i+1,'I']= df3.loc[i,'I'] + [p_con*p_spr*df3.loc[i,'I']/N*df3.loc[i,'S']] - [p_rec*df3.loc[i,'I']] \n",
    "    df3.loc[i+1,'S']= N-df3.loc[i+1,'I']    \n",
    "\n",
    "df= pd.concat([df,df2,df3],sort=True)\n",
    "df= df.dropna().reset_index(drop=True)\n",
    "df.head()"
   ]
  },
  {
   "cell_type": "code",
   "execution_count": 343,
   "metadata": {},
   "outputs": [
    {
     "data": {
      "image/svg+xml": [
       "<svg class=\"main-svg\" xmlns=\"http://www.w3.org/2000/svg\" xmlns:xlink=\"http://www.w3.org/1999/xlink\" width=\"700\" height=\"450\" style=\"\" viewBox=\"0 0 700 450\"><rect x=\"0\" y=\"0\" width=\"700\" height=\"450\" style=\"fill: rgb(255, 255, 255); fill-opacity: 1;\"/><defs id=\"defs-b72cdc\"><g class=\"clips\"><clipPath id=\"clipb72cdcxyplot\" class=\"plotclip\"><rect width=\"379.26\" height=\"310\"/></clipPath><clipPath class=\"axesclip\" id=\"clipb72cdcx\"><rect x=\"80\" y=\"0\" width=\"379.26\" height=\"450\"/></clipPath><clipPath class=\"axesclip\" id=\"clipb72cdcy\"><rect x=\"0\" y=\"60\" width=\"700\" height=\"310\"/></clipPath><clipPath class=\"axesclip\" id=\"clipb72cdcxy\"><rect x=\"80\" y=\"60\" width=\"379.26\" height=\"310\"/></clipPath></g><g class=\"gradients\"/></defs><g class=\"bglayer\"><rect class=\"bg\" x=\"80\" y=\"60\" width=\"379.26\" height=\"310\" style=\"fill: rgb(229, 236, 246); fill-opacity: 1; stroke-width: 0;\"/></g><g class=\"layer-below\"><g class=\"imagelayer\"/><g class=\"shapelayer\"/></g><g class=\"cartesianlayer\"><g class=\"subplot xy\"><g class=\"layer-subplot\"><g class=\"shapelayer\"/><g class=\"imagelayer\"/></g><g class=\"gridlayer\"><g class=\"x\"><path class=\"xgrid crisp\" transform=\"translate(205.57,0)\" d=\"M0,60v310\" style=\"stroke: rgb(255, 255, 255); stroke-opacity: 1; stroke-width: 1px;\"/><path class=\"xgrid crisp\" transform=\"translate(333.69,0)\" d=\"M0,60v310\" style=\"stroke: rgb(255, 255, 255); stroke-opacity: 1; stroke-width: 1px;\"/></g><g class=\"y\"><path class=\"ygrid crisp\" transform=\"translate(0,315.87)\" d=\"M80,0h379.26\" style=\"stroke: rgb(255, 255, 255); stroke-opacity: 1; stroke-width: 1px;\"/><path class=\"ygrid crisp\" transform=\"translate(0,277.24)\" d=\"M80,0h379.26\" style=\"stroke: rgb(255, 255, 255); stroke-opacity: 1; stroke-width: 1px;\"/><path class=\"ygrid crisp\" transform=\"translate(0,238.61)\" d=\"M80,0h379.26\" style=\"stroke: rgb(255, 255, 255); stroke-opacity: 1; stroke-width: 1px;\"/><path class=\"ygrid crisp\" transform=\"translate(0,199.98)\" d=\"M80,0h379.26\" style=\"stroke: rgb(255, 255, 255); stroke-opacity: 1; stroke-width: 1px;\"/><path class=\"ygrid crisp\" transform=\"translate(0,161.35)\" d=\"M80,0h379.26\" style=\"stroke: rgb(255, 255, 255); stroke-opacity: 1; stroke-width: 1px;\"/><path class=\"ygrid crisp\" transform=\"translate(0,122.72)\" d=\"M80,0h379.26\" style=\"stroke: rgb(255, 255, 255); stroke-opacity: 1; stroke-width: 1px;\"/><path class=\"ygrid crisp\" transform=\"translate(0,84.08)\" d=\"M80,0h379.26\" style=\"stroke: rgb(255, 255, 255); stroke-opacity: 1; stroke-width: 1px;\"/></g></g><g class=\"zerolinelayer\"><path class=\"yzl zl crisp\" transform=\"translate(0,354.5)\" d=\"M80,0h379.26\" style=\"stroke: rgb(255, 255, 255); stroke-opacity: 1; stroke-width: 2px;\"/></g><path class=\"xlines-below\"/><path class=\"ylines-below\"/><g class=\"overlines-below\"/><g class=\"xaxislayer-below\"/><g class=\"yaxislayer-below\"/><g class=\"overaxes-below\"/><g class=\"plot\" transform=\"translate(80, 60)\" clip-path=\"url('#clipb72cdcxyplot')\"><g class=\"scatterlayer mlayer\"><g class=\"trace scatter tracecc2f36\" style=\"stroke-miterlimit: 2; opacity: 1;\"><g class=\"fills\"/><g class=\"errorbars\"/><g class=\"lines\"><path class=\"js-line\" d=\"M0,294.5L84.56,293.87L87.13,293.71L99.94,292L102.5,291.36L110.19,288.27L112.75,286.68L117.88,282.25L120.44,279.2L125.57,270.83L128.13,265.2L133.25,250.2L135.82,240.52L140.94,216.19L143.5,201.55L151.19,150.18L153.75,132.07L161.44,82.74L164,69.47L169.13,48.76L171.69,41.14L176.82,30.35L179.38,26.7L184.5,21.78L187.07,20.19L192.19,18.09L194.76,17.42L205.01,16.08L207.57,15.93L233.19,15.52L235.76,15.52L379.26,15.5\" style=\"vector-effect: non-scaling-stroke; fill: none; stroke: rgb(99, 110, 250); stroke-opacity: 1; stroke-width: 2px; opacity: 1;\"/></g><g class=\"points\"/><g class=\"text\"/></g><g class=\"trace scatter trace9c8f82\" style=\"stroke-miterlimit: 2; opacity: 1;\"><g class=\"fills\"/><g class=\"errorbars\"/><g class=\"lines\"><path class=\"js-line\" d=\"M0,294.5L148.63,293.83L151.19,293.73L171.69,292.34L174.25,292.04L187.07,289.87L189.63,289.25L199.88,285.9L202.44,284.8L210.13,280.7L212.69,279.04L220.38,273.02L222.94,270.66L230.63,262.51L233.19,259.46L246.01,242.59L248.57,239.09L261.38,222.74L263.94,219.89L271.63,212.48L274.19,210.4L281.88,205.28L284.45,203.92L294.7,199.86L297.26,199.13L310.07,196.66L312.63,196.35L330.57,195.05L333.13,194.95L374.13,194.4L376.7,194.39L379.26,194.39\" style=\"vector-effect: non-scaling-stroke; fill: none; stroke: rgb(239, 85, 59); stroke-opacity: 1; stroke-width: 2px; opacity: 1;\"/></g><g class=\"points\"/><g class=\"text\"/></g><g class=\"trace scatter trace9ee64e\" style=\"stroke-miterlimit: 2; opacity: 1;\"><g class=\"fills\"/><g class=\"errorbars\"/><g class=\"lines\"><path class=\"js-line\" d=\"M0,294.5L379.26,294.5\" style=\"vector-effect: non-scaling-stroke; fill: none; stroke: rgb(0, 204, 150); stroke-opacity: 1; stroke-width: 2px; opacity: 1;\"/></g><g class=\"points\"/><g class=\"text\"/></g></g></g><g class=\"overplot\"/><path class=\"xlines-above crisp\" d=\"M0,0\" style=\"fill: none;\"/><path class=\"ylines-above crisp\" d=\"M0,0\" style=\"fill: none;\"/><g class=\"overlines-above\"/><g class=\"xaxislayer-above\"><g class=\"xtick\"><text text-anchor=\"middle\" x=\"0\" y=\"383\" transform=\"translate(205.57,0)\" style=\"font-family: 'Open Sans', verdana, arial, sans-serif; font-size: 12px; fill: rgb(42, 63, 95); fill-opacity: 1; white-space: pre;\">50</text></g><g class=\"xtick\"><text text-anchor=\"middle\" x=\"0\" y=\"383\" transform=\"translate(333.69,0)\" style=\"font-family: 'Open Sans', verdana, arial, sans-serif; font-size: 12px; fill: rgb(42, 63, 95); fill-opacity: 1; white-space: pre;\">100</text></g></g><g class=\"yaxislayer-above\"><g class=\"ytick\"><text text-anchor=\"end\" x=\"79\" y=\"4.199999999999999\" transform=\"translate(0,354.5)\" style=\"font-family: 'Open Sans', verdana, arial, sans-serif; font-size: 12px; fill: rgb(42, 63, 95); fill-opacity: 1; white-space: pre;\">0</text></g><g class=\"ytick\"><text text-anchor=\"end\" x=\"79\" y=\"4.199999999999999\" transform=\"translate(0,315.87)\" style=\"font-family: 'Open Sans', verdana, arial, sans-serif; font-size: 12px; fill: rgb(42, 63, 95); fill-opacity: 1; white-space: pre;\">100k</text></g><g class=\"ytick\"><text text-anchor=\"end\" x=\"79\" y=\"4.199999999999999\" transform=\"translate(0,277.24)\" style=\"font-family: 'Open Sans', verdana, arial, sans-serif; font-size: 12px; fill: rgb(42, 63, 95); fill-opacity: 1; white-space: pre;\">200k</text></g><g class=\"ytick\"><text text-anchor=\"end\" x=\"79\" y=\"4.199999999999999\" transform=\"translate(0,238.61)\" style=\"font-family: 'Open Sans', verdana, arial, sans-serif; font-size: 12px; fill: rgb(42, 63, 95); fill-opacity: 1; white-space: pre;\">300k</text></g><g class=\"ytick\"><text text-anchor=\"end\" x=\"79\" y=\"4.199999999999999\" transform=\"translate(0,199.98)\" style=\"font-family: 'Open Sans', verdana, arial, sans-serif; font-size: 12px; fill: rgb(42, 63, 95); fill-opacity: 1; white-space: pre;\">400k</text></g><g class=\"ytick\"><text text-anchor=\"end\" x=\"79\" y=\"4.199999999999999\" transform=\"translate(0,161.35)\" style=\"font-family: 'Open Sans', verdana, arial, sans-serif; font-size: 12px; fill: rgb(42, 63, 95); fill-opacity: 1; white-space: pre;\">500k</text></g><g class=\"ytick\"><text text-anchor=\"end\" x=\"79\" y=\"4.199999999999999\" transform=\"translate(0,122.72)\" style=\"font-family: 'Open Sans', verdana, arial, sans-serif; font-size: 12px; fill: rgb(42, 63, 95); fill-opacity: 1; white-space: pre;\">600k</text></g><g class=\"ytick\"><text text-anchor=\"end\" x=\"79\" y=\"4.199999999999999\" transform=\"translate(0,84.08)\" style=\"font-family: 'Open Sans', verdana, arial, sans-serif; font-size: 12px; fill: rgb(42, 63, 95); fill-opacity: 1; white-space: pre;\">700k</text></g></g><g class=\"overaxes-above\"/></g></g><g class=\"polarlayer\"/><g class=\"ternarylayer\"/><g class=\"geolayer\"/><g class=\"funnelarealayer\"/><g class=\"pielayer\"/><g class=\"sunburstlayer\"/><g class=\"glimages\"/><defs id=\"topdefs-b72cdc\"><g class=\"clips\"/><clipPath id=\"legendb72cdc\"><rect width=\"213\" height=\"67\" x=\"0\" y=\"0\"/></clipPath></defs><g class=\"layer-above\"><g class=\"imagelayer\"/><g class=\"shapelayer\"/></g><g class=\"infolayer\"><g class=\"legend\" pointer-events=\"all\" transform=\"translate(474.74, 60)\"><rect class=\"bg\" shape-rendering=\"crispEdges\" width=\"213\" height=\"67\" x=\"0\" y=\"0\" style=\"stroke: rgb(68, 68, 68); stroke-opacity: 1; fill: rgb(255, 255, 255); fill-opacity: 1; stroke-width: 0px;\"/><g class=\"scrollbox\" transform=\"translate(0, 0)\" clip-path=\"url('#legendb72cdc')\"><g class=\"groups\" transform=\"translate(0, 0)\"><g class=\"traces\" transform=\"translate(0, 14.5)\" style=\"opacity: 1;\"><text class=\"legendtext user-select-none\" text-anchor=\"start\" x=\"40\" y=\"4.680000000000001\" style=\"font-family: 'Open Sans', verdana, arial, sans-serif; font-size: 12px; fill: rgb(42, 63, 95); fill-opacity: 1; white-space: pre;\">R_0=3.5999999999999996</text><g class=\"layers\" style=\"opacity: 1;\"><g class=\"legendfill\"/><g class=\"legendlines\"><path class=\"js-line\" d=\"M5,0h30\" style=\"fill: none; stroke: rgb(99, 110, 250); stroke-opacity: 1; stroke-width: 2px;\"/></g><g class=\"legendsymbols\"><g class=\"legendpoints\"/></g></g><rect class=\"legendtoggle\" pointer-events=\"all\" x=\"0\" y=\"-9.5\" width=\"253\" height=\"19\" style=\"cursor: pointer; fill: rgb(0, 0, 0); fill-opacity: 0;\"/></g></g><g class=\"groups\" transform=\"translate(0, 0)\"><g class=\"traces\" transform=\"translate(0, 33.5)\" style=\"opacity: 1;\"><text class=\"legendtext user-select-none\" text-anchor=\"start\" x=\"40\" y=\"4.680000000000001\" style=\"font-family: 'Open Sans', verdana, arial, sans-serif; font-size: 12px; fill: rgb(42, 63, 95); fill-opacity: 1; white-space: pre;\">R_0=1.35</text><g class=\"layers\" style=\"opacity: 1;\"><g class=\"legendfill\"/><g class=\"legendlines\"><path class=\"js-line\" d=\"M5,0h30\" style=\"fill: none; stroke: rgb(239, 85, 59); stroke-opacity: 1; stroke-width: 2px;\"/></g><g class=\"legendsymbols\"><g class=\"legendpoints\"/></g></g><rect class=\"legendtoggle\" pointer-events=\"all\" x=\"0\" y=\"-9.5\" width=\"253\" height=\"19\" style=\"cursor: pointer; fill: rgb(0, 0, 0); fill-opacity: 0;\"/></g></g><g class=\"groups\" transform=\"translate(0, 0)\"><g class=\"traces\" transform=\"translate(0, 52.5)\" style=\"opacity: 1;\"><text class=\"legendtext user-select-none\" text-anchor=\"start\" x=\"40\" y=\"4.680000000000001\" style=\"font-family: 'Open Sans', verdana, arial, sans-serif; font-size: 12px; fill: rgb(42, 63, 95); fill-opacity: 1; white-space: pre;\">R_0=0.6</text><g class=\"layers\" style=\"opacity: 1;\"><g class=\"legendfill\"/><g class=\"legendlines\"><path class=\"js-line\" d=\"M5,0h30\" style=\"fill: none; stroke: rgb(0, 204, 150); stroke-opacity: 1; stroke-width: 2px;\"/></g><g class=\"legendsymbols\"><g class=\"legendpoints\"/></g></g><rect class=\"legendtoggle\" pointer-events=\"all\" x=\"0\" y=\"-9.5\" width=\"253\" height=\"19\" style=\"cursor: pointer; fill: rgb(0, 0, 0); fill-opacity: 0;\"/></g></g></g><rect class=\"scrollbar\" rx=\"20\" ry=\"3\" width=\"0\" height=\"0\" x=\"0\" y=\"0\" style=\"fill: rgb(128, 139, 164); fill-opacity: 1;\"/></g><g class=\"g-gtitle\"/><g class=\"g-xtitle\"><text class=\"xtitle\" x=\"269.63\" y=\"422\" text-anchor=\"middle\" style=\"font-family: 'Open Sans', verdana, arial, sans-serif; font-size: 14px; fill: rgb(42, 63, 95); opacity: 1; font-weight: normal; white-space: pre;\">t</text></g><g class=\"g-ytitle\"><text class=\"ytitle\" transform=\"rotate(-90,42,215)\" x=\"42\" y=\"215\" text-anchor=\"middle\" style=\"font-family: 'Open Sans', verdana, arial, sans-serif; font-size: 14px; fill: rgb(42, 63, 95); opacity: 1; font-weight: normal; white-space: pre;\">I</text></g></g></svg>"
      ]
     },
     "metadata": {},
     "output_type": "display_data"
    }
   ],
   "source": [
    "fig= px.line(df,x='t',y='I',color='R_0', height=400,width=600)\n",
    "fig.show(renderer=\"svg\")"
   ]
  },
  {
   "cell_type": "markdown",
   "metadata": {},
   "source": [
    "#### SIR en networks\n",
    "\n",
    "El SIR comun asume random mixing. Si metemos el modelo en una red, vemos la importancia de la distribucion de grados en la transmision. En un **hub-and-spoke network**, hay ciertos individuos muy conectados. De esta forma, si un hub esta infectado, puede infectar a todos los demas en muy poco tiempo. Incluso si lo tiene otro, se lo va a pasar al hub y este va a infectar a los demas. Para este caso, el $R_0$ no tiene tanta importancia. El **hub es un superspreader**. Si el hub tiene mucho betweenness (conecta con muchas comunidades) puede transmitirlo muy rapido a mucha gente. \n",
    "\n",
    "El superspreader/hub tiene mas chances que los demas de pasarlo pero tambien de adquirirlo, por eso **su contribucion es el cuadrado del grado del nodo**.\n",
    "\n",
    "Los tipping points son muy importantes: hacer un producto un poquito mejor puede empujar la transmision (con el $R_0$) y que se expanda mucho. Hay otros casos donde algo es tan bueno que el $R_0$ esta muy por encima de 1. Justin Bieber tenia un $R_0=24$. Estos tipping points son contextuales: pueden ir cambiando con el contexto... no es que pequeñas decisiones marquen para siempre el camino del sistema (direct tipping points). Estos ultimos ocurren cuando hay situaciones inestables.\n",
    "\n",
    "En otros casos, esto no es realista, ya que la probabilidad de contagio no varia segun la cantidad de gente que lo tenga, algo que si puede pasar en por ejemplo contextos sociales, donde el contagio se hace mas probablecon mas exposicion, ya que el contagio es una opcion. Lo mismo para pertenecer a un movimiento social, etc. En esos casos, $P_{spread}$ podria variar en funcion de otras cosas."
   ]
  },
  {
   "cell_type": "code",
   "execution_count": null,
   "metadata": {},
   "outputs": [],
   "source": []
  },
  {
   "cell_type": "markdown",
   "metadata": {},
   "source": [
    "## 12. Entropy: Modeling Uncertainty"
   ]
  },
  {
   "cell_type": "code",
   "execution_count": null,
   "metadata": {},
   "outputs": [],
   "source": []
  },
  {
   "cell_type": "code",
   "execution_count": null,
   "metadata": {},
   "outputs": [],
   "source": []
  }
 ],
 "metadata": {
  "kernelspec": {
   "display_name": "Python 3",
   "language": "python",
   "name": "python3"
  },
  "language_info": {
   "codemirror_mode": {
    "name": "ipython",
    "version": 3
   },
   "file_extension": ".py",
   "mimetype": "text/x-python",
   "name": "python",
   "nbconvert_exporter": "python",
   "pygments_lexer": "ipython3",
   "version": "3.7.2"
  }
 },
 "nbformat": 4,
 "nbformat_minor": 2
}
