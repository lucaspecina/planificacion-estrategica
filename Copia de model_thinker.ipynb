{
 "cells": [
  {
   "cell_type": "markdown",
   "metadata": {},
   "source": [
    "# The model thinker - Scott E. Page\n",
    "\n",
    "https://www.coursera.org/learn/model-thinking/home/welcome\n",
    "\n",
    "https://www.math.ubc.ca/~pwalls/math-python/jupyter/latex/ LaTeX"
   ]
  },
  {
   "cell_type": "code",
   "execution_count": 2,
   "metadata": {},
   "outputs": [],
   "source": [
    "import numpy as np\n",
    "import pandas as pd\n",
    "import matplotlib.pyplot as plt\n",
    "import seaborn as sns\n",
    "import plotly.express as px\n",
    "import sympy as sp\n",
    "sp.init_printing()\n",
    "import networkx as nx"
   ]
  },
  {
   "cell_type": "markdown",
   "metadata": {},
   "source": [
    "## 11. Broadcast, Diffusion, and Contagion\n",
    "\n",
    "Se modela el spread (esparcimiento) de informacion, tecnologias, comportamientos, creencias y enfermedades a traves de una poblacion, usando modelos de transmision, difusion y contagio. Estos modelos juegan un rol fundamental en la comunicacion, el marketing y la epidemiologia. \n",
    "\n",
    "Estos modelos **particionan la poblacion entre los que saben/tienen y los que no. Con el tiempo, los individuos se mueven entre los grupos/estados**.\n",
    "\n",
    "**Curva de adopcion**: plot empirico sobre la cantidad de individuos que pasan al estado \"activo\". Suele ser concavo o con forma de S. Depende de la forma en la que la gente pasa a ese estado (por broadcast o difusion).\n",
    "\n",
    "> **Broadcasting (transmision):** cuando la gente escucha una idea o se agarra una enfermedad **desde una unica fuente**. Produce plots con forma de r.\n",
    "\n",
    "> **Diffussion (difusion):** cuando la gente lo hace mediante el contacto, se va **pasando de persona a persona**. Produce plots con forma de S.\n",
    "\n",
    "> **Bass model:** se expanden por ambas **(broadcasting y diffussion)**. La forma del plot depende del peso que tenga cada mecanismo de expansion.\n",
    "\n",
    "> **SIR (contagio):** incluye una tasa de recuperacion, puede ser el sistema inmune, que algo pase de moda, que algo se pierda, baje su caildad, informacion perdiendo su valor, etc. El modelo produce un **tipping point**, donde cambios pequeños en los atributos produce el exito o el fracaso (como por ejemplo un pequeño cambio en la probabilidad de que se comente sobre un nuevo lugar puede terminar en una gran diferencia de marketing a favor."
   ]
  },
  {
   "cell_type": "markdown",
   "metadata": {},
   "source": [
    "#### Links:\n",
    "\n",
    "Notebook NetworkX\n",
    "https://www.youtube.com/watch?v=gxAaO2rsdIs&t=701s 3b1b\n",
    "https://www.youtube.com/watch?v=sPeMBB7qkmI&feature=emb_logo pablo groisman\n",
    "https://towardsdatascience.com/random-walks-with-python-8420981bc4bc random walk 2d"
   ]
  },
  {
   "cell_type": "markdown",
   "metadata": {},
   "source": [
    "### Broadcast Model\n",
    "\n",
    "Hay una poblacion $N$, en cada momento $t$, una cantidad de esa poblacion sabe la info/tiene la enfermedad, $I_t$. El resto de la poblacion son susceptibles de adquirirlo, $S_t$. $N=I_t+S_t$. Para saber **la cantidad de gente que va a estar infectada en t+1, $I_{t+1}$.**:\n",
    "\n",
    "#### $$I_{t+1} = I_{t} + P_{broad} * S_{t}$$\n",
    "\n",
    "$P_{broad}$ es la probabilidad de la transmision (puede ser la probabilidad de que una persona escuche una noticia por television o que tome un agua que esta contaminada).\n",
    "\n",
    "Captra la transmision de ideas, rumores, informacion, tecnologia mediante medios como la tele, radio, internet. Una fuente, como el gobierno, una empresa o diario expande la informacion. O contaminacion por una fuente de agua. **No se aplica a los que se contagia de persona a persona**.\n"
   ]
  },
  {
   "cell_type": "markdown",
   "metadata": {},
   "source": [
    "#### Calculandolo secuencialmente"
   ]
  },
  {
   "cell_type": "code",
   "execution_count": 148,
   "metadata": {},
   "outputs": [],
   "source": [
    "t= np.arange(1,20,1)\n",
    "p= 0.15\n",
    "s=1000000\n",
    "\n",
    "df= pd.DataFrame({'t':t})\n",
    "df['I']= 0\n",
    "df['S']= 1000000\n",
    "df['p']=p\n",
    "\n",
    "for i in t:\n",
    "    df.loc[i,'I']= df.loc[i-1,'I'] + p * df.loc[i-1,'S']\n",
    "    df.loc[i,'S']= 1000000-df.loc[i,'I']\n",
    "\n",
    "t= np.arange(1,20,1)\n",
    "p= 0.05\n",
    "s=1000000\n",
    "\n",
    "df2= pd.DataFrame({'t':t})\n",
    "df2['I']= 0\n",
    "df2['S']= 1000000\n",
    "df2['p']=p\n",
    "\n",
    "for i in t:\n",
    "    df2.loc[i,'I']= df2.loc[i-1,'I'] + p * df2.loc[i-1,'S']\n",
    "    df2.loc[i,'S']= 1000000-df2.loc[i,'I']\n",
    "    \n",
    "t= np.arange(1,20,1)\n",
    "p= 0.01\n",
    "s=1000000\n",
    "\n",
    "df3= pd.DataFrame({'t':t})\n",
    "df3['I']= 0\n",
    "df3['S']= 1000000\n",
    "df3['p']=p\n",
    "\n",
    "for i in t:\n",
    "    df3.loc[i,'I']= df3.loc[i-1,'I'] + p * df3.loc[i-1,'S']\n",
    "    df3.loc[i,'S']= 1000000-df3.loc[i,'I']\n",
    "\n",
    "t= np.arange(1,20,1)\n",
    "p= 0.25\n",
    "s=1000000\n",
    "\n",
    "df4= pd.DataFrame({'t':t})\n",
    "df4['I']= 0\n",
    "df4['S']= 1000000\n",
    "df4['p']=p\n",
    "\n",
    "for i in t:\n",
    "    df4.loc[i,'I']= df4.loc[i-1,'I'] + p * df4.loc[i-1,'S']\n",
    "    df4.loc[i,'S']= 1000000-df4.loc[i,'I']\n",
    "    \n",
    "df= pd.concat([df,df2,df3,df4])\n",
    "df= df.dropna().reset_index(drop=True)"
   ]
  },
  {
   "cell_type": "code",
   "execution_count": 149,
   "metadata": {},
   "outputs": [],
   "source": [
    "df= df.melt(id_vars=['t','p'], value_vars=['I','S'] ,var_name='Estado')"
   ]
  },
  {
   "cell_type": "code",
   "execution_count": 153,
   "metadata": {},
   "outputs": [
    {
     "data": {
      "application/vnd.plotly.v1+json": {
       "config": {
        "plotlyServerURL": "https://plot.ly"
       },
       "data": [
        {
         "hoverlabel": {
          "namelength": 0
         },
         "hovertemplate": "p=0.15<br>Estado=I<br>t=%{x}<br>value=%{y}",
         "legendgroup": "p=0.15",
         "line": {
          "color": "#636efa",
          "dash": "solid"
         },
         "mode": "lines",
         "name": "p=0.15",
         "showlegend": true,
         "type": "scatter",
         "x": [
          1,
          2,
          3,
          4,
          5,
          6,
          7,
          8,
          9,
          10,
          11,
          12,
          13,
          14,
          15,
          16,
          17,
          18,
          19
         ],
         "xaxis": "x",
         "y": [
          0,
          150000,
          277500,
          385875,
          477993.75,
          556294.6875,
          622850.484375,
          679422.91171875,
          727509.4749609375,
          768383.0537167969,
          803125.5956592774,
          832656.7563103858,
          857758.2428638279,
          879094.5064342536,
          897230.3304691156,
          912645.7808987483,
          925748.913763936,
          936886.5766993456,
          946353.5901944437
         ],
         "yaxis": "y"
        },
        {
         "hoverlabel": {
          "namelength": 0
         },
         "hovertemplate": "p=0.15<br>Estado=S<br>t=%{x}<br>value=%{y}",
         "legendgroup": "p=0.15",
         "line": {
          "color": "#636efa",
          "dash": "solid"
         },
         "mode": "lines",
         "name": "p=0.15",
         "showlegend": false,
         "type": "scatter",
         "x": [
          1,
          2,
          3,
          4,
          5,
          6,
          7,
          8,
          9,
          10,
          11,
          12,
          13,
          14,
          15,
          16,
          17,
          18,
          19
         ],
         "xaxis": "x2",
         "y": [
          1000000,
          850000,
          722500,
          614125,
          522006.25,
          443705.3125,
          377149.515625,
          320577.08828125,
          272490.5250390625,
          231616.94628320308,
          196874.4043407226,
          167343.24368961423,
          142241.75713617215,
          120905.49356574635,
          102769.66953088436,
          87354.21910125169,
          74251.08623606397,
          63113.423300654395,
          53646.40980555629
         ],
         "yaxis": "y2"
        },
        {
         "hoverlabel": {
          "namelength": 0
         },
         "hovertemplate": "p=0.05<br>Estado=I<br>t=%{x}<br>value=%{y}",
         "legendgroup": "p=0.05",
         "line": {
          "color": "#EF553B",
          "dash": "solid"
         },
         "mode": "lines",
         "name": "p=0.05",
         "showlegend": true,
         "type": "scatter",
         "x": [
          1,
          2,
          3,
          4,
          5,
          6,
          7,
          8,
          9,
          10,
          11,
          12,
          13,
          14,
          15,
          16,
          17,
          18,
          19
         ],
         "xaxis": "x",
         "y": [
          0,
          50000,
          97500,
          142625,
          185493.75,
          226219.0625,
          264908.109375,
          301662.70390625,
          336579.5687109375,
          369750.59027539066,
          401263.0607616211,
          431199.90772354003,
          459639.91233736306,
          486657.9167204949,
          512325.0208844702,
          536708.7698402466,
          559873.3313482343,
          581879.6647808226,
          602785.6815417814
         ],
         "yaxis": "y"
        },
        {
         "hoverlabel": {
          "namelength": 0
         },
         "hovertemplate": "p=0.05<br>Estado=S<br>t=%{x}<br>value=%{y}",
         "legendgroup": "p=0.05",
         "line": {
          "color": "#EF553B",
          "dash": "solid"
         },
         "mode": "lines",
         "name": "p=0.05",
         "showlegend": false,
         "type": "scatter",
         "x": [
          1,
          2,
          3,
          4,
          5,
          6,
          7,
          8,
          9,
          10,
          11,
          12,
          13,
          14,
          15,
          16,
          17,
          18,
          19
         ],
         "xaxis": "x2",
         "y": [
          1000000,
          950000,
          902500,
          857375,
          814506.25,
          773780.9375,
          735091.890625,
          698337.29609375,
          663420.4312890625,
          630249.4097246093,
          598736.9392383789,
          568800.09227646,
          540360.087662637,
          513342.0832795051,
          487674.9791155298,
          463291.23015975335,
          440126.6686517657,
          418120.3352191774,
          397214.3184582186
         ],
         "yaxis": "y2"
        },
        {
         "hoverlabel": {
          "namelength": 0
         },
         "hovertemplate": "p=0.01<br>Estado=I<br>t=%{x}<br>value=%{y}",
         "legendgroup": "p=0.01",
         "line": {
          "color": "#00cc96",
          "dash": "solid"
         },
         "mode": "lines",
         "name": "p=0.01",
         "showlegend": true,
         "type": "scatter",
         "x": [
          1,
          2,
          3,
          4,
          5,
          6,
          7,
          8,
          9,
          10,
          11,
          12,
          13,
          14,
          15,
          16,
          17,
          18,
          19
         ],
         "xaxis": "x",
         "y": [
          0,
          10000,
          19900,
          29701,
          39403.99,
          49009.9501,
          58519.850599,
          67934.65209301,
          77255.3055720799,
          86482.7525163591,
          95617.92499119551,
          104661.74574128355,
          113615.12828387071,
          122478.977001032,
          131254.1872310217,
          139941.64535871148,
          148542.22890512436,
          157056.80661607313,
          165486.2385499124
         ],
         "yaxis": "y"
        },
        {
         "hoverlabel": {
          "namelength": 0
         },
         "hovertemplate": "p=0.01<br>Estado=S<br>t=%{x}<br>value=%{y}",
         "legendgroup": "p=0.01",
         "line": {
          "color": "#00cc96",
          "dash": "solid"
         },
         "mode": "lines",
         "name": "p=0.01",
         "showlegend": false,
         "type": "scatter",
         "x": [
          1,
          2,
          3,
          4,
          5,
          6,
          7,
          8,
          9,
          10,
          11,
          12,
          13,
          14,
          15,
          16,
          17,
          18,
          19
         ],
         "xaxis": "x2",
         "y": [
          1000000,
          990000,
          980100,
          970299,
          960596.01,
          950990.0499,
          941480.149401,
          932065.34790699,
          922744.69442792,
          913517.2474836409,
          904382.0750088044,
          895338.2542587165,
          886384.8717161292,
          877521.022998968,
          868745.8127689783,
          860058.3546412885,
          851457.7710948756,
          842943.1933839269,
          834513.7614500877
         ],
         "yaxis": "y2"
        },
        {
         "hoverlabel": {
          "namelength": 0
         },
         "hovertemplate": "p=0.25<br>Estado=I<br>t=%{x}<br>value=%{y}",
         "legendgroup": "p=0.25",
         "line": {
          "color": "#ab63fa",
          "dash": "solid"
         },
         "mode": "lines",
         "name": "p=0.25",
         "showlegend": true,
         "type": "scatter",
         "x": [
          1,
          2,
          3,
          4,
          5,
          6,
          7,
          8,
          9,
          10,
          11,
          12,
          13,
          14,
          15,
          16,
          17,
          18,
          19
         ],
         "xaxis": "x",
         "y": [
          0,
          250000,
          437500,
          578125,
          683593.75,
          762695.3125,
          822021.484375,
          866516.11328125,
          899887.0849609375,
          924915.3137207031,
          943686.4852905273,
          957764.8639678955,
          968323.6479759216,
          976242.7359819412,
          982182.0519864559,
          986636.5389898419,
          989977.4042423815,
          992483.0531817861,
          994362.2898863396
         ],
         "yaxis": "y"
        },
        {
         "hoverlabel": {
          "namelength": 0
         },
         "hovertemplate": "p=0.25<br>Estado=S<br>t=%{x}<br>value=%{y}",
         "legendgroup": "p=0.25",
         "line": {
          "color": "#ab63fa",
          "dash": "solid"
         },
         "mode": "lines",
         "name": "p=0.25",
         "showlegend": false,
         "type": "scatter",
         "x": [
          1,
          2,
          3,
          4,
          5,
          6,
          7,
          8,
          9,
          10,
          11,
          12,
          13,
          14,
          15,
          16,
          17,
          18,
          19
         ],
         "xaxis": "x2",
         "y": [
          1000000,
          750000,
          562500,
          421875,
          316406.25,
          237304.6875,
          177978.515625,
          133483.88671875,
          100112.9150390625,
          75084.68627929688,
          56313.514709472656,
          42235.13603210449,
          31676.35202407837,
          23757.264018058777,
          17817.948013544083,
          13363.461010158062,
          10022.595757618546,
          7516.94681821391,
          5637.710113660432
         ],
         "yaxis": "y2"
        }
       ],
       "layout": {
        "annotations": [
         {
          "font": {},
          "showarrow": false,
          "text": "Estado=I",
          "x": 0.24,
          "xanchor": "center",
          "xref": "paper",
          "y": 1,
          "yanchor": "bottom",
          "yref": "paper"
         },
         {
          "font": {},
          "showarrow": false,
          "text": "Estado=S",
          "x": 0.74,
          "xanchor": "center",
          "xref": "paper",
          "y": 1,
          "yanchor": "bottom",
          "yref": "paper"
         }
        ],
        "height": 400,
        "legend": {
         "tracegroupgap": 0
        },
        "margin": {
         "t": 60
        },
        "template": {
         "data": {
          "bar": [
           {
            "error_x": {
             "color": "#2a3f5f"
            },
            "error_y": {
             "color": "#2a3f5f"
            },
            "marker": {
             "line": {
              "color": "#E5ECF6",
              "width": 0.5
             }
            },
            "type": "bar"
           }
          ],
          "barpolar": [
           {
            "marker": {
             "line": {
              "color": "#E5ECF6",
              "width": 0.5
             }
            },
            "type": "barpolar"
           }
          ],
          "carpet": [
           {
            "aaxis": {
             "endlinecolor": "#2a3f5f",
             "gridcolor": "white",
             "linecolor": "white",
             "minorgridcolor": "white",
             "startlinecolor": "#2a3f5f"
            },
            "baxis": {
             "endlinecolor": "#2a3f5f",
             "gridcolor": "white",
             "linecolor": "white",
             "minorgridcolor": "white",
             "startlinecolor": "#2a3f5f"
            },
            "type": "carpet"
           }
          ],
          "choropleth": [
           {
            "colorbar": {
             "outlinewidth": 0,
             "ticks": ""
            },
            "type": "choropleth"
           }
          ],
          "contour": [
           {
            "colorbar": {
             "outlinewidth": 0,
             "ticks": ""
            },
            "colorscale": [
             [
              0,
              "#0d0887"
             ],
             [
              0.1111111111111111,
              "#46039f"
             ],
             [
              0.2222222222222222,
              "#7201a8"
             ],
             [
              0.3333333333333333,
              "#9c179e"
             ],
             [
              0.4444444444444444,
              "#bd3786"
             ],
             [
              0.5555555555555556,
              "#d8576b"
             ],
             [
              0.6666666666666666,
              "#ed7953"
             ],
             [
              0.7777777777777778,
              "#fb9f3a"
             ],
             [
              0.8888888888888888,
              "#fdca26"
             ],
             [
              1,
              "#f0f921"
             ]
            ],
            "type": "contour"
           }
          ],
          "contourcarpet": [
           {
            "colorbar": {
             "outlinewidth": 0,
             "ticks": ""
            },
            "type": "contourcarpet"
           }
          ],
          "heatmap": [
           {
            "colorbar": {
             "outlinewidth": 0,
             "ticks": ""
            },
            "colorscale": [
             [
              0,
              "#0d0887"
             ],
             [
              0.1111111111111111,
              "#46039f"
             ],
             [
              0.2222222222222222,
              "#7201a8"
             ],
             [
              0.3333333333333333,
              "#9c179e"
             ],
             [
              0.4444444444444444,
              "#bd3786"
             ],
             [
              0.5555555555555556,
              "#d8576b"
             ],
             [
              0.6666666666666666,
              "#ed7953"
             ],
             [
              0.7777777777777778,
              "#fb9f3a"
             ],
             [
              0.8888888888888888,
              "#fdca26"
             ],
             [
              1,
              "#f0f921"
             ]
            ],
            "type": "heatmap"
           }
          ],
          "heatmapgl": [
           {
            "colorbar": {
             "outlinewidth": 0,
             "ticks": ""
            },
            "colorscale": [
             [
              0,
              "#0d0887"
             ],
             [
              0.1111111111111111,
              "#46039f"
             ],
             [
              0.2222222222222222,
              "#7201a8"
             ],
             [
              0.3333333333333333,
              "#9c179e"
             ],
             [
              0.4444444444444444,
              "#bd3786"
             ],
             [
              0.5555555555555556,
              "#d8576b"
             ],
             [
              0.6666666666666666,
              "#ed7953"
             ],
             [
              0.7777777777777778,
              "#fb9f3a"
             ],
             [
              0.8888888888888888,
              "#fdca26"
             ],
             [
              1,
              "#f0f921"
             ]
            ],
            "type": "heatmapgl"
           }
          ],
          "histogram": [
           {
            "marker": {
             "colorbar": {
              "outlinewidth": 0,
              "ticks": ""
             }
            },
            "type": "histogram"
           }
          ],
          "histogram2d": [
           {
            "colorbar": {
             "outlinewidth": 0,
             "ticks": ""
            },
            "colorscale": [
             [
              0,
              "#0d0887"
             ],
             [
              0.1111111111111111,
              "#46039f"
             ],
             [
              0.2222222222222222,
              "#7201a8"
             ],
             [
              0.3333333333333333,
              "#9c179e"
             ],
             [
              0.4444444444444444,
              "#bd3786"
             ],
             [
              0.5555555555555556,
              "#d8576b"
             ],
             [
              0.6666666666666666,
              "#ed7953"
             ],
             [
              0.7777777777777778,
              "#fb9f3a"
             ],
             [
              0.8888888888888888,
              "#fdca26"
             ],
             [
              1,
              "#f0f921"
             ]
            ],
            "type": "histogram2d"
           }
          ],
          "histogram2dcontour": [
           {
            "colorbar": {
             "outlinewidth": 0,
             "ticks": ""
            },
            "colorscale": [
             [
              0,
              "#0d0887"
             ],
             [
              0.1111111111111111,
              "#46039f"
             ],
             [
              0.2222222222222222,
              "#7201a8"
             ],
             [
              0.3333333333333333,
              "#9c179e"
             ],
             [
              0.4444444444444444,
              "#bd3786"
             ],
             [
              0.5555555555555556,
              "#d8576b"
             ],
             [
              0.6666666666666666,
              "#ed7953"
             ],
             [
              0.7777777777777778,
              "#fb9f3a"
             ],
             [
              0.8888888888888888,
              "#fdca26"
             ],
             [
              1,
              "#f0f921"
             ]
            ],
            "type": "histogram2dcontour"
           }
          ],
          "mesh3d": [
           {
            "colorbar": {
             "outlinewidth": 0,
             "ticks": ""
            },
            "type": "mesh3d"
           }
          ],
          "parcoords": [
           {
            "line": {
             "colorbar": {
              "outlinewidth": 0,
              "ticks": ""
             }
            },
            "type": "parcoords"
           }
          ],
          "scatter": [
           {
            "marker": {
             "colorbar": {
              "outlinewidth": 0,
              "ticks": ""
             }
            },
            "type": "scatter"
           }
          ],
          "scatter3d": [
           {
            "line": {
             "colorbar": {
              "outlinewidth": 0,
              "ticks": ""
             }
            },
            "marker": {
             "colorbar": {
              "outlinewidth": 0,
              "ticks": ""
             }
            },
            "type": "scatter3d"
           }
          ],
          "scattercarpet": [
           {
            "marker": {
             "colorbar": {
              "outlinewidth": 0,
              "ticks": ""
             }
            },
            "type": "scattercarpet"
           }
          ],
          "scattergeo": [
           {
            "marker": {
             "colorbar": {
              "outlinewidth": 0,
              "ticks": ""
             }
            },
            "type": "scattergeo"
           }
          ],
          "scattergl": [
           {
            "marker": {
             "colorbar": {
              "outlinewidth": 0,
              "ticks": ""
             }
            },
            "type": "scattergl"
           }
          ],
          "scattermapbox": [
           {
            "marker": {
             "colorbar": {
              "outlinewidth": 0,
              "ticks": ""
             }
            },
            "type": "scattermapbox"
           }
          ],
          "scatterpolar": [
           {
            "marker": {
             "colorbar": {
              "outlinewidth": 0,
              "ticks": ""
             }
            },
            "type": "scatterpolar"
           }
          ],
          "scatterpolargl": [
           {
            "marker": {
             "colorbar": {
              "outlinewidth": 0,
              "ticks": ""
             }
            },
            "type": "scatterpolargl"
           }
          ],
          "scatterternary": [
           {
            "marker": {
             "colorbar": {
              "outlinewidth": 0,
              "ticks": ""
             }
            },
            "type": "scatterternary"
           }
          ],
          "surface": [
           {
            "colorbar": {
             "outlinewidth": 0,
             "ticks": ""
            },
            "colorscale": [
             [
              0,
              "#0d0887"
             ],
             [
              0.1111111111111111,
              "#46039f"
             ],
             [
              0.2222222222222222,
              "#7201a8"
             ],
             [
              0.3333333333333333,
              "#9c179e"
             ],
             [
              0.4444444444444444,
              "#bd3786"
             ],
             [
              0.5555555555555556,
              "#d8576b"
             ],
             [
              0.6666666666666666,
              "#ed7953"
             ],
             [
              0.7777777777777778,
              "#fb9f3a"
             ],
             [
              0.8888888888888888,
              "#fdca26"
             ],
             [
              1,
              "#f0f921"
             ]
            ],
            "type": "surface"
           }
          ],
          "table": [
           {
            "cells": {
             "fill": {
              "color": "#EBF0F8"
             },
             "line": {
              "color": "white"
             }
            },
            "header": {
             "fill": {
              "color": "#C8D4E3"
             },
             "line": {
              "color": "white"
             }
            },
            "type": "table"
           }
          ]
         },
         "layout": {
          "annotationdefaults": {
           "arrowcolor": "#2a3f5f",
           "arrowhead": 0,
           "arrowwidth": 1
          },
          "colorscale": {
           "diverging": [
            [
             0,
             "#8e0152"
            ],
            [
             0.1,
             "#c51b7d"
            ],
            [
             0.2,
             "#de77ae"
            ],
            [
             0.3,
             "#f1b6da"
            ],
            [
             0.4,
             "#fde0ef"
            ],
            [
             0.5,
             "#f7f7f7"
            ],
            [
             0.6,
             "#e6f5d0"
            ],
            [
             0.7,
             "#b8e186"
            ],
            [
             0.8,
             "#7fbc41"
            ],
            [
             0.9,
             "#4d9221"
            ],
            [
             1,
             "#276419"
            ]
           ],
           "sequential": [
            [
             0,
             "#0d0887"
            ],
            [
             0.1111111111111111,
             "#46039f"
            ],
            [
             0.2222222222222222,
             "#7201a8"
            ],
            [
             0.3333333333333333,
             "#9c179e"
            ],
            [
             0.4444444444444444,
             "#bd3786"
            ],
            [
             0.5555555555555556,
             "#d8576b"
            ],
            [
             0.6666666666666666,
             "#ed7953"
            ],
            [
             0.7777777777777778,
             "#fb9f3a"
            ],
            [
             0.8888888888888888,
             "#fdca26"
            ],
            [
             1,
             "#f0f921"
            ]
           ],
           "sequentialminus": [
            [
             0,
             "#0d0887"
            ],
            [
             0.1111111111111111,
             "#46039f"
            ],
            [
             0.2222222222222222,
             "#7201a8"
            ],
            [
             0.3333333333333333,
             "#9c179e"
            ],
            [
             0.4444444444444444,
             "#bd3786"
            ],
            [
             0.5555555555555556,
             "#d8576b"
            ],
            [
             0.6666666666666666,
             "#ed7953"
            ],
            [
             0.7777777777777778,
             "#fb9f3a"
            ],
            [
             0.8888888888888888,
             "#fdca26"
            ],
            [
             1,
             "#f0f921"
            ]
           ]
          },
          "colorway": [
           "#636efa",
           "#EF553B",
           "#00cc96",
           "#ab63fa",
           "#FFA15A",
           "#19d3f3",
           "#FF6692",
           "#B6E880",
           "#FF97FF",
           "#FECB52"
          ],
          "font": {
           "color": "#2a3f5f"
          },
          "geo": {
           "bgcolor": "white",
           "lakecolor": "white",
           "landcolor": "#E5ECF6",
           "showlakes": true,
           "showland": true,
           "subunitcolor": "white"
          },
          "hoverlabel": {
           "align": "left"
          },
          "hovermode": "closest",
          "mapbox": {
           "style": "light"
          },
          "paper_bgcolor": "white",
          "plot_bgcolor": "#E5ECF6",
          "polar": {
           "angularaxis": {
            "gridcolor": "white",
            "linecolor": "white",
            "ticks": ""
           },
           "bgcolor": "#E5ECF6",
           "radialaxis": {
            "gridcolor": "white",
            "linecolor": "white",
            "ticks": ""
           }
          },
          "scene": {
           "xaxis": {
            "backgroundcolor": "#E5ECF6",
            "gridcolor": "white",
            "gridwidth": 2,
            "linecolor": "white",
            "showbackground": true,
            "ticks": "",
            "zerolinecolor": "white"
           },
           "yaxis": {
            "backgroundcolor": "#E5ECF6",
            "gridcolor": "white",
            "gridwidth": 2,
            "linecolor": "white",
            "showbackground": true,
            "ticks": "",
            "zerolinecolor": "white"
           },
           "zaxis": {
            "backgroundcolor": "#E5ECF6",
            "gridcolor": "white",
            "gridwidth": 2,
            "linecolor": "white",
            "showbackground": true,
            "ticks": "",
            "zerolinecolor": "white"
           }
          },
          "shapedefaults": {
           "line": {
            "color": "#2a3f5f"
           }
          },
          "ternary": {
           "aaxis": {
            "gridcolor": "white",
            "linecolor": "white",
            "ticks": ""
           },
           "baxis": {
            "gridcolor": "white",
            "linecolor": "white",
            "ticks": ""
           },
           "bgcolor": "#E5ECF6",
           "caxis": {
            "gridcolor": "white",
            "linecolor": "white",
            "ticks": ""
           }
          },
          "title": {
           "x": 0.05
          },
          "xaxis": {
           "automargin": true,
           "gridcolor": "white",
           "linecolor": "white",
           "ticks": "",
           "zerolinecolor": "white",
           "zerolinewidth": 2
          },
          "yaxis": {
           "automargin": true,
           "gridcolor": "white",
           "linecolor": "white",
           "ticks": "",
           "zerolinecolor": "white",
           "zerolinewidth": 2
          }
         }
        },
        "width": 600,
        "xaxis": {
         "anchor": "y",
         "autorange": true,
         "domain": [
          0,
          0.48
         ],
         "range": [
          1,
          19
         ],
         "title": {
          "text": "t"
         },
         "type": "linear"
        },
        "xaxis2": {
         "anchor": "y2",
         "autorange": true,
         "domain": [
          0.5,
          0.98
         ],
         "matches": "x",
         "range": [
          1,
          19
         ],
         "title": {
          "text": "t"
         },
         "type": "linear"
        },
        "yaxis": {
         "anchor": "x",
         "autorange": true,
         "domain": [
          0,
          1
         ],
         "range": [
          -55242.349438129975,
          1055242.34943813
         ],
         "title": {
          "text": "value"
         },
         "type": "linear"
        },
        "yaxis2": {
         "anchor": "x2",
         "autorange": true,
         "domain": [
          0,
          1
         ],
         "matches": "y",
         "range": [
          -55242.349438129975,
          1055242.34943813
         ],
         "showticklabels": false,
         "type": "linear"
        }
       }
      },
      "image/png": "[encoded data removed]",
      "text/html": [
       "<div>\n",
       "        \n",
       "        \n",
       "            <div id=\"e8f6ff2e-cfd8-430d-9a45-f4305196a32e\" class=\"plotly-graph-div\" style=\"height:400px; width:600px;\"></div>\n",
       "            <script type=\"text/javascript\">\n",
       "                require([\"plotly\"], function(Plotly) {\n",
       "                    window.PLOTLYENV=window.PLOTLYENV || {};\n",
       "                    \n",
       "                if (document.getElementById(\"e8f6ff2e-cfd8-430d-9a45-f4305196a32e\")) {\n",
       "                    Plotly.newPlot(\n",
       "                        'e8f6ff2e-cfd8-430d-9a45-f4305196a32e',\n",
       "                        [{\"hoverlabel\": {\"namelength\": 0}, \"hovertemplate\": \"p=0.15<br>Estado=I<br>t=%{x}<br>value=%{y}\", \"legendgroup\": \"p=0.15\", \"line\": {\"color\": \"#636efa\", \"dash\": \"solid\"}, \"mode\": \"lines\", \"name\": \"p=0.15\", \"showlegend\": true, \"type\": \"scatter\", \"x\": [1.0, 2.0, 3.0, 4.0, 5.0, 6.0, 7.0, 8.0, 9.0, 10.0, 11.0, 12.0, 13.0, 14.0, 15.0, 16.0, 17.0, 18.0, 19.0], \"xaxis\": \"x\", \"y\": [0.0, 150000.0, 277500.0, 385875.0, 477993.75, 556294.6875, 622850.484375, 679422.91171875, 727509.4749609375, 768383.0537167969, 803125.5956592774, 832656.7563103858, 857758.2428638279, 879094.5064342536, 897230.3304691156, 912645.7808987483, 925748.913763936, 936886.5766993456, 946353.5901944437], \"yaxis\": \"y\"}, {\"hoverlabel\": {\"namelength\": 0}, \"hovertemplate\": \"p=0.15<br>Estado=S<br>t=%{x}<br>value=%{y}\", \"legendgroup\": \"p=0.15\", \"line\": {\"color\": \"#636efa\", \"dash\": \"solid\"}, \"mode\": \"lines\", \"name\": \"p=0.15\", \"showlegend\": false, \"type\": \"scatter\", \"x\": [1.0, 2.0, 3.0, 4.0, 5.0, 6.0, 7.0, 8.0, 9.0, 10.0, 11.0, 12.0, 13.0, 14.0, 15.0, 16.0, 17.0, 18.0, 19.0], \"xaxis\": \"x2\", \"y\": [1000000.0, 850000.0, 722500.0, 614125.0, 522006.25, 443705.3125, 377149.515625, 320577.08828125, 272490.5250390625, 231616.94628320308, 196874.4043407226, 167343.24368961423, 142241.75713617215, 120905.49356574635, 102769.66953088436, 87354.21910125169, 74251.08623606397, 63113.423300654395, 53646.40980555629], \"yaxis\": \"y2\"}, {\"hoverlabel\": {\"namelength\": 0}, \"hovertemplate\": \"p=0.05<br>Estado=I<br>t=%{x}<br>value=%{y}\", \"legendgroup\": \"p=0.05\", \"line\": {\"color\": \"#EF553B\", \"dash\": \"solid\"}, \"mode\": \"lines\", \"name\": \"p=0.05\", \"showlegend\": true, \"type\": \"scatter\", \"x\": [1.0, 2.0, 3.0, 4.0, 5.0, 6.0, 7.0, 8.0, 9.0, 10.0, 11.0, 12.0, 13.0, 14.0, 15.0, 16.0, 17.0, 18.0, 19.0], \"xaxis\": \"x\", \"y\": [0.0, 50000.0, 97500.0, 142625.0, 185493.75, 226219.0625, 264908.109375, 301662.70390625, 336579.5687109375, 369750.59027539066, 401263.0607616211, 431199.90772354003, 459639.91233736306, 486657.9167204949, 512325.0208844702, 536708.7698402466, 559873.3313482343, 581879.6647808226, 602785.6815417814], \"yaxis\": \"y\"}, {\"hoverlabel\": {\"namelength\": 0}, \"hovertemplate\": \"p=0.05<br>Estado=S<br>t=%{x}<br>value=%{y}\", \"legendgroup\": \"p=0.05\", \"line\": {\"color\": \"#EF553B\", \"dash\": \"solid\"}, \"mode\": \"lines\", \"name\": \"p=0.05\", \"showlegend\": false, \"type\": \"scatter\", \"x\": [1.0, 2.0, 3.0, 4.0, 5.0, 6.0, 7.0, 8.0, 9.0, 10.0, 11.0, 12.0, 13.0, 14.0, 15.0, 16.0, 17.0, 18.0, 19.0], \"xaxis\": \"x2\", \"y\": [1000000.0, 950000.0, 902500.0, 857375.0, 814506.25, 773780.9375, 735091.890625, 698337.29609375, 663420.4312890625, 630249.4097246093, 598736.9392383789, 568800.09227646, 540360.087662637, 513342.0832795051, 487674.9791155298, 463291.23015975335, 440126.6686517657, 418120.3352191774, 397214.3184582186], \"yaxis\": \"y2\"}, {\"hoverlabel\": {\"namelength\": 0}, \"hovertemplate\": \"p=0.01<br>Estado=I<br>t=%{x}<br>value=%{y}\", \"legendgroup\": \"p=0.01\", \"line\": {\"color\": \"#00cc96\", \"dash\": \"solid\"}, \"mode\": \"lines\", \"name\": \"p=0.01\", \"showlegend\": true, \"type\": \"scatter\", \"x\": [1.0, 2.0, 3.0, 4.0, 5.0, 6.0, 7.0, 8.0, 9.0, 10.0, 11.0, 12.0, 13.0, 14.0, 15.0, 16.0, 17.0, 18.0, 19.0], \"xaxis\": \"x\", \"y\": [0.0, 10000.0, 19900.0, 29701.0, 39403.99, 49009.9501, 58519.850599, 67934.65209301, 77255.3055720799, 86482.7525163591, 95617.92499119551, 104661.74574128355, 113615.12828387071, 122478.977001032, 131254.1872310217, 139941.64535871148, 148542.22890512436, 157056.80661607313, 165486.2385499124], \"yaxis\": \"y\"}, {\"hoverlabel\": {\"namelength\": 0}, \"hovertemplate\": \"p=0.01<br>Estado=S<br>t=%{x}<br>value=%{y}\", \"legendgroup\": \"p=0.01\", \"line\": {\"color\": \"#00cc96\", \"dash\": \"solid\"}, \"mode\": \"lines\", \"name\": \"p=0.01\", \"showlegend\": false, \"type\": \"scatter\", \"x\": [1.0, 2.0, 3.0, 4.0, 5.0, 6.0, 7.0, 8.0, 9.0, 10.0, 11.0, 12.0, 13.0, 14.0, 15.0, 16.0, 17.0, 18.0, 19.0], \"xaxis\": \"x2\", \"y\": [1000000.0, 990000.0, 980100.0, 970299.0, 960596.01, 950990.0499, 941480.149401, 932065.34790699, 922744.69442792, 913517.2474836409, 904382.0750088044, 895338.2542587165, 886384.8717161292, 877521.022998968, 868745.8127689783, 860058.3546412885, 851457.7710948756, 842943.1933839269, 834513.7614500877], \"yaxis\": \"y2\"}, {\"hoverlabel\": {\"namelength\": 0}, \"hovertemplate\": \"p=0.25<br>Estado=I<br>t=%{x}<br>value=%{y}\", \"legendgroup\": \"p=0.25\", \"line\": {\"color\": \"#ab63fa\", \"dash\": \"solid\"}, \"mode\": \"lines\", \"name\": \"p=0.25\", \"showlegend\": true, \"type\": \"scatter\", \"x\": [1.0, 2.0, 3.0, 4.0, 5.0, 6.0, 7.0, 8.0, 9.0, 10.0, 11.0, 12.0, 13.0, 14.0, 15.0, 16.0, 17.0, 18.0, 19.0], \"xaxis\": \"x\", \"y\": [0.0, 250000.0, 437500.0, 578125.0, 683593.75, 762695.3125, 822021.484375, 866516.11328125, 899887.0849609375, 924915.3137207031, 943686.4852905273, 957764.8639678955, 968323.6479759216, 976242.7359819412, 982182.0519864559, 986636.5389898419, 989977.4042423815, 992483.0531817861, 994362.2898863396], \"yaxis\": \"y\"}, {\"hoverlabel\": {\"namelength\": 0}, \"hovertemplate\": \"p=0.25<br>Estado=S<br>t=%{x}<br>value=%{y}\", \"legendgroup\": \"p=0.25\", \"line\": {\"color\": \"#ab63fa\", \"dash\": \"solid\"}, \"mode\": \"lines\", \"name\": \"p=0.25\", \"showlegend\": false, \"type\": \"scatter\", \"x\": [1.0, 2.0, 3.0, 4.0, 5.0, 6.0, 7.0, 8.0, 9.0, 10.0, 11.0, 12.0, 13.0, 14.0, 15.0, 16.0, 17.0, 18.0, 19.0], \"xaxis\": \"x2\", \"y\": [1000000.0, 750000.0, 562500.0, 421875.0, 316406.25, 237304.6875, 177978.515625, 133483.88671875, 100112.9150390625, 75084.68627929688, 56313.514709472656, 42235.13603210449, 31676.35202407837, 23757.264018058777, 17817.948013544083, 13363.461010158062, 10022.595757618546, 7516.94681821391, 5637.710113660432], \"yaxis\": \"y2\"}],\n",
       "                        {\"annotations\": [{\"font\": {}, \"showarrow\": false, \"text\": \"Estado=I\", \"x\": 0.24, \"xanchor\": \"center\", \"xref\": \"paper\", \"y\": 1.0, \"yanchor\": \"bottom\", \"yref\": \"paper\"}, {\"font\": {}, \"showarrow\": false, \"text\": \"Estado=S\", \"x\": 0.74, \"xanchor\": \"center\", \"xref\": \"paper\", \"y\": 1.0, \"yanchor\": \"bottom\", \"yref\": \"paper\"}], \"height\": 400, \"legend\": {\"tracegroupgap\": 0}, \"margin\": {\"t\": 60}, \"template\": {\"data\": {\"bar\": [{\"error_x\": {\"color\": \"#2a3f5f\"}, \"error_y\": {\"color\": \"#2a3f5f\"}, \"marker\": {\"line\": {\"color\": \"#E5ECF6\", \"width\": 0.5}}, \"type\": \"bar\"}], \"barpolar\": [{\"marker\": {\"line\": {\"color\": \"#E5ECF6\", \"width\": 0.5}}, \"type\": \"barpolar\"}], \"carpet\": [{\"aaxis\": {\"endlinecolor\": \"#2a3f5f\", \"gridcolor\": \"white\", \"linecolor\": \"white\", \"minorgridcolor\": \"white\", \"startlinecolor\": \"#2a3f5f\"}, \"baxis\": {\"endlinecolor\": \"#2a3f5f\", \"gridcolor\": \"white\", \"linecolor\": \"white\", \"minorgridcolor\": \"white\", \"startlinecolor\": \"#2a3f5f\"}, \"type\": \"carpet\"}], \"choropleth\": [{\"colorbar\": {\"outlinewidth\": 0, \"ticks\": \"\"}, \"type\": \"choropleth\"}], \"contour\": [{\"colorbar\": {\"outlinewidth\": 0, \"ticks\": \"\"}, \"colorscale\": [[0.0, \"#0d0887\"], [0.1111111111111111, \"#46039f\"], [0.2222222222222222, \"#7201a8\"], [0.3333333333333333, \"#9c179e\"], [0.4444444444444444, \"#bd3786\"], [0.5555555555555556, \"#d8576b\"], [0.6666666666666666, \"#ed7953\"], [0.7777777777777778, \"#fb9f3a\"], [0.8888888888888888, \"#fdca26\"], [1.0, \"#f0f921\"]], \"type\": \"contour\"}], \"contourcarpet\": [{\"colorbar\": {\"outlinewidth\": 0, \"ticks\": \"\"}, \"type\": \"contourcarpet\"}], \"heatmap\": [{\"colorbar\": {\"outlinewidth\": 0, \"ticks\": \"\"}, \"colorscale\": [[0.0, \"#0d0887\"], [0.1111111111111111, \"#46039f\"], [0.2222222222222222, \"#7201a8\"], [0.3333333333333333, \"#9c179e\"], [0.4444444444444444, \"#bd3786\"], [0.5555555555555556, \"#d8576b\"], [0.6666666666666666, \"#ed7953\"], [0.7777777777777778, \"#fb9f3a\"], [0.8888888888888888, \"#fdca26\"], [1.0, \"#f0f921\"]], \"type\": \"heatmap\"}], \"heatmapgl\": [{\"colorbar\": {\"outlinewidth\": 0, \"ticks\": \"\"}, \"colorscale\": [[0.0, \"#0d0887\"], [0.1111111111111111, \"#46039f\"], [0.2222222222222222, \"#7201a8\"], [0.3333333333333333, \"#9c179e\"], [0.4444444444444444, \"#bd3786\"], [0.5555555555555556, \"#d8576b\"], [0.6666666666666666, \"#ed7953\"], [0.7777777777777778, \"#fb9f3a\"], [0.8888888888888888, \"#fdca26\"], [1.0, \"#f0f921\"]], \"type\": \"heatmapgl\"}], \"histogram\": [{\"marker\": {\"colorbar\": {\"outlinewidth\": 0, \"ticks\": \"\"}}, \"type\": \"histogram\"}], \"histogram2d\": [{\"colorbar\": {\"outlinewidth\": 0, \"ticks\": \"\"}, \"colorscale\": [[0.0, \"#0d0887\"], [0.1111111111111111, \"#46039f\"], [0.2222222222222222, \"#7201a8\"], [0.3333333333333333, \"#9c179e\"], [0.4444444444444444, \"#bd3786\"], [0.5555555555555556, \"#d8576b\"], [0.6666666666666666, \"#ed7953\"], [0.7777777777777778, \"#fb9f3a\"], [0.8888888888888888, \"#fdca26\"], [1.0, \"#f0f921\"]], \"type\": \"histogram2d\"}], \"histogram2dcontour\": [{\"colorbar\": {\"outlinewidth\": 0, \"ticks\": \"\"}, \"colorscale\": [[0.0, \"#0d0887\"], [0.1111111111111111, \"#46039f\"], [0.2222222222222222, \"#7201a8\"], [0.3333333333333333, \"#9c179e\"], [0.4444444444444444, \"#bd3786\"], [0.5555555555555556, \"#d8576b\"], [0.6666666666666666, \"#ed7953\"], [0.7777777777777778, \"#fb9f3a\"], [0.8888888888888888, \"#fdca26\"], [1.0, \"#f0f921\"]], \"type\": \"histogram2dcontour\"}], \"mesh3d\": [{\"colorbar\": {\"outlinewidth\": 0, \"ticks\": \"\"}, \"type\": \"mesh3d\"}], \"parcoords\": [{\"line\": {\"colorbar\": {\"outlinewidth\": 0, \"ticks\": \"\"}}, \"type\": \"parcoords\"}], \"scatter\": [{\"marker\": {\"colorbar\": {\"outlinewidth\": 0, \"ticks\": \"\"}}, \"type\": \"scatter\"}], \"scatter3d\": [{\"line\": {\"colorbar\": {\"outlinewidth\": 0, \"ticks\": \"\"}}, \"marker\": {\"colorbar\": {\"outlinewidth\": 0, \"ticks\": \"\"}}, \"type\": \"scatter3d\"}], \"scattercarpet\": [{\"marker\": {\"colorbar\": {\"outlinewidth\": 0, \"ticks\": \"\"}}, \"type\": \"scattercarpet\"}], \"scattergeo\": [{\"marker\": {\"colorbar\": {\"outlinewidth\": 0, \"ticks\": \"\"}}, \"type\": \"scattergeo\"}], \"scattergl\": [{\"marker\": {\"colorbar\": {\"outlinewidth\": 0, \"ticks\": \"\"}}, \"type\": \"scattergl\"}], \"scattermapbox\": [{\"marker\": {\"colorbar\": {\"outlinewidth\": 0, \"ticks\": \"\"}}, \"type\": \"scattermapbox\"}], \"scatterpolar\": [{\"marker\": {\"colorbar\": {\"outlinewidth\": 0, \"ticks\": \"\"}}, \"type\": \"scatterpolar\"}], \"scatterpolargl\": [{\"marker\": {\"colorbar\": {\"outlinewidth\": 0, \"ticks\": \"\"}}, \"type\": \"scatterpolargl\"}], \"scatterternary\": [{\"marker\": {\"colorbar\": {\"outlinewidth\": 0, \"ticks\": \"\"}}, \"type\": \"scatterternary\"}], \"surface\": [{\"colorbar\": {\"outlinewidth\": 0, \"ticks\": \"\"}, \"colorscale\": [[0.0, \"#0d0887\"], [0.1111111111111111, \"#46039f\"], [0.2222222222222222, \"#7201a8\"], [0.3333333333333333, \"#9c179e\"], [0.4444444444444444, \"#bd3786\"], [0.5555555555555556, \"#d8576b\"], [0.6666666666666666, \"#ed7953\"], [0.7777777777777778, \"#fb9f3a\"], [0.8888888888888888, \"#fdca26\"], [1.0, \"#f0f921\"]], \"type\": \"surface\"}], \"table\": [{\"cells\": {\"fill\": {\"color\": \"#EBF0F8\"}, \"line\": {\"color\": \"white\"}}, \"header\": {\"fill\": {\"color\": \"#C8D4E3\"}, \"line\": {\"color\": \"white\"}}, \"type\": \"table\"}]}, \"layout\": {\"annotationdefaults\": {\"arrowcolor\": \"#2a3f5f\", \"arrowhead\": 0, \"arrowwidth\": 1}, \"colorscale\": {\"diverging\": [[0, \"#8e0152\"], [0.1, \"#c51b7d\"], [0.2, \"#de77ae\"], [0.3, \"#f1b6da\"], [0.4, \"#fde0ef\"], [0.5, \"#f7f7f7\"], [0.6, \"#e6f5d0\"], [0.7, \"#b8e186\"], [0.8, \"#7fbc41\"], [0.9, \"#4d9221\"], [1, \"#276419\"]], \"sequential\": [[0.0, \"#0d0887\"], [0.1111111111111111, \"#46039f\"], [0.2222222222222222, \"#7201a8\"], [0.3333333333333333, \"#9c179e\"], [0.4444444444444444, \"#bd3786\"], [0.5555555555555556, \"#d8576b\"], [0.6666666666666666, \"#ed7953\"], [0.7777777777777778, \"#fb9f3a\"], [0.8888888888888888, \"#fdca26\"], [1.0, \"#f0f921\"]], \"sequentialminus\": [[0.0, \"#0d0887\"], [0.1111111111111111, \"#46039f\"], [0.2222222222222222, \"#7201a8\"], [0.3333333333333333, \"#9c179e\"], [0.4444444444444444, \"#bd3786\"], [0.5555555555555556, \"#d8576b\"], [0.6666666666666666, \"#ed7953\"], [0.7777777777777778, \"#fb9f3a\"], [0.8888888888888888, \"#fdca26\"], [1.0, \"#f0f921\"]]}, \"colorway\": [\"#636efa\", \"#EF553B\", \"#00cc96\", \"#ab63fa\", \"#FFA15A\", \"#19d3f3\", \"#FF6692\", \"#B6E880\", \"#FF97FF\", \"#FECB52\"], \"font\": {\"color\": \"#2a3f5f\"}, \"geo\": {\"bgcolor\": \"white\", \"lakecolor\": \"white\", \"landcolor\": \"#E5ECF6\", \"showlakes\": true, \"showland\": true, \"subunitcolor\": \"white\"}, \"hoverlabel\": {\"align\": \"left\"}, \"hovermode\": \"closest\", \"mapbox\": {\"style\": \"light\"}, \"paper_bgcolor\": \"white\", \"plot_bgcolor\": \"#E5ECF6\", \"polar\": {\"angularaxis\": {\"gridcolor\": \"white\", \"linecolor\": \"white\", \"ticks\": \"\"}, \"bgcolor\": \"#E5ECF6\", \"radialaxis\": {\"gridcolor\": \"white\", \"linecolor\": \"white\", \"ticks\": \"\"}}, \"scene\": {\"xaxis\": {\"backgroundcolor\": \"#E5ECF6\", \"gridcolor\": \"white\", \"gridwidth\": 2, \"linecolor\": \"white\", \"showbackground\": true, \"ticks\": \"\", \"zerolinecolor\": \"white\"}, \"yaxis\": {\"backgroundcolor\": \"#E5ECF6\", \"gridcolor\": \"white\", \"gridwidth\": 2, \"linecolor\": \"white\", \"showbackground\": true, \"ticks\": \"\", \"zerolinecolor\": \"white\"}, \"zaxis\": {\"backgroundcolor\": \"#E5ECF6\", \"gridcolor\": \"white\", \"gridwidth\": 2, \"linecolor\": \"white\", \"showbackground\": true, \"ticks\": \"\", \"zerolinecolor\": \"white\"}}, \"shapedefaults\": {\"line\": {\"color\": \"#2a3f5f\"}}, \"ternary\": {\"aaxis\": {\"gridcolor\": \"white\", \"linecolor\": \"white\", \"ticks\": \"\"}, \"baxis\": {\"gridcolor\": \"white\", \"linecolor\": \"white\", \"ticks\": \"\"}, \"bgcolor\": \"#E5ECF6\", \"caxis\": {\"gridcolor\": \"white\", \"linecolor\": \"white\", \"ticks\": \"\"}}, \"title\": {\"x\": 0.05}, \"xaxis\": {\"automargin\": true, \"gridcolor\": \"white\", \"linecolor\": \"white\", \"ticks\": \"\", \"zerolinecolor\": \"white\", \"zerolinewidth\": 2}, \"yaxis\": {\"automargin\": true, \"gridcolor\": \"white\", \"linecolor\": \"white\", \"ticks\": \"\", \"zerolinecolor\": \"white\", \"zerolinewidth\": 2}}}, \"width\": 600, \"xaxis\": {\"anchor\": \"y\", \"domain\": [0.0, 0.48], \"title\": {\"text\": \"t\"}}, \"xaxis2\": {\"anchor\": \"y2\", \"domain\": [0.5, 0.98], \"matches\": \"x\", \"title\": {\"text\": \"t\"}}, \"yaxis\": {\"anchor\": \"x\", \"domain\": [0.0, 1.0], \"title\": {\"text\": \"value\"}}, \"yaxis2\": {\"anchor\": \"x2\", \"domain\": [0.0, 1.0], \"matches\": \"y\", \"showticklabels\": false}},\n",
       "                        {\"responsive\": true}\n",
       "                    ).then(function(){\n",
       "                            \n",
       "var gd = document.getElementById('e8f6ff2e-cfd8-430d-9a45-f4305196a32e');\n",
       "var x = new MutationObserver(function (mutations, observer) {{\n",
       "        var display = window.getComputedStyle(gd).display;\n",
       "        if (!display || display === 'none') {{\n",
       "            console.log([gd, 'removed!']);\n",
       "            Plotly.purge(gd);\n",
       "            observer.disconnect();\n",
       "        }}\n",
       "}});\n",
       "\n",
       "// Listen for the removal of the full notebook cells\n",
       "var notebookContainer = gd.closest('#notebook-container');\n",
       "if (notebookContainer) {{\n",
       "    x.observe(notebookContainer, {childList: true});\n",
       "}}\n",
       "\n",
       "// Listen for the clearing of the current output cell\n",
       "var outputEl = gd.closest('.output');\n",
       "if (outputEl) {{\n",
       "    x.observe(outputEl, {childList: true});\n",
       "}}\n",
       "\n",
       "                        })\n",
       "                };\n",
       "                });\n",
       "            </script>\n",
       "        </div>"
      ]
     },
     "metadata": {},
     "output_type": "display_data"
    }
   ],
   "source": [
    "px.line(df,x='t',y='value',color='p',facet_col='Estado', height=400,width=600)"
   ]
  },
  {
   "cell_type": "markdown",
   "metadata": {},
   "source": [
    "#### Calculandolo con una **difference equation**\n",
    "\n",
    "Parto del crecimiento logistico porque es mas facil... y despues hago la resta para saber I.\n",
    "\n",
    "- $S_t=S_0-I_t$\n",
    "- $I_t=S_0-S_t$\n",
    "- $S_t=S_0(1-p)^t$\n",
    "- $I_t=S_0-[S_0(1-p)^t]$\n",
    "\n",
    "Si hay un millon de habitantes, y se anuncia algo y la prob de escucharlo es de 15%, al primer dia, $I_1=S_0*0.15=150000$. Despues, el 30% **de los que quedan**, $850000=S_0(1-p)$, se le van a sumar a esos 150000, $I_2= I_1 + S_0(1-p)$..."
   ]
  },
  {
   "cell_type": "code",
   "execution_count": 86,
   "metadata": {},
   "outputs": [
    {
     "data": {
      "text/html": [
       "<div>\n",
       "<style scoped>\n",
       "    .dataframe tbody tr th:only-of-type {\n",
       "        vertical-align: middle;\n",
       "    }\n",
       "\n",
       "    .dataframe tbody tr th {\n",
       "        vertical-align: top;\n",
       "    }\n",
       "\n",
       "    .dataframe thead th {\n",
       "        text-align: right;\n",
       "    }\n",
       "</style>\n",
       "<table border=\"1\" class=\"dataframe\">\n",
       "  <thead>\n",
       "    <tr style=\"text-align: right;\">\n",
       "      <th></th>\n",
       "      <th>t</th>\n",
       "      <th>S</th>\n",
       "      <th>I</th>\n",
       "    </tr>\n",
       "  </thead>\n",
       "  <tbody>\n",
       "    <tr>\n",
       "      <th>0</th>\n",
       "      <td>1</td>\n",
       "      <td>85000.00000</td>\n",
       "      <td>15000.00000</td>\n",
       "    </tr>\n",
       "    <tr>\n",
       "      <th>1</th>\n",
       "      <td>2</td>\n",
       "      <td>72250.00000</td>\n",
       "      <td>27750.00000</td>\n",
       "    </tr>\n",
       "    <tr>\n",
       "      <th>2</th>\n",
       "      <td>3</td>\n",
       "      <td>61412.50000</td>\n",
       "      <td>38587.50000</td>\n",
       "    </tr>\n",
       "    <tr>\n",
       "      <th>3</th>\n",
       "      <td>4</td>\n",
       "      <td>52200.62500</td>\n",
       "      <td>47799.37500</td>\n",
       "    </tr>\n",
       "    <tr>\n",
       "      <th>4</th>\n",
       "      <td>5</td>\n",
       "      <td>44370.53125</td>\n",
       "      <td>55629.46875</td>\n",
       "    </tr>\n",
       "  </tbody>\n",
       "</table>\n",
       "</div>"
      ],
      "text/plain": [
       "   t            S            I\n",
       "0  1  85000.00000  15000.00000\n",
       "1  2  72250.00000  27750.00000\n",
       "2  3  61412.50000  38587.50000\n",
       "3  4  52200.62500  47799.37500\n",
       "4  5  44370.53125  55629.46875"
      ]
     },
     "execution_count": 86,
     "metadata": {},
     "output_type": "execute_result"
    }
   ],
   "source": [
    "t= np.arange(1,20,1)\n",
    "p= 0.15\n",
    "s=1000000\n",
    "\n",
    "broad= pd.DataFrame({'t':t})\n",
    "broad['S']= 100000*(1-p)**broad.t\n",
    "broad['I']= 100000-broad.S\n",
    "broad.head()"
   ]
  },
  {
   "cell_type": "code",
   "execution_count": 90,
   "metadata": {},
   "outputs": [
    {
     "data": {
      "application/vnd.plotly.v1+json": {
       "config": {
        "plotlyServerURL": "https://plot.ly"
       },
       "data": [
        {
         "hoverlabel": {
          "namelength": 0
         },
         "hovertemplate": "Estado=S<br>t=%{x}<br>value=%{y}",
         "legendgroup": "Estado=S",
         "line": {
          "color": "#636efa",
          "dash": "solid"
         },
         "mode": "lines",
         "name": "Estado=S",
         "showlegend": true,
         "type": "scatter",
         "x": [
          1,
          2,
          3,
          4,
          5,
          6,
          7,
          8,
          9,
          10,
          11,
          12,
          13,
          14,
          15,
          16,
          17,
          18,
          19
         ],
         "xaxis": "x",
         "y": [
          85000,
          72249.99999999999,
          61412.49999999999,
          52200.62499999999,
          44370.53124999999,
          37714.95156249999,
          32057.708828124993,
          27249.052503906245,
          23161.694628320307,
          19687.440434072258,
          16734.32436896142,
          14224.175713617207,
          12090.549356574626,
          10276.966953088431,
          8735.421910125167,
          7425.108623606391,
          6311.342330065432,
          5364.640980555618,
          4559.944833472275
         ],
         "yaxis": "y"
        },
        {
         "hoverlabel": {
          "namelength": 0
         },
         "hovertemplate": "Estado=I<br>t=%{x}<br>value=%{y}",
         "legendgroup": "Estado=I",
         "line": {
          "color": "#EF553B",
          "dash": "solid"
         },
         "mode": "lines",
         "name": "Estado=I",
         "showlegend": true,
         "type": "scatter",
         "x": [
          1,
          2,
          3,
          4,
          5,
          6,
          7,
          8,
          9,
          10,
          11,
          12,
          13,
          14,
          15,
          16,
          17,
          18,
          19
         ],
         "xaxis": "x",
         "y": [
          15000,
          27750.000000000015,
          38587.50000000001,
          47799.37500000001,
          55629.46875000001,
          62285.04843750001,
          67942.29117187501,
          72750.94749609375,
          76838.30537167969,
          80312.55956592775,
          83265.67563103858,
          85775.82428638279,
          87909.45064342537,
          89723.03304691157,
          91264.57808987483,
          92574.89137639361,
          93688.65766993456,
          94635.35901944438,
          95440.05516652773
         ],
         "yaxis": "y"
        }
       ],
       "layout": {
        "height": 400,
        "legend": {
         "tracegroupgap": 0
        },
        "margin": {
         "t": 60
        },
        "template": {
         "data": {
          "bar": [
           {
            "error_x": {
             "color": "#2a3f5f"
            },
            "error_y": {
             "color": "#2a3f5f"
            },
            "marker": {
             "line": {
              "color": "#E5ECF6",
              "width": 0.5
             }
            },
            "type": "bar"
           }
          ],
          "barpolar": [
           {
            "marker": {
             "line": {
              "color": "#E5ECF6",
              "width": 0.5
             }
            },
            "type": "barpolar"
           }
          ],
          "carpet": [
           {
            "aaxis": {
             "endlinecolor": "#2a3f5f",
             "gridcolor": "white",
             "linecolor": "white",
             "minorgridcolor": "white",
             "startlinecolor": "#2a3f5f"
            },
            "baxis": {
             "endlinecolor": "#2a3f5f",
             "gridcolor": "white",
             "linecolor": "white",
             "minorgridcolor": "white",
             "startlinecolor": "#2a3f5f"
            },
            "type": "carpet"
           }
          ],
          "choropleth": [
           {
            "colorbar": {
             "outlinewidth": 0,
             "ticks": ""
            },
            "type": "choropleth"
           }
          ],
          "contour": [
           {
            "colorbar": {
             "outlinewidth": 0,
             "ticks": ""
            },
            "colorscale": [
             [
              0,
              "#0d0887"
             ],
             [
              0.1111111111111111,
              "#46039f"
             ],
             [
              0.2222222222222222,
              "#7201a8"
             ],
             [
              0.3333333333333333,
              "#9c179e"
             ],
             [
              0.4444444444444444,
              "#bd3786"
             ],
             [
              0.5555555555555556,
              "#d8576b"
             ],
             [
              0.6666666666666666,
              "#ed7953"
             ],
             [
              0.7777777777777778,
              "#fb9f3a"
             ],
             [
              0.8888888888888888,
              "#fdca26"
             ],
             [
              1,
              "#f0f921"
             ]
            ],
            "type": "contour"
           }
          ],
          "contourcarpet": [
           {
            "colorbar": {
             "outlinewidth": 0,
             "ticks": ""
            },
            "type": "contourcarpet"
           }
          ],
          "heatmap": [
           {
            "colorbar": {
             "outlinewidth": 0,
             "ticks": ""
            },
            "colorscale": [
             [
              0,
              "#0d0887"
             ],
             [
              0.1111111111111111,
              "#46039f"
             ],
             [
              0.2222222222222222,
              "#7201a8"
             ],
             [
              0.3333333333333333,
              "#9c179e"
             ],
             [
              0.4444444444444444,
              "#bd3786"
             ],
             [
              0.5555555555555556,
              "#d8576b"
             ],
             [
              0.6666666666666666,
              "#ed7953"
             ],
             [
              0.7777777777777778,
              "#fb9f3a"
             ],
             [
              0.8888888888888888,
              "#fdca26"
             ],
             [
              1,
              "#f0f921"
             ]
            ],
            "type": "heatmap"
           }
          ],
          "heatmapgl": [
           {
            "colorbar": {
             "outlinewidth": 0,
             "ticks": ""
            },
            "colorscale": [
             [
              0,
              "#0d0887"
             ],
             [
              0.1111111111111111,
              "#46039f"
             ],
             [
              0.2222222222222222,
              "#7201a8"
             ],
             [
              0.3333333333333333,
              "#9c179e"
             ],
             [
              0.4444444444444444,
              "#bd3786"
             ],
             [
              0.5555555555555556,
              "#d8576b"
             ],
             [
              0.6666666666666666,
              "#ed7953"
             ],
             [
              0.7777777777777778,
              "#fb9f3a"
             ],
             [
              0.8888888888888888,
              "#fdca26"
             ],
             [
              1,
              "#f0f921"
             ]
            ],
            "type": "heatmapgl"
           }
          ],
          "histogram": [
           {
            "marker": {
             "colorbar": {
              "outlinewidth": 0,
              "ticks": ""
             }
            },
            "type": "histogram"
           }
          ],
          "histogram2d": [
           {
            "colorbar": {
             "outlinewidth": 0,
             "ticks": ""
            },
            "colorscale": [
             [
              0,
              "#0d0887"
             ],
             [
              0.1111111111111111,
              "#46039f"
             ],
             [
              0.2222222222222222,
              "#7201a8"
             ],
             [
              0.3333333333333333,
              "#9c179e"
             ],
             [
              0.4444444444444444,
              "#bd3786"
             ],
             [
              0.5555555555555556,
              "#d8576b"
             ],
             [
              0.6666666666666666,
              "#ed7953"
             ],
             [
              0.7777777777777778,
              "#fb9f3a"
             ],
             [
              0.8888888888888888,
              "#fdca26"
             ],
             [
              1,
              "#f0f921"
             ]
            ],
            "type": "histogram2d"
           }
          ],
          "histogram2dcontour": [
           {
            "colorbar": {
             "outlinewidth": 0,
             "ticks": ""
            },
            "colorscale": [
             [
              0,
              "#0d0887"
             ],
             [
              0.1111111111111111,
              "#46039f"
             ],
             [
              0.2222222222222222,
              "#7201a8"
             ],
             [
              0.3333333333333333,
              "#9c179e"
             ],
             [
              0.4444444444444444,
              "#bd3786"
             ],
             [
              0.5555555555555556,
              "#d8576b"
             ],
             [
              0.6666666666666666,
              "#ed7953"
             ],
             [
              0.7777777777777778,
              "#fb9f3a"
             ],
             [
              0.8888888888888888,
              "#fdca26"
             ],
             [
              1,
              "#f0f921"
             ]
            ],
            "type": "histogram2dcontour"
           }
          ],
          "mesh3d": [
           {
            "colorbar": {
             "outlinewidth": 0,
             "ticks": ""
            },
            "type": "mesh3d"
           }
          ],
          "parcoords": [
           {
            "line": {
             "colorbar": {
              "outlinewidth": 0,
              "ticks": ""
             }
            },
            "type": "parcoords"
           }
          ],
          "scatter": [
           {
            "marker": {
             "colorbar": {
              "outlinewidth": 0,
              "ticks": ""
             }
            },
            "type": "scatter"
           }
          ],
          "scatter3d": [
           {
            "line": {
             "colorbar": {
              "outlinewidth": 0,
              "ticks": ""
             }
            },
            "marker": {
             "colorbar": {
              "outlinewidth": 0,
              "ticks": ""
             }
            },
            "type": "scatter3d"
           }
          ],
          "scattercarpet": [
           {
            "marker": {
             "colorbar": {
              "outlinewidth": 0,
              "ticks": ""
             }
            },
            "type": "scattercarpet"
           }
          ],
          "scattergeo": [
           {
            "marker": {
             "colorbar": {
              "outlinewidth": 0,
              "ticks": ""
             }
            },
            "type": "scattergeo"
           }
          ],
          "scattergl": [
           {
            "marker": {
             "colorbar": {
              "outlinewidth": 0,
              "ticks": ""
             }
            },
            "type": "scattergl"
           }
          ],
          "scattermapbox": [
           {
            "marker": {
             "colorbar": {
              "outlinewidth": 0,
              "ticks": ""
             }
            },
            "type": "scattermapbox"
           }
          ],
          "scatterpolar": [
           {
            "marker": {
             "colorbar": {
              "outlinewidth": 0,
              "ticks": ""
             }
            },
            "type": "scatterpolar"
           }
          ],
          "scatterpolargl": [
           {
            "marker": {
             "colorbar": {
              "outlinewidth": 0,
              "ticks": ""
             }
            },
            "type": "scatterpolargl"
           }
          ],
          "scatterternary": [
           {
            "marker": {
             "colorbar": {
              "outlinewidth": 0,
              "ticks": ""
             }
            },
            "type": "scatterternary"
           }
          ],
          "surface": [
           {
            "colorbar": {
             "outlinewidth": 0,
             "ticks": ""
            },
            "colorscale": [
             [
              0,
              "#0d0887"
             ],
             [
              0.1111111111111111,
              "#46039f"
             ],
             [
              0.2222222222222222,
              "#7201a8"
             ],
             [
              0.3333333333333333,
              "#9c179e"
             ],
             [
              0.4444444444444444,
              "#bd3786"
             ],
             [
              0.5555555555555556,
              "#d8576b"
             ],
             [
              0.6666666666666666,
              "#ed7953"
             ],
             [
              0.7777777777777778,
              "#fb9f3a"
             ],
             [
              0.8888888888888888,
              "#fdca26"
             ],
             [
              1,
              "#f0f921"
             ]
            ],
            "type": "surface"
           }
          ],
          "table": [
           {
            "cells": {
             "fill": {
              "color": "#EBF0F8"
             },
             "line": {
              "color": "white"
             }
            },
            "header": {
             "fill": {
              "color": "#C8D4E3"
             },
             "line": {
              "color": "white"
             }
            },
            "type": "table"
           }
          ]
         },
         "layout": {
          "annotationdefaults": {
           "arrowcolor": "#2a3f5f",
           "arrowhead": 0,
           "arrowwidth": 1
          },
          "colorscale": {
           "diverging": [
            [
             0,
             "#8e0152"
            ],
            [
             0.1,
             "#c51b7d"
            ],
            [
             0.2,
             "#de77ae"
            ],
            [
             0.3,
             "#f1b6da"
            ],
            [
             0.4,
             "#fde0ef"
            ],
            [
             0.5,
             "#f7f7f7"
            ],
            [
             0.6,
             "#e6f5d0"
            ],
            [
             0.7,
             "#b8e186"
            ],
            [
             0.8,
             "#7fbc41"
            ],
            [
             0.9,
             "#4d9221"
            ],
            [
             1,
             "#276419"
            ]
           ],
           "sequential": [
            [
             0,
             "#0d0887"
            ],
            [
             0.1111111111111111,
             "#46039f"
            ],
            [
             0.2222222222222222,
             "#7201a8"
            ],
            [
             0.3333333333333333,
             "#9c179e"
            ],
            [
             0.4444444444444444,
             "#bd3786"
            ],
            [
             0.5555555555555556,
             "#d8576b"
            ],
            [
             0.6666666666666666,
             "#ed7953"
            ],
            [
             0.7777777777777778,
             "#fb9f3a"
            ],
            [
             0.8888888888888888,
             "#fdca26"
            ],
            [
             1,
             "#f0f921"
            ]
           ],
           "sequentialminus": [
            [
             0,
             "#0d0887"
            ],
            [
             0.1111111111111111,
             "#46039f"
            ],
            [
             0.2222222222222222,
             "#7201a8"
            ],
            [
             0.3333333333333333,
             "#9c179e"
            ],
            [
             0.4444444444444444,
             "#bd3786"
            ],
            [
             0.5555555555555556,
             "#d8576b"
            ],
            [
             0.6666666666666666,
             "#ed7953"
            ],
            [
             0.7777777777777778,
             "#fb9f3a"
            ],
            [
             0.8888888888888888,
             "#fdca26"
            ],
            [
             1,
             "#f0f921"
            ]
           ]
          },
          "colorway": [
           "#636efa",
           "#EF553B",
           "#00cc96",
           "#ab63fa",
           "#FFA15A",
           "#19d3f3",
           "#FF6692",
           "#B6E880",
           "#FF97FF",
           "#FECB52"
          ],
          "font": {
           "color": "#2a3f5f"
          },
          "geo": {
           "bgcolor": "white",
           "lakecolor": "white",
           "landcolor": "#E5ECF6",
           "showlakes": true,
           "showland": true,
           "subunitcolor": "white"
          },
          "hoverlabel": {
           "align": "left"
          },
          "hovermode": "closest",
          "mapbox": {
           "style": "light"
          },
          "paper_bgcolor": "white",
          "plot_bgcolor": "#E5ECF6",
          "polar": {
           "angularaxis": {
            "gridcolor": "white",
            "linecolor": "white",
            "ticks": ""
           },
           "bgcolor": "#E5ECF6",
           "radialaxis": {
            "gridcolor": "white",
            "linecolor": "white",
            "ticks": ""
           }
          },
          "scene": {
           "xaxis": {
            "backgroundcolor": "#E5ECF6",
            "gridcolor": "white",
            "gridwidth": 2,
            "linecolor": "white",
            "showbackground": true,
            "ticks": "",
            "zerolinecolor": "white"
           },
           "yaxis": {
            "backgroundcolor": "#E5ECF6",
            "gridcolor": "white",
            "gridwidth": 2,
            "linecolor": "white",
            "showbackground": true,
            "ticks": "",
            "zerolinecolor": "white"
           },
           "zaxis": {
            "backgroundcolor": "#E5ECF6",
            "gridcolor": "white",
            "gridwidth": 2,
            "linecolor": "white",
            "showbackground": true,
            "ticks": "",
            "zerolinecolor": "white"
           }
          },
          "shapedefaults": {
           "line": {
            "color": "#2a3f5f"
           }
          },
          "ternary": {
           "aaxis": {
            "gridcolor": "white",
            "linecolor": "white",
            "ticks": ""
           },
           "baxis": {
            "gridcolor": "white",
            "linecolor": "white",
            "ticks": ""
           },
           "bgcolor": "#E5ECF6",
           "caxis": {
            "gridcolor": "white",
            "linecolor": "white",
            "ticks": ""
           }
          },
          "title": {
           "x": 0.05
          },
          "xaxis": {
           "automargin": true,
           "gridcolor": "white",
           "linecolor": "white",
           "ticks": "",
           "zerolinecolor": "white",
           "zerolinewidth": 2
          },
          "yaxis": {
           "automargin": true,
           "gridcolor": "white",
           "linecolor": "white",
           "ticks": "",
           "zerolinecolor": "white",
           "zerolinewidth": 2
          }
         }
        },
        "width": 600,
        "xaxis": {
         "anchor": "y",
         "autorange": true,
         "domain": [
          0,
          0.98
         ],
         "range": [
          1,
          19
         ],
         "title": {
          "text": "t"
         },
         "type": "linear"
        },
        "yaxis": {
         "anchor": "x",
         "autorange": true,
         "domain": [
          0,
          1
         ],
         "range": [
          -488.9501850308061,
          100488.95018503082
         ],
         "title": {
          "text": "value"
         },
         "type": "linear"
        }
       }
      },
      "image/png": "[encoded data removed]",
      "text/html": [
       "<div>\n",
       "        \n",
       "        \n",
       "            <div id=\"89604a75-310b-4e27-bb7f-d40bc7472ec9\" class=\"plotly-graph-div\" style=\"height:400px; width:600px;\"></div>\n",
       "            <script type=\"text/javascript\">\n",
       "                require([\"plotly\"], function(Plotly) {\n",
       "                    window.PLOTLYENV=window.PLOTLYENV || {};\n",
       "                    \n",
       "                if (document.getElementById(\"89604a75-310b-4e27-bb7f-d40bc7472ec9\")) {\n",
       "                    Plotly.newPlot(\n",
       "                        '89604a75-310b-4e27-bb7f-d40bc7472ec9',\n",
       "                        [{\"hoverlabel\": {\"namelength\": 0}, \"hovertemplate\": \"Estado=S<br>t=%{x}<br>value=%{y}\", \"legendgroup\": \"Estado=S\", \"line\": {\"color\": \"#636efa\", \"dash\": \"solid\"}, \"mode\": \"lines\", \"name\": \"Estado=S\", \"showlegend\": true, \"type\": \"scatter\", \"x\": [1, 2, 3, 4, 5, 6, 7, 8, 9, 10, 11, 12, 13, 14, 15, 16, 17, 18, 19], \"xaxis\": \"x\", \"y\": [85000.0, 72249.99999999999, 61412.49999999999, 52200.62499999999, 44370.53124999999, 37714.95156249999, 32057.708828124993, 27249.052503906245, 23161.694628320307, 19687.440434072258, 16734.32436896142, 14224.175713617207, 12090.549356574626, 10276.966953088431, 8735.421910125167, 7425.108623606391, 6311.342330065432, 5364.640980555618, 4559.944833472275], \"yaxis\": \"y\"}, {\"hoverlabel\": {\"namelength\": 0}, \"hovertemplate\": \"Estado=I<br>t=%{x}<br>value=%{y}\", \"legendgroup\": \"Estado=I\", \"line\": {\"color\": \"#EF553B\", \"dash\": \"solid\"}, \"mode\": \"lines\", \"name\": \"Estado=I\", \"showlegend\": true, \"type\": \"scatter\", \"x\": [1, 2, 3, 4, 5, 6, 7, 8, 9, 10, 11, 12, 13, 14, 15, 16, 17, 18, 19], \"xaxis\": \"x\", \"y\": [15000.0, 27750.000000000015, 38587.50000000001, 47799.37500000001, 55629.46875000001, 62285.04843750001, 67942.29117187501, 72750.94749609375, 76838.30537167969, 80312.55956592775, 83265.67563103858, 85775.82428638279, 87909.45064342537, 89723.03304691157, 91264.57808987483, 92574.89137639361, 93688.65766993456, 94635.35901944438, 95440.05516652773], \"yaxis\": \"y\"}],\n",
       "                        {\"height\": 400, \"legend\": {\"tracegroupgap\": 0}, \"margin\": {\"t\": 60}, \"template\": {\"data\": {\"bar\": [{\"error_x\": {\"color\": \"#2a3f5f\"}, \"error_y\": {\"color\": \"#2a3f5f\"}, \"marker\": {\"line\": {\"color\": \"#E5ECF6\", \"width\": 0.5}}, \"type\": \"bar\"}], \"barpolar\": [{\"marker\": {\"line\": {\"color\": \"#E5ECF6\", \"width\": 0.5}}, \"type\": \"barpolar\"}], \"carpet\": [{\"aaxis\": {\"endlinecolor\": \"#2a3f5f\", \"gridcolor\": \"white\", \"linecolor\": \"white\", \"minorgridcolor\": \"white\", \"startlinecolor\": \"#2a3f5f\"}, \"baxis\": {\"endlinecolor\": \"#2a3f5f\", \"gridcolor\": \"white\", \"linecolor\": \"white\", \"minorgridcolor\": \"white\", \"startlinecolor\": \"#2a3f5f\"}, \"type\": \"carpet\"}], \"choropleth\": [{\"colorbar\": {\"outlinewidth\": 0, \"ticks\": \"\"}, \"type\": \"choropleth\"}], \"contour\": [{\"colorbar\": {\"outlinewidth\": 0, \"ticks\": \"\"}, \"colorscale\": [[0.0, \"#0d0887\"], [0.1111111111111111, \"#46039f\"], [0.2222222222222222, \"#7201a8\"], [0.3333333333333333, \"#9c179e\"], [0.4444444444444444, \"#bd3786\"], [0.5555555555555556, \"#d8576b\"], [0.6666666666666666, \"#ed7953\"], [0.7777777777777778, \"#fb9f3a\"], [0.8888888888888888, \"#fdca26\"], [1.0, \"#f0f921\"]], \"type\": \"contour\"}], \"contourcarpet\": [{\"colorbar\": {\"outlinewidth\": 0, \"ticks\": \"\"}, \"type\": \"contourcarpet\"}], \"heatmap\": [{\"colorbar\": {\"outlinewidth\": 0, \"ticks\": \"\"}, \"colorscale\": [[0.0, \"#0d0887\"], [0.1111111111111111, \"#46039f\"], [0.2222222222222222, \"#7201a8\"], [0.3333333333333333, \"#9c179e\"], [0.4444444444444444, \"#bd3786\"], [0.5555555555555556, \"#d8576b\"], [0.6666666666666666, \"#ed7953\"], [0.7777777777777778, \"#fb9f3a\"], [0.8888888888888888, \"#fdca26\"], [1.0, \"#f0f921\"]], \"type\": \"heatmap\"}], \"heatmapgl\": [{\"colorbar\": {\"outlinewidth\": 0, \"ticks\": \"\"}, \"colorscale\": [[0.0, \"#0d0887\"], [0.1111111111111111, \"#46039f\"], [0.2222222222222222, \"#7201a8\"], [0.3333333333333333, \"#9c179e\"], [0.4444444444444444, \"#bd3786\"], [0.5555555555555556, \"#d8576b\"], [0.6666666666666666, \"#ed7953\"], [0.7777777777777778, \"#fb9f3a\"], [0.8888888888888888, \"#fdca26\"], [1.0, \"#f0f921\"]], \"type\": \"heatmapgl\"}], \"histogram\": [{\"marker\": {\"colorbar\": {\"outlinewidth\": 0, \"ticks\": \"\"}}, \"type\": \"histogram\"}], \"histogram2d\": [{\"colorbar\": {\"outlinewidth\": 0, \"ticks\": \"\"}, \"colorscale\": [[0.0, \"#0d0887\"], [0.1111111111111111, \"#46039f\"], [0.2222222222222222, \"#7201a8\"], [0.3333333333333333, \"#9c179e\"], [0.4444444444444444, \"#bd3786\"], [0.5555555555555556, \"#d8576b\"], [0.6666666666666666, \"#ed7953\"], [0.7777777777777778, \"#fb9f3a\"], [0.8888888888888888, \"#fdca26\"], [1.0, \"#f0f921\"]], \"type\": \"histogram2d\"}], \"histogram2dcontour\": [{\"colorbar\": {\"outlinewidth\": 0, \"ticks\": \"\"}, \"colorscale\": [[0.0, \"#0d0887\"], [0.1111111111111111, \"#46039f\"], [0.2222222222222222, \"#7201a8\"], [0.3333333333333333, \"#9c179e\"], [0.4444444444444444, \"#bd3786\"], [0.5555555555555556, \"#d8576b\"], [0.6666666666666666, \"#ed7953\"], [0.7777777777777778, \"#fb9f3a\"], [0.8888888888888888, \"#fdca26\"], [1.0, \"#f0f921\"]], \"type\": \"histogram2dcontour\"}], \"mesh3d\": [{\"colorbar\": {\"outlinewidth\": 0, \"ticks\": \"\"}, \"type\": \"mesh3d\"}], \"parcoords\": [{\"line\": {\"colorbar\": {\"outlinewidth\": 0, \"ticks\": \"\"}}, \"type\": \"parcoords\"}], \"scatter\": [{\"marker\": {\"colorbar\": {\"outlinewidth\": 0, \"ticks\": \"\"}}, \"type\": \"scatter\"}], \"scatter3d\": [{\"line\": {\"colorbar\": {\"outlinewidth\": 0, \"ticks\": \"\"}}, \"marker\": {\"colorbar\": {\"outlinewidth\": 0, \"ticks\": \"\"}}, \"type\": \"scatter3d\"}], \"scattercarpet\": [{\"marker\": {\"colorbar\": {\"outlinewidth\": 0, \"ticks\": \"\"}}, \"type\": \"scattercarpet\"}], \"scattergeo\": [{\"marker\": {\"colorbar\": {\"outlinewidth\": 0, \"ticks\": \"\"}}, \"type\": \"scattergeo\"}], \"scattergl\": [{\"marker\": {\"colorbar\": {\"outlinewidth\": 0, \"ticks\": \"\"}}, \"type\": \"scattergl\"}], \"scattermapbox\": [{\"marker\": {\"colorbar\": {\"outlinewidth\": 0, \"ticks\": \"\"}}, \"type\": \"scattermapbox\"}], \"scatterpolar\": [{\"marker\": {\"colorbar\": {\"outlinewidth\": 0, \"ticks\": \"\"}}, \"type\": \"scatterpolar\"}], \"scatterpolargl\": [{\"marker\": {\"colorbar\": {\"outlinewidth\": 0, \"ticks\": \"\"}}, \"type\": \"scatterpolargl\"}], \"scatterternary\": [{\"marker\": {\"colorbar\": {\"outlinewidth\": 0, \"ticks\": \"\"}}, \"type\": \"scatterternary\"}], \"surface\": [{\"colorbar\": {\"outlinewidth\": 0, \"ticks\": \"\"}, \"colorscale\": [[0.0, \"#0d0887\"], [0.1111111111111111, \"#46039f\"], [0.2222222222222222, \"#7201a8\"], [0.3333333333333333, \"#9c179e\"], [0.4444444444444444, \"#bd3786\"], [0.5555555555555556, \"#d8576b\"], [0.6666666666666666, \"#ed7953\"], [0.7777777777777778, \"#fb9f3a\"], [0.8888888888888888, \"#fdca26\"], [1.0, \"#f0f921\"]], \"type\": \"surface\"}], \"table\": [{\"cells\": {\"fill\": {\"color\": \"#EBF0F8\"}, \"line\": {\"color\": \"white\"}}, \"header\": {\"fill\": {\"color\": \"#C8D4E3\"}, \"line\": {\"color\": \"white\"}}, \"type\": \"table\"}]}, \"layout\": {\"annotationdefaults\": {\"arrowcolor\": \"#2a3f5f\", \"arrowhead\": 0, \"arrowwidth\": 1}, \"colorscale\": {\"diverging\": [[0, \"#8e0152\"], [0.1, \"#c51b7d\"], [0.2, \"#de77ae\"], [0.3, \"#f1b6da\"], [0.4, \"#fde0ef\"], [0.5, \"#f7f7f7\"], [0.6, \"#e6f5d0\"], [0.7, \"#b8e186\"], [0.8, \"#7fbc41\"], [0.9, \"#4d9221\"], [1, \"#276419\"]], \"sequential\": [[0.0, \"#0d0887\"], [0.1111111111111111, \"#46039f\"], [0.2222222222222222, \"#7201a8\"], [0.3333333333333333, \"#9c179e\"], [0.4444444444444444, \"#bd3786\"], [0.5555555555555556, \"#d8576b\"], [0.6666666666666666, \"#ed7953\"], [0.7777777777777778, \"#fb9f3a\"], [0.8888888888888888, \"#fdca26\"], [1.0, \"#f0f921\"]], \"sequentialminus\": [[0.0, \"#0d0887\"], [0.1111111111111111, \"#46039f\"], [0.2222222222222222, \"#7201a8\"], [0.3333333333333333, \"#9c179e\"], [0.4444444444444444, \"#bd3786\"], [0.5555555555555556, \"#d8576b\"], [0.6666666666666666, \"#ed7953\"], [0.7777777777777778, \"#fb9f3a\"], [0.8888888888888888, \"#fdca26\"], [1.0, \"#f0f921\"]]}, \"colorway\": [\"#636efa\", \"#EF553B\", \"#00cc96\", \"#ab63fa\", \"#FFA15A\", \"#19d3f3\", \"#FF6692\", \"#B6E880\", \"#FF97FF\", \"#FECB52\"], \"font\": {\"color\": \"#2a3f5f\"}, \"geo\": {\"bgcolor\": \"white\", \"lakecolor\": \"white\", \"landcolor\": \"#E5ECF6\", \"showlakes\": true, \"showland\": true, \"subunitcolor\": \"white\"}, \"hoverlabel\": {\"align\": \"left\"}, \"hovermode\": \"closest\", \"mapbox\": {\"style\": \"light\"}, \"paper_bgcolor\": \"white\", \"plot_bgcolor\": \"#E5ECF6\", \"polar\": {\"angularaxis\": {\"gridcolor\": \"white\", \"linecolor\": \"white\", \"ticks\": \"\"}, \"bgcolor\": \"#E5ECF6\", \"radialaxis\": {\"gridcolor\": \"white\", \"linecolor\": \"white\", \"ticks\": \"\"}}, \"scene\": {\"xaxis\": {\"backgroundcolor\": \"#E5ECF6\", \"gridcolor\": \"white\", \"gridwidth\": 2, \"linecolor\": \"white\", \"showbackground\": true, \"ticks\": \"\", \"zerolinecolor\": \"white\"}, \"yaxis\": {\"backgroundcolor\": \"#E5ECF6\", \"gridcolor\": \"white\", \"gridwidth\": 2, \"linecolor\": \"white\", \"showbackground\": true, \"ticks\": \"\", \"zerolinecolor\": \"white\"}, \"zaxis\": {\"backgroundcolor\": \"#E5ECF6\", \"gridcolor\": \"white\", \"gridwidth\": 2, \"linecolor\": \"white\", \"showbackground\": true, \"ticks\": \"\", \"zerolinecolor\": \"white\"}}, \"shapedefaults\": {\"line\": {\"color\": \"#2a3f5f\"}}, \"ternary\": {\"aaxis\": {\"gridcolor\": \"white\", \"linecolor\": \"white\", \"ticks\": \"\"}, \"baxis\": {\"gridcolor\": \"white\", \"linecolor\": \"white\", \"ticks\": \"\"}, \"bgcolor\": \"#E5ECF6\", \"caxis\": {\"gridcolor\": \"white\", \"linecolor\": \"white\", \"ticks\": \"\"}}, \"title\": {\"x\": 0.05}, \"xaxis\": {\"automargin\": true, \"gridcolor\": \"white\", \"linecolor\": \"white\", \"ticks\": \"\", \"zerolinecolor\": \"white\", \"zerolinewidth\": 2}, \"yaxis\": {\"automargin\": true, \"gridcolor\": \"white\", \"linecolor\": \"white\", \"ticks\": \"\", \"zerolinecolor\": \"white\", \"zerolinewidth\": 2}}}, \"width\": 600, \"xaxis\": {\"anchor\": \"y\", \"domain\": [0.0, 0.98], \"title\": {\"text\": \"t\"}}, \"yaxis\": {\"anchor\": \"x\", \"domain\": [0.0, 1.0], \"title\": {\"text\": \"value\"}}},\n",
       "                        {\"responsive\": true}\n",
       "                    ).then(function(){\n",
       "                            \n",
       "var gd = document.getElementById('89604a75-310b-4e27-bb7f-d40bc7472ec9');\n",
       "var x = new MutationObserver(function (mutations, observer) {{\n",
       "        var display = window.getComputedStyle(gd).display;\n",
       "        if (!display || display === 'none') {{\n",
       "            console.log([gd, 'removed!']);\n",
       "            Plotly.purge(gd);\n",
       "            observer.disconnect();\n",
       "        }}\n",
       "}});\n",
       "\n",
       "// Listen for the removal of the full notebook cells\n",
       "var notebookContainer = gd.closest('#notebook-container');\n",
       "if (notebookContainer) {{\n",
       "    x.observe(notebookContainer, {childList: true});\n",
       "}}\n",
       "\n",
       "// Listen for the clearing of the current output cell\n",
       "var outputEl = gd.closest('.output');\n",
       "if (outputEl) {{\n",
       "    x.observe(outputEl, {childList: true});\n",
       "}}\n",
       "\n",
       "                        })\n",
       "                };\n",
       "                });\n",
       "            </script>\n",
       "        </div>"
      ]
     },
     "metadata": {},
     "output_type": "display_data"
    }
   ],
   "source": [
    "broad= broad.melt(id_vars=['t'], var_name='Estado')\n",
    "px.line(broad,x='t',y='value',color='Estado',height=400,width=600)"
   ]
  },
  {
   "cell_type": "markdown",
   "metadata": {},
   "source": [
    "Aca hago simplemente $I_t=S_0-[S_0(1-p)^t]$"
   ]
  },
  {
   "cell_type": "code",
   "execution_count": 96,
   "metadata": {},
   "outputs": [
    {
     "data": {
      "text/html": [
       "<div>\n",
       "<style scoped>\n",
       "    .dataframe tbody tr th:only-of-type {\n",
       "        vertical-align: middle;\n",
       "    }\n",
       "\n",
       "    .dataframe tbody tr th {\n",
       "        vertical-align: top;\n",
       "    }\n",
       "\n",
       "    .dataframe thead th {\n",
       "        text-align: right;\n",
       "    }\n",
       "</style>\n",
       "<table border=\"1\" class=\"dataframe\">\n",
       "  <thead>\n",
       "    <tr style=\"text-align: right;\">\n",
       "      <th></th>\n",
       "      <th>t</th>\n",
       "      <th>I</th>\n",
       "    </tr>\n",
       "  </thead>\n",
       "  <tbody>\n",
       "    <tr>\n",
       "      <th>0</th>\n",
       "      <td>1</td>\n",
       "      <td>150000.0000</td>\n",
       "    </tr>\n",
       "    <tr>\n",
       "      <th>1</th>\n",
       "      <td>2</td>\n",
       "      <td>277500.0000</td>\n",
       "    </tr>\n",
       "    <tr>\n",
       "      <th>2</th>\n",
       "      <td>3</td>\n",
       "      <td>385875.0000</td>\n",
       "    </tr>\n",
       "    <tr>\n",
       "      <th>3</th>\n",
       "      <td>4</td>\n",
       "      <td>477993.7500</td>\n",
       "    </tr>\n",
       "    <tr>\n",
       "      <th>4</th>\n",
       "      <td>5</td>\n",
       "      <td>556294.6875</td>\n",
       "    </tr>\n",
       "  </tbody>\n",
       "</table>\n",
       "</div>"
      ],
      "text/plain": [
       "   t            I\n",
       "0  1  150000.0000\n",
       "1  2  277500.0000\n",
       "2  3  385875.0000\n",
       "3  4  477993.7500\n",
       "4  5  556294.6875"
      ]
     },
     "execution_count": 96,
     "metadata": {},
     "output_type": "execute_result"
    }
   ],
   "source": [
    "t= np.arange(1,20,1)\n",
    "p= 0.15\n",
    "s=1000000\n",
    "\n",
    "broad= pd.DataFrame({'t':t})\n",
    "broad['I']= 1000000-(1000000*(1-p)**broad.t)\n",
    "broad.head()"
   ]
  },
  {
   "cell_type": "markdown",
   "metadata": {},
   "source": [
    "#### Ajustando el modelo a datos\n",
    "\n",
    "Una vez que sabemos que **TIPO DE MODELO (con las suposiciones del modelo)** es, podemos acercarlo a los datos de la realidad para sacar conclusiones especificas del caso.\n",
    "\n",
    "Usando datos de ventas iniciales, podemos **estimar el tamaño de la poblacion**. Como estamos suponiendo que **todos se van a enterar en algun momento**, podemos ver a la velocidad que se enteran en unos periodos para estimar la cantidad de gente que hay en esa poblacion: Hay 20000 enterados en periodo 1 y 36000 en periodo 2.\n",
    "\n",
    "- Periodo 1: $I_1=20000=P*N$\n",
    "- Periodo 2: $I_2=36000=20000+P*(N-20000)$\n",
    "- Periodo 3: $I_3=49000=36000+P*(N-36000)$\n",
    "- Solucion: $P=0.2$ y $N=100000$\n",
    "\n",
    "Entonces, si queremos **proyectar**, segun este modelo, **cuanta gente se va a enterar**, comenzamos pensando que hay un numero de gente que es la poblacion total, y un porcentaje que es el fijo que la gente se entera (porque asumimos que solo se enteran por unico medio). Sabemos que estan ahi pero no cuales son. Si los primeros resultados son 20000, sabemos que eso tiene que ser $P*N$, entonces con un dato mas ya podemos estimar como es la curva y ver donde termina."
   ]
  },
  {
   "cell_type": "markdown",
   "metadata": {},
   "source": [
    "### Diffusion Model\n",
    "\n",
    "#### Cuando una persona se infecta, esa persona tiene una probabilidad de pasarselo a las personas con las que tiene contacto. \n",
    "La expansion se hace **de individuo a individuo**. No se considera la \"eleccion\" en este modelo (que la persona que se expone decida informarse (como adoptar una nueva tecnologia), sino que lo absorbemos en la probabilidad (si la tecnologia/idea es buena, va a tener mas prob de contagio).\n",
    "\n",
    "La gente se informa/infecta cuando: \n",
    "- **Probabilidad de contacto**: tiene contacto con una persona infectada\n",
    "- **Probabilidad de contagio**: le pasa la idea/enfermedad\n",
    "\n",
    "Son dos eventos que varian segun el contexto (por ej en ciudades la probabilidad de contacto es mayor) y las noticias jugosas (de aliens) tienen mas llegada/ probabilidad de contagio que otras.\n",
    "\n",
    "- **DIFUSSION PROBABILIY**: es el producto de de la **probabilidad de contacto** y la **probabilidad de contagio**.\n",
    "\n",
    "**Suposicion**: el modelo asume **random mixing**: que dos personas cualquiera en una poblacion tienen la misma probabilidad de contactarse (a diferencia de otros como los de redes).\n",
    "\n",
    "#### $$I_{t+1}=I_t+P_{diffuse}*\\frac{I_t}{N}*S_t$$\n",
    "\n",
    "donde $P_{diffuse}=P_{spread}*P_{contact}$. Como ahora no se contagia mas de una sola fuente, el nivel de contagio esta influido por la gente que ya esta contagiada. Por eso se le agrega el **porcentaje de gente contagiada**. \n",
    "\n",
    "- $\\frac{I_t}{N}$: llegada o alcance. Cantidad relativa de los medios de difusion\n",
    "- $P_{contact}$: facilidad de encontrarme o exponerme a esas personas infectadas\n",
    "- $P_{spread}$: peligrosidad de, una vez que me encuentro con alguien, de que me lo pase\n",
    "\n",
    "Todos esos son porcentajes. Si eso se lo aplicamos a las personas que estan susceptibles, nos da la cantidad de gente que va a infectarse. A su vez, $\\frac{I_t}{N}$ se compensa con $S_t$, porque si aumenta el primero, disminuye el segundo.\n",
    "\n",
    "Es como pensar: la probabilidad de que me contagie depende del porcentaje de gente contagiada $\\frac{I_t}{N}$ (porque es el alcance que tiene), despues de la probabilidad de que me encuentre una de esas personas $P_{contact}$ (segun ciertos recaudos o condiciones como el aislamiento) y despues de que contagie $P_{spread}$ (como ciertas medidas de higiene. "
   ]
  },
  {
   "cell_type": "code",
   "execution_count": 145,
   "metadata": {},
   "outputs": [
    {
     "data": {
      "text/html": [
       "<div>\n",
       "<style scoped>\n",
       "    .dataframe tbody tr th:only-of-type {\n",
       "        vertical-align: middle;\n",
       "    }\n",
       "\n",
       "    .dataframe tbody tr th {\n",
       "        vertical-align: top;\n",
       "    }\n",
       "\n",
       "    .dataframe thead th {\n",
       "        text-align: right;\n",
       "    }\n",
       "</style>\n",
       "<table border=\"1\" class=\"dataframe\">\n",
       "  <thead>\n",
       "    <tr style=\"text-align: right;\">\n",
       "      <th></th>\n",
       "      <th>t</th>\n",
       "      <th>I</th>\n",
       "      <th>S</th>\n",
       "      <th>p</th>\n",
       "    </tr>\n",
       "  </thead>\n",
       "  <tbody>\n",
       "    <tr>\n",
       "      <th>0</th>\n",
       "      <td>1.0</td>\n",
       "      <td>1.000000</td>\n",
       "      <td>1000000.000000</td>\n",
       "      <td>0.05</td>\n",
       "    </tr>\n",
       "    <tr>\n",
       "      <th>1</th>\n",
       "      <td>2.0</td>\n",
       "      <td>1.000000</td>\n",
       "      <td>1000000.000000</td>\n",
       "      <td>0.05</td>\n",
       "    </tr>\n",
       "    <tr>\n",
       "      <th>2</th>\n",
       "      <td>3.0</td>\n",
       "      <td>1.050000</td>\n",
       "      <td>999998.950000</td>\n",
       "      <td>0.05</td>\n",
       "    </tr>\n",
       "    <tr>\n",
       "      <th>3</th>\n",
       "      <td>4.0</td>\n",
       "      <td>1.102500</td>\n",
       "      <td>999998.897500</td>\n",
       "      <td>0.05</td>\n",
       "    </tr>\n",
       "    <tr>\n",
       "      <th>4</th>\n",
       "      <td>5.0</td>\n",
       "      <td>1.157625</td>\n",
       "      <td>999998.842375</td>\n",
       "      <td>0.05</td>\n",
       "    </tr>\n",
       "  </tbody>\n",
       "</table>\n",
       "</div>"
      ],
      "text/plain": [
       "     t         I               S     p\n",
       "0  1.0  1.000000  1000000.000000  0.05\n",
       "1  2.0  1.000000  1000000.000000  0.05\n",
       "2  3.0  1.050000   999998.950000  0.05\n",
       "3  4.0  1.102500   999998.897500  0.05\n",
       "4  5.0  1.157625   999998.842375  0.05"
      ]
     },
     "execution_count": 145,
     "metadata": {},
     "output_type": "execute_result"
    }
   ],
   "source": [
    "t= np.arange(1,400,1)\n",
    "N= 1000000\n",
    "\n",
    "p= 0.05\n",
    "df= pd.DataFrame({'t':t})\n",
    "df['I']= 1\n",
    "df['S']= N\n",
    "df['p']=p\n",
    "for i in t:\n",
    "    df.loc[i+1,'I']= df.loc[i,'I'] + p * df.loc[i,'S']  * df.loc[i,'I']/N\n",
    "    df.loc[i+1,'S']= N-df.loc[i+1,'I']\n",
    "\n",
    "p= 0.1\n",
    "df2= pd.DataFrame({'t':t})\n",
    "df2['I']= 1\n",
    "df2['S']= N\n",
    "df2['p']=p\n",
    "for i in t:\n",
    "    df2.loc[i+1,'I']= df2.loc[i,'I'] + p * df2.loc[i,'S']  * df2.loc[i,'I']/N\n",
    "    df2.loc[i+1,'S']= N-df2.loc[i+1,'I']\n",
    "\n",
    "p= 0.25\n",
    "df3= pd.DataFrame({'t':t})\n",
    "df3['I']= 1\n",
    "df3['S']= N\n",
    "df3['p']=p\n",
    "for i in t:\n",
    "    df3.loc[i+1,'I']= df3.loc[i,'I'] + p * df3.loc[i,'S']  * df3.loc[i,'I']/N\n",
    "    df3.loc[i+1,'S']= N-df3.loc[i+1,'I']\n",
    "  \n",
    "p= 0.40\n",
    "df4= pd.DataFrame({'t':t})\n",
    "df4['I']= 1\n",
    "df4['S']= N\n",
    "df4['p']=p\n",
    "for i in t:\n",
    "    df4.loc[i+1,'I']= df4.loc[i,'I'] + p * df4.loc[i,'S']  * df4.loc[i,'I']/N\n",
    "    df4.loc[i+1,'S']= N-df4.loc[i+1,'I']\n",
    "    \n",
    "df= pd.concat([df,df2,df3,df4])\n",
    "df= df.dropna().reset_index(drop=True)\n",
    "df.head()"
   ]
  },
  {
   "cell_type": "code",
   "execution_count": 146,
   "metadata": {},
   "outputs": [],
   "source": [
    "df= df.melt(id_vars=['t','p'], value_vars=['I','S'] ,var_name='Estado')"
   ]
  },
  {
   "cell_type": "code",
   "execution_count": 147,
   "metadata": {},
   "outputs": [
    {
     "data": {
      "application/vnd.plotly.v1+json": {
       "config": {
        "plotlyServerURL": "https://plot.ly"
       },
       "data": [
        {
         "hoverlabel": {
          "namelength": 0
         },
         "hovertemplate": "p=0.05<br>Estado=I<br>t=%{x}<br>value=%{y}",
         "legendgroup": "p=0.05",
         "line": {
          "color": "#636efa",
          "dash": "solid"
         },
         "mode": "lines",
         "name": "p=0.05",
         "showlegend": true,
         "type": "scattergl",
         "x": [
          1,
          2,
          3,
          4,
          5,
          6,
          7,
          8,
          9,
          10,
          11,
          12,
          13,
          14,
          15,
          16,
          17,
          18,
          19,
          20,
          21,
          22,
          23,
          24,
          25,
          26,
          27,
          28,
          29,
          30,
          31,
          32,
          33,
          34,
          35,
          36,
          37,
          38,
          39,
          40,
          41,
          42,
          43,
          44,
          45,
          46,
          47,
          48,
          49,
          50,
          51,
          52,
          53,
          54,
          55,
          56,
          57,
          58,
          59,
          60,
          61,
          62,
          63,
          64,
          65,
          66,
          67,
          68,
          69,
          70,
          71,
          72,
          73,
          74,
          75,
          76,
          77,
          78,
          79,
          80,
          81,
          82,
          83,
          84,
          85,
          86,
          87,
          88,
          89,
          90,
          91,
          92,
          93,
          94,
          95,
          96,
          97,
          98,
          99,
          100,
          101,
          102,
          103,
          104,
          105,
          106,
          107,
          108,
          109,
          110,
          111,
          112,
          113,
          114,
          115,
          116,
          117,
          118,
          119,
          120,
          121,
          122,
          123,
          124,
          125,
          126,
          127,
          128,
          129,
          130,
          131,
          132,
          133,
          134,
          135,
          136,
          137,
          138,
          139,
          140,
          141,
          142,
          143,
          144,
          145,
          146,
          147,
          148,
          149,
          150,
          151,
          152,
          153,
          154,
          155,
          156,
          157,
          158,
          159,
          160,
          161,
          162,
          163,
          164,
          165,
          166,
          167,
          168,
          169,
          170,
          171,
          172,
          173,
          174,
          175,
          176,
          177,
          178,
          179,
          180,
          181,
          182,
          183,
          184,
          185,
          186,
          187,
          188,
          189,
          190,
          191,
          192,
          193,
          194,
          195,
          196,
          197,
          198,
          199,
          200,
          201,
          202,
          203,
          204,
          205,
          206,
          207,
          208,
          209,
          210,
          211,
          212,
          213,
          214,
          215,
          216,
          217,
          218,
          219,
          220,
          221,
          222,
          223,
          224,
          225,
          226,
          227,
          228,
          229,
          230,
          231,
          232,
          233,
          234,
          235,
          236,
          237,
          238,
          239,
          240,
          241,
          242,
          243,
          244,
          245,
          246,
          247,
          248,
          249,
          250,
          251,
          252,
          253,
          254,
          255,
          256,
          257,
          258,
          259,
          260,
          261,
          262,
          263,
          264,
          265,
          266,
          267,
          268,
          269,
          270,
          271,
          272,
          273,
          274,
          275,
          276,
          277,
          278,
          279,
          280,
          281,
          282,
          283,
          284,
          285,
          286,
          287,
          288,
          289,
          290,
          291,
          292,
          293,
          294,
          295,
          296,
          297,
          298,
          299,
          300,
          301,
          302,
          303,
          304,
          305,
          306,
          307,
          308,
          309,
          310,
          311,
          312,
          313,
          314,
          315,
          316,
          317,
          318,
          319,
          320,
          321,
          322,
          323,
          324,
          325,
          326,
          327,
          328,
          329,
          330,
          331,
          332,
          333,
          334,
          335,
          336,
          337,
          338,
          339,
          340,
          341,
          342,
          343,
          344,
          345,
          346,
          347,
          348,
          349,
          350,
          351,
          352,
          353,
          354,
          355,
          356,
          357,
          358,
          359,
          360,
          361,
          362,
          363,
          364,
          365,
          366,
          367,
          368,
          369,
          370,
          371,
          372,
          373,
          374,
          375,
          376,
          377,
          378,
          379,
          380,
          381,
          382,
          383,
          384,
          385,
          386,
          387,
          388,
          389,
          390,
          391,
          392,
          393,
          394,
          395,
          396,
          397,
          398,
          399
         ],
         "xaxis": "x",
         "y": [
          1,
          1,
          1.05,
          1.1024999448750001,
          1.1576248813434438,
          1.2155060584058477,
          1.276281287453391,
          1.3400952703813644,
          1.407099944107666,
          1.4774548423165366,
          1.551327475288723,
          1.6288937287223124,
          1.710338282493689,
          1.7958550503555215,
          1.8856476416185295,
          1.9799298459161045,
          2.0789261422058,
          2.182872233219395,
          2.2920156066338055,
          2.406616124298719,
          2.5269466409235966,
          2.65329365369681,
          2.7859579843832902,
          2.92525549552436,
          3.0715178424445924,
          3.225093262855729,
          3.3863474059371876,
          3.5556642028666094,
          3.733446780872544,
          3.9201184229849275,
          4.116123575767752,
          4.321928907432475,
          4.5380244188506245,
          4.764924610109874,
          5.003169705390041,
          5.253326939074189,
          5.515991906155701,
          5.7917899801551505,
          6.08137780192135,
          6.385444842859618,
          6.7047150463073075,
          7.03994855096248,
          7.391943500466824,
          7.7615379434487295,
          8.149611828547604,
          8.557089099166337,
          8.98493989293596,
          9.434182851125515,
          9.905887543491486,
          10.40117701433566,
          10.92123045582828,
          11.46728601495596,
          12.04064374077133,
          12.642668678954811,
          13.274794121048986,
          13.938525016093488,
          14.63544155277418,
          15.367202920605417,
          16.135551259089407,
          16.942315804243155,
          17.789417242352073,
          18.678872281301384,
          19.61279845035297,
          20.593419139777463,
          21.62306889232074,
          22.704198959081364,
          23.83938313300291,
          25.03132387384365,
          26.28285873917709,
          27.59696713670277,
          28.976777413908152,
          30.425574301922097,
          31.946806731239622,
          33.54409603787859,
          35.22124457945357,
          36.98224478162276,
          38.831288636382446,
          40.77277767475271,
          42.81133343752038,
          44.95180846888287,
          47.19929785907278,
          49.5591513633405,
          52.03698612603333,
          54.63870003993874,
          57.370485772558574,
          60.23884549255462,
          63.25060633125703,
          66.41293661585982,
          69.73336291274532,
          73.21978792128743,
          76.88050926048464,
          80.72423919287367,
          84.76012533237768,
          88.99777238505425,
          93.44726497413248,
          98.11919160327255,
          103.02466981464814,
          108.17537260125103,
          113.5835561357517,
          119.26208888132807,
          125.22448215310226,
          131.48492220221084,
          138.05830389808307,
          144.96026608822345,
          152.2072287186974,
          159.81643180260855,
          167.80597632814528,
          176.19486720226797,
          185.00305833081995,
          194.25149994078137,
          203.96218825555897,
          214.15821763962504,
          224.86383533449717,
          236.10449891399995,
          247.90693659297958,
          260.299210530168,
          273.31078327272627,
          286.9725874971499,
          301.31709920870867,
          316.37841456943033,
          332.1923305328416,
          348.79642947226046,
          366.23016799841287,
          384.5349701715359,
          403.7543253229485,
          423.93389071133504,
          445.1215992497171,
          467.36777255029705,
          490.72523954607095,
          515.2494609603381,
          540.998659908004,
          568.0339589259031,
          596.4195237432737,
          626.2227141180223,
          657.5142420795395,
          690.3683379345896,
          724.862924409218,
          761.0797993167197,
          799.1048271595092,
          839.0281400912452,
          880.9443486848141,
          924.9527629717809,
          971.1576242396835,
          1019.6683480951117,
          1070.5997793228619,
          1124.0724590946306,
          1180.2129051046975,
          1239.1539052348635,
          1301.0348253765637,
          1366.0019320645497,
          1434.208730603857,
          1505.8163193999028,
          1580.9937612305093,
          1659.9184722283824,
          1742.7766293730792,
          1829.7635973227389,
          1921.0843754477714,
          2016.9540659612805,
          2117.5983640741347,
          2223.254071136265,
          2334.169631759837,
          2450.6056959543375,
          2572.835707338202,
          2701.1465185262646,
          2835.8390348268504,
          2977.2288874166206,
          3125.6471371950483,
          3281.441010553488,
          3444.9746683258754,
          3616.630009218899,
          3796.8075090486645,
          3985.9270971380593,
          4184.429071253778,
          4392.775052483849,
          4611.448981474956,
          4840.958157463267,
          5081.834321542315,
          5334.63478561585,
          5599.943608481847,
          5878.37282048503,
          6170.563698158451,
          6477.188090248722,
          6798.949796483335,
          7136.586000390747,
          7490.868757423236,
          7862.606539557351,
          8252.645837455424,
          8661.872821162271,
          9091.215060181885,
          9541.643303627456,
          10014.173320962145,
          10509.867803645138,
          11029.83832776489,
          11575.247377476302,
          12147.310428757628,
          12747.298092662879,
          13376.538316862863,
          14036.41864383888,
          14728.388523613568,
          15453.961678369122,
          16214.718515709752,
          17012.308586668056,
          17848.45308382906,
          18724.94737414623,
          19643.663560145316,
          20606.55306224937,
          21615.649213906476,
          22673.069860054868,
          23781.019948213663,
          24941.79410013548,
          26157.77915049558,
          27431.456637516054,
          28765.40522872906,
          30162.303063266867,
          31624.92999012619,
          33156.16967978848,
          34759.01158438616,
          36436.55271928929,
          38191.99923655048,
          40028.66775809377,
          41949.986433874066,
          43959.49568747766,
          46060.848608796674,
          48257.810950508385,
          50554.260682147054,
          52954.187052598485,
          55461.68910890833,
          58080.97361641309,
          60816.352322422215,
          63672.23850305308,
          66653.14273040625,
          69763.66779513456,
          73008.5027176798,
          76392.41578010992,
          79920.24650967936,
          83596.89654505493,
          87427.31931670944,
          91416.50847439963,
          95569.48499703711,
          99891.28292375902,
          104386.93364973925,
          109061.44873638646,
          113919.80119318182,
          118966.9051976462,
          124207.59423091324,
          129646.59761922734,
          135288.51548647662,
          141137.79213967372,
          147198.6879281543,
          153475.24963817353,
          159971.27950750722,
          166690.30296951914,
          173635.53526279159,
          180809.84707063137,
          188215.72938427769,
          195855.2578141088,
          203730.05660414268,
          211841.26263615346,
          220189.48974019714,
          228774.79365760458,
          237596.63802983082,
          246653.86181116843,
          255944.6485244087,
          265466.497795215,
          275216.1996123929,
          285189.81176655815,
          295382.6409181138,
          305789.2277362315,
          316403.33653306705,
          327217.94979125756,
          338225.26794754073,
          349416.7147510085,
          360782.9484611895,
          372313.87908923154,
          383998.6918155696,
          395825.8766405446,
          407783.2642416591,
          419858.0679239629,
          432036.9314601189,
          444305.9825258511,
          456650.8913467306,
          469056.93408567895,
          481509.06041927007,
          493991.96467694116,
          506490.159852519,
          518988.05374377343,
          531470.0264345246,
          543920.5083063351,
          556324.0577538407,
          568665.4377797478,
          580929.6906624736,
          593102.2099209374,
          605168.8088463293,
          617115.7849286215,
          628929.9795746491,
          640598.8325929932,
          652110.4310066676,
          663453.5518456158,
          674617.6986650685,
          685593.1316307143,
          696370.8911052895,
          706942.8147616151,
          717301.5483325421,
          727440.5501871561,
          737354.0899936842,
          747037.2417918477,
          756485.8718502416,
          765696.6217273027,
          774666.8869874376,
          783394.7920470692,
          791879.1616390991,
          800119.4893891419,
          808115.9039935819,
          815869.1334788927,
          823380.4680046574,
          830651.7216503118,
          837685.193598796,
          844483.6291000032,
          851050.1805641077,
          857388.369100403,
          863502.0467819908,
          869395.359881256,
          875072.7132861658,
          880538.7362735735,
          885798.2497833391,
          890856.2353065447,
          895717.8054726444,
          900388.1763942401,
          904872.6418044248,
          909176.5490003402,
          913305.2765877488,
          917264.214004985,
          921058.7427905252,
          924694.2195465083,
          928175.9605406974,
          931509.22788145,
          934699.2171941077,
          937751.0467226492,
          940669.7477773105,
          943460.2564470046,
          946127.4064946024,
          948675.9233533224,
          951110.4191434747,
          953435.3886304846,
          955655.2060473607,
          957774.1227074575,
          959796.2653364284,
          961725.635055562,
          963566.1069521889,
          965321.4301764484,
          966995.2285073757,
          968591.0013349429,
          970112.1250083387,
          971561.8545043459,
          972943.325373167,
          974259.5559224156,
          975513.4496032292,
          976707.797565551,
          977845.2813525611,
          978928.4757070157,
          979959.8514648634,
          980941.7785139547,
          981876.5287979464,
          982766.2793476285,
          983613.1153238708,
          984419.0330582078,
          985185.9430787554,
          985915.6731106944,
          986609.9710419634,
          987270.5078460904,
          987898.880455261,
          988496.6145777862,
          989065.1674550882,
          989605.9305541946,
          990120.2321925027,
          990609.3400922811,
          991074.4638629919,
          991516.7574100756,
          991937.3212693299,
          992337.2048664477,
          992717.4087016624,
          993078.8864597784,
          993422.5470461576,
          993749.2565494818,
          994059.8401323234,
          994355.0838507446,
          994635.7364042908,
          994902.51081788,
          995156.086057188,
          995397.1085792143,
          995626.193819782,
          995843.9276197678,
          996050.867591898,
          996247.5444299643,
          996434.4631623258,
          996612.1043515624,
          996780.9252421381,
          996941.3608579163,
          997093.8250513504
         ],
         "yaxis": "y"
        },
        {
         "hoverlabel": {
          "namelength": 0
         },
         "hovertemplate": "p=0.05<br>Estado=S<br>t=%{x}<br>value=%{y}",
         "legendgroup": "p=0.05",
         "line": {
          "color": "#636efa",
          "dash": "solid"
         },
         "mode": "lines",
         "name": "p=0.05",
         "showlegend": false,
         "type": "scattergl",
         "x": [
          1,
          2,
          3,
          4,
          5,
          6,
          7,
          8,
          9,
          10,
          11,
          12,
          13,
          14,
          15,
          16,
          17,
          18,
          19,
          20,
          21,
          22,
          23,
          24,
          25,
          26,
          27,
          28,
          29,
          30,
          31,
          32,
          33,
          34,
          35,
          36,
          37,
          38,
          39,
          40,
          41,
          42,
          43,
          44,
          45,
          46,
          47,
          48,
          49,
          50,
          51,
          52,
          53,
          54,
          55,
          56,
          57,
          58,
          59,
          60,
          61,
          62,
          63,
          64,
          65,
          66,
          67,
          68,
          69,
          70,
          71,
          72,
          73,
          74,
          75,
          76,
          77,
          78,
          79,
          80,
          81,
          82,
          83,
          84,
          85,
          86,
          87,
          88,
          89,
          90,
          91,
          92,
          93,
          94,
          95,
          96,
          97,
          98,
          99,
          100,
          101,
          102,
          103,
          104,
          105,
          106,
          107,
          108,
          109,
          110,
          111,
          112,
          113,
          114,
          115,
          116,
          117,
          118,
          119,
          120,
          121,
          122,
          123,
          124,
          125,
          126,
          127,
          128,
          129,
          130,
          131,
          132,
          133,
          134,
          135,
          136,
          137,
          138,
          139,
          140,
          141,
          142,
          143,
          144,
          145,
          146,
          147,
          148,
          149,
          150,
          151,
          152,
          153,
          154,
          155,
          156,
          157,
          158,
          159,
          160,
          161,
          162,
          163,
          164,
          165,
          166,
          167,
          168,
          169,
          170,
          171,
          172,
          173,
          174,
          175,
          176,
          177,
          178,
          179,
          180,
          181,
          182,
          183,
          184,
          185,
          186,
          187,
          188,
          189,
          190,
          191,
          192,
          193,
          194,
          195,
          196,
          197,
          198,
          199,
          200,
          201,
          202,
          203,
          204,
          205,
          206,
          207,
          208,
          209,
          210,
          211,
          212,
          213,
          214,
          215,
          216,
          217,
          218,
          219,
          220,
          221,
          222,
          223,
          224,
          225,
          226,
          227,
          228,
          229,
          230,
          231,
          232,
          233,
          234,
          235,
          236,
          237,
          238,
          239,
          240,
          241,
          242,
          243,
          244,
          245,
          246,
          247,
          248,
          249,
          250,
          251,
          252,
          253,
          254,
          255,
          256,
          257,
          258,
          259,
          260,
          261,
          262,
          263,
          264,
          265,
          266,
          267,
          268,
          269,
          270,
          271,
          272,
          273,
          274,
          275,
          276,
          277,
          278,
          279,
          280,
          281,
          282,
          283,
          284,
          285,
          286,
          287,
          288,
          289,
          290,
          291,
          292,
          293,
          294,
          295,
          296,
          297,
          298,
          299,
          300,
          301,
          302,
          303,
          304,
          305,
          306,
          307,
          308,
          309,
          310,
          311,
          312,
          313,
          314,
          315,
          316,
          317,
          318,
          319,
          320,
          321,
          322,
          323,
          324,
          325,
          326,
          327,
          328,
          329,
          330,
          331,
          332,
          333,
          334,
          335,
          336,
          337,
          338,
          339,
          340,
          341,
          342,
          343,
          344,
          345,
          346,
          347,
          348,
          349,
          350,
          351,
          352,
          353,
          354,
          355,
          356,
          357,
          358,
          359,
          360,
          361,
          362,
          363,
          364,
          365,
          366,
          367,
          368,
          369,
          370,
          371,
          372,
          373,
          374,
          375,
          376,
          377,
          378,
          379,
          380,
          381,
          382,
          383,
          384,
          385,
          386,
          387,
          388,
          389,
          390,
          391,
          392,
          393,
          394,
          395,
          396,
          397,
          398,
          399
         ],
         "xaxis": "x2",
         "y": [
          1000000,
          1000000,
          999998.95,
          999998.8975000551,
          999998.8423751186,
          999998.7844939416,
          999998.7237187126,
          999998.6599047296,
          999998.5929000559,
          999998.5225451577,
          999998.4486725247,
          999998.3711062713,
          999998.2896617175,
          999998.2041449497,
          999998.1143523584,
          999998.0200701541,
          999997.9210738578,
          999997.8171277668,
          999997.7079843933,
          999997.5933838757,
          999997.4730533591,
          999997.3467063463,
          999997.2140420156,
          999997.0747445045,
          999996.9284821575,
          999996.7749067371,
          999996.613652594,
          999996.4443357971,
          999996.2665532192,
          999996.079881577,
          999995.8838764243,
          999995.6780710926,
          999995.4619755811,
          999995.2350753898,
          999994.9968302946,
          999994.7466730609,
          999994.4840080938,
          999994.2082100199,
          999993.918622198,
          999993.6145551571,
          999993.2952849537,
          999992.960051449,
          999992.6080564995,
          999992.2384620565,
          999991.8503881715,
          999991.4429109008,
          999991.0150601071,
          999990.5658171489,
          999990.0941124565,
          999989.5988229857,
          999989.0787695441,
          999988.5327139851,
          999987.9593562592,
          999987.357331321,
          999986.725205879,
          999986.0614749839,
          999985.3645584473,
          999984.6327970794,
          999983.864448741,
          999983.0576841958,
          999982.2105827576,
          999981.3211277187,
          999980.3872015496,
          999979.4065808603,
          999978.3769311077,
          999977.295801041,
          999976.160616867,
          999974.9686761262,
          999973.7171412609,
          999972.4030328633,
          999971.0232225861,
          999969.574425698,
          999968.0531932687,
          999966.4559039621,
          999964.7787554206,
          999963.0177552184,
          999961.1687113636,
          999959.2272223253,
          999957.1886665624,
          999955.0481915311,
          999952.8007021409,
          999950.4408486367,
          999947.963013874,
          999945.3612999601,
          999942.6295142274,
          999939.7611545074,
          999936.7493936687,
          999933.5870633841,
          999930.2666370872,
          999926.7802120787,
          999923.1194907395,
          999919.2757608071,
          999915.2398746676,
          999911.002227615,
          999906.5527350259,
          999901.8808083967,
          999896.9753301854,
          999891.8246273987,
          999886.4164438642,
          999880.7379111187,
          999874.7755178469,
          999868.5150777978,
          999861.9416961019,
          999855.0397339117,
          999847.7927712813,
          999840.1835681974,
          999832.1940236719,
          999823.8051327977,
          999814.9969416691,
          999805.7485000592,
          999796.0378117445,
          999785.8417823603,
          999775.1361646655,
          999763.895501086,
          999752.093063407,
          999739.7007894699,
          999726.6892167273,
          999713.0274125028,
          999698.6829007913,
          999683.6215854306,
          999667.8076694672,
          999651.2035705277,
          999633.7698320015,
          999615.4650298285,
          999596.2456746771,
          999576.0661092887,
          999554.8784007502,
          999532.6322274497,
          999509.274760454,
          999484.7505390396,
          999459.001340092,
          999431.9660410741,
          999403.5804762567,
          999373.7772858819,
          999342.4857579204,
          999309.6316620654,
          999275.1370755908,
          999238.9202006833,
          999200.8951728404,
          999160.9718599088,
          999119.0556513151,
          999075.0472370283,
          999028.8423757603,
          998980.3316519049,
          998929.4002206771,
          998875.9275409054,
          998819.7870948953,
          998760.8460947651,
          998698.9651746234,
          998633.9980679355,
          998565.7912693962,
          998494.1836806001,
          998419.0062387695,
          998340.0815277717,
          998257.2233706269,
          998170.2364026773,
          998078.9156245522,
          997983.0459340387,
          997882.4016359259,
          997776.7459288638,
          997665.8303682401,
          997549.3943040457,
          997427.1642926618,
          997298.8534814738,
          997164.1609651732,
          997022.7711125833,
          996874.3528628049,
          996718.5589894465,
          996555.0253316741,
          996383.3699907811,
          996203.1924909514,
          996014.072902862,
          995815.5709287463,
          995607.2249475161,
          995388.551018525,
          995159.0418425368,
          994918.1656784577,
          994665.3652143842,
          994400.0563915181,
          994121.627179515,
          993829.4363018415,
          993522.8119097513,
          993201.0502035166,
          992863.4139996093,
          992509.1312425768,
          992137.3934604427,
          991747.3541625446,
          991338.1271788378,
          990908.7849398181,
          990458.3566963725,
          989985.8266790379,
          989490.1321963549,
          988970.1616722351,
          988424.7526225237,
          987852.6895712423,
          987252.7019073372,
          986623.4616831371,
          985963.5813561612,
          985271.6114763864,
          984546.0383216309,
          983785.2814842903,
          982987.6914133319,
          982151.546916171,
          981275.0526258538,
          980356.3364398547,
          979393.4469377507,
          978384.3507860935,
          977326.9301399451,
          976218.9800517863,
          975058.2058998646,
          973842.2208495045,
          972568.543362484,
          971234.594771271,
          969837.6969367331,
          968375.0700098738,
          966843.8303202115,
          965240.9884156139,
          963563.4472807107,
          961808.0007634495,
          959971.3322419062,
          958050.0135661259,
          956040.5043125224,
          953939.1513912033,
          951742.1890494917,
          949445.739317853,
          947045.8129474015,
          944538.3108910917,
          941919.0263835869,
          939183.6476775778,
          936327.7614969469,
          933346.8572695937,
          930236.3322048654,
          926991.4972823202,
          923607.5842198901,
          920079.7534903206,
          916403.103454945,
          912572.6806832906,
          908583.4915256004,
          904430.5150029629,
          900108.717076241,
          895613.0663502607,
          890938.5512636135,
          886080.1988068182,
          881033.0948023538,
          875792.4057690868,
          870353.4023807726,
          864711.4845135234,
          858862.2078603263,
          852801.3120718456,
          846524.7503618265,
          840028.7204924928,
          833309.6970304808,
          826364.4647372084,
          819190.1529293687,
          811784.2706157223,
          804144.7421858911,
          796269.9433958573,
          788158.7373638465,
          779810.5102598029,
          771225.2063423954,
          762403.3619701692,
          753346.1381888315,
          744055.3514755913,
          734533.502204785,
          724783.8003876071,
          714810.1882334419,
          704617.3590818862,
          694210.7722637685,
          683596.663466933,
          672782.0502087425,
          661774.7320524593,
          650583.2852489916,
          639217.0515388105,
          627686.1209107684,
          616001.3081844305,
          604174.1233594554,
          592216.7357583409,
          580141.9320760372,
          567963.0685398811,
          555694.0174741489,
          543349.1086532695,
          530943.065914321,
          518490.93958072993,
          506008.03532305884,
          493509.840147481,
          481011.94625622657,
          468529.97356547543,
          456079.4916936649,
          443675.9422461593,
          431334.56222025224,
          419070.30933752644,
          406897.7900790626,
          394831.19115367066,
          382884.2150713785,
          371070.0204253509,
          359401.16740700684,
          347889.56899333245,
          336546.44815438415,
          325382.3013349315,
          314406.8683692857,
          303629.10889471055,
          293057.1852383849,
          282698.45166745794,
          272559.44981284393,
          262645.9100063158,
          252962.75820815226,
          243514.12814975844,
          234303.37827269733,
          225333.1130125624,
          216605.20795293082,
          208120.83836090087,
          199880.5106108581,
          191884.0960064181,
          184130.86652110727,
          176619.53199534258,
          169348.27834968816,
          162314.80640120397,
          155516.37089999684,
          148949.81943589228,
          142611.63089959696,
          136497.9532180092,
          130604.64011874399,
          124927.28671383415,
          119461.26372642652,
          114201.7502166609,
          109143.7646934553,
          104282.1945273556,
          99611.82360575988,
          95127.35819557519,
          90823.45099965984,
          86694.72341225122,
          82735.78599501494,
          78941.2572094748,
          75305.78045349172,
          71824.03945930256,
          68490.77211855003,
          65300.78280589229,
          62248.95327735075,
          59330.25222268945,
          56539.74355299538,
          53872.593505397555,
          51324.07664667757,
          48889.58085652534,
          46564.61136951542,
          44344.79395263933,
          42225.877292542486,
          40203.73466357158,
          38274.364944437984,
          36433.893047811114,
          34678.569823551574,
          33004.771492624306,
          31408.998665057123,
          29887.874991661287,
          28438.145495654084,
          27056.674626832944,
          25740.444077584427,
          24486.55039677082,
          23292.20243444899,
          22154.718647438916,
          21071.52429298428,
          20040.1485351366,
          19058.22148604528,
          18123.471202053595,
          17233.72065237153,
          16386.884676129208,
          15580.966941792169,
          14814.056921244599,
          14084.326889305608,
          13390.028958036564,
          12729.49215390964,
          12101.11954473902,
          11503.385422213818,
          10934.83254491177,
          10394.069445805391,
          9879.767807497294,
          9390.659907718888,
          8925.536137008108,
          8483.242589924368,
          8062.67873067013,
          7662.795133552281,
          7282.59129833756,
          6921.113540221588,
          6577.452953842352,
          6250.743450518232,
          5940.159867676557,
          5644.916149255354,
          5364.263595709228,
          5097.489182119956,
          4843.913942812011,
          4602.891420785687,
          4373.806180218002,
          4156.072380232159,
          3949.132408102043,
          3752.4555700357305,
          3565.5368376742117,
          3387.895648437552,
          3219.074757861905,
          3058.6391420837026,
          2906.1749486495974
         ],
         "yaxis": "y2"
        },
        {
         "hoverlabel": {
          "namelength": 0
         },
         "hovertemplate": "p=0.1<br>Estado=I<br>t=%{x}<br>value=%{y}",
         "legendgroup": "p=0.1",
         "line": {
          "color": "#EF553B",
          "dash": "solid"
         },
         "mode": "lines",
         "name": "p=0.1",
         "showlegend": true,
         "type": "scattergl",
         "x": [
          1,
          2,
          3,
          4,
          5,
          6,
          7,
          8,
          9,
          10,
          11,
          12,
          13,
          14,
          15,
          16,
          17,
          18,
          19,
          20,
          21,
          22,
          23,
          24,
          25,
          26,
          27,
          28,
          29,
          30,
          31,
          32,
          33,
          34,
          35,
          36,
          37,
          38,
          39,
          40,
          41,
          42,
          43,
          44,
          45,
          46,
          47,
          48,
          49,
          50,
          51,
          52,
          53,
          54,
          55,
          56,
          57,
          58,
          59,
          60,
          61,
          62,
          63,
          64,
          65,
          66,
          67,
          68,
          69,
          70,
          71,
          72,
          73,
          74,
          75,
          76,
          77,
          78,
          79,
          80,
          81,
          82,
          83,
          84,
          85,
          86,
          87,
          88,
          89,
          90,
          91,
          92,
          93,
          94,
          95,
          96,
          97,
          98,
          99,
          100,
          101,
          102,
          103,
          104,
          105,
          106,
          107,
          108,
          109,
          110,
          111,
          112,
          113,
          114,
          115,
          116,
          117,
          118,
          119,
          120,
          121,
          122,
          123,
          124,
          125,
          126,
          127,
          128,
          129,
          130,
          131,
          132,
          133,
          134,
          135,
          136,
          137,
          138,
          139,
          140,
          141,
          142,
          143,
          144,
          145,
          146,
          147,
          148,
          149,
          150,
          151,
          152,
          153,
          154,
          155,
          156,
          157,
          158,
          159,
          160,
          161,
          162,
          163,
          164,
          165,
          166,
          167,
          168,
          169,
          170,
          171,
          172,
          173,
          174,
          175,
          176,
          177,
          178,
          179,
          180,
          181,
          182,
          183,
          184,
          185,
          186,
          187,
          188,
          189,
          190,
          191,
          192,
          193,
          194,
          195,
          196,
          197,
          198,
          199,
          200,
          201,
          202,
          203,
          204,
          205,
          206,
          207,
          208,
          209,
          210,
          211,
          212,
          213,
          214,
          215,
          216,
          217,
          218,
          219,
          220,
          221,
          222,
          223,
          224,
          225,
          226,
          227,
          228,
          229,
          230,
          231,
          232,
          233,
          234,
          235,
          236,
          237,
          238,
          239,
          240,
          241,
          242,
          243,
          244,
          245,
          246,
          247,
          248,
          249,
          250,
          251,
          252,
          253,
          254,
          255,
          256,
          257,
          258,
          259,
          260,
          261,
          262,
          263,
          264,
          265,
          266,
          267,
          268,
          269,
          270,
          271,
          272,
          273,
          274,
          275,
          276,
          277,
          278,
          279,
          280,
          281,
          282,
          283,
          284,
          285,
          286,
          287,
          288,
          289,
          290,
          291,
          292,
          293,
          294,
          295,
          296,
          297,
          298,
          299,
          300,
          301,
          302,
          303,
          304,
          305,
          306,
          307,
          308,
          309,
          310,
          311,
          312,
          313,
          314,
          315,
          316,
          317,
          318,
          319,
          320,
          321,
          322,
          323,
          324,
          325,
          326,
          327,
          328,
          329,
          330,
          331,
          332,
          333,
          334,
          335,
          336,
          337,
          338,
          339,
          340,
          341,
          342,
          343,
          344,
          345,
          346,
          347,
          348,
          349,
          350,
          351,
          352,
          353,
          354,
          355,
          356,
          357,
          358,
          359,
          360,
          361,
          362,
          363,
          364,
          365,
          366,
          367,
          368,
          369,
          370,
          371,
          372,
          373,
          374,
          375,
          376,
          377,
          378,
          379,
          380,
          381,
          382,
          383,
          384,
          385,
          386,
          387,
          388,
          389,
          390,
          391,
          392,
          393,
          394,
          395,
          396,
          397,
          398,
          399
         ],
         "xaxis": "x",
         "y": [
          1,
          1,
          1.1,
          1.2099998790000002,
          1.3309997204900295,
          1.4640995153830068,
          1.6105092525625684,
          1.77155991844482,
          1.9487155964468477,
          2.1435867763422847,
          2.3579449944800865,
          2.5937389379376357,
          2.8531121589832313,
          3.138422560856655,
          3.4522638319727035,
          3.7974890233574174,
          4.177236483600871,
          4.594958387030494,
          5.054452114369285,
          5.559894771057596,
          6.11588115692037,
          6.727465532212174,
          7.400207559554143,
          8.140222839202366,
          8.954238496799816,
          9.849654328641092,
          10.834610059936162,
          11.918059327052264,
          13.109851055743679,
          14.420818974498577,
          15.862880075946444,
          17.449142920444658,
          19.19402676523026,
          21.11339260068694,
          23.224687283220923,
          25.547102072933075,
          28.10174701478395,
          30.911842745443817,
          34.002931465786006,
          37.40310899242978,
          41.143279992416524,
          45.25743871470932,
          49.782977762604354,
          54.7610277043773,
          60.2368305977995,
          66.26015081000341,
          72.88572685024522,
          80.17376830235189,
          88.1905023492747,
          97.0087748277317,
          106.70871124026552,
          117.37844368938661,
          129.114910288421,
          142.0247342512572,
          156.225190573869,
          171.84526900023894,
          189.02684282061506,
          207.9259539879459,
          228.71422606650628,
          251.5804176534364,
          276.73213014812535,
          304.39768509575225,
          334.8281878102583,
          368.2997955997489,
          405.11621068577995,
          445.6114198399419,
          490.15270487018694,
          539.1439503897965,
          593.0292778088519,
          652.2970372173032,
          717.4841917965573,
          789.1811326196653,
          868.0369651956236,
          954.7653128978914,
          1050.1506865074093,
          1155.055473511713,
          1270.4276055481953,
          1397.3089674729208,
          1536.844616985155,
          1690.2928895459947,
          1859.0364694953491,
          2044.5945147853927,
          2248.635929590943,
          2472.9938861956525,
          2719.6817049391016,
          2990.910208575394,
          3289.1066750453574,
          3616.93552027791,
          3977.3208500499163,
          4373.471026940484,
          4808.905404752184,
          5287.483388108217,
          5813.435978861086,
          6391.399972959163,
          7026.454970893646,
          7724.16336103721,
          8490.613427178132,
          9332.465718258967,
          10257.002798446616,
          11272.182467650544,
          12386.694504657198,
          13610.020935047747,
          14952.499761567278,
          16425.392012812037,
          18040.951863815786,
          19812.499455782112,
          21754.495887891786,
          23882.619667547333,
          26213.843682083596,
          28766.511490233082,
          31560.411420924618,
          34616.84660611128,
          37958.6986598273,
          41610.482245415275,
          45598.3872466872,
          49950.304679406036,
          54695.83185359009,
          59866.251636733476,
          65494.47999190356,
          71614.97530015293,
          78263.60236144408,
          85477.44345212946,
          93294.54846343122,
          101753.61603247479,
          110893.59779815385,
          120753.21857470737,
          131370.406452563,
          142781.62872866815,
          155021.13225129383,
          168120.0903319759,
          182105.6628878503,
          196999.98193105301,
          212819.0808360748,
          229571.7928028911,
          247258.65127810687,
          265870.8323427307,
          285389.18562794215,
          305783.4054633984,
          327011.3969040589,
          349018.8912239504,
          371739.3617032259,
          395094.2825695963,
          418993.76161463757,
          443337.56054890295,
          468016.49734444806,
          492914.2029002363,
          517909.1820481824,
          542877.1081680189,
          567693.2635275336,
          592235.0257348329,
          616384.2957376023,
          640029.7653081685,
          663068.9317909424,
          685409.7841393985,
          706972.1053339366,
          727688.3600953004,
          747504.1611630117,
          766378.3301837111,
          784282.588704565,
          801200.9296805081,
          817128.7296764678,
          832071.6665578468,
          846044.5073847963,
          859069.8272756777,
          871176.7131896992,
          882399.4979482684,
          892776.5603451596,
          902349.2177095021,
          911160.7284103573,
          919255.4139516636,
          926677.9037388855,
          933472.5003849845,
          939682.6595259835,
          945350.5754171993,
          950516.8619147562,
          955220.3176278042,
          959497.7638696884,
          963383.944369564,
          966911.4763796144,
          970110.8437021154,
          973010.4231654839,
          975636.5371231649,
          978013.5255785133,
          980163.8325149133,
          982108.1019093724,
          983865.2797167066,
          985452.7188251739,
          986886.2846036985,
          988180.4591901791,
          989348.4431166657,
          990402.2532385952,
          991352.8162404461,
          992210.0572377043,
          992982.9831931099,
          993679.7610213121,
          994307.7903771062,
          994873.7712143564,
          995383.7662707645,
          995843.2586823038,
          996257.2049642352,
          996630.0836163437,
          996965.939621066,
          997268.4251067211,
          997540.8364459092,
          997786.1480527797,
          998007.0431334573,
          998205.9416324043,
          998385.0256046213,
          998546.2622299293,
          998691.424671586,
          998822.1109674884,
          998939.7611284823,
          999045.6726049876,
          999141.0142704112,
          999226.8390577218,
          999304.0953741653,
          999373.6374084239,
          999436.2344345719,
          999492.5792079534,
          999543.295539572,
          999588.9451277184,
          999630.0337183358,
          999667.0166589973,
          999700.303905307,
          999730.2645330013,
          999757.230803979,
          999781.5018298929,
          999803.3468727586,
          999823.0083182375,
          999840.7043538082,
          999856.631380917,
          999870.9661873692,
          999883.8679036598,
          999895.4797646274,
          999905.9306957168,
          999915.3367412416,
          999923.8023503307,
          999931.4215346895,
          999938.2789109199,
          999944.4506388786,
          999950.0052664176,
          999955.0044898285,
          999959.503838386,
          999963.5532905535,
          999967.1978286619,
          999970.4779381974,
          999973.4300572225,
          999976.0869809041,
          999978.4782256305,
          999980.6303567487,
          999982.5672835555,
          999984.31052481,
          999985.879447713,
          999987.2914830027,
          999988.5623185518,
          999989.7060736145,
          999990.7354556565,
          999991.6619015078,
          999992.4957044045,
          999993.2461283327,
          999993.921510938,
          999994.5293561494,
          999995.0764175416,
          999995.5687733633,
          999996.0118940633,
          999996.4107030665,
          999996.7696314716,
          999997.0926672809,
          999997.3833997076,
          999997.6450590522,
          999997.8805525923,
          999998.0924968839,
          999998.2832468317,
          999998.4549218538,
          999998.6094294298,
          999998.7484862934,
          999998.8736375074,
          999998.9862736298,
          999999.0876461641,
          999999.1788814644,
          999999.2609932505,
          999999.3348938709,
          999999.4014044396,
          999999.4612639598,
          999999.5151375347,
          999999.5636237577,
          999999.6072613628,
          999999.6465352111,
          999999.6818816775,
          999999.7136934996,
          999999.7423241414,
          999999.7680917206,
          999999.7912825432,
          999999.8121542846,
          999999.8309388526,
          999999.8478449645,
          999999.8630604657,
          999999.8767544172,
          999999.8890789739,
          999999.9001710752,
          999999.9101539667,
          999999.9191385693,
          999999.9272247116,
          999999.9345022399,
          999999.9410520155,
          999999.9469468136,
          999999.952252132,
          999999.9570269185,
          999999.9613242265,
          999999.9651918036,
          999999.9686726232,
          999999.9718053608,
          999999.9746248246,
          999999.977162342,
          999999.9794461078,
          999999.981501497,
          999999.9833513473,
          999999.9850162126,
          999999.9865145913,
          999999.9878631321,
          999999.9890768189,
          999999.990169137,
          999999.9911522233,
          999999.992037001,
          999999.9928333008,
          999999.9935499708,
          999999.9941949737,
          999999.9947754764,
          999999.9952979288,
          999999.9957681359,
          999999.9961913223,
          999999.9965721901,
          999999.996914971,
          999999.997223474,
          999999.9975011266,
          999999.997751014,
          999999.9979759125,
          999999.9981783213,
          999999.9983604891,
          999999.9985244402,
          999999.9986719962,
          999999.9988047966,
          999999.998924317,
          999999.9990318853,
          999999.9991286967,
          999999.9992158271,
          999999.9992942443,
          999999.9993648198,
          999999.9994283379,
          999999.9994855041,
          999999.9995369538,
          999999.9995832584,
          999999.9996249325,
          999999.9996624392,
          999999.9996961952,
          999999.9997265757,
          999999.9997539181,
          999999.9997785264,
          999999.9998006737,
          999999.9998206063,
          999999.9998385457,
          999999.9998546911,
          999999.9998692219,
          999999.9998822997,
          999999.9998940697,
          999999.9999046627,
          999999.9999141964,
          999999.9999227768,
          999999.9999304991,
          999999.9999374492,
          999999.9999437043,
          999999.999949334,
          999999.9999544006,
          999999.9999589606,
          999999.9999630646,
          999999.9999667581,
          999999.9999700823,
          999999.9999730741,
          999999.9999757666,
          999999.9999781899,
          999999.999980371,
          999999.9999823339,
          999999.9999841005,
          999999.9999856905,
          999999.9999871214,
          999999.9999884093,
          999999.9999895684,
          999999.9999906116,
          999999.9999915505,
          999999.9999923954,
          999999.9999931558,
          999999.9999938402,
          999999.9999944562,
          999999.9999950106,
          999999.9999955095,
          999999.9999959585,
          999999.9999963627,
          999999.9999967264,
          999999.9999970538
         ],
         "yaxis": "y"
        },
        {
         "hoverlabel": {
          "namelength": 0
         },
         "hovertemplate": "p=0.1<br>Estado=S<br>t=%{x}<br>value=%{y}",
         "legendgroup": "p=0.1",
         "line": {
          "color": "#EF553B",
          "dash": "solid"
         },
         "mode": "lines",
         "name": "p=0.1",
         "showlegend": false,
         "type": "scattergl",
         "x": [
          1,
          2,
          3,
          4,
          5,
          6,
          7,
          8,
          9,
          10,
          11,
          12,
          13,
          14,
          15,
          16,
          17,
          18,
          19,
          20,
          21,
          22,
          23,
          24,
          25,
          26,
          27,
          28,
          29,
          30,
          31,
          32,
          33,
          34,
          35,
          36,
          37,
          38,
          39,
          40,
          41,
          42,
          43,
          44,
          45,
          46,
          47,
          48,
          49,
          50,
          51,
          52,
          53,
          54,
          55,
          56,
          57,
          58,
          59,
          60,
          61,
          62,
          63,
          64,
          65,
          66,
          67,
          68,
          69,
          70,
          71,
          72,
          73,
          74,
          75,
          76,
          77,
          78,
          79,
          80,
          81,
          82,
          83,
          84,
          85,
          86,
          87,
          88,
          89,
          90,
          91,
          92,
          93,
          94,
          95,
          96,
          97,
          98,
          99,
          100,
          101,
          102,
          103,
          104,
          105,
          106,
          107,
          108,
          109,
          110,
          111,
          112,
          113,
          114,
          115,
          116,
          117,
          118,
          119,
          120,
          121,
          122,
          123,
          124,
          125,
          126,
          127,
          128,
          129,
          130,
          131,
          132,
          133,
          134,
          135,
          136,
          137,
          138,
          139,
          140,
          141,
          142,
          143,
          144,
          145,
          146,
          147,
          148,
          149,
          150,
          151,
          152,
          153,
          154,
          155,
          156,
          157,
          158,
          159,
          160,
          161,
          162,
          163,
          164,
          165,
          166,
          167,
          168,
          169,
          170,
          171,
          172,
          173,
          174,
          175,
          176,
          177,
          178,
          179,
          180,
          181,
          182,
          183,
          184,
          185,
          186,
          187,
          188,
          189,
          190,
          191,
          192,
          193,
          194,
          195,
          196,
          197,
          198,
          199,
          200,
          201,
          202,
          203,
          204,
          205,
          206,
          207,
          208,
          209,
          210,
          211,
          212,
          213,
          214,
          215,
          216,
          217,
          218,
          219,
          220,
          221,
          222,
          223,
          224,
          225,
          226,
          227,
          228,
          229,
          230,
          231,
          232,
          233,
          234,
          235,
          236,
          237,
          238,
          239,
          240,
          241,
          242,
          243,
          244,
          245,
          246,
          247,
          248,
          249,
          250,
          251,
          252,
          253,
          254,
          255,
          256,
          257,
          258,
          259,
          260,
          261,
          262,
          263,
          264,
          265,
          266,
          267,
          268,
          269,
          270,
          271,
          272,
          273,
          274,
          275,
          276,
          277,
          278,
          279,
          280,
          281,
          282,
          283,
          284,
          285,
          286,
          287,
          288,
          289,
          290,
          291,
          292,
          293,
          294,
          295,
          296,
          297,
          298,
          299,
          300,
          301,
          302,
          303,
          304,
          305,
          306,
          307,
          308,
          309,
          310,
          311,
          312,
          313,
          314,
          315,
          316,
          317,
          318,
          319,
          320,
          321,
          322,
          323,
          324,
          325,
          326,
          327,
          328,
          329,
          330,
          331,
          332,
          333,
          334,
          335,
          336,
          337,
          338,
          339,
          340,
          341,
          342,
          343,
          344,
          345,
          346,
          347,
          348,
          349,
          350,
          351,
          352,
          353,
          354,
          355,
          356,
          357,
          358,
          359,
          360,
          361,
          362,
          363,
          364,
          365,
          366,
          367,
          368,
          369,
          370,
          371,
          372,
          373,
          374,
          375,
          376,
          377,
          378,
          379,
          380,
          381,
          382,
          383,
          384,
          385,
          386,
          387,
          388,
          389,
          390,
          391,
          392,
          393,
          394,
          395,
          396,
          397,
          398,
          399
         ],
         "xaxis": "x2",
         "y": [
          1000000,
          1000000,
          999998.9,
          999998.790000121,
          999998.6690002795,
          999998.5359004847,
          999998.3894907475,
          999998.2284400816,
          999998.0512844035,
          999997.8564132237,
          999997.6420550055,
          999997.406261062,
          999997.146887841,
          999996.8615774391,
          999996.547736168,
          999996.2025109767,
          999995.8227635165,
          999995.4050416129,
          999994.9455478856,
          999994.4401052289,
          999993.8841188431,
          999993.2725344677,
          999992.5997924404,
          999991.8597771608,
          999991.0457615032,
          999990.1503456713,
          999989.16538994,
          999988.081940673,
          999986.8901489442,
          999985.5791810255,
          999984.1371199241,
          999982.5508570796,
          999980.8059732348,
          999978.8866073993,
          999976.7753127167,
          999974.452897927,
          999971.8982529852,
          999969.0881572545,
          999965.9970685343,
          999962.5968910076,
          999958.8567200076,
          999954.7425612853,
          999950.2170222374,
          999945.2389722957,
          999939.7631694023,
          999933.73984919,
          999927.1142731498,
          999919.8262316977,
          999911.8094976507,
          999902.9912251723,
          999893.2912887598,
          999882.6215563106,
          999870.8850897116,
          999857.9752657488,
          999843.7748094262,
          999828.1547309997,
          999810.9731571794,
          999792.074046012,
          999771.2857739335,
          999748.4195823466,
          999723.2678698519,
          999695.6023149042,
          999665.1718121897,
          999631.7002044002,
          999594.8837893142,
          999554.3885801601,
          999509.8472951298,
          999460.8560496102,
          999406.9707221912,
          999347.7029627827,
          999282.5158082035,
          999210.8188673804,
          999131.9630348043,
          999045.2346871021,
          998949.8493134925,
          998844.9445264883,
          998729.5723944518,
          998602.6910325271,
          998463.1553830148,
          998309.707110454,
          998140.9635305046,
          997955.4054852147,
          997751.3640704091,
          997527.0061138043,
          997280.3182950609,
          997009.0897914246,
          996710.8933249547,
          996383.0644797221,
          996022.67914995,
          995626.5289730595,
          995191.0945952478,
          994712.5166118918,
          994186.5640211389,
          993608.6000270408,
          992973.5450291063,
          992275.8366389627,
          991509.3865728219,
          990667.534281741,
          989742.9972015534,
          988727.8175323495,
          987613.3054953428,
          986389.9790649522,
          985047.5002384327,
          983574.6079871879,
          981959.0481361842,
          980187.5005442179,
          978245.5041121083,
          976117.3803324527,
          973786.1563179163,
          971233.4885097669,
          968439.5885790754,
          965383.1533938887,
          962041.3013401726,
          958389.5177545848,
          954401.6127533128,
          950049.695320594,
          945304.1681464099,
          940133.7483632665,
          934505.5200080965,
          928385.0246998471,
          921736.397638556,
          914522.5565478705,
          906705.4515365688,
          898246.3839675252,
          889106.4022018461,
          879246.7814252926,
          868629.593547437,
          857218.3712713318,
          844978.8677487061,
          831879.9096680242,
          817894.3371121497,
          803000.018068947,
          787180.9191639252,
          770428.2071971089,
          752741.3487218932,
          734129.1676572693,
          714610.8143720578,
          694216.5945366016,
          672988.603095941,
          650981.1087760496,
          628260.6382967741,
          604905.7174304037,
          581006.2383853624,
          556662.439451097,
          531983.502655552,
          507085.7970997637,
          482090.8179518176,
          457122.89183198113,
          432306.7364724664,
          407764.97426516714,
          383615.7042623977,
          359970.2346918315,
          336931.06820905756,
          314590.2158606015,
          293027.89466606337,
          272311.63990469964,
          252495.83883698832,
          233621.66981628886,
          215717.41129543504,
          198799.0703194919,
          182871.27032353217,
          167928.33344215318,
          153955.49261520372,
          140930.1727243223,
          128823.28681030078,
          117600.50205173157,
          107223.43965484039,
          97650.78229049791,
          88839.27158964274,
          80744.58604833635,
          73322.09626111446,
          66527.49961501546,
          60317.3404740165,
          54649.42458280071,
          49483.13808524376,
          44779.68237219576,
          40502.23613031162,
          36616.05563043605,
          33088.52362038556,
          29889.15629788465,
          26989.576834516134,
          24363.46287683514,
          21986.474421486724,
          19836.167485086713,
          17891.898090627627,
          16134.720283293398,
          14547.281174826086,
          13113.715396301472,
          11819.540809820872,
          10651.556883334299,
          9597.746761404793,
          8647.18375955394,
          7789.9427622957155,
          7017.01680689014,
          6320.238978687907,
          5692.209622893832,
          5126.228785643587,
          4616.233729235479,
          4156.741317696171,
          3742.795035764808,
          3369.916383656324,
          3034.060378934024,
          2731.5748932788847,
          2459.1635540907737,
          2213.851947220275,
          1992.9568665426923,
          1794.0583675956586,
          1614.9743953787256,
          1453.737770070671,
          1308.5753284139792,
          1177.8890325116226,
          1060.2388715177076,
          954.3273950123694,
          858.9857295887778,
          773.1609422782203,
          695.9046258346643,
          626.362591576064,
          563.7655654280679,
          507.4207920465851,
          456.70446042797994,
          411.05487228161655,
          369.9662816642085,
          332.9833410027204,
          299.69609469303396,
          269.73546699865256,
          242.76919602102134,
          218.4981701071374,
          196.65312724141404,
          176.99168176250532,
          159.29564619180746,
          143.36861908296123,
          129.0338126308052,
          116.1320963401813,
          104.52023537259083,
          94.06930428324267,
          84.66325875837356,
          76.1976496692514,
          68.57846531050745,
          61.7210890800925,
          55.549361121375114,
          49.99473358236719,
          44.9955101715168,
          40.49616161396261,
          36.446709446492605,
          32.80217133811675,
          29.522061802563258,
          26.569942777510732,
          23.913019095896743,
          21.521774369524792,
          19.3696432512952,
          17.432716444483958,
          15.689475190010853,
          14.12055228697136,
          12.708516997285187,
          11.437681448180228,
          10.293926385464147,
          9.26454434345942,
          8.338098492240533,
          7.504295595455915,
          6.753871667315252,
          6.078489062027074,
          5.470643850625493,
          4.9235824584029615,
          4.431226636748761,
          3.988105936674401,
          3.589296933496371,
          3.230368528398685,
          2.907332719070837,
          2.616600292385556,
          2.3549409478437155,
          2.119447407661937,
          1.9075031160609797,
          1.716753168264404,
          1.5450781461549923,
          1.3905705702491105,
          1.251513706636615,
          1.126362492563203,
          1.0137263701763004,
          0.9123538358835503,
          0.8211185355903581,
          0.7390067494707182,
          0.6651061291340739,
          0.5985955604119226,
          0.538736040238291,
          0.4848624652950093,
          0.436376242316328,
          0.39273863716516644,
          0.35346478887367994,
          0.3181183225242421,
          0.2863065004348755,
          0.25767585856374353,
          0.23190827935468405,
          0.20871745678596199,
          0.18784571543801576,
          0.1690611473750323,
          0.15215503552462906,
          0.13693953433539718,
          0.12324558279942721,
          0.11092102609109133,
          0.09982892475090921,
          0.08984603325370699,
          0.08086143073160201,
          0.07277528836857527,
          0.06549776007886976,
          0.05894798447843641,
          0.05305318639148027,
          0.047747867996804416,
          0.042973081464879215,
          0.038675773539580405,
          0.03480819636024535,
          0.031327376840636134,
          0.028194639249704778,
          0.025375175406225026,
          0.02283765794709325,
          0.02055389224551618,
          0.018498503020964563,
          0.01664865273050964,
          0.01498378743417561,
          0.013485408737324178,
          0.012136867851950228,
          0.010923181078396738,
          0.009830862982198596,
          0.008847776683978736,
          0.00796299905050546,
          0.0071666991570964456,
          0.0064500292064622045,
          0.005805026274174452,
          0.005224523600190878,
          0.004702071193605661,
          0.004231864120811224,
          0.003808677662163973,
          0.00342780991923064,
          0.0030850289622321725,
          0.0027765260310843587,
          0.0024988733930513263,
          0.0022489860421046615,
          0.002024087472818792,
          0.0018216787138953805,
          0.0016395108541473746,
          0.0014755597803741693,
          0.0013280038256198168,
          0.0011952033964917064,
          0.0010756830452010036,
          0.0009681147057563066,
          0.0008713032584637403,
          0.000784172909334302,
          0.0007057556649670005,
          0.0006351801566779613,
          0.0005716620944440365,
          0.0005144958849996328,
          0.0004630462499335408,
          0.0004167415900155902,
          0.0003750674659386277,
          0.00033756077755242586,
          0.0003038047580048442,
          0.0002734243171289563,
          0.00024608185049146414,
          0.00022147363051772118,
          0.0001993263140320778,
          0.00017939368262887,
          0.000161454314365983,
          0.00014530890621244907,
          0.0001307780621573329,
          0.00011770031414926052,
          0.0001059302594512701,
          9.533728007227182e-05,
          8.580356370657682e-05,
          7.72231724113226e-05,
          6.95008784532547e-05,
          6.255076732486486e-05,
          5.629565566778183e-05,
          5.0666043534874916e-05,
          4.559941589832306e-05,
          4.103942774236202e-05,
          3.693543840199709e-05,
          3.324192948639393e-05,
          2.9917689971625805e-05,
          2.6925932615995407e-05,
          2.4233362637460232e-05,
          2.1810061298310757e-05,
          1.9629020243883133e-05,
          1.7666141502559185e-05,
          1.589953899383545e-05,
          1.4309538528323174e-05,
          1.287856139242649e-05,
          1.1590658687055111e-05,
          1.0431627742946148e-05,
          9.388430044054985e-06,
          8.449540473520756e-06,
          7.604598067700863e-06,
          6.844173185527325e-06,
          6.159767508506775e-06,
          5.543814040720463e-06,
          4.989444278180599e-06,
          4.490488208830357e-06,
          4.041474312543869e-06,
          3.6372803151607513e-06,
          3.273598849773407e-06,
          2.9462389647960663e-06
         ],
         "yaxis": "y2"
        },
        {
         "hoverlabel": {
          "namelength": 0
         },
         "hovertemplate": "p=0.25<br>Estado=I<br>t=%{x}<br>value=%{y}",
         "legendgroup": "p=0.25",
         "line": {
          "color": "#00cc96",
          "dash": "solid"
         },
         "mode": "lines",
         "name": "p=0.25",
         "showlegend": true,
         "type": "scattergl",
         "x": [
          1,
          2,
          3,
          4,
          5,
          6,
          7,
          8,
          9,
          10,
          11,
          12,
          13,
          14,
          15,
          16,
          17,
          18,
          19,
          20,
          21,
          22,
          23,
          24,
          25,
          26,
          27,
          28,
          29,
          30,
          31,
          32,
          33,
          34,
          35,
          36,
          37,
          38,
          39,
          40,
          41,
          42,
          43,
          44,
          45,
          46,
          47,
          48,
          49,
          50,
          51,
          52,
          53,
          54,
          55,
          56,
          57,
          58,
          59,
          60,
          61,
          62,
          63,
          64,
          65,
          66,
          67,
          68,
          69,
          70,
          71,
          72,
          73,
          74,
          75,
          76,
          77,
          78,
          79,
          80,
          81,
          82,
          83,
          84,
          85,
          86,
          87,
          88,
          89,
          90,
          91,
          92,
          93,
          94,
          95,
          96,
          97,
          98,
          99,
          100,
          101,
          102,
          103,
          104,
          105,
          106,
          107,
          108,
          109,
          110,
          111,
          112,
          113,
          114,
          115,
          116,
          117,
          118,
          119,
          120,
          121,
          122,
          123,
          124,
          125,
          126,
          127,
          128,
          129,
          130,
          131,
          132,
          133,
          134,
          135,
          136,
          137,
          138,
          139,
          140,
          141,
          142,
          143,
          144,
          145,
          146,
          147,
          148,
          149,
          150,
          151,
          152,
          153,
          154,
          155,
          156,
          157,
          158,
          159,
          160,
          161,
          162,
          163,
          164,
          165,
          166,
          167,
          168,
          169,
          170,
          171,
          172,
          173,
          174,
          175,
          176,
          177,
          178,
          179,
          180,
          181,
          182,
          183,
          184,
          185,
          186,
          187,
          188,
          189,
          190,
          191,
          192,
          193,
          194,
          195,
          196,
          197,
          198,
          199,
          200,
          201,
          202,
          203,
          204,
          205,
          206,
          207,
          208,
          209,
          210,
          211,
          212,
          213,
          214,
          215,
          216,
          217,
          218,
          219,
          220,
          221,
          222,
          223,
          224,
          225,
          226,
          227,
          228,
          229,
          230,
          231,
          232,
          233,
          234,
          235,
          236,
          237,
          238,
          239,
          240,
          241,
          242,
          243,
          244,
          245,
          246,
          247,
          248,
          249,
          250,
          251,
          252,
          253,
          254,
          255,
          256,
          257,
          258,
          259,
          260,
          261,
          262,
          263,
          264,
          265,
          266,
          267,
          268,
          269,
          270,
          271,
          272,
          273,
          274,
          275,
          276,
          277,
          278,
          279,
          280,
          281,
          282,
          283,
          284,
          285,
          286,
          287,
          288,
          289,
          290,
          291,
          292,
          293,
          294,
          295,
          296,
          297,
          298,
          299,
          300,
          301,
          302,
          303,
          304,
          305,
          306,
          307,
          308,
          309,
          310,
          311,
          312,
          313,
          314,
          315,
          316,
          317,
          318,
          319,
          320,
          321,
          322,
          323,
          324,
          325,
          326,
          327,
          328,
          329,
          330,
          331,
          332,
          333,
          334,
          335,
          336,
          337,
          338,
          339,
          340,
          341,
          342,
          343,
          344,
          345,
          346,
          347,
          348,
          349,
          350,
          351,
          352,
          353,
          354,
          355,
          356,
          357,
          358,
          359,
          360,
          361,
          362,
          363,
          364,
          365,
          366,
          367,
          368,
          369,
          370,
          371,
          372,
          373,
          374,
          375,
          376,
          377,
          378,
          379,
          380,
          381,
          382,
          383,
          384,
          385,
          386,
          387,
          388,
          389,
          390,
          391,
          392,
          393,
          394,
          395,
          396,
          397,
          398,
          399
         ],
         "xaxis": "x",
         "y": [
          1,
          1,
          1.25,
          1.562499609375,
          1.9531239013674928,
          2.4414039230361224,
          3.0517534136818742,
          3.8146894388026182,
          4.768358160539394,
          5.960442016364356,
          7.450543638738187,
          9.313165670772605,
          11.641435404702055,
          14.551760375122997,
          18.18964753047124,
          22.736976697269732,
          28.42109162905983,
          35.52616259671244,
          44.407387718833334,
          55.50874164452067,
          69.38515675055109,
          86.73024236319453,
          108.41092242025807,
          135.51071479329758,
          169.38380270316603,
          211.72258066080298,
          264.6420192132133,
          330.7850151669333,
          413.4539142771019,
          516.7746568115696,
          645.9015570029812,
          807.2726490483918,
          1008.9278890280144,
          1260.9053774137035,
          1575.7342511744316,
          1969.0470793604586,
          2460.339562600389,
          3073.911135559662,
          3840.026687032248,
          4796.34690755103,
          5989.682398524394,
          7478.133924346694,
          9333.686783685751,
          11645.329052363202,
          14522.757893269549,
          18100.719742380305,
          22543.99066417733,
          28052.930451455035,
          34869.42133759025,
          43282.807535883214,
          53635.15906280694,
          66324.76625658553,
          81806.21416598423,
          100584.70353843758,
          123201.55877656813,
          150207.29244946613,
          182118.5578855828,
          219356.4050753974,
          262166.19823234633,
          310524.96891653247,
          364049.7720655122,
          421929.1559466524,
          482905.3917738519,
          545332.3353662505,
          607318.580208811,
          666939.2607943022,
          722472.0815956652,
          772598.6248232881,
          816521.1222594011,
          853974.7170503135,
          885150.1919726011,
          910565.0243784683,
          930924.1145677452,
          947000.2164387464,
          959547.918064675,
          969251.8458152807,
          976702.5221150187,
          982391.1984673137,
          986715.8813776309,
          989992.7940813298,
          992469.5595184227,
          994337.9927553554,
          995745.479985007,
          996804.5847536158,
          997600.8858955626,
          998199.2254845505,
          998648.608416199,
          998985.999747346,
          999239.2427613814,
          999429.287383142,
          999571.8841091337,
          999678.8672610463,
          999759.1246642257,
          999819.3289929375,
          999864.4885841999,
          999898.3618473139,
          999923.768802907,
          999942.8251493814,
          999957.1180447951,
          999967.8380738808,
          999975.8782968132,
          999981.9085771458,
          999986.4313510344,
          999989.8234672488,
          999992.3675745461,
          999994.2756663461,
          999995.7067415676,
          999996.7800515677,
          999997.5850360837,
          999998.1887756048,
          999998.6415808835,
          999998.9811852013,
          999999.2358886414,
          999999.4269163351,
          999999.5701871692,
          999999.6776403307,
          999999.758230222,
          999999.8186726519,
          999999.8640044807,
          999999.8980033558,
          999999.9235025143,
          999999.9426268842,
          999999.9569701623,
          999999.9677276213,
          999999.9757957157,
          999999.9818467866,
          999999.9863850898,
          999999.9897888174,
          999999.992341613,
          999999.9942562098,
          999999.9956921573,
          999999.996769118,
          999999.9975768385,
          999999.9981826289,
          999999.9986369717,
          999999.9989777288,
          999999.9992332966,
          999999.9994249725,
          999999.9995687293,
          999999.999676547,
          999999.9997574103,
          999999.9998180576,
          999999.9998635432,
          999999.9998976574,
          999999.9999232431,
          999999.9999424323,
          999999.9999568242,
          999999.9999676181,
          999999.9999757136,
          999999.9999817852,
          999999.9999863389,
          999999.9999897542,
          999999.9999923157,
          999999.9999942367,
          999999.9999956775,
          999999.9999967581,
          999999.9999975685,
          999999.9999981764,
          999999.9999986322,
          999999.9999989741,
          999999.9999992306,
          999999.9999994229,
          999999.9999995672,
          999999.9999996753,
          999999.9999997565,
          999999.9999998173,
          999999.999999863,
          999999.9999998972,
          999999.9999999229,
          999999.9999999421,
          999999.9999999566,
          999999.9999999674,
          999999.9999999756,
          999999.9999999816,
          999999.9999999861,
          999999.9999999896,
          999999.9999999922,
          999999.9999999942,
          999999.9999999956,
          999999.9999999966,
          999999.9999999974,
          999999.999999998,
          999999.9999999985,
          999999.9999999988,
          999999.9999999991,
          999999.9999999993,
          999999.9999999994,
          999999.9999999995,
          999999.9999999997,
          999999.9999999998,
          999999.9999999998,
          999999.9999999998,
          999999.9999999998,
          999999.9999999998,
          999999.9999999998,
          999999.9999999998,
          999999.9999999998,
          999999.9999999998,
          999999.9999999998,
          999999.9999999998,
          999999.9999999998,
          999999.9999999998,
          999999.9999999998,
          999999.9999999998,
          999999.9999999998,
          999999.9999999998,
          999999.9999999998,
          999999.9999999998,
          999999.9999999998,
          999999.9999999998,
          999999.9999999998,
          999999.9999999998,
          999999.9999999998,
          999999.9999999998,
          999999.9999999998,
          999999.9999999998,
          999999.9999999998,
          999999.9999999998,
          999999.9999999998,
          999999.9999999998,
          999999.9999999998,
          999999.9999999998,
          999999.9999999998,
          999999.9999999998,
          999999.9999999998,
          999999.9999999998,
          999999.9999999998,
          999999.9999999998,
          999999.9999999998,
          999999.9999999998,
          999999.9999999998,
          999999.9999999998,
          999999.9999999998,
          999999.9999999998,
          999999.9999999998,
          999999.9999999998,
          999999.9999999998,
          999999.9999999998,
          999999.9999999998,
          999999.9999999998,
          999999.9999999998,
          999999.9999999998,
          999999.9999999998,
          999999.9999999998,
          999999.9999999998,
          999999.9999999998,
          999999.9999999998,
          999999.9999999998,
          999999.9999999998,
          999999.9999999998,
          999999.9999999998,
          999999.9999999998,
          999999.9999999998,
          999999.9999999998,
          999999.9999999998,
          999999.9999999998,
          999999.9999999998,
          999999.9999999998,
          999999.9999999998,
          999999.9999999998,
          999999.9999999998,
          999999.9999999998,
          999999.9999999998,
          999999.9999999998,
          999999.9999999998,
          999999.9999999998,
          999999.9999999998,
          999999.9999999998,
          999999.9999999998,
          999999.9999999998,
          999999.9999999998,
          999999.9999999998,
          999999.9999999998,
          999999.9999999998,
          999999.9999999998,
          999999.9999999998,
          999999.9999999998,
          999999.9999999998,
          999999.9999999998,
          999999.9999999998,
          999999.9999999998,
          999999.9999999998,
          999999.9999999998,
          999999.9999999998,
          999999.9999999998,
          999999.9999999998,
          999999.9999999998,
          999999.9999999998,
          999999.9999999998,
          999999.9999999998,
          999999.9999999998,
          999999.9999999998,
          999999.9999999998,
          999999.9999999998,
          999999.9999999998,
          999999.9999999998,
          999999.9999999998,
          999999.9999999998,
          999999.9999999998,
          999999.9999999998,
          999999.9999999998,
          999999.9999999998,
          999999.9999999998,
          999999.9999999998,
          999999.9999999998,
          999999.9999999998,
          999999.9999999998,
          999999.9999999998,
          999999.9999999998,
          999999.9999999998,
          999999.9999999998,
          999999.9999999998,
          999999.9999999998,
          999999.9999999998,
          999999.9999999998,
          999999.9999999998,
          999999.9999999998,
          999999.9999999998,
          999999.9999999998,
          999999.9999999998,
          999999.9999999998,
          999999.9999999998,
          999999.9999999998,
          999999.9999999998,
          999999.9999999998,
          999999.9999999998,
          999999.9999999998,
          999999.9999999998,
          999999.9999999998,
          999999.9999999998,
          999999.9999999998,
          999999.9999999998,
          999999.9999999998,
          999999.9999999998,
          999999.9999999998,
          999999.9999999998,
          999999.9999999998,
          999999.9999999998,
          999999.9999999998,
          999999.9999999998,
          999999.9999999998,
          999999.9999999998,
          999999.9999999998,
          999999.9999999998,
          999999.9999999998,
          999999.9999999998,
          999999.9999999998,
          999999.9999999998,
          999999.9999999998,
          999999.9999999998,
          999999.9999999998,
          999999.9999999998,
          999999.9999999998,
          999999.9999999998,
          999999.9999999998,
          999999.9999999998,
          999999.9999999998,
          999999.9999999998,
          999999.9999999998,
          999999.9999999998,
          999999.9999999998,
          999999.9999999998,
          999999.9999999998,
          999999.9999999998,
          999999.9999999998,
          999999.9999999998,
          999999.9999999998,
          999999.9999999998,
          999999.9999999998,
          999999.9999999998,
          999999.9999999998,
          999999.9999999998,
          999999.9999999998,
          999999.9999999998,
          999999.9999999998,
          999999.9999999998,
          999999.9999999998,
          999999.9999999998,
          999999.9999999998,
          999999.9999999998,
          999999.9999999998,
          999999.9999999998,
          999999.9999999998,
          999999.9999999998,
          999999.9999999998,
          999999.9999999998,
          999999.9999999998,
          999999.9999999998,
          999999.9999999998,
          999999.9999999998,
          999999.9999999998,
          999999.9999999998,
          999999.9999999998,
          999999.9999999998,
          999999.9999999998,
          999999.9999999998,
          999999.9999999998,
          999999.9999999998,
          999999.9999999998
         ],
         "yaxis": "y"
        },
        {
         "hoverlabel": {
          "namelength": 0
         },
         "hovertemplate": "p=0.25<br>Estado=S<br>t=%{x}<br>value=%{y}",
         "legendgroup": "p=0.25",
         "line": {
          "color": "#00cc96",
          "dash": "solid"
         },
         "mode": "lines",
         "name": "p=0.25",
         "showlegend": false,
         "type": "scattergl",
         "x": [
          1,
          2,
          3,
          4,
          5,
          6,
          7,
          8,
          9,
          10,
          11,
          12,
          13,
          14,
          15,
          16,
          17,
          18,
          19,
          20,
          21,
          22,
          23,
          24,
          25,
          26,
          27,
          28,
          29,
          30,
          31,
          32,
          33,
          34,
          35,
          36,
          37,
          38,
          39,
          40,
          41,
          42,
          43,
          44,
          45,
          46,
          47,
          48,
          49,
          50,
          51,
          52,
          53,
          54,
          55,
          56,
          57,
          58,
          59,
          60,
          61,
          62,
          63,
          64,
          65,
          66,
          67,
          68,
          69,
          70,
          71,
          72,
          73,
          74,
          75,
          76,
          77,
          78,
          79,
          80,
          81,
          82,
          83,
          84,
          85,
          86,
          87,
          88,
          89,
          90,
          91,
          92,
          93,
          94,
          95,
          96,
          97,
          98,
          99,
          100,
          101,
          102,
          103,
          104,
          105,
          106,
          107,
          108,
          109,
          110,
          111,
          112,
          113,
          114,
          115,
          116,
          117,
          118,
          119,
          120,
          121,
          122,
          123,
          124,
          125,
          126,
          127,
          128,
          129,
          130,
          131,
          132,
          133,
          134,
          135,
          136,
          137,
          138,
          139,
          140,
          141,
          142,
          143,
          144,
          145,
          146,
          147,
          148,
          149,
          150,
          151,
          152,
          153,
          154,
          155,
          156,
          157,
          158,
          159,
          160,
          161,
          162,
          163,
          164,
          165,
          166,
          167,
          168,
          169,
          170,
          171,
          172,
          173,
          174,
          175,
          176,
          177,
          178,
          179,
          180,
          181,
          182,
          183,
          184,
          185,
          186,
          187,
          188,
          189,
          190,
          191,
          192,
          193,
          194,
          195,
          196,
          197,
          198,
          199,
          200,
          201,
          202,
          203,
          204,
          205,
          206,
          207,
          208,
          209,
          210,
          211,
          212,
          213,
          214,
          215,
          216,
          217,
          218,
          219,
          220,
          221,
          222,
          223,
          224,
          225,
          226,
          227,
          228,
          229,
          230,
          231,
          232,
          233,
          234,
          235,
          236,
          237,
          238,
          239,
          240,
          241,
          242,
          243,
          244,
          245,
          246,
          247,
          248,
          249,
          250,
          251,
          252,
          253,
          254,
          255,
          256,
          257,
          258,
          259,
          260,
          261,
          262,
          263,
          264,
          265,
          266,
          267,
          268,
          269,
          270,
          271,
          272,
          273,
          274,
          275,
          276,
          277,
          278,
          279,
          280,
          281,
          282,
          283,
          284,
          285,
          286,
          287,
          288,
          289,
          290,
          291,
          292,
          293,
          294,
          295,
          296,
          297,
          298,
          299,
          300,
          301,
          302,
          303,
          304,
          305,
          306,
          307,
          308,
          309,
          310,
          311,
          312,
          313,
          314,
          315,
          316,
          317,
          318,
          319,
          320,
          321,
          322,
          323,
          324,
          325,
          326,
          327,
          328,
          329,
          330,
          331,
          332,
          333,
          334,
          335,
          336,
          337,
          338,
          339,
          340,
          341,
          342,
          343,
          344,
          345,
          346,
          347,
          348,
          349,
          350,
          351,
          352,
          353,
          354,
          355,
          356,
          357,
          358,
          359,
          360,
          361,
          362,
          363,
          364,
          365,
          366,
          367,
          368,
          369,
          370,
          371,
          372,
          373,
          374,
          375,
          376,
          377,
          378,
          379,
          380,
          381,
          382,
          383,
          384,
          385,
          386,
          387,
          388,
          389,
          390,
          391,
          392,
          393,
          394,
          395,
          396,
          397,
          398,
          399
         ],
         "xaxis": "x2",
         "y": [
          1000000,
          1000000,
          999998.75,
          999998.4375003906,
          999998.0468760986,
          999997.5585960769,
          999996.9482465864,
          999996.1853105612,
          999995.2316418395,
          999994.0395579836,
          999992.5494563612,
          999990.6868343293,
          999988.3585645953,
          999985.4482396248,
          999981.8103524696,
          999977.2630233028,
          999971.5789083709,
          999964.4738374032,
          999955.5926122812,
          999944.4912583554,
          999930.6148432494,
          999913.2697576368,
          999891.5890775798,
          999864.4892852067,
          999830.6161972969,
          999788.2774193392,
          999735.3579807868,
          999669.214984833,
          999586.5460857229,
          999483.2253431884,
          999354.098442997,
          999192.7273509516,
          998991.072110972,
          998739.0946225863,
          998424.2657488256,
          998030.9529206395,
          997539.6604373996,
          996926.0888644403,
          996159.9733129678,
          995203.653092449,
          994010.3176014756,
          992521.8660756533,
          990666.3132163143,
          988354.6709476368,
          985477.2421067305,
          981899.2802576197,
          977456.0093358227,
          971947.0695485449,
          965130.5786624098,
          956717.1924641167,
          946364.840937193,
          933675.2337434145,
          918193.7858340158,
          899415.2964615624,
          876798.4412234318,
          849792.7075505338,
          817881.4421144172,
          780643.5949246027,
          737833.8017676537,
          689475.0310834675,
          635950.2279344879,
          578070.8440533476,
          517094.6082261481,
          454667.6646337495,
          392681.419791189,
          333060.7392056978,
          277527.9184043348,
          227401.37517671194,
          183478.87774059887,
          146025.28294968652,
          114849.80802739889,
          89434.97562153172,
          69075.88543225476,
          52999.78356125357,
          40452.081935325055,
          30748.154184719315,
          23297.477884981316,
          17608.80153268634,
          13284.118622369133,
          10007.205918670166,
          7530.440481577301,
          5662.00724464457,
          4254.5200149930315,
          3195.4152463842183,
          2399.114104437409,
          1800.774515449535,
          1351.3915838010143,
          1014.0002526539611,
          760.7572386185639,
          570.7126168579562,
          428.1158908662619,
          321.1327389536891,
          240.87533577426802,
          180.67100706254132,
          135.5114158000797,
          101.63815268606413,
          76.23119709303137,
          57.17485061858315,
          42.881955204880796,
          32.16192611923907,
          24.1217031867709,
          18.09142285422422,
          13.568648965563625,
          10.176532751182094,
          7.632425453863107,
          5.724333653924987,
          4.293258432415314,
          3.219948432291858,
          2.4149639162933454,
          1.8112243951763958,
          1.3584191164700314,
          1.0188147986773401,
          0.7641113585559651,
          0.5730836648726836,
          0.4298128307564184,
          0.32235966925509274,
          0.24176977796014398,
          0.1813273481093347,
          0.13599551934748888,
          0.10199664416722953,
          0.07649748574476689,
          0.05737311579287052,
          0.043029837659560144,
          0.032272378681227565,
          0.024204284301958978,
          0.018153213430196047,
          0.013614910189062357,
          0.010211182641796768,
          0.007658386952243745,
          0.0057437901850789785,
          0.004307842697016895,
          0.0032308819936588407,
          0.002423161524347961,
          0.0018173711141571403,
          0.0013630283065140247,
          0.0010222712298855186,
          0.0007667033933103085,
          0.0005750275449827313,
          0.00043127068784087896,
          0.00032345298677682877,
          0.00024258974008262157,
          0.0001819423632696271,
          0.00013645680155605078,
          0.00010234257206320763,
          7.675692904740572e-05,
          5.7567725889384747e-05,
          4.31757653132081e-05,
          3.2381853088736534e-05,
          2.4286448024213314e-05,
          1.821480691432953e-05,
          1.3661105185747147e-05,
          1.024582888931036e-05,
          7.684342563152313e-06,
          5.763256922364235e-06,
          4.32250089943409e-06,
          3.2419338822364807e-06,
          2.4314504116773605e-06,
          1.8236460164189339e-06,
          1.3677636161446571e-06,
          1.0258518159389496e-06,
          7.693888619542122e-07,
          5.770707502961159e-07,
          4.3283216655254364e-07,
          3.246823325753212e-07,
          2.4354085326194763e-07,
          1.8265563994646072e-07,
          1.3702083379030228e-07,
          1.0279472917318344e-07,
          7.706694304943085e-08,
          5.78584149479866e-08,
          4.3422915041446686e-08,
          3.259629011154175e-08,
          2.444721758365631e-08,
          1.83936208486557e-08,
          1.3853423297405243e-08,
          1.0360963642597198e-08,
          7.799826562404633e-09,
          5.820766091346741e-09,
          4.423782229423523e-09,
          3.3760443329811096e-09,
          2.561137080192566e-09,
          1.979060471057892e-09,
          1.5133991837501526e-09,
          1.1641532182693481e-09,
          9.313225746154785e-10,
          6.984919309616089e-10,
          5.820766091346741e-10,
          4.656612873077393e-10,
          3.4924596548080444e-10,
          2.3283064365386963e-10,
          2.3283064365386963e-10,
          2.3283064365386963e-10,
          2.3283064365386963e-10,
          2.3283064365386963e-10,
          2.3283064365386963e-10,
          2.3283064365386963e-10,
          2.3283064365386963e-10,
          2.3283064365386963e-10,
          2.3283064365386963e-10,
          2.3283064365386963e-10,
          2.3283064365386963e-10,
          2.3283064365386963e-10,
          2.3283064365386963e-10,
          2.3283064365386963e-10,
          2.3283064365386963e-10,
          2.3283064365386963e-10,
          2.3283064365386963e-10,
          2.3283064365386963e-10,
          2.3283064365386963e-10,
          2.3283064365386963e-10,
          2.3283064365386963e-10,
          2.3283064365386963e-10,
          2.3283064365386963e-10,
          2.3283064365386963e-10,
          2.3283064365386963e-10,
          2.3283064365386963e-10,
          2.3283064365386963e-10,
          2.3283064365386963e-10,
          2.3283064365386963e-10,
          2.3283064365386963e-10,
          2.3283064365386963e-10,
          2.3283064365386963e-10,
          2.3283064365386963e-10,
          2.3283064365386963e-10,
          2.3283064365386963e-10,
          2.3283064365386963e-10,
          2.3283064365386963e-10,
          2.3283064365386963e-10,
          2.3283064365386963e-10,
          2.3283064365386963e-10,
          2.3283064365386963e-10,
          2.3283064365386963e-10,
          2.3283064365386963e-10,
          2.3283064365386963e-10,
          2.3283064365386963e-10,
          2.3283064365386963e-10,
          2.3283064365386963e-10,
          2.3283064365386963e-10,
          2.3283064365386963e-10,
          2.3283064365386963e-10,
          2.3283064365386963e-10,
          2.3283064365386963e-10,
          2.3283064365386963e-10,
          2.3283064365386963e-10,
          2.3283064365386963e-10,
          2.3283064365386963e-10,
          2.3283064365386963e-10,
          2.3283064365386963e-10,
          2.3283064365386963e-10,
          2.3283064365386963e-10,
          2.3283064365386963e-10,
          2.3283064365386963e-10,
          2.3283064365386963e-10,
          2.3283064365386963e-10,
          2.3283064365386963e-10,
          2.3283064365386963e-10,
          2.3283064365386963e-10,
          2.3283064365386963e-10,
          2.3283064365386963e-10,
          2.3283064365386963e-10,
          2.3283064365386963e-10,
          2.3283064365386963e-10,
          2.3283064365386963e-10,
          2.3283064365386963e-10,
          2.3283064365386963e-10,
          2.3283064365386963e-10,
          2.3283064365386963e-10,
          2.3283064365386963e-10,
          2.3283064365386963e-10,
          2.3283064365386963e-10,
          2.3283064365386963e-10,
          2.3283064365386963e-10,
          2.3283064365386963e-10,
          2.3283064365386963e-10,
          2.3283064365386963e-10,
          2.3283064365386963e-10,
          2.3283064365386963e-10,
          2.3283064365386963e-10,
          2.3283064365386963e-10,
          2.3283064365386963e-10,
          2.3283064365386963e-10,
          2.3283064365386963e-10,
          2.3283064365386963e-10,
          2.3283064365386963e-10,
          2.3283064365386963e-10,
          2.3283064365386963e-10,
          2.3283064365386963e-10,
          2.3283064365386963e-10,
          2.3283064365386963e-10,
          2.3283064365386963e-10,
          2.3283064365386963e-10,
          2.3283064365386963e-10,
          2.3283064365386963e-10,
          2.3283064365386963e-10,
          2.3283064365386963e-10,
          2.3283064365386963e-10,
          2.3283064365386963e-10,
          2.3283064365386963e-10,
          2.3283064365386963e-10,
          2.3283064365386963e-10,
          2.3283064365386963e-10,
          2.3283064365386963e-10,
          2.3283064365386963e-10,
          2.3283064365386963e-10,
          2.3283064365386963e-10,
          2.3283064365386963e-10,
          2.3283064365386963e-10,
          2.3283064365386963e-10,
          2.3283064365386963e-10,
          2.3283064365386963e-10,
          2.3283064365386963e-10,
          2.3283064365386963e-10,
          2.3283064365386963e-10,
          2.3283064365386963e-10,
          2.3283064365386963e-10,
          2.3283064365386963e-10,
          2.3283064365386963e-10,
          2.3283064365386963e-10,
          2.3283064365386963e-10,
          2.3283064365386963e-10,
          2.3283064365386963e-10,
          2.3283064365386963e-10,
          2.3283064365386963e-10,
          2.3283064365386963e-10,
          2.3283064365386963e-10,
          2.3283064365386963e-10,
          2.3283064365386963e-10,
          2.3283064365386963e-10,
          2.3283064365386963e-10,
          2.3283064365386963e-10,
          2.3283064365386963e-10,
          2.3283064365386963e-10,
          2.3283064365386963e-10,
          2.3283064365386963e-10,
          2.3283064365386963e-10,
          2.3283064365386963e-10,
          2.3283064365386963e-10,
          2.3283064365386963e-10,
          2.3283064365386963e-10,
          2.3283064365386963e-10,
          2.3283064365386963e-10,
          2.3283064365386963e-10,
          2.3283064365386963e-10,
          2.3283064365386963e-10,
          2.3283064365386963e-10,
          2.3283064365386963e-10,
          2.3283064365386963e-10,
          2.3283064365386963e-10,
          2.3283064365386963e-10,
          2.3283064365386963e-10,
          2.3283064365386963e-10,
          2.3283064365386963e-10,
          2.3283064365386963e-10,
          2.3283064365386963e-10,
          2.3283064365386963e-10,
          2.3283064365386963e-10,
          2.3283064365386963e-10,
          2.3283064365386963e-10,
          2.3283064365386963e-10,
          2.3283064365386963e-10,
          2.3283064365386963e-10,
          2.3283064365386963e-10,
          2.3283064365386963e-10,
          2.3283064365386963e-10,
          2.3283064365386963e-10,
          2.3283064365386963e-10,
          2.3283064365386963e-10,
          2.3283064365386963e-10,
          2.3283064365386963e-10,
          2.3283064365386963e-10,
          2.3283064365386963e-10,
          2.3283064365386963e-10,
          2.3283064365386963e-10,
          2.3283064365386963e-10,
          2.3283064365386963e-10,
          2.3283064365386963e-10,
          2.3283064365386963e-10,
          2.3283064365386963e-10,
          2.3283064365386963e-10,
          2.3283064365386963e-10,
          2.3283064365386963e-10,
          2.3283064365386963e-10,
          2.3283064365386963e-10,
          2.3283064365386963e-10,
          2.3283064365386963e-10,
          2.3283064365386963e-10,
          2.3283064365386963e-10,
          2.3283064365386963e-10,
          2.3283064365386963e-10,
          2.3283064365386963e-10,
          2.3283064365386963e-10,
          2.3283064365386963e-10,
          2.3283064365386963e-10,
          2.3283064365386963e-10,
          2.3283064365386963e-10,
          2.3283064365386963e-10,
          2.3283064365386963e-10,
          2.3283064365386963e-10,
          2.3283064365386963e-10
         ],
         "yaxis": "y2"
        },
        {
         "hoverlabel": {
          "namelength": 0
         },
         "hovertemplate": "p=0.4<br>Estado=I<br>t=%{x}<br>value=%{y}",
         "legendgroup": "p=0.4",
         "line": {
          "color": "#ab63fa",
          "dash": "solid"
         },
         "mode": "lines",
         "name": "p=0.4",
         "showlegend": true,
         "type": "scattergl",
         "x": [
          1,
          2,
          3,
          4,
          5,
          6,
          7,
          8,
          9,
          10,
          11,
          12,
          13,
          14,
          15,
          16,
          17,
          18,
          19,
          20,
          21,
          22,
          23,
          24,
          25,
          26,
          27,
          28,
          29,
          30,
          31,
          32,
          33,
          34,
          35,
          36,
          37,
          38,
          39,
          40,
          41,
          42,
          43,
          44,
          45,
          46,
          47,
          48,
          49,
          50,
          51,
          52,
          53,
          54,
          55,
          56,
          57,
          58,
          59,
          60,
          61,
          62,
          63,
          64,
          65,
          66,
          67,
          68,
          69,
          70,
          71,
          72,
          73,
          74,
          75,
          76,
          77,
          78,
          79,
          80,
          81,
          82,
          83,
          84,
          85,
          86,
          87,
          88,
          89,
          90,
          91,
          92,
          93,
          94,
          95,
          96,
          97,
          98,
          99,
          100,
          101,
          102,
          103,
          104,
          105,
          106,
          107,
          108,
          109,
          110,
          111,
          112,
          113,
          114,
          115,
          116,
          117,
          118,
          119,
          120,
          121,
          122,
          123,
          124,
          125,
          126,
          127,
          128,
          129,
          130,
          131,
          132,
          133,
          134,
          135,
          136,
          137,
          138,
          139,
          140,
          141,
          142,
          143,
          144,
          145,
          146,
          147,
          148,
          149,
          150,
          151,
          152,
          153,
          154,
          155,
          156,
          157,
          158,
          159,
          160,
          161,
          162,
          163,
          164,
          165,
          166,
          167,
          168,
          169,
          170,
          171,
          172,
          173,
          174,
          175,
          176,
          177,
          178,
          179,
          180,
          181,
          182,
          183,
          184,
          185,
          186,
          187,
          188,
          189,
          190,
          191,
          192,
          193,
          194,
          195,
          196,
          197,
          198,
          199,
          200,
          201,
          202,
          203,
          204,
          205,
          206,
          207,
          208,
          209,
          210,
          211,
          212,
          213,
          214,
          215,
          216,
          217,
          218,
          219,
          220,
          221,
          222,
          223,
          224,
          225,
          226,
          227,
          228,
          229,
          230,
          231,
          232,
          233,
          234,
          235,
          236,
          237,
          238,
          239,
          240,
          241,
          242,
          243,
          244,
          245,
          246,
          247,
          248,
          249,
          250,
          251,
          252,
          253,
          254,
          255,
          256,
          257,
          258,
          259,
          260,
          261,
          262,
          263,
          264,
          265,
          266,
          267,
          268,
          269,
          270,
          271,
          272,
          273,
          274,
          275,
          276,
          277,
          278,
          279,
          280,
          281,
          282,
          283,
          284,
          285,
          286,
          287,
          288,
          289,
          290,
          291,
          292,
          293,
          294,
          295,
          296,
          297,
          298,
          299,
          300,
          301,
          302,
          303,
          304,
          305,
          306,
          307,
          308,
          309,
          310,
          311,
          312,
          313,
          314,
          315,
          316,
          317,
          318,
          319,
          320,
          321,
          322,
          323,
          324,
          325,
          326,
          327,
          328,
          329,
          330,
          331,
          332,
          333,
          334,
          335,
          336,
          337,
          338,
          339,
          340,
          341,
          342,
          343,
          344,
          345,
          346,
          347,
          348,
          349,
          350,
          351,
          352,
          353,
          354,
          355,
          356,
          357,
          358,
          359,
          360,
          361,
          362,
          363,
          364,
          365,
          366,
          367,
          368,
          369,
          370,
          371,
          372,
          373,
          374,
          375,
          376,
          377,
          378,
          379,
          380,
          381,
          382,
          383,
          384,
          385,
          386,
          387,
          388,
          389,
          390,
          391,
          392,
          393,
          394,
          395,
          396,
          397,
          398,
          399
         ],
         "xaxis": "x",
         "y": [
          1,
          1,
          1.4,
          1.959999216,
          2.7439973657612295,
          3.841593300257104,
          5.378224717224312,
          7.529503033993594,
          10.541281570224657,
          14.757749750867662,
          20.660762534743643,
          28.924896801797694,
          40.494520862654774,
          56.691673285228724,
          79.36705702099226,
          111.1113601774931,
          155.55096595474615,
          217.76167389544082,
          304.8473753949701,
          426.74915278404404,
          597.3759679619009,
          836.1836119278219,
          1170.377375485808,
          1637.9804123997114,
          2292.099385427034,
          3206.8376517607776,
          4485.4591893751885,
          6271.5951274694435,
          8764.500016280062,
          12239.573438577938,
          17075.479950825775,
          23789.043124935662,
          33078.29294578991,
          45871.94073842287,
          63379.023054948266,
          87123.87205156771,
          118937.19323969162,
          160853.64816127397,
          214845.5489750672,
          282320.3245993349,
          363366.5481663193,
          455899.0681023246,
          555121.1112246272,
          653905.7764635722,
          744430.9812520301,
          820532.379413698,
          879435.9769126553,
          921847.3126823909,
          950665.250595449,
          969425.5833577454,
          981281.4320334416,
          988628.7053053775,
          993125.5006460138,
          995856.3968910611,
          997506.9703559469,
          998501.6961348457,
          999100.1197151185,
          999459.7479152603,
          999675.7320002301,
          999805.3971402438,
          999883.223136037,
          999929.9284268878,
          999957.9550921225,
          999974.7723481638,
          999984.8631543245,
          999990.917800945,
          999994.5506475725,
          999996.7303766654,
          999998.038221723,
          999998.8229314944,
          999999.2937583425,
          999999.576254806,
          999999.7457528118,
          999999.8474516612,
          999999.9084709875,
          999999.9450825892,
          999999.9670495522,
          999999.980229731,
          999999.9881378384,
          999999.992882703,
          999999.9957296217,
          999999.997437773,
          999999.9984626638,
          999999.9990775983,
          999999.999446559,
          999999.9996679354,
          999999.9998007612,
          999999.9998804567,
          999999.9999282741,
          999999.9999569644,
          999999.9999741786,
          999999.9999845072,
          999999.9999907044,
          999999.9999944227,
          999999.9999966536,
          999999.9999979922,
          999999.9999987953,
          999999.9999992772,
          999999.9999995664,
          999999.9999997398,
          999999.9999998439,
          999999.9999999063,
          999999.9999999438,
          999999.9999999662,
          999999.9999999797,
          999999.9999999879,
          999999.9999999928,
          999999.9999999957,
          999999.9999999974,
          999999.9999999985,
          999999.9999999991,
          999999.9999999994,
          999999.9999999997,
          999999.9999999998,
          999999.9999999999,
          999999.9999999999,
          999999.9999999999,
          999999.9999999999,
          999999.9999999999,
          999999.9999999999,
          999999.9999999999,
          999999.9999999999,
          999999.9999999999,
          999999.9999999999,
          999999.9999999999,
          999999.9999999999,
          999999.9999999999,
          999999.9999999999,
          999999.9999999999,
          999999.9999999999,
          999999.9999999999,
          999999.9999999999,
          999999.9999999999,
          999999.9999999999,
          999999.9999999999,
          999999.9999999999,
          999999.9999999999,
          999999.9999999999,
          999999.9999999999,
          999999.9999999999,
          999999.9999999999,
          999999.9999999999,
          999999.9999999999,
          999999.9999999999,
          999999.9999999999,
          999999.9999999999,
          999999.9999999999,
          999999.9999999999,
          999999.9999999999,
          999999.9999999999,
          999999.9999999999,
          999999.9999999999,
          999999.9999999999,
          999999.9999999999,
          999999.9999999999,
          999999.9999999999,
          999999.9999999999,
          999999.9999999999,
          999999.9999999999,
          999999.9999999999,
          999999.9999999999,
          999999.9999999999,
          999999.9999999999,
          999999.9999999999,
          999999.9999999999,
          999999.9999999999,
          999999.9999999999,
          999999.9999999999,
          999999.9999999999,
          999999.9999999999,
          999999.9999999999,
          999999.9999999999,
          999999.9999999999,
          999999.9999999999,
          999999.9999999999,
          999999.9999999999,
          999999.9999999999,
          999999.9999999999,
          999999.9999999999,
          999999.9999999999,
          999999.9999999999,
          999999.9999999999,
          999999.9999999999,
          999999.9999999999,
          999999.9999999999,
          999999.9999999999,
          999999.9999999999,
          999999.9999999999,
          999999.9999999999,
          999999.9999999999,
          999999.9999999999,
          999999.9999999999,
          999999.9999999999,
          999999.9999999999,
          999999.9999999999,
          999999.9999999999,
          999999.9999999999,
          999999.9999999999,
          999999.9999999999,
          999999.9999999999,
          999999.9999999999,
          999999.9999999999,
          999999.9999999999,
          999999.9999999999,
          999999.9999999999,
          999999.9999999999,
          999999.9999999999,
          999999.9999999999,
          999999.9999999999,
          999999.9999999999,
          999999.9999999999,
          999999.9999999999,
          999999.9999999999,
          999999.9999999999,
          999999.9999999999,
          999999.9999999999,
          999999.9999999999,
          999999.9999999999,
          999999.9999999999,
          999999.9999999999,
          999999.9999999999,
          999999.9999999999,
          999999.9999999999,
          999999.9999999999,
          999999.9999999999,
          999999.9999999999,
          999999.9999999999,
          999999.9999999999,
          999999.9999999999,
          999999.9999999999,
          999999.9999999999,
          999999.9999999999,
          999999.9999999999,
          999999.9999999999,
          999999.9999999999,
          999999.9999999999,
          999999.9999999999,
          999999.9999999999,
          999999.9999999999,
          999999.9999999999,
          999999.9999999999,
          999999.9999999999,
          999999.9999999999,
          999999.9999999999,
          999999.9999999999,
          999999.9999999999,
          999999.9999999999,
          999999.9999999999,
          999999.9999999999,
          999999.9999999999,
          999999.9999999999,
          999999.9999999999,
          999999.9999999999,
          999999.9999999999,
          999999.9999999999,
          999999.9999999999,
          999999.9999999999,
          999999.9999999999,
          999999.9999999999,
          999999.9999999999,
          999999.9999999999,
          999999.9999999999,
          999999.9999999999,
          999999.9999999999,
          999999.9999999999,
          999999.9999999999,
          999999.9999999999,
          999999.9999999999,
          999999.9999999999,
          999999.9999999999,
          999999.9999999999,
          999999.9999999999,
          999999.9999999999,
          999999.9999999999,
          999999.9999999999,
          999999.9999999999,
          999999.9999999999,
          999999.9999999999,
          999999.9999999999,
          999999.9999999999,
          999999.9999999999,
          999999.9999999999,
          999999.9999999999,
          999999.9999999999,
          999999.9999999999,
          999999.9999999999,
          999999.9999999999,
          999999.9999999999,
          999999.9999999999,
          999999.9999999999,
          999999.9999999999,
          999999.9999999999,
          999999.9999999999,
          999999.9999999999,
          999999.9999999999,
          999999.9999999999,
          999999.9999999999,
          999999.9999999999,
          999999.9999999999,
          999999.9999999999,
          999999.9999999999,
          999999.9999999999,
          999999.9999999999,
          999999.9999999999,
          999999.9999999999,
          999999.9999999999,
          999999.9999999999,
          999999.9999999999,
          999999.9999999999,
          999999.9999999999,
          999999.9999999999,
          999999.9999999999,
          999999.9999999999,
          999999.9999999999,
          999999.9999999999,
          999999.9999999999,
          999999.9999999999,
          999999.9999999999,
          999999.9999999999,
          999999.9999999999,
          999999.9999999999,
          999999.9999999999,
          999999.9999999999,
          999999.9999999999,
          999999.9999999999,
          999999.9999999999,
          999999.9999999999,
          999999.9999999999,
          999999.9999999999,
          999999.9999999999,
          999999.9999999999,
          999999.9999999999,
          999999.9999999999,
          999999.9999999999,
          999999.9999999999,
          999999.9999999999,
          999999.9999999999,
          999999.9999999999,
          999999.9999999999,
          999999.9999999999,
          999999.9999999999,
          999999.9999999999,
          999999.9999999999,
          999999.9999999999,
          999999.9999999999,
          999999.9999999999,
          999999.9999999999,
          999999.9999999999,
          999999.9999999999,
          999999.9999999999,
          999999.9999999999,
          999999.9999999999,
          999999.9999999999,
          999999.9999999999,
          999999.9999999999,
          999999.9999999999,
          999999.9999999999,
          999999.9999999999,
          999999.9999999999,
          999999.9999999999,
          999999.9999999999,
          999999.9999999999,
          999999.9999999999,
          999999.9999999999,
          999999.9999999999,
          999999.9999999999,
          999999.9999999999,
          999999.9999999999,
          999999.9999999999,
          999999.9999999999,
          999999.9999999999,
          999999.9999999999,
          999999.9999999999,
          999999.9999999999,
          999999.9999999999,
          999999.9999999999,
          999999.9999999999,
          999999.9999999999,
          999999.9999999999,
          999999.9999999999,
          999999.9999999999,
          999999.9999999999,
          999999.9999999999,
          999999.9999999999,
          999999.9999999999,
          999999.9999999999,
          999999.9999999999,
          999999.9999999999,
          999999.9999999999,
          999999.9999999999,
          999999.9999999999,
          999999.9999999999,
          999999.9999999999,
          999999.9999999999,
          999999.9999999999,
          999999.9999999999,
          999999.9999999999,
          999999.9999999999,
          999999.9999999999
         ],
         "yaxis": "y"
        },
        {
         "hoverlabel": {
          "namelength": 0
         },
         "hovertemplate": "p=0.4<br>Estado=S<br>t=%{x}<br>value=%{y}",
         "legendgroup": "p=0.4",
         "line": {
          "color": "#ab63fa",
          "dash": "solid"
         },
         "mode": "lines",
         "name": "p=0.4",
         "showlegend": false,
         "type": "scattergl",
         "x": [
          1,
          2,
          3,
          4,
          5,
          6,
          7,
          8,
          9,
          10,
          11,
          12,
          13,
          14,
          15,
          16,
          17,
          18,
          19,
          20,
          21,
          22,
          23,
          24,
          25,
          26,
          27,
          28,
          29,
          30,
          31,
          32,
          33,
          34,
          35,
          36,
          37,
          38,
          39,
          40,
          41,
          42,
          43,
          44,
          45,
          46,
          47,
          48,
          49,
          50,
          51,
          52,
          53,
          54,
          55,
          56,
          57,
          58,
          59,
          60,
          61,
          62,
          63,
          64,
          65,
          66,
          67,
          68,
          69,
          70,
          71,
          72,
          73,
          74,
          75,
          76,
          77,
          78,
          79,
          80,
          81,
          82,
          83,
          84,
          85,
          86,
          87,
          88,
          89,
          90,
          91,
          92,
          93,
          94,
          95,
          96,
          97,
          98,
          99,
          100,
          101,
          102,
          103,
          104,
          105,
          106,
          107,
          108,
          109,
          110,
          111,
          112,
          113,
          114,
          115,
          116,
          117,
          118,
          119,
          120,
          121,
          122,
          123,
          124,
          125,
          126,
          127,
          128,
          129,
          130,
          131,
          132,
          133,
          134,
          135,
          136,
          137,
          138,
          139,
          140,
          141,
          142,
          143,
          144,
          145,
          146,
          147,
          148,
          149,
          150,
          151,
          152,
          153,
          154,
          155,
          156,
          157,
          158,
          159,
          160,
          161,
          162,
          163,
          164,
          165,
          166,
          167,
          168,
          169,
          170,
          171,
          172,
          173,
          174,
          175,
          176,
          177,
          178,
          179,
          180,
          181,
          182,
          183,
          184,
          185,
          186,
          187,
          188,
          189,
          190,
          191,
          192,
          193,
          194,
          195,
          196,
          197,
          198,
          199,
          200,
          201,
          202,
          203,
          204,
          205,
          206,
          207,
          208,
          209,
          210,
          211,
          212,
          213,
          214,
          215,
          216,
          217,
          218,
          219,
          220,
          221,
          222,
          223,
          224,
          225,
          226,
          227,
          228,
          229,
          230,
          231,
          232,
          233,
          234,
          235,
          236,
          237,
          238,
          239,
          240,
          241,
          242,
          243,
          244,
          245,
          246,
          247,
          248,
          249,
          250,
          251,
          252,
          253,
          254,
          255,
          256,
          257,
          258,
          259,
          260,
          261,
          262,
          263,
          264,
          265,
          266,
          267,
          268,
          269,
          270,
          271,
          272,
          273,
          274,
          275,
          276,
          277,
          278,
          279,
          280,
          281,
          282,
          283,
          284,
          285,
          286,
          287,
          288,
          289,
          290,
          291,
          292,
          293,
          294,
          295,
          296,
          297,
          298,
          299,
          300,
          301,
          302,
          303,
          304,
          305,
          306,
          307,
          308,
          309,
          310,
          311,
          312,
          313,
          314,
          315,
          316,
          317,
          318,
          319,
          320,
          321,
          322,
          323,
          324,
          325,
          326,
          327,
          328,
          329,
          330,
          331,
          332,
          333,
          334,
          335,
          336,
          337,
          338,
          339,
          340,
          341,
          342,
          343,
          344,
          345,
          346,
          347,
          348,
          349,
          350,
          351,
          352,
          353,
          354,
          355,
          356,
          357,
          358,
          359,
          360,
          361,
          362,
          363,
          364,
          365,
          366,
          367,
          368,
          369,
          370,
          371,
          372,
          373,
          374,
          375,
          376,
          377,
          378,
          379,
          380,
          381,
          382,
          383,
          384,
          385,
          386,
          387,
          388,
          389,
          390,
          391,
          392,
          393,
          394,
          395,
          396,
          397,
          398,
          399
         ],
         "xaxis": "x2",
         "y": [
          1000000,
          1000000,
          999998.6,
          999998.040000784,
          999997.2560026342,
          999996.1584066998,
          999994.6217752828,
          999992.470496966,
          999989.4587184298,
          999985.2422502491,
          999979.3392374653,
          999971.0751031982,
          999959.5054791373,
          999943.3083267148,
          999920.632942979,
          999888.8886398225,
          999844.4490340452,
          999782.2383261046,
          999695.152624605,
          999573.250847216,
          999402.6240320381,
          999163.8163880722,
          998829.6226245142,
          998362.0195876003,
          997707.9006145729,
          996793.1623482392,
          995514.5408106248,
          993728.4048725306,
          991235.4999837199,
          987760.4265614221,
          982924.5200491742,
          976210.9568750643,
          966921.7070542101,
          954128.0592615771,
          936620.9769450517,
          912876.1279484322,
          881062.8067603083,
          839146.3518387261,
          785154.4510249328,
          717679.675400665,
          636633.4518336807,
          544100.9318976754,
          444878.88877537276,
          346094.22353642783,
          255569.01874796988,
          179467.62058630201,
          120564.02308734471,
          78152.68731760909,
          49334.749404550996,
          30574.416642254568,
          18718.56796655839,
          11371.294694622513,
          6874.4993539862335,
          4143.6031089389,
          2493.02964405308,
          1498.3038651542738,
          899.8802848814521,
          540.2520847397391,
          324.26799976988696,
          194.60285975621082,
          116.77686396299396,
          70.07157311215997,
          42.044907877454534,
          25.227651836234145,
          15.136845675529912,
          9.082199055003002,
          5.449352427502163,
          3.2696233346359804,
          1.9617782769491896,
          1.1770685055525973,
          0.7062416574917734,
          0.4237451939843595,
          0.25424718821886927,
          0.15254833875223994,
          0.09152901254128665,
          0.05491741083096713,
          0.03295044775586575,
          0.019770269049331546,
          0.011862161569297314,
          0.007117297034710646,
          0.004270378267392516,
          0.0025622269604355097,
          0.0015373361529782414,
          0.0009224016685038805,
          0.0005534410011023283,
          0.0003320645773783326,
          0.00019923876971006393,
          0.00011954328510910273,
          7.17259244993329e-05,
          4.3035601265728474e-05,
          2.582138404250145e-05,
          1.549278385937214e-05,
          9.295647032558918e-06,
          5.57734165340662e-06,
          3.3463584259152412e-06,
          2.0078150555491447e-06,
          1.2046657502651215e-06,
          7.228227332234383e-07,
          4.336470738053322e-07,
          2.601882442831993e-07,
          1.5611294656991959e-07,
          9.371433407068253e-08,
          5.6228600442409515e-08,
          3.3760443329811096e-08,
          2.0256265997886658e-08,
          1.210719347000122e-08,
          7.2177499532699585e-09,
          4.307366907596588e-09,
          2.561137080192566e-09,
          1.5133991837501526e-09,
          9.313225746154785e-10,
          5.820766091346741e-10,
          3.4924596548080444e-10,
          2.3283064365386963e-10,
          1.1641532182693481e-10,
          1.1641532182693481e-10,
          1.1641532182693481e-10,
          1.1641532182693481e-10,
          1.1641532182693481e-10,
          1.1641532182693481e-10,
          1.1641532182693481e-10,
          1.1641532182693481e-10,
          1.1641532182693481e-10,
          1.1641532182693481e-10,
          1.1641532182693481e-10,
          1.1641532182693481e-10,
          1.1641532182693481e-10,
          1.1641532182693481e-10,
          1.1641532182693481e-10,
          1.1641532182693481e-10,
          1.1641532182693481e-10,
          1.1641532182693481e-10,
          1.1641532182693481e-10,
          1.1641532182693481e-10,
          1.1641532182693481e-10,
          1.1641532182693481e-10,
          1.1641532182693481e-10,
          1.1641532182693481e-10,
          1.1641532182693481e-10,
          1.1641532182693481e-10,
          1.1641532182693481e-10,
          1.1641532182693481e-10,
          1.1641532182693481e-10,
          1.1641532182693481e-10,
          1.1641532182693481e-10,
          1.1641532182693481e-10,
          1.1641532182693481e-10,
          1.1641532182693481e-10,
          1.1641532182693481e-10,
          1.1641532182693481e-10,
          1.1641532182693481e-10,
          1.1641532182693481e-10,
          1.1641532182693481e-10,
          1.1641532182693481e-10,
          1.1641532182693481e-10,
          1.1641532182693481e-10,
          1.1641532182693481e-10,
          1.1641532182693481e-10,
          1.1641532182693481e-10,
          1.1641532182693481e-10,
          1.1641532182693481e-10,
          1.1641532182693481e-10,
          1.1641532182693481e-10,
          1.1641532182693481e-10,
          1.1641532182693481e-10,
          1.1641532182693481e-10,
          1.1641532182693481e-10,
          1.1641532182693481e-10,
          1.1641532182693481e-10,
          1.1641532182693481e-10,
          1.1641532182693481e-10,
          1.1641532182693481e-10,
          1.1641532182693481e-10,
          1.1641532182693481e-10,
          1.1641532182693481e-10,
          1.1641532182693481e-10,
          1.1641532182693481e-10,
          1.1641532182693481e-10,
          1.1641532182693481e-10,
          1.1641532182693481e-10,
          1.1641532182693481e-10,
          1.1641532182693481e-10,
          1.1641532182693481e-10,
          1.1641532182693481e-10,
          1.1641532182693481e-10,
          1.1641532182693481e-10,
          1.1641532182693481e-10,
          1.1641532182693481e-10,
          1.1641532182693481e-10,
          1.1641532182693481e-10,
          1.1641532182693481e-10,
          1.1641532182693481e-10,
          1.1641532182693481e-10,
          1.1641532182693481e-10,
          1.1641532182693481e-10,
          1.1641532182693481e-10,
          1.1641532182693481e-10,
          1.1641532182693481e-10,
          1.1641532182693481e-10,
          1.1641532182693481e-10,
          1.1641532182693481e-10,
          1.1641532182693481e-10,
          1.1641532182693481e-10,
          1.1641532182693481e-10,
          1.1641532182693481e-10,
          1.1641532182693481e-10,
          1.1641532182693481e-10,
          1.1641532182693481e-10,
          1.1641532182693481e-10,
          1.1641532182693481e-10,
          1.1641532182693481e-10,
          1.1641532182693481e-10,
          1.1641532182693481e-10,
          1.1641532182693481e-10,
          1.1641532182693481e-10,
          1.1641532182693481e-10,
          1.1641532182693481e-10,
          1.1641532182693481e-10,
          1.1641532182693481e-10,
          1.1641532182693481e-10,
          1.1641532182693481e-10,
          1.1641532182693481e-10,
          1.1641532182693481e-10,
          1.1641532182693481e-10,
          1.1641532182693481e-10,
          1.1641532182693481e-10,
          1.1641532182693481e-10,
          1.1641532182693481e-10,
          1.1641532182693481e-10,
          1.1641532182693481e-10,
          1.1641532182693481e-10,
          1.1641532182693481e-10,
          1.1641532182693481e-10,
          1.1641532182693481e-10,
          1.1641532182693481e-10,
          1.1641532182693481e-10,
          1.1641532182693481e-10,
          1.1641532182693481e-10,
          1.1641532182693481e-10,
          1.1641532182693481e-10,
          1.1641532182693481e-10,
          1.1641532182693481e-10,
          1.1641532182693481e-10,
          1.1641532182693481e-10,
          1.1641532182693481e-10,
          1.1641532182693481e-10,
          1.1641532182693481e-10,
          1.1641532182693481e-10,
          1.1641532182693481e-10,
          1.1641532182693481e-10,
          1.1641532182693481e-10,
          1.1641532182693481e-10,
          1.1641532182693481e-10,
          1.1641532182693481e-10,
          1.1641532182693481e-10,
          1.1641532182693481e-10,
          1.1641532182693481e-10,
          1.1641532182693481e-10,
          1.1641532182693481e-10,
          1.1641532182693481e-10,
          1.1641532182693481e-10,
          1.1641532182693481e-10,
          1.1641532182693481e-10,
          1.1641532182693481e-10,
          1.1641532182693481e-10,
          1.1641532182693481e-10,
          1.1641532182693481e-10,
          1.1641532182693481e-10,
          1.1641532182693481e-10,
          1.1641532182693481e-10,
          1.1641532182693481e-10,
          1.1641532182693481e-10,
          1.1641532182693481e-10,
          1.1641532182693481e-10,
          1.1641532182693481e-10,
          1.1641532182693481e-10,
          1.1641532182693481e-10,
          1.1641532182693481e-10,
          1.1641532182693481e-10,
          1.1641532182693481e-10,
          1.1641532182693481e-10,
          1.1641532182693481e-10,
          1.1641532182693481e-10,
          1.1641532182693481e-10,
          1.1641532182693481e-10,
          1.1641532182693481e-10,
          1.1641532182693481e-10,
          1.1641532182693481e-10,
          1.1641532182693481e-10,
          1.1641532182693481e-10,
          1.1641532182693481e-10,
          1.1641532182693481e-10,
          1.1641532182693481e-10,
          1.1641532182693481e-10,
          1.1641532182693481e-10,
          1.1641532182693481e-10,
          1.1641532182693481e-10,
          1.1641532182693481e-10,
          1.1641532182693481e-10,
          1.1641532182693481e-10,
          1.1641532182693481e-10,
          1.1641532182693481e-10,
          1.1641532182693481e-10,
          1.1641532182693481e-10,
          1.1641532182693481e-10,
          1.1641532182693481e-10,
          1.1641532182693481e-10,
          1.1641532182693481e-10,
          1.1641532182693481e-10,
          1.1641532182693481e-10,
          1.1641532182693481e-10,
          1.1641532182693481e-10,
          1.1641532182693481e-10,
          1.1641532182693481e-10,
          1.1641532182693481e-10,
          1.1641532182693481e-10,
          1.1641532182693481e-10,
          1.1641532182693481e-10,
          1.1641532182693481e-10,
          1.1641532182693481e-10,
          1.1641532182693481e-10,
          1.1641532182693481e-10,
          1.1641532182693481e-10,
          1.1641532182693481e-10,
          1.1641532182693481e-10,
          1.1641532182693481e-10,
          1.1641532182693481e-10,
          1.1641532182693481e-10,
          1.1641532182693481e-10,
          1.1641532182693481e-10,
          1.1641532182693481e-10,
          1.1641532182693481e-10,
          1.1641532182693481e-10,
          1.1641532182693481e-10,
          1.1641532182693481e-10,
          1.1641532182693481e-10,
          1.1641532182693481e-10,
          1.1641532182693481e-10,
          1.1641532182693481e-10,
          1.1641532182693481e-10,
          1.1641532182693481e-10,
          1.1641532182693481e-10,
          1.1641532182693481e-10,
          1.1641532182693481e-10,
          1.1641532182693481e-10,
          1.1641532182693481e-10,
          1.1641532182693481e-10,
          1.1641532182693481e-10,
          1.1641532182693481e-10,
          1.1641532182693481e-10,
          1.1641532182693481e-10,
          1.1641532182693481e-10,
          1.1641532182693481e-10,
          1.1641532182693481e-10,
          1.1641532182693481e-10,
          1.1641532182693481e-10,
          1.1641532182693481e-10,
          1.1641532182693481e-10,
          1.1641532182693481e-10,
          1.1641532182693481e-10,
          1.1641532182693481e-10,
          1.1641532182693481e-10,
          1.1641532182693481e-10,
          1.1641532182693481e-10,
          1.1641532182693481e-10,
          1.1641532182693481e-10,
          1.1641532182693481e-10,
          1.1641532182693481e-10,
          1.1641532182693481e-10,
          1.1641532182693481e-10,
          1.1641532182693481e-10,
          1.1641532182693481e-10,
          1.1641532182693481e-10,
          1.1641532182693481e-10,
          1.1641532182693481e-10,
          1.1641532182693481e-10,
          1.1641532182693481e-10,
          1.1641532182693481e-10,
          1.1641532182693481e-10,
          1.1641532182693481e-10,
          1.1641532182693481e-10,
          1.1641532182693481e-10,
          1.1641532182693481e-10,
          1.1641532182693481e-10,
          1.1641532182693481e-10,
          1.1641532182693481e-10,
          1.1641532182693481e-10,
          1.1641532182693481e-10,
          1.1641532182693481e-10,
          1.1641532182693481e-10,
          1.1641532182693481e-10,
          1.1641532182693481e-10,
          1.1641532182693481e-10,
          1.1641532182693481e-10,
          1.1641532182693481e-10,
          1.1641532182693481e-10,
          1.1641532182693481e-10,
          1.1641532182693481e-10,
          1.1641532182693481e-10
         ],
         "yaxis": "y2"
        }
       ],
       "layout": {
        "annotations": [
         {
          "font": {},
          "showarrow": false,
          "text": "Estado=I",
          "x": 0.24,
          "xanchor": "center",
          "xref": "paper",
          "y": 1,
          "yanchor": "bottom",
          "yref": "paper"
         },
         {
          "font": {},
          "showarrow": false,
          "text": "Estado=S",
          "x": 0.74,
          "xanchor": "center",
          "xref": "paper",
          "y": 1,
          "yanchor": "bottom",
          "yref": "paper"
         }
        ],
        "height": 400,
        "legend": {
         "tracegroupgap": 0
        },
        "margin": {
         "t": 60
        },
        "template": {
         "data": {
          "bar": [
           {
            "error_x": {
             "color": "#2a3f5f"
            },
            "error_y": {
             "color": "#2a3f5f"
            },
            "marker": {
             "line": {
              "color": "#E5ECF6",
              "width": 0.5
             }
            },
            "type": "bar"
           }
          ],
          "barpolar": [
           {
            "marker": {
             "line": {
              "color": "#E5ECF6",
              "width": 0.5
             }
            },
            "type": "barpolar"
           }
          ],
          "carpet": [
           {
            "aaxis": {
             "endlinecolor": "#2a3f5f",
             "gridcolor": "white",
             "linecolor": "white",
             "minorgridcolor": "white",
             "startlinecolor": "#2a3f5f"
            },
            "baxis": {
             "endlinecolor": "#2a3f5f",
             "gridcolor": "white",
             "linecolor": "white",
             "minorgridcolor": "white",
             "startlinecolor": "#2a3f5f"
            },
            "type": "carpet"
           }
          ],
          "choropleth": [
           {
            "colorbar": {
             "outlinewidth": 0,
             "ticks": ""
            },
            "type": "choropleth"
           }
          ],
          "contour": [
           {
            "colorbar": {
             "outlinewidth": 0,
             "ticks": ""
            },
            "colorscale": [
             [
              0,
              "#0d0887"
             ],
             [
              0.1111111111111111,
              "#46039f"
             ],
             [
              0.2222222222222222,
              "#7201a8"
             ],
             [
              0.3333333333333333,
              "#9c179e"
             ],
             [
              0.4444444444444444,
              "#bd3786"
             ],
             [
              0.5555555555555556,
              "#d8576b"
             ],
             [
              0.6666666666666666,
              "#ed7953"
             ],
             [
              0.7777777777777778,
              "#fb9f3a"
             ],
             [
              0.8888888888888888,
              "#fdca26"
             ],
             [
              1,
              "#f0f921"
             ]
            ],
            "type": "contour"
           }
          ],
          "contourcarpet": [
           {
            "colorbar": {
             "outlinewidth": 0,
             "ticks": ""
            },
            "type": "contourcarpet"
           }
          ],
          "heatmap": [
           {
            "colorbar": {
             "outlinewidth": 0,
             "ticks": ""
            },
            "colorscale": [
             [
              0,
              "#0d0887"
             ],
             [
              0.1111111111111111,
              "#46039f"
             ],
             [
              0.2222222222222222,
              "#7201a8"
             ],
             [
              0.3333333333333333,
              "#9c179e"
             ],
             [
              0.4444444444444444,
              "#bd3786"
             ],
             [
              0.5555555555555556,
              "#d8576b"
             ],
             [
              0.6666666666666666,
              "#ed7953"
             ],
             [
              0.7777777777777778,
              "#fb9f3a"
             ],
             [
              0.8888888888888888,
              "#fdca26"
             ],
             [
              1,
              "#f0f921"
             ]
            ],
            "type": "heatmap"
           }
          ],
          "heatmapgl": [
           {
            "colorbar": {
             "outlinewidth": 0,
             "ticks": ""
            },
            "colorscale": [
             [
              0,
              "#0d0887"
             ],
             [
              0.1111111111111111,
              "#46039f"
             ],
             [
              0.2222222222222222,
              "#7201a8"
             ],
             [
              0.3333333333333333,
              "#9c179e"
             ],
             [
              0.4444444444444444,
              "#bd3786"
             ],
             [
              0.5555555555555556,
              "#d8576b"
             ],
             [
              0.6666666666666666,
              "#ed7953"
             ],
             [
              0.7777777777777778,
              "#fb9f3a"
             ],
             [
              0.8888888888888888,
              "#fdca26"
             ],
             [
              1,
              "#f0f921"
             ]
            ],
            "type": "heatmapgl"
           }
          ],
          "histogram": [
           {
            "marker": {
             "colorbar": {
              "outlinewidth": 0,
              "ticks": ""
             }
            },
            "type": "histogram"
           }
          ],
          "histogram2d": [
           {
            "colorbar": {
             "outlinewidth": 0,
             "ticks": ""
            },
            "colorscale": [
             [
              0,
              "#0d0887"
             ],
             [
              0.1111111111111111,
              "#46039f"
             ],
             [
              0.2222222222222222,
              "#7201a8"
             ],
             [
              0.3333333333333333,
              "#9c179e"
             ],
             [
              0.4444444444444444,
              "#bd3786"
             ],
             [
              0.5555555555555556,
              "#d8576b"
             ],
             [
              0.6666666666666666,
              "#ed7953"
             ],
             [
              0.7777777777777778,
              "#fb9f3a"
             ],
             [
              0.8888888888888888,
              "#fdca26"
             ],
             [
              1,
              "#f0f921"
             ]
            ],
            "type": "histogram2d"
           }
          ],
          "histogram2dcontour": [
           {
            "colorbar": {
             "outlinewidth": 0,
             "ticks": ""
            },
            "colorscale": [
             [
              0,
              "#0d0887"
             ],
             [
              0.1111111111111111,
              "#46039f"
             ],
             [
              0.2222222222222222,
              "#7201a8"
             ],
             [
              0.3333333333333333,
              "#9c179e"
             ],
             [
              0.4444444444444444,
              "#bd3786"
             ],
             [
              0.5555555555555556,
              "#d8576b"
             ],
             [
              0.6666666666666666,
              "#ed7953"
             ],
             [
              0.7777777777777778,
              "#fb9f3a"
             ],
             [
              0.8888888888888888,
              "#fdca26"
             ],
             [
              1,
              "#f0f921"
             ]
            ],
            "type": "histogram2dcontour"
           }
          ],
          "mesh3d": [
           {
            "colorbar": {
             "outlinewidth": 0,
             "ticks": ""
            },
            "type": "mesh3d"
           }
          ],
          "parcoords": [
           {
            "line": {
             "colorbar": {
              "outlinewidth": 0,
              "ticks": ""
             }
            },
            "type": "parcoords"
           }
          ],
          "scatter": [
           {
            "marker": {
             "colorbar": {
              "outlinewidth": 0,
              "ticks": ""
             }
            },
            "type": "scatter"
           }
          ],
          "scatter3d": [
           {
            "line": {
             "colorbar": {
              "outlinewidth": 0,
              "ticks": ""
             }
            },
            "marker": {
             "colorbar": {
              "outlinewidth": 0,
              "ticks": ""
             }
            },
            "type": "scatter3d"
           }
          ],
          "scattercarpet": [
           {
            "marker": {
             "colorbar": {
              "outlinewidth": 0,
              "ticks": ""
             }
            },
            "type": "scattercarpet"
           }
          ],
          "scattergeo": [
           {
            "marker": {
             "colorbar": {
              "outlinewidth": 0,
              "ticks": ""
             }
            },
            "type": "scattergeo"
           }
          ],
          "scattergl": [
           {
            "marker": {
             "colorbar": {
              "outlinewidth": 0,
              "ticks": ""
             }
            },
            "type": "scattergl"
           }
          ],
          "scattermapbox": [
           {
            "marker": {
             "colorbar": {
              "outlinewidth": 0,
              "ticks": ""
             }
            },
            "type": "scattermapbox"
           }
          ],
          "scatterpolar": [
           {
            "marker": {
             "colorbar": {
              "outlinewidth": 0,
              "ticks": ""
             }
            },
            "type": "scatterpolar"
           }
          ],
          "scatterpolargl": [
           {
            "marker": {
             "colorbar": {
              "outlinewidth": 0,
              "ticks": ""
             }
            },
            "type": "scatterpolargl"
           }
          ],
          "scatterternary": [
           {
            "marker": {
             "colorbar": {
              "outlinewidth": 0,
              "ticks": ""
             }
            },
            "type": "scatterternary"
           }
          ],
          "surface": [
           {
            "colorbar": {
             "outlinewidth": 0,
             "ticks": ""
            },
            "colorscale": [
             [
              0,
              "#0d0887"
             ],
             [
              0.1111111111111111,
              "#46039f"
             ],
             [
              0.2222222222222222,
              "#7201a8"
             ],
             [
              0.3333333333333333,
              "#9c179e"
             ],
             [
              0.4444444444444444,
              "#bd3786"
             ],
             [
              0.5555555555555556,
              "#d8576b"
             ],
             [
              0.6666666666666666,
              "#ed7953"
             ],
             [
              0.7777777777777778,
              "#fb9f3a"
             ],
             [
              0.8888888888888888,
              "#fdca26"
             ],
             [
              1,
              "#f0f921"
             ]
            ],
            "type": "surface"
           }
          ],
          "table": [
           {
            "cells": {
             "fill": {
              "color": "#EBF0F8"
             },
             "line": {
              "color": "white"
             }
            },
            "header": {
             "fill": {
              "color": "#C8D4E3"
             },
             "line": {
              "color": "white"
             }
            },
            "type": "table"
           }
          ]
         },
         "layout": {
          "annotationdefaults": {
           "arrowcolor": "#2a3f5f",
           "arrowhead": 0,
           "arrowwidth": 1
          },
          "colorscale": {
           "diverging": [
            [
             0,
             "#8e0152"
            ],
            [
             0.1,
             "#c51b7d"
            ],
            [
             0.2,
             "#de77ae"
            ],
            [
             0.3,
             "#f1b6da"
            ],
            [
             0.4,
             "#fde0ef"
            ],
            [
             0.5,
             "#f7f7f7"
            ],
            [
             0.6,
             "#e6f5d0"
            ],
            [
             0.7,
             "#b8e186"
            ],
            [
             0.8,
             "#7fbc41"
            ],
            [
             0.9,
             "#4d9221"
            ],
            [
             1,
             "#276419"
            ]
           ],
           "sequential": [
            [
             0,
             "#0d0887"
            ],
            [
             0.1111111111111111,
             "#46039f"
            ],
            [
             0.2222222222222222,
             "#7201a8"
            ],
            [
             0.3333333333333333,
             "#9c179e"
            ],
            [
             0.4444444444444444,
             "#bd3786"
            ],
            [
             0.5555555555555556,
             "#d8576b"
            ],
            [
             0.6666666666666666,
             "#ed7953"
            ],
            [
             0.7777777777777778,
             "#fb9f3a"
            ],
            [
             0.8888888888888888,
             "#fdca26"
            ],
            [
             1,
             "#f0f921"
            ]
           ],
           "sequentialminus": [
            [
             0,
             "#0d0887"
            ],
            [
             0.1111111111111111,
             "#46039f"
            ],
            [
             0.2222222222222222,
             "#7201a8"
            ],
            [
             0.3333333333333333,
             "#9c179e"
            ],
            [
             0.4444444444444444,
             "#bd3786"
            ],
            [
             0.5555555555555556,
             "#d8576b"
            ],
            [
             0.6666666666666666,
             "#ed7953"
            ],
            [
             0.7777777777777778,
             "#fb9f3a"
            ],
            [
             0.8888888888888888,
             "#fdca26"
            ],
            [
             1,
             "#f0f921"
            ]
           ]
          },
          "colorway": [
           "#636efa",
           "#EF553B",
           "#00cc96",
           "#ab63fa",
           "#FFA15A",
           "#19d3f3",
           "#FF6692",
           "#B6E880",
           "#FF97FF",
           "#FECB52"
          ],
          "font": {
           "color": "#2a3f5f"
          },
          "geo": {
           "bgcolor": "white",
           "lakecolor": "white",
           "landcolor": "#E5ECF6",
           "showlakes": true,
           "showland": true,
           "subunitcolor": "white"
          },
          "hoverlabel": {
           "align": "left"
          },
          "hovermode": "closest",
          "mapbox": {
           "style": "light"
          },
          "paper_bgcolor": "white",
          "plot_bgcolor": "#E5ECF6",
          "polar": {
           "angularaxis": {
            "gridcolor": "white",
            "linecolor": "white",
            "ticks": ""
           },
           "bgcolor": "#E5ECF6",
           "radialaxis": {
            "gridcolor": "white",
            "linecolor": "white",
            "ticks": ""
           }
          },
          "scene": {
           "xaxis": {
            "backgroundcolor": "#E5ECF6",
            "gridcolor": "white",
            "gridwidth": 2,
            "linecolor": "white",
            "showbackground": true,
            "ticks": "",
            "zerolinecolor": "white"
           },
           "yaxis": {
            "backgroundcolor": "#E5ECF6",
            "gridcolor": "white",
            "gridwidth": 2,
            "linecolor": "white",
            "showbackground": true,
            "ticks": "",
            "zerolinecolor": "white"
           },
           "zaxis": {
            "backgroundcolor": "#E5ECF6",
            "gridcolor": "white",
            "gridwidth": 2,
            "linecolor": "white",
            "showbackground": true,
            "ticks": "",
            "zerolinecolor": "white"
           }
          },
          "shapedefaults": {
           "line": {
            "color": "#2a3f5f"
           }
          },
          "ternary": {
           "aaxis": {
            "gridcolor": "white",
            "linecolor": "white",
            "ticks": ""
           },
           "baxis": {
            "gridcolor": "white",
            "linecolor": "white",
            "ticks": ""
           },
           "bgcolor": "#E5ECF6",
           "caxis": {
            "gridcolor": "white",
            "linecolor": "white",
            "ticks": ""
           }
          },
          "title": {
           "x": 0.05
          },
          "xaxis": {
           "automargin": true,
           "gridcolor": "white",
           "linecolor": "white",
           "ticks": "",
           "zerolinecolor": "white",
           "zerolinewidth": 2
          },
          "yaxis": {
           "automargin": true,
           "gridcolor": "white",
           "linecolor": "white",
           "ticks": "",
           "zerolinecolor": "white",
           "zerolinewidth": 2
          }
         }
        },
        "width": 600,
        "xaxis": {
         "anchor": "y",
         "autorange": true,
         "domain": [
          0,
          0.48
         ],
         "range": [
          1,
          399
         ],
         "title": {
          "text": "t"
         },
         "type": "linear"
        },
        "xaxis2": {
         "anchor": "y2",
         "autorange": true,
         "domain": [
          0.5,
          0.98
         ],
         "matches": "x",
         "range": [
          1,
          399
         ],
         "title": {
          "text": "t"
         },
         "type": "linear"
        },
        "yaxis": {
         "anchor": "x",
         "autorange": true,
         "domain": [
          0,
          1
         ],
         "range": [
          -55555.55555555544,
          1055555.5555555555
         ],
         "title": {
          "text": "value"
         },
         "type": "linear"
        },
        "yaxis2": {
         "anchor": "x2",
         "autorange": true,
         "domain": [
          0,
          1
         ],
         "matches": "y",
         "range": [
          -55555.55555555544,
          1055555.5555555555
         ],
         "showticklabels": false,
         "type": "linear"
        }
       }
      },
      "image/png": "[encoded data removed]",
      "text/html": [
       "<div>\n",
       "        \n",
       "        \n",
       "            <div id=\"03db680c-5fd2-4d3e-a35e-2e8215d9da8f\" class=\"plotly-graph-div\" style=\"height:400px; width:600px;\"></div>\n",
       "            <script type=\"text/javascript\">\n",
       "                require([\"plotly\"], function(Plotly) {\n",
       "                    window.PLOTLYENV=window.PLOTLYENV || {};\n",
       "                    \n",
       "                if (document.getElementById(\"03db680c-5fd2-4d3e-a35e-2e8215d9da8f\")) {\n",
       "                    Plotly.newPlot(\n",
       "                        '03db680c-5fd2-4d3e-a35e-2e8215d9da8f',\n",
       "                        [{\"hoverlabel\": {\"namelength\": 0}, \"hovertemplate\": \"p=0.05<br>Estado=I<br>t=%{x}<br>value=%{y}\", \"legendgroup\": \"p=0.05\", \"line\": {\"color\": \"#636efa\", \"dash\": \"solid\"}, \"mode\": \"lines\", \"name\": \"p=0.05\", \"showlegend\": true, \"type\": \"scattergl\", \"x\": [1.0, 2.0, 3.0, 4.0, 5.0, 6.0, 7.0, 8.0, 9.0, 10.0, 11.0, 12.0, 13.0, 14.0, 15.0, 16.0, 17.0, 18.0, 19.0, 20.0, 21.0, 22.0, 23.0, 24.0, 25.0, 26.0, 27.0, 28.0, 29.0, 30.0, 31.0, 32.0, 33.0, 34.0, 35.0, 36.0, 37.0, 38.0, 39.0, 40.0, 41.0, 42.0, 43.0, 44.0, 45.0, 46.0, 47.0, 48.0, 49.0, 50.0, 51.0, 52.0, 53.0, 54.0, 55.0, 56.0, 57.0, 58.0, 59.0, 60.0, 61.0, 62.0, 63.0, 64.0, 65.0, 66.0, 67.0, 68.0, 69.0, 70.0, 71.0, 72.0, 73.0, 74.0, 75.0, 76.0, 77.0, 78.0, 79.0, 80.0, 81.0, 82.0, 83.0, 84.0, 85.0, 86.0, 87.0, 88.0, 89.0, 90.0, 91.0, 92.0, 93.0, 94.0, 95.0, 96.0, 97.0, 98.0, 99.0, 100.0, 101.0, 102.0, 103.0, 104.0, 105.0, 106.0, 107.0, 108.0, 109.0, 110.0, 111.0, 112.0, 113.0, 114.0, 115.0, 116.0, 117.0, 118.0, 119.0, 120.0, 121.0, 122.0, 123.0, 124.0, 125.0, 126.0, 127.0, 128.0, 129.0, 130.0, 131.0, 132.0, 133.0, 134.0, 135.0, 136.0, 137.0, 138.0, 139.0, 140.0, 141.0, 142.0, 143.0, 144.0, 145.0, 146.0, 147.0, 148.0, 149.0, 150.0, 151.0, 152.0, 153.0, 154.0, 155.0, 156.0, 157.0, 158.0, 159.0, 160.0, 161.0, 162.0, 163.0, 164.0, 165.0, 166.0, 167.0, 168.0, 169.0, 170.0, 171.0, 172.0, 173.0, 174.0, 175.0, 176.0, 177.0, 178.0, 179.0, 180.0, 181.0, 182.0, 183.0, 184.0, 185.0, 186.0, 187.0, 188.0, 189.0, 190.0, 191.0, 192.0, 193.0, 194.0, 195.0, 196.0, 197.0, 198.0, 199.0, 200.0, 201.0, 202.0, 203.0, 204.0, 205.0, 206.0, 207.0, 208.0, 209.0, 210.0, 211.0, 212.0, 213.0, 214.0, 215.0, 216.0, 217.0, 218.0, 219.0, 220.0, 221.0, 222.0, 223.0, 224.0, 225.0, 226.0, 227.0, 228.0, 229.0, 230.0, 231.0, 232.0, 233.0, 234.0, 235.0, 236.0, 237.0, 238.0, 239.0, 240.0, 241.0, 242.0, 243.0, 244.0, 245.0, 246.0, 247.0, 248.0, 249.0, 250.0, 251.0, 252.0, 253.0, 254.0, 255.0, 256.0, 257.0, 258.0, 259.0, 260.0, 261.0, 262.0, 263.0, 264.0, 265.0, 266.0, 267.0, 268.0, 269.0, 270.0, 271.0, 272.0, 273.0, 274.0, 275.0, 276.0, 277.0, 278.0, 279.0, 280.0, 281.0, 282.0, 283.0, 284.0, 285.0, 286.0, 287.0, 288.0, 289.0, 290.0, 291.0, 292.0, 293.0, 294.0, 295.0, 296.0, 297.0, 298.0, 299.0, 300.0, 301.0, 302.0, 303.0, 304.0, 305.0, 306.0, 307.0, 308.0, 309.0, 310.0, 311.0, 312.0, 313.0, 314.0, 315.0, 316.0, 317.0, 318.0, 319.0, 320.0, 321.0, 322.0, 323.0, 324.0, 325.0, 326.0, 327.0, 328.0, 329.0, 330.0, 331.0, 332.0, 333.0, 334.0, 335.0, 336.0, 337.0, 338.0, 339.0, 340.0, 341.0, 342.0, 343.0, 344.0, 345.0, 346.0, 347.0, 348.0, 349.0, 350.0, 351.0, 352.0, 353.0, 354.0, 355.0, 356.0, 357.0, 358.0, 359.0, 360.0, 361.0, 362.0, 363.0, 364.0, 365.0, 366.0, 367.0, 368.0, 369.0, 370.0, 371.0, 372.0, 373.0, 374.0, 375.0, 376.0, 377.0, 378.0, 379.0, 380.0, 381.0, 382.0, 383.0, 384.0, 385.0, 386.0, 387.0, 388.0, 389.0, 390.0, 391.0, 392.0, 393.0, 394.0, 395.0, 396.0, 397.0, 398.0, 399.0], \"xaxis\": \"x\", \"y\": [1.0, 1.0, 1.05, 1.1024999448750001, 1.1576248813434438, 1.2155060584058477, 1.276281287453391, 1.3400952703813644, 1.407099944107666, 1.4774548423165366, 1.551327475288723, 1.6288937287223124, 1.710338282493689, 1.7958550503555215, 1.8856476416185295, 1.9799298459161045, 2.0789261422058, 2.182872233219395, 2.2920156066338055, 2.406616124298719, 2.5269466409235966, 2.65329365369681, 2.7859579843832902, 2.92525549552436, 3.0715178424445924, 3.225093262855729, 3.3863474059371876, 3.5556642028666094, 3.733446780872544, 3.9201184229849275, 4.116123575767752, 4.321928907432475, 4.5380244188506245, 4.764924610109874, 5.003169705390041, 5.253326939074189, 5.515991906155701, 5.7917899801551505, 6.08137780192135, 6.385444842859618, 6.7047150463073075, 7.03994855096248, 7.391943500466824, 7.7615379434487295, 8.149611828547604, 8.557089099166337, 8.98493989293596, 9.434182851125515, 9.905887543491486, 10.40117701433566, 10.92123045582828, 11.46728601495596, 12.04064374077133, 12.642668678954811, 13.274794121048986, 13.938525016093488, 14.63544155277418, 15.367202920605417, 16.135551259089407, 16.942315804243155, 17.789417242352073, 18.678872281301384, 19.61279845035297, 20.593419139777463, 21.62306889232074, 22.704198959081364, 23.83938313300291, 25.03132387384365, 26.28285873917709, 27.59696713670277, 28.976777413908152, 30.425574301922097, 31.946806731239622, 33.54409603787859, 35.22124457945357, 36.98224478162276, 38.831288636382446, 40.77277767475271, 42.81133343752038, 44.95180846888287, 47.19929785907278, 49.5591513633405, 52.03698612603333, 54.63870003993874, 57.370485772558574, 60.23884549255462, 63.25060633125703, 66.41293661585982, 69.73336291274532, 73.21978792128743, 76.88050926048464, 80.72423919287367, 84.76012533237768, 88.99777238505425, 93.44726497413248, 98.11919160327255, 103.02466981464814, 108.17537260125103, 113.5835561357517, 119.26208888132807, 125.22448215310226, 131.48492220221084, 138.05830389808307, 144.96026608822345, 152.2072287186974, 159.81643180260855, 167.80597632814528, 176.19486720226797, 185.00305833081995, 194.25149994078137, 203.96218825555897, 214.15821763962504, 224.86383533449717, 236.10449891399995, 247.90693659297958, 260.299210530168, 273.31078327272627, 286.9725874971499, 301.31709920870867, 316.37841456943033, 332.1923305328416, 348.79642947226046, 366.23016799841287, 384.5349701715359, 403.7543253229485, 423.93389071133504, 445.1215992497171, 467.36777255029705, 490.72523954607095, 515.2494609603381, 540.998659908004, 568.0339589259031, 596.4195237432737, 626.2227141180223, 657.5142420795395, 690.3683379345896, 724.862924409218, 761.0797993167197, 799.1048271595092, 839.0281400912452, 880.9443486848141, 924.9527629717809, 971.1576242396835, 1019.6683480951117, 1070.5997793228619, 1124.0724590946306, 1180.2129051046975, 1239.1539052348635, 1301.0348253765637, 1366.0019320645497, 1434.208730603857, 1505.8163193999028, 1580.9937612305093, 1659.9184722283824, 1742.7766293730792, 1829.7635973227389, 1921.0843754477714, 2016.9540659612805, 2117.5983640741347, 2223.254071136265, 2334.169631759837, 2450.6056959543375, 2572.835707338202, 2701.1465185262646, 2835.8390348268504, 2977.2288874166206, 3125.6471371950483, 3281.441010553488, 3444.9746683258754, 3616.630009218899, 3796.8075090486645, 3985.9270971380593, 4184.429071253778, 4392.775052483849, 4611.448981474956, 4840.958157463267, 5081.834321542315, 5334.63478561585, 5599.943608481847, 5878.37282048503, 6170.563698158451, 6477.188090248722, 6798.949796483335, 7136.586000390747, 7490.868757423236, 7862.606539557351, 8252.645837455424, 8661.872821162271, 9091.215060181885, 9541.643303627456, 10014.173320962145, 10509.867803645138, 11029.83832776489, 11575.247377476302, 12147.310428757628, 12747.298092662879, 13376.538316862863, 14036.41864383888, 14728.388523613568, 15453.961678369122, 16214.718515709752, 17012.308586668056, 17848.45308382906, 18724.94737414623, 19643.663560145316, 20606.55306224937, 21615.649213906476, 22673.069860054868, 23781.019948213663, 24941.79410013548, 26157.77915049558, 27431.456637516054, 28765.40522872906, 30162.303063266867, 31624.92999012619, 33156.16967978848, 34759.01158438616, 36436.55271928929, 38191.99923655048, 40028.66775809377, 41949.986433874066, 43959.49568747766, 46060.848608796674, 48257.810950508385, 50554.260682147054, 52954.187052598485, 55461.68910890833, 58080.97361641309, 60816.352322422215, 63672.23850305308, 66653.14273040625, 69763.66779513456, 73008.5027176798, 76392.41578010992, 79920.24650967936, 83596.89654505493, 87427.31931670944, 91416.50847439963, 95569.48499703711, 99891.28292375902, 104386.93364973925, 109061.44873638646, 113919.80119318182, 118966.9051976462, 124207.59423091324, 129646.59761922734, 135288.51548647662, 141137.79213967372, 147198.6879281543, 153475.24963817353, 159971.27950750722, 166690.30296951914, 173635.53526279159, 180809.84707063137, 188215.72938427769, 195855.2578141088, 203730.05660414268, 211841.26263615346, 220189.48974019714, 228774.79365760458, 237596.63802983082, 246653.86181116843, 255944.6485244087, 265466.497795215, 275216.1996123929, 285189.81176655815, 295382.6409181138, 305789.2277362315, 316403.33653306705, 327217.94979125756, 338225.26794754073, 349416.7147510085, 360782.9484611895, 372313.87908923154, 383998.6918155696, 395825.8766405446, 407783.2642416591, 419858.0679239629, 432036.9314601189, 444305.9825258511, 456650.8913467306, 469056.93408567895, 481509.06041927007, 493991.96467694116, 506490.159852519, 518988.05374377343, 531470.0264345246, 543920.5083063351, 556324.0577538407, 568665.4377797478, 580929.6906624736, 593102.2099209374, 605168.8088463293, 617115.7849286215, 628929.9795746491, 640598.8325929932, 652110.4310066676, 663453.5518456158, 674617.6986650685, 685593.1316307143, 696370.8911052895, 706942.8147616151, 717301.5483325421, 727440.5501871561, 737354.0899936842, 747037.2417918477, 756485.8718502416, 765696.6217273027, 774666.8869874376, 783394.7920470692, 791879.1616390991, 800119.4893891419, 808115.9039935819, 815869.1334788927, 823380.4680046574, 830651.7216503118, 837685.193598796, 844483.6291000032, 851050.1805641077, 857388.369100403, 863502.0467819908, 869395.359881256, 875072.7132861658, 880538.7362735735, 885798.2497833391, 890856.2353065447, 895717.8054726444, 900388.1763942401, 904872.6418044248, 909176.5490003402, 913305.2765877488, 917264.214004985, 921058.7427905252, 924694.2195465083, 928175.9605406974, 931509.22788145, 934699.2171941077, 937751.0467226492, 940669.7477773105, 943460.2564470046, 946127.4064946024, 948675.9233533224, 951110.4191434747, 953435.3886304846, 955655.2060473607, 957774.1227074575, 959796.2653364284, 961725.635055562, 963566.1069521889, 965321.4301764484, 966995.2285073757, 968591.0013349429, 970112.1250083387, 971561.8545043459, 972943.325373167, 974259.5559224156, 975513.4496032292, 976707.797565551, 977845.2813525611, 978928.4757070157, 979959.8514648634, 980941.7785139547, 981876.5287979464, 982766.2793476285, 983613.1153238708, 984419.0330582078, 985185.9430787554, 985915.6731106944, 986609.9710419634, 987270.5078460904, 987898.880455261, 988496.6145777862, 989065.1674550882, 989605.9305541946, 990120.2321925027, 990609.3400922811, 991074.4638629919, 991516.7574100756, 991937.3212693299, 992337.2048664477, 992717.4087016624, 993078.8864597784, 993422.5470461576, 993749.2565494818, 994059.8401323234, 994355.0838507446, 994635.7364042908, 994902.51081788, 995156.086057188, 995397.1085792143, 995626.193819782, 995843.9276197678, 996050.867591898, 996247.5444299643, 996434.4631623258, 996612.1043515624, 996780.9252421381, 996941.3608579163, 997093.8250513504], \"yaxis\": \"y\"}, {\"hoverlabel\": {\"namelength\": 0}, \"hovertemplate\": \"p=0.05<br>Estado=S<br>t=%{x}<br>value=%{y}\", \"legendgroup\": \"p=0.05\", \"line\": {\"color\": \"#636efa\", \"dash\": \"solid\"}, \"mode\": \"lines\", \"name\": \"p=0.05\", \"showlegend\": false, \"type\": \"scattergl\", \"x\": [1.0, 2.0, 3.0, 4.0, 5.0, 6.0, 7.0, 8.0, 9.0, 10.0, 11.0, 12.0, 13.0, 14.0, 15.0, 16.0, 17.0, 18.0, 19.0, 20.0, 21.0, 22.0, 23.0, 24.0, 25.0, 26.0, 27.0, 28.0, 29.0, 30.0, 31.0, 32.0, 33.0, 34.0, 35.0, 36.0, 37.0, 38.0, 39.0, 40.0, 41.0, 42.0, 43.0, 44.0, 45.0, 46.0, 47.0, 48.0, 49.0, 50.0, 51.0, 52.0, 53.0, 54.0, 55.0, 56.0, 57.0, 58.0, 59.0, 60.0, 61.0, 62.0, 63.0, 64.0, 65.0, 66.0, 67.0, 68.0, 69.0, 70.0, 71.0, 72.0, 73.0, 74.0, 75.0, 76.0, 77.0, 78.0, 79.0, 80.0, 81.0, 82.0, 83.0, 84.0, 85.0, 86.0, 87.0, 88.0, 89.0, 90.0, 91.0, 92.0, 93.0, 94.0, 95.0, 96.0, 97.0, 98.0, 99.0, 100.0, 101.0, 102.0, 103.0, 104.0, 105.0, 106.0, 107.0, 108.0, 109.0, 110.0, 111.0, 112.0, 113.0, 114.0, 115.0, 116.0, 117.0, 118.0, 119.0, 120.0, 121.0, 122.0, 123.0, 124.0, 125.0, 126.0, 127.0, 128.0, 129.0, 130.0, 131.0, 132.0, 133.0, 134.0, 135.0, 136.0, 137.0, 138.0, 139.0, 140.0, 141.0, 142.0, 143.0, 144.0, 145.0, 146.0, 147.0, 148.0, 149.0, 150.0, 151.0, 152.0, 153.0, 154.0, 155.0, 156.0, 157.0, 158.0, 159.0, 160.0, 161.0, 162.0, 163.0, 164.0, 165.0, 166.0, 167.0, 168.0, 169.0, 170.0, 171.0, 172.0, 173.0, 174.0, 175.0, 176.0, 177.0, 178.0, 179.0, 180.0, 181.0, 182.0, 183.0, 184.0, 185.0, 186.0, 187.0, 188.0, 189.0, 190.0, 191.0, 192.0, 193.0, 194.0, 195.0, 196.0, 197.0, 198.0, 199.0, 200.0, 201.0, 202.0, 203.0, 204.0, 205.0, 206.0, 207.0, 208.0, 209.0, 210.0, 211.0, 212.0, 213.0, 214.0, 215.0, 216.0, 217.0, 218.0, 219.0, 220.0, 221.0, 222.0, 223.0, 224.0, 225.0, 226.0, 227.0, 228.0, 229.0, 230.0, 231.0, 232.0, 233.0, 234.0, 235.0, 236.0, 237.0, 238.0, 239.0, 240.0, 241.0, 242.0, 243.0, 244.0, 245.0, 246.0, 247.0, 248.0, 249.0, 250.0, 251.0, 252.0, 253.0, 254.0, 255.0, 256.0, 257.0, 258.0, 259.0, 260.0, 261.0, 262.0, 263.0, 264.0, 265.0, 266.0, 267.0, 268.0, 269.0, 270.0, 271.0, 272.0, 273.0, 274.0, 275.0, 276.0, 277.0, 278.0, 279.0, 280.0, 281.0, 282.0, 283.0, 284.0, 285.0, 286.0, 287.0, 288.0, 289.0, 290.0, 291.0, 292.0, 293.0, 294.0, 295.0, 296.0, 297.0, 298.0, 299.0, 300.0, 301.0, 302.0, 303.0, 304.0, 305.0, 306.0, 307.0, 308.0, 309.0, 310.0, 311.0, 312.0, 313.0, 314.0, 315.0, 316.0, 317.0, 318.0, 319.0, 320.0, 321.0, 322.0, 323.0, 324.0, 325.0, 326.0, 327.0, 328.0, 329.0, 330.0, 331.0, 332.0, 333.0, 334.0, 335.0, 336.0, 337.0, 338.0, 339.0, 340.0, 341.0, 342.0, 343.0, 344.0, 345.0, 346.0, 347.0, 348.0, 349.0, 350.0, 351.0, 352.0, 353.0, 354.0, 355.0, 356.0, 357.0, 358.0, 359.0, 360.0, 361.0, 362.0, 363.0, 364.0, 365.0, 366.0, 367.0, 368.0, 369.0, 370.0, 371.0, 372.0, 373.0, 374.0, 375.0, 376.0, 377.0, 378.0, 379.0, 380.0, 381.0, 382.0, 383.0, 384.0, 385.0, 386.0, 387.0, 388.0, 389.0, 390.0, 391.0, 392.0, 393.0, 394.0, 395.0, 396.0, 397.0, 398.0, 399.0], \"xaxis\": \"x2\", \"y\": [1000000.0, 1000000.0, 999998.95, 999998.8975000551, 999998.8423751186, 999998.7844939416, 999998.7237187126, 999998.6599047296, 999998.5929000559, 999998.5225451577, 999998.4486725247, 999998.3711062713, 999998.2896617175, 999998.2041449497, 999998.1143523584, 999998.0200701541, 999997.9210738578, 999997.8171277668, 999997.7079843933, 999997.5933838757, 999997.4730533591, 999997.3467063463, 999997.2140420156, 999997.0747445045, 999996.9284821575, 999996.7749067371, 999996.613652594, 999996.4443357971, 999996.2665532192, 999996.079881577, 999995.8838764243, 999995.6780710926, 999995.4619755811, 999995.2350753898, 999994.9968302946, 999994.7466730609, 999994.4840080938, 999994.2082100199, 999993.918622198, 999993.6145551571, 999993.2952849537, 999992.960051449, 999992.6080564995, 999992.2384620565, 999991.8503881715, 999991.4429109008, 999991.0150601071, 999990.5658171489, 999990.0941124565, 999989.5988229857, 999989.0787695441, 999988.5327139851, 999987.9593562592, 999987.357331321, 999986.725205879, 999986.0614749839, 999985.3645584473, 999984.6327970794, 999983.864448741, 999983.0576841958, 999982.2105827576, 999981.3211277187, 999980.3872015496, 999979.4065808603, 999978.3769311077, 999977.295801041, 999976.160616867, 999974.9686761262, 999973.7171412609, 999972.4030328633, 999971.0232225861, 999969.574425698, 999968.0531932687, 999966.4559039621, 999964.7787554206, 999963.0177552184, 999961.1687113636, 999959.2272223253, 999957.1886665624, 999955.0481915311, 999952.8007021409, 999950.4408486367, 999947.963013874, 999945.3612999601, 999942.6295142274, 999939.7611545074, 999936.7493936687, 999933.5870633841, 999930.2666370872, 999926.7802120787, 999923.1194907395, 999919.2757608071, 999915.2398746676, 999911.002227615, 999906.5527350259, 999901.8808083967, 999896.9753301854, 999891.8246273987, 999886.4164438642, 999880.7379111187, 999874.7755178469, 999868.5150777978, 999861.9416961019, 999855.0397339117, 999847.7927712813, 999840.1835681974, 999832.1940236719, 999823.8051327977, 999814.9969416691, 999805.7485000592, 999796.0378117445, 999785.8417823603, 999775.1361646655, 999763.895501086, 999752.093063407, 999739.7007894699, 999726.6892167273, 999713.0274125028, 999698.6829007913, 999683.6215854306, 999667.8076694672, 999651.2035705277, 999633.7698320015, 999615.4650298285, 999596.2456746771, 999576.0661092887, 999554.8784007502, 999532.6322274497, 999509.274760454, 999484.7505390396, 999459.001340092, 999431.9660410741, 999403.5804762567, 999373.7772858819, 999342.4857579204, 999309.6316620654, 999275.1370755908, 999238.9202006833, 999200.8951728404, 999160.9718599088, 999119.0556513151, 999075.0472370283, 999028.8423757603, 998980.3316519049, 998929.4002206771, 998875.9275409054, 998819.7870948953, 998760.8460947651, 998698.9651746234, 998633.9980679355, 998565.7912693962, 998494.1836806001, 998419.0062387695, 998340.0815277717, 998257.2233706269, 998170.2364026773, 998078.9156245522, 997983.0459340387, 997882.4016359259, 997776.7459288638, 997665.8303682401, 997549.3943040457, 997427.1642926618, 997298.8534814738, 997164.1609651732, 997022.7711125833, 996874.3528628049, 996718.5589894465, 996555.0253316741, 996383.3699907811, 996203.1924909514, 996014.072902862, 995815.5709287463, 995607.2249475161, 995388.551018525, 995159.0418425368, 994918.1656784577, 994665.3652143842, 994400.0563915181, 994121.627179515, 993829.4363018415, 993522.8119097513, 993201.0502035166, 992863.4139996093, 992509.1312425768, 992137.3934604427, 991747.3541625446, 991338.1271788378, 990908.7849398181, 990458.3566963725, 989985.8266790379, 989490.1321963549, 988970.1616722351, 988424.7526225237, 987852.6895712423, 987252.7019073372, 986623.4616831371, 985963.5813561612, 985271.6114763864, 984546.0383216309, 983785.2814842903, 982987.6914133319, 982151.546916171, 981275.0526258538, 980356.3364398547, 979393.4469377507, 978384.3507860935, 977326.9301399451, 976218.9800517863, 975058.2058998646, 973842.2208495045, 972568.543362484, 971234.594771271, 969837.6969367331, 968375.0700098738, 966843.8303202115, 965240.9884156139, 963563.4472807107, 961808.0007634495, 959971.3322419062, 958050.0135661259, 956040.5043125224, 953939.1513912033, 951742.1890494917, 949445.739317853, 947045.8129474015, 944538.3108910917, 941919.0263835869, 939183.6476775778, 936327.7614969469, 933346.8572695937, 930236.3322048654, 926991.4972823202, 923607.5842198901, 920079.7534903206, 916403.103454945, 912572.6806832906, 908583.4915256004, 904430.5150029629, 900108.717076241, 895613.0663502607, 890938.5512636135, 886080.1988068182, 881033.0948023538, 875792.4057690868, 870353.4023807726, 864711.4845135234, 858862.2078603263, 852801.3120718456, 846524.7503618265, 840028.7204924928, 833309.6970304808, 826364.4647372084, 819190.1529293687, 811784.2706157223, 804144.7421858911, 796269.9433958573, 788158.7373638465, 779810.5102598029, 771225.2063423954, 762403.3619701692, 753346.1381888315, 744055.3514755913, 734533.502204785, 724783.8003876071, 714810.1882334419, 704617.3590818862, 694210.7722637685, 683596.663466933, 672782.0502087425, 661774.7320524593, 650583.2852489916, 639217.0515388105, 627686.1209107684, 616001.3081844305, 604174.1233594554, 592216.7357583409, 580141.9320760372, 567963.0685398811, 555694.0174741489, 543349.1086532695, 530943.065914321, 518490.93958072993, 506008.03532305884, 493509.840147481, 481011.94625622657, 468529.97356547543, 456079.4916936649, 443675.9422461593, 431334.56222025224, 419070.30933752644, 406897.7900790626, 394831.19115367066, 382884.2150713785, 371070.0204253509, 359401.16740700684, 347889.56899333245, 336546.44815438415, 325382.3013349315, 314406.8683692857, 303629.10889471055, 293057.1852383849, 282698.45166745794, 272559.44981284393, 262645.9100063158, 252962.75820815226, 243514.12814975844, 234303.37827269733, 225333.1130125624, 216605.20795293082, 208120.83836090087, 199880.5106108581, 191884.0960064181, 184130.86652110727, 176619.53199534258, 169348.27834968816, 162314.80640120397, 155516.37089999684, 148949.81943589228, 142611.63089959696, 136497.9532180092, 130604.64011874399, 124927.28671383415, 119461.26372642652, 114201.7502166609, 109143.7646934553, 104282.1945273556, 99611.82360575988, 95127.35819557519, 90823.45099965984, 86694.72341225122, 82735.78599501494, 78941.2572094748, 75305.78045349172, 71824.03945930256, 68490.77211855003, 65300.78280589229, 62248.95327735075, 59330.25222268945, 56539.74355299538, 53872.593505397555, 51324.07664667757, 48889.58085652534, 46564.61136951542, 44344.79395263933, 42225.877292542486, 40203.73466357158, 38274.364944437984, 36433.893047811114, 34678.569823551574, 33004.771492624306, 31408.998665057123, 29887.874991661287, 28438.145495654084, 27056.674626832944, 25740.444077584427, 24486.55039677082, 23292.20243444899, 22154.718647438916, 21071.52429298428, 20040.1485351366, 19058.22148604528, 18123.471202053595, 17233.72065237153, 16386.884676129208, 15580.966941792169, 14814.056921244599, 14084.326889305608, 13390.028958036564, 12729.49215390964, 12101.11954473902, 11503.385422213818, 10934.83254491177, 10394.069445805391, 9879.767807497294, 9390.659907718888, 8925.536137008108, 8483.242589924368, 8062.67873067013, 7662.795133552281, 7282.59129833756, 6921.113540221588, 6577.452953842352, 6250.743450518232, 5940.159867676557, 5644.916149255354, 5364.263595709228, 5097.489182119956, 4843.913942812011, 4602.891420785687, 4373.806180218002, 4156.072380232159, 3949.132408102043, 3752.4555700357305, 3565.5368376742117, 3387.895648437552, 3219.074757861905, 3058.6391420837026, 2906.1749486495974], \"yaxis\": \"y2\"}, {\"hoverlabel\": {\"namelength\": 0}, \"hovertemplate\": \"p=0.1<br>Estado=I<br>t=%{x}<br>value=%{y}\", \"legendgroup\": \"p=0.1\", \"line\": {\"color\": \"#EF553B\", \"dash\": \"solid\"}, \"mode\": \"lines\", \"name\": \"p=0.1\", \"showlegend\": true, \"type\": \"scattergl\", \"x\": [1.0, 2.0, 3.0, 4.0, 5.0, 6.0, 7.0, 8.0, 9.0, 10.0, 11.0, 12.0, 13.0, 14.0, 15.0, 16.0, 17.0, 18.0, 19.0, 20.0, 21.0, 22.0, 23.0, 24.0, 25.0, 26.0, 27.0, 28.0, 29.0, 30.0, 31.0, 32.0, 33.0, 34.0, 35.0, 36.0, 37.0, 38.0, 39.0, 40.0, 41.0, 42.0, 43.0, 44.0, 45.0, 46.0, 47.0, 48.0, 49.0, 50.0, 51.0, 52.0, 53.0, 54.0, 55.0, 56.0, 57.0, 58.0, 59.0, 60.0, 61.0, 62.0, 63.0, 64.0, 65.0, 66.0, 67.0, 68.0, 69.0, 70.0, 71.0, 72.0, 73.0, 74.0, 75.0, 76.0, 77.0, 78.0, 79.0, 80.0, 81.0, 82.0, 83.0, 84.0, 85.0, 86.0, 87.0, 88.0, 89.0, 90.0, 91.0, 92.0, 93.0, 94.0, 95.0, 96.0, 97.0, 98.0, 99.0, 100.0, 101.0, 102.0, 103.0, 104.0, 105.0, 106.0, 107.0, 108.0, 109.0, 110.0, 111.0, 112.0, 113.0, 114.0, 115.0, 116.0, 117.0, 118.0, 119.0, 120.0, 121.0, 122.0, 123.0, 124.0, 125.0, 126.0, 127.0, 128.0, 129.0, 130.0, 131.0, 132.0, 133.0, 134.0, 135.0, 136.0, 137.0, 138.0, 139.0, 140.0, 141.0, 142.0, 143.0, 144.0, 145.0, 146.0, 147.0, 148.0, 149.0, 150.0, 151.0, 152.0, 153.0, 154.0, 155.0, 156.0, 157.0, 158.0, 159.0, 160.0, 161.0, 162.0, 163.0, 164.0, 165.0, 166.0, 167.0, 168.0, 169.0, 170.0, 171.0, 172.0, 173.0, 174.0, 175.0, 176.0, 177.0, 178.0, 179.0, 180.0, 181.0, 182.0, 183.0, 184.0, 185.0, 186.0, 187.0, 188.0, 189.0, 190.0, 191.0, 192.0, 193.0, 194.0, 195.0, 196.0, 197.0, 198.0, 199.0, 200.0, 201.0, 202.0, 203.0, 204.0, 205.0, 206.0, 207.0, 208.0, 209.0, 210.0, 211.0, 212.0, 213.0, 214.0, 215.0, 216.0, 217.0, 218.0, 219.0, 220.0, 221.0, 222.0, 223.0, 224.0, 225.0, 226.0, 227.0, 228.0, 229.0, 230.0, 231.0, 232.0, 233.0, 234.0, 235.0, 236.0, 237.0, 238.0, 239.0, 240.0, 241.0, 242.0, 243.0, 244.0, 245.0, 246.0, 247.0, 248.0, 249.0, 250.0, 251.0, 252.0, 253.0, 254.0, 255.0, 256.0, 257.0, 258.0, 259.0, 260.0, 261.0, 262.0, 263.0, 264.0, 265.0, 266.0, 267.0, 268.0, 269.0, 270.0, 271.0, 272.0, 273.0, 274.0, 275.0, 276.0, 277.0, 278.0, 279.0, 280.0, 281.0, 282.0, 283.0, 284.0, 285.0, 286.0, 287.0, 288.0, 289.0, 290.0, 291.0, 292.0, 293.0, 294.0, 295.0, 296.0, 297.0, 298.0, 299.0, 300.0, 301.0, 302.0, 303.0, 304.0, 305.0, 306.0, 307.0, 308.0, 309.0, 310.0, 311.0, 312.0, 313.0, 314.0, 315.0, 316.0, 317.0, 318.0, 319.0, 320.0, 321.0, 322.0, 323.0, 324.0, 325.0, 326.0, 327.0, 328.0, 329.0, 330.0, 331.0, 332.0, 333.0, 334.0, 335.0, 336.0, 337.0, 338.0, 339.0, 340.0, 341.0, 342.0, 343.0, 344.0, 345.0, 346.0, 347.0, 348.0, 349.0, 350.0, 351.0, 352.0, 353.0, 354.0, 355.0, 356.0, 357.0, 358.0, 359.0, 360.0, 361.0, 362.0, 363.0, 364.0, 365.0, 366.0, 367.0, 368.0, 369.0, 370.0, 371.0, 372.0, 373.0, 374.0, 375.0, 376.0, 377.0, 378.0, 379.0, 380.0, 381.0, 382.0, 383.0, 384.0, 385.0, 386.0, 387.0, 388.0, 389.0, 390.0, 391.0, 392.0, 393.0, 394.0, 395.0, 396.0, 397.0, 398.0, 399.0], \"xaxis\": \"x\", \"y\": [1.0, 1.0, 1.1, 1.2099998790000002, 1.3309997204900295, 1.4640995153830068, 1.6105092525625684, 1.77155991844482, 1.9487155964468477, 2.1435867763422847, 2.3579449944800865, 2.5937389379376357, 2.8531121589832313, 3.138422560856655, 3.4522638319727035, 3.7974890233574174, 4.177236483600871, 4.594958387030494, 5.054452114369285, 5.559894771057596, 6.11588115692037, 6.727465532212174, 7.400207559554143, 8.140222839202366, 8.954238496799816, 9.849654328641092, 10.834610059936162, 11.918059327052264, 13.109851055743679, 14.420818974498577, 15.862880075946444, 17.449142920444658, 19.19402676523026, 21.11339260068694, 23.224687283220923, 25.547102072933075, 28.10174701478395, 30.911842745443817, 34.002931465786006, 37.40310899242978, 41.143279992416524, 45.25743871470932, 49.782977762604354, 54.7610277043773, 60.2368305977995, 66.26015081000341, 72.88572685024522, 80.17376830235189, 88.1905023492747, 97.0087748277317, 106.70871124026552, 117.37844368938661, 129.114910288421, 142.0247342512572, 156.225190573869, 171.84526900023894, 189.02684282061506, 207.9259539879459, 228.71422606650628, 251.5804176534364, 276.73213014812535, 304.39768509575225, 334.8281878102583, 368.2997955997489, 405.11621068577995, 445.6114198399419, 490.15270487018694, 539.1439503897965, 593.0292778088519, 652.2970372173032, 717.4841917965573, 789.1811326196653, 868.0369651956236, 954.7653128978914, 1050.1506865074093, 1155.055473511713, 1270.4276055481953, 1397.3089674729208, 1536.844616985155, 1690.2928895459947, 1859.0364694953491, 2044.5945147853927, 2248.635929590943, 2472.9938861956525, 2719.6817049391016, 2990.910208575394, 3289.1066750453574, 3616.93552027791, 3977.3208500499163, 4373.471026940484, 4808.905404752184, 5287.483388108217, 5813.435978861086, 6391.399972959163, 7026.454970893646, 7724.16336103721, 8490.613427178132, 9332.465718258967, 10257.002798446616, 11272.182467650544, 12386.694504657198, 13610.020935047747, 14952.499761567278, 16425.392012812037, 18040.951863815786, 19812.499455782112, 21754.495887891786, 23882.619667547333, 26213.843682083596, 28766.511490233082, 31560.411420924618, 34616.84660611128, 37958.6986598273, 41610.482245415275, 45598.3872466872, 49950.304679406036, 54695.83185359009, 59866.251636733476, 65494.47999190356, 71614.97530015293, 78263.60236144408, 85477.44345212946, 93294.54846343122, 101753.61603247479, 110893.59779815385, 120753.21857470737, 131370.406452563, 142781.62872866815, 155021.13225129383, 168120.0903319759, 182105.6628878503, 196999.98193105301, 212819.0808360748, 229571.7928028911, 247258.65127810687, 265870.8323427307, 285389.18562794215, 305783.4054633984, 327011.3969040589, 349018.8912239504, 371739.3617032259, 395094.2825695963, 418993.76161463757, 443337.56054890295, 468016.49734444806, 492914.2029002363, 517909.1820481824, 542877.1081680189, 567693.2635275336, 592235.0257348329, 616384.2957376023, 640029.7653081685, 663068.9317909424, 685409.7841393985, 706972.1053339366, 727688.3600953004, 747504.1611630117, 766378.3301837111, 784282.588704565, 801200.9296805081, 817128.7296764678, 832071.6665578468, 846044.5073847963, 859069.8272756777, 871176.7131896992, 882399.4979482684, 892776.5603451596, 902349.2177095021, 911160.7284103573, 919255.4139516636, 926677.9037388855, 933472.5003849845, 939682.6595259835, 945350.5754171993, 950516.8619147562, 955220.3176278042, 959497.7638696884, 963383.944369564, 966911.4763796144, 970110.8437021154, 973010.4231654839, 975636.5371231649, 978013.5255785133, 980163.8325149133, 982108.1019093724, 983865.2797167066, 985452.7188251739, 986886.2846036985, 988180.4591901791, 989348.4431166657, 990402.2532385952, 991352.8162404461, 992210.0572377043, 992982.9831931099, 993679.7610213121, 994307.7903771062, 994873.7712143564, 995383.7662707645, 995843.2586823038, 996257.2049642352, 996630.0836163437, 996965.939621066, 997268.4251067211, 997540.8364459092, 997786.1480527797, 998007.0431334573, 998205.9416324043, 998385.0256046213, 998546.2622299293, 998691.424671586, 998822.1109674884, 998939.7611284823, 999045.6726049876, 999141.0142704112, 999226.8390577218, 999304.0953741653, 999373.6374084239, 999436.2344345719, 999492.5792079534, 999543.295539572, 999588.9451277184, 999630.0337183358, 999667.0166589973, 999700.303905307, 999730.2645330013, 999757.230803979, 999781.5018298929, 999803.3468727586, 999823.0083182375, 999840.7043538082, 999856.631380917, 999870.9661873692, 999883.8679036598, 999895.4797646274, 999905.9306957168, 999915.3367412416, 999923.8023503307, 999931.4215346895, 999938.2789109199, 999944.4506388786, 999950.0052664176, 999955.0044898285, 999959.503838386, 999963.5532905535, 999967.1978286619, 999970.4779381974, 999973.4300572225, 999976.0869809041, 999978.4782256305, 999980.6303567487, 999982.5672835555, 999984.31052481, 999985.879447713, 999987.2914830027, 999988.5623185518, 999989.7060736145, 999990.7354556565, 999991.6619015078, 999992.4957044045, 999993.2461283327, 999993.921510938, 999994.5293561494, 999995.0764175416, 999995.5687733633, 999996.0118940633, 999996.4107030665, 999996.7696314716, 999997.0926672809, 999997.3833997076, 999997.6450590522, 999997.8805525923, 999998.0924968839, 999998.2832468317, 999998.4549218538, 999998.6094294298, 999998.7484862934, 999998.8736375074, 999998.9862736298, 999999.0876461641, 999999.1788814644, 999999.2609932505, 999999.3348938709, 999999.4014044396, 999999.4612639598, 999999.5151375347, 999999.5636237577, 999999.6072613628, 999999.6465352111, 999999.6818816775, 999999.7136934996, 999999.7423241414, 999999.7680917206, 999999.7912825432, 999999.8121542846, 999999.8309388526, 999999.8478449645, 999999.8630604657, 999999.8767544172, 999999.8890789739, 999999.9001710752, 999999.9101539667, 999999.9191385693, 999999.9272247116, 999999.9345022399, 999999.9410520155, 999999.9469468136, 999999.952252132, 999999.9570269185, 999999.9613242265, 999999.9651918036, 999999.9686726232, 999999.9718053608, 999999.9746248246, 999999.977162342, 999999.9794461078, 999999.981501497, 999999.9833513473, 999999.9850162126, 999999.9865145913, 999999.9878631321, 999999.9890768189, 999999.990169137, 999999.9911522233, 999999.992037001, 999999.9928333008, 999999.9935499708, 999999.9941949737, 999999.9947754764, 999999.9952979288, 999999.9957681359, 999999.9961913223, 999999.9965721901, 999999.996914971, 999999.997223474, 999999.9975011266, 999999.997751014, 999999.9979759125, 999999.9981783213, 999999.9983604891, 999999.9985244402, 999999.9986719962, 999999.9988047966, 999999.998924317, 999999.9990318853, 999999.9991286967, 999999.9992158271, 999999.9992942443, 999999.9993648198, 999999.9994283379, 999999.9994855041, 999999.9995369538, 999999.9995832584, 999999.9996249325, 999999.9996624392, 999999.9996961952, 999999.9997265757, 999999.9997539181, 999999.9997785264, 999999.9998006737, 999999.9998206063, 999999.9998385457, 999999.9998546911, 999999.9998692219, 999999.9998822997, 999999.9998940697, 999999.9999046627, 999999.9999141964, 999999.9999227768, 999999.9999304991, 999999.9999374492, 999999.9999437043, 999999.999949334, 999999.9999544006, 999999.9999589606, 999999.9999630646, 999999.9999667581, 999999.9999700823, 999999.9999730741, 999999.9999757666, 999999.9999781899, 999999.999980371, 999999.9999823339, 999999.9999841005, 999999.9999856905, 999999.9999871214, 999999.9999884093, 999999.9999895684, 999999.9999906116, 999999.9999915505, 999999.9999923954, 999999.9999931558, 999999.9999938402, 999999.9999944562, 999999.9999950106, 999999.9999955095, 999999.9999959585, 999999.9999963627, 999999.9999967264, 999999.9999970538], \"yaxis\": \"y\"}, {\"hoverlabel\": {\"namelength\": 0}, \"hovertemplate\": \"p=0.1<br>Estado=S<br>t=%{x}<br>value=%{y}\", \"legendgroup\": \"p=0.1\", \"line\": {\"color\": \"#EF553B\", \"dash\": \"solid\"}, \"mode\": \"lines\", \"name\": \"p=0.1\", \"showlegend\": false, \"type\": \"scattergl\", \"x\": [1.0, 2.0, 3.0, 4.0, 5.0, 6.0, 7.0, 8.0, 9.0, 10.0, 11.0, 12.0, 13.0, 14.0, 15.0, 16.0, 17.0, 18.0, 19.0, 20.0, 21.0, 22.0, 23.0, 24.0, 25.0, 26.0, 27.0, 28.0, 29.0, 30.0, 31.0, 32.0, 33.0, 34.0, 35.0, 36.0, 37.0, 38.0, 39.0, 40.0, 41.0, 42.0, 43.0, 44.0, 45.0, 46.0, 47.0, 48.0, 49.0, 50.0, 51.0, 52.0, 53.0, 54.0, 55.0, 56.0, 57.0, 58.0, 59.0, 60.0, 61.0, 62.0, 63.0, 64.0, 65.0, 66.0, 67.0, 68.0, 69.0, 70.0, 71.0, 72.0, 73.0, 74.0, 75.0, 76.0, 77.0, 78.0, 79.0, 80.0, 81.0, 82.0, 83.0, 84.0, 85.0, 86.0, 87.0, 88.0, 89.0, 90.0, 91.0, 92.0, 93.0, 94.0, 95.0, 96.0, 97.0, 98.0, 99.0, 100.0, 101.0, 102.0, 103.0, 104.0, 105.0, 106.0, 107.0, 108.0, 109.0, 110.0, 111.0, 112.0, 113.0, 114.0, 115.0, 116.0, 117.0, 118.0, 119.0, 120.0, 121.0, 122.0, 123.0, 124.0, 125.0, 126.0, 127.0, 128.0, 129.0, 130.0, 131.0, 132.0, 133.0, 134.0, 135.0, 136.0, 137.0, 138.0, 139.0, 140.0, 141.0, 142.0, 143.0, 144.0, 145.0, 146.0, 147.0, 148.0, 149.0, 150.0, 151.0, 152.0, 153.0, 154.0, 155.0, 156.0, 157.0, 158.0, 159.0, 160.0, 161.0, 162.0, 163.0, 164.0, 165.0, 166.0, 167.0, 168.0, 169.0, 170.0, 171.0, 172.0, 173.0, 174.0, 175.0, 176.0, 177.0, 178.0, 179.0, 180.0, 181.0, 182.0, 183.0, 184.0, 185.0, 186.0, 187.0, 188.0, 189.0, 190.0, 191.0, 192.0, 193.0, 194.0, 195.0, 196.0, 197.0, 198.0, 199.0, 200.0, 201.0, 202.0, 203.0, 204.0, 205.0, 206.0, 207.0, 208.0, 209.0, 210.0, 211.0, 212.0, 213.0, 214.0, 215.0, 216.0, 217.0, 218.0, 219.0, 220.0, 221.0, 222.0, 223.0, 224.0, 225.0, 226.0, 227.0, 228.0, 229.0, 230.0, 231.0, 232.0, 233.0, 234.0, 235.0, 236.0, 237.0, 238.0, 239.0, 240.0, 241.0, 242.0, 243.0, 244.0, 245.0, 246.0, 247.0, 248.0, 249.0, 250.0, 251.0, 252.0, 253.0, 254.0, 255.0, 256.0, 257.0, 258.0, 259.0, 260.0, 261.0, 262.0, 263.0, 264.0, 265.0, 266.0, 267.0, 268.0, 269.0, 270.0, 271.0, 272.0, 273.0, 274.0, 275.0, 276.0, 277.0, 278.0, 279.0, 280.0, 281.0, 282.0, 283.0, 284.0, 285.0, 286.0, 287.0, 288.0, 289.0, 290.0, 291.0, 292.0, 293.0, 294.0, 295.0, 296.0, 297.0, 298.0, 299.0, 300.0, 301.0, 302.0, 303.0, 304.0, 305.0, 306.0, 307.0, 308.0, 309.0, 310.0, 311.0, 312.0, 313.0, 314.0, 315.0, 316.0, 317.0, 318.0, 319.0, 320.0, 321.0, 322.0, 323.0, 324.0, 325.0, 326.0, 327.0, 328.0, 329.0, 330.0, 331.0, 332.0, 333.0, 334.0, 335.0, 336.0, 337.0, 338.0, 339.0, 340.0, 341.0, 342.0, 343.0, 344.0, 345.0, 346.0, 347.0, 348.0, 349.0, 350.0, 351.0, 352.0, 353.0, 354.0, 355.0, 356.0, 357.0, 358.0, 359.0, 360.0, 361.0, 362.0, 363.0, 364.0, 365.0, 366.0, 367.0, 368.0, 369.0, 370.0, 371.0, 372.0, 373.0, 374.0, 375.0, 376.0, 377.0, 378.0, 379.0, 380.0, 381.0, 382.0, 383.0, 384.0, 385.0, 386.0, 387.0, 388.0, 389.0, 390.0, 391.0, 392.0, 393.0, 394.0, 395.0, 396.0, 397.0, 398.0, 399.0], \"xaxis\": \"x2\", \"y\": [1000000.0, 1000000.0, 999998.9, 999998.790000121, 999998.6690002795, 999998.5359004847, 999998.3894907475, 999998.2284400816, 999998.0512844035, 999997.8564132237, 999997.6420550055, 999997.406261062, 999997.146887841, 999996.8615774391, 999996.547736168, 999996.2025109767, 999995.8227635165, 999995.4050416129, 999994.9455478856, 999994.4401052289, 999993.8841188431, 999993.2725344677, 999992.5997924404, 999991.8597771608, 999991.0457615032, 999990.1503456713, 999989.16538994, 999988.081940673, 999986.8901489442, 999985.5791810255, 999984.1371199241, 999982.5508570796, 999980.8059732348, 999978.8866073993, 999976.7753127167, 999974.452897927, 999971.8982529852, 999969.0881572545, 999965.9970685343, 999962.5968910076, 999958.8567200076, 999954.7425612853, 999950.2170222374, 999945.2389722957, 999939.7631694023, 999933.73984919, 999927.1142731498, 999919.8262316977, 999911.8094976507, 999902.9912251723, 999893.2912887598, 999882.6215563106, 999870.8850897116, 999857.9752657488, 999843.7748094262, 999828.1547309997, 999810.9731571794, 999792.074046012, 999771.2857739335, 999748.4195823466, 999723.2678698519, 999695.6023149042, 999665.1718121897, 999631.7002044002, 999594.8837893142, 999554.3885801601, 999509.8472951298, 999460.8560496102, 999406.9707221912, 999347.7029627827, 999282.5158082035, 999210.8188673804, 999131.9630348043, 999045.2346871021, 998949.8493134925, 998844.9445264883, 998729.5723944518, 998602.6910325271, 998463.1553830148, 998309.707110454, 998140.9635305046, 997955.4054852147, 997751.3640704091, 997527.0061138043, 997280.3182950609, 997009.0897914246, 996710.8933249547, 996383.0644797221, 996022.67914995, 995626.5289730595, 995191.0945952478, 994712.5166118918, 994186.5640211389, 993608.6000270408, 992973.5450291063, 992275.8366389627, 991509.3865728219, 990667.534281741, 989742.9972015534, 988727.8175323495, 987613.3054953428, 986389.9790649522, 985047.5002384327, 983574.6079871879, 981959.0481361842, 980187.5005442179, 978245.5041121083, 976117.3803324527, 973786.1563179163, 971233.4885097669, 968439.5885790754, 965383.1533938887, 962041.3013401726, 958389.5177545848, 954401.6127533128, 950049.695320594, 945304.1681464099, 940133.7483632665, 934505.5200080965, 928385.0246998471, 921736.397638556, 914522.5565478705, 906705.4515365688, 898246.3839675252, 889106.4022018461, 879246.7814252926, 868629.593547437, 857218.3712713318, 844978.8677487061, 831879.9096680242, 817894.3371121497, 803000.018068947, 787180.9191639252, 770428.2071971089, 752741.3487218932, 734129.1676572693, 714610.8143720578, 694216.5945366016, 672988.603095941, 650981.1087760496, 628260.6382967741, 604905.7174304037, 581006.2383853624, 556662.439451097, 531983.502655552, 507085.7970997637, 482090.8179518176, 457122.89183198113, 432306.7364724664, 407764.97426516714, 383615.7042623977, 359970.2346918315, 336931.06820905756, 314590.2158606015, 293027.89466606337, 272311.63990469964, 252495.83883698832, 233621.66981628886, 215717.41129543504, 198799.0703194919, 182871.27032353217, 167928.33344215318, 153955.49261520372, 140930.1727243223, 128823.28681030078, 117600.50205173157, 107223.43965484039, 97650.78229049791, 88839.27158964274, 80744.58604833635, 73322.09626111446, 66527.49961501546, 60317.3404740165, 54649.42458280071, 49483.13808524376, 44779.68237219576, 40502.23613031162, 36616.05563043605, 33088.52362038556, 29889.15629788465, 26989.576834516134, 24363.46287683514, 21986.474421486724, 19836.167485086713, 17891.898090627627, 16134.720283293398, 14547.281174826086, 13113.715396301472, 11819.540809820872, 10651.556883334299, 9597.746761404793, 8647.18375955394, 7789.9427622957155, 7017.01680689014, 6320.238978687907, 5692.209622893832, 5126.228785643587, 4616.233729235479, 4156.741317696171, 3742.795035764808, 3369.916383656324, 3034.060378934024, 2731.5748932788847, 2459.1635540907737, 2213.851947220275, 1992.9568665426923, 1794.0583675956586, 1614.9743953787256, 1453.737770070671, 1308.5753284139792, 1177.8890325116226, 1060.2388715177076, 954.3273950123694, 858.9857295887778, 773.1609422782203, 695.9046258346643, 626.362591576064, 563.7655654280679, 507.4207920465851, 456.70446042797994, 411.05487228161655, 369.9662816642085, 332.9833410027204, 299.69609469303396, 269.73546699865256, 242.76919602102134, 218.4981701071374, 196.65312724141404, 176.99168176250532, 159.29564619180746, 143.36861908296123, 129.0338126308052, 116.1320963401813, 104.52023537259083, 94.06930428324267, 84.66325875837356, 76.1976496692514, 68.57846531050745, 61.7210890800925, 55.549361121375114, 49.99473358236719, 44.9955101715168, 40.49616161396261, 36.446709446492605, 32.80217133811675, 29.522061802563258, 26.569942777510732, 23.913019095896743, 21.521774369524792, 19.3696432512952, 17.432716444483958, 15.689475190010853, 14.12055228697136, 12.708516997285187, 11.437681448180228, 10.293926385464147, 9.26454434345942, 8.338098492240533, 7.504295595455915, 6.753871667315252, 6.078489062027074, 5.470643850625493, 4.9235824584029615, 4.431226636748761, 3.988105936674401, 3.589296933496371, 3.230368528398685, 2.907332719070837, 2.616600292385556, 2.3549409478437155, 2.119447407661937, 1.9075031160609797, 1.716753168264404, 1.5450781461549923, 1.3905705702491105, 1.251513706636615, 1.126362492563203, 1.0137263701763004, 0.9123538358835503, 0.8211185355903581, 0.7390067494707182, 0.6651061291340739, 0.5985955604119226, 0.538736040238291, 0.4848624652950093, 0.436376242316328, 0.39273863716516644, 0.35346478887367994, 0.3181183225242421, 0.2863065004348755, 0.25767585856374353, 0.23190827935468405, 0.20871745678596199, 0.18784571543801576, 0.1690611473750323, 0.15215503552462906, 0.13693953433539718, 0.12324558279942721, 0.11092102609109133, 0.09982892475090921, 0.08984603325370699, 0.08086143073160201, 0.07277528836857527, 0.06549776007886976, 0.05894798447843641, 0.05305318639148027, 0.047747867996804416, 0.042973081464879215, 0.038675773539580405, 0.03480819636024535, 0.031327376840636134, 0.028194639249704778, 0.025375175406225026, 0.02283765794709325, 0.02055389224551618, 0.018498503020964563, 0.01664865273050964, 0.01498378743417561, 0.013485408737324178, 0.012136867851950228, 0.010923181078396738, 0.009830862982198596, 0.008847776683978736, 0.00796299905050546, 0.0071666991570964456, 0.0064500292064622045, 0.005805026274174452, 0.005224523600190878, 0.004702071193605661, 0.004231864120811224, 0.003808677662163973, 0.00342780991923064, 0.0030850289622321725, 0.0027765260310843587, 0.0024988733930513263, 0.0022489860421046615, 0.002024087472818792, 0.0018216787138953805, 0.0016395108541473746, 0.0014755597803741693, 0.0013280038256198168, 0.0011952033964917064, 0.0010756830452010036, 0.0009681147057563066, 0.0008713032584637403, 0.000784172909334302, 0.0007057556649670005, 0.0006351801566779613, 0.0005716620944440365, 0.0005144958849996328, 0.0004630462499335408, 0.0004167415900155902, 0.0003750674659386277, 0.00033756077755242586, 0.0003038047580048442, 0.0002734243171289563, 0.00024608185049146414, 0.00022147363051772118, 0.0001993263140320778, 0.00017939368262887, 0.000161454314365983, 0.00014530890621244907, 0.0001307780621573329, 0.00011770031414926052, 0.0001059302594512701, 9.533728007227182e-05, 8.580356370657682e-05, 7.72231724113226e-05, 6.95008784532547e-05, 6.255076732486486e-05, 5.629565566778183e-05, 5.0666043534874916e-05, 4.559941589832306e-05, 4.103942774236202e-05, 3.693543840199709e-05, 3.324192948639393e-05, 2.9917689971625805e-05, 2.6925932615995407e-05, 2.4233362637460232e-05, 2.1810061298310757e-05, 1.9629020243883133e-05, 1.7666141502559185e-05, 1.589953899383545e-05, 1.4309538528323174e-05, 1.287856139242649e-05, 1.1590658687055111e-05, 1.0431627742946148e-05, 9.388430044054985e-06, 8.449540473520756e-06, 7.604598067700863e-06, 6.844173185527325e-06, 6.159767508506775e-06, 5.543814040720463e-06, 4.989444278180599e-06, 4.490488208830357e-06, 4.041474312543869e-06, 3.6372803151607513e-06, 3.273598849773407e-06, 2.9462389647960663e-06], \"yaxis\": \"y2\"}, {\"hoverlabel\": {\"namelength\": 0}, \"hovertemplate\": \"p=0.25<br>Estado=I<br>t=%{x}<br>value=%{y}\", \"legendgroup\": \"p=0.25\", \"line\": {\"color\": \"#00cc96\", \"dash\": \"solid\"}, \"mode\": \"lines\", \"name\": \"p=0.25\", \"showlegend\": true, \"type\": \"scattergl\", \"x\": [1.0, 2.0, 3.0, 4.0, 5.0, 6.0, 7.0, 8.0, 9.0, 10.0, 11.0, 12.0, 13.0, 14.0, 15.0, 16.0, 17.0, 18.0, 19.0, 20.0, 21.0, 22.0, 23.0, 24.0, 25.0, 26.0, 27.0, 28.0, 29.0, 30.0, 31.0, 32.0, 33.0, 34.0, 35.0, 36.0, 37.0, 38.0, 39.0, 40.0, 41.0, 42.0, 43.0, 44.0, 45.0, 46.0, 47.0, 48.0, 49.0, 50.0, 51.0, 52.0, 53.0, 54.0, 55.0, 56.0, 57.0, 58.0, 59.0, 60.0, 61.0, 62.0, 63.0, 64.0, 65.0, 66.0, 67.0, 68.0, 69.0, 70.0, 71.0, 72.0, 73.0, 74.0, 75.0, 76.0, 77.0, 78.0, 79.0, 80.0, 81.0, 82.0, 83.0, 84.0, 85.0, 86.0, 87.0, 88.0, 89.0, 90.0, 91.0, 92.0, 93.0, 94.0, 95.0, 96.0, 97.0, 98.0, 99.0, 100.0, 101.0, 102.0, 103.0, 104.0, 105.0, 106.0, 107.0, 108.0, 109.0, 110.0, 111.0, 112.0, 113.0, 114.0, 115.0, 116.0, 117.0, 118.0, 119.0, 120.0, 121.0, 122.0, 123.0, 124.0, 125.0, 126.0, 127.0, 128.0, 129.0, 130.0, 131.0, 132.0, 133.0, 134.0, 135.0, 136.0, 137.0, 138.0, 139.0, 140.0, 141.0, 142.0, 143.0, 144.0, 145.0, 146.0, 147.0, 148.0, 149.0, 150.0, 151.0, 152.0, 153.0, 154.0, 155.0, 156.0, 157.0, 158.0, 159.0, 160.0, 161.0, 162.0, 163.0, 164.0, 165.0, 166.0, 167.0, 168.0, 169.0, 170.0, 171.0, 172.0, 173.0, 174.0, 175.0, 176.0, 177.0, 178.0, 179.0, 180.0, 181.0, 182.0, 183.0, 184.0, 185.0, 186.0, 187.0, 188.0, 189.0, 190.0, 191.0, 192.0, 193.0, 194.0, 195.0, 196.0, 197.0, 198.0, 199.0, 200.0, 201.0, 202.0, 203.0, 204.0, 205.0, 206.0, 207.0, 208.0, 209.0, 210.0, 211.0, 212.0, 213.0, 214.0, 215.0, 216.0, 217.0, 218.0, 219.0, 220.0, 221.0, 222.0, 223.0, 224.0, 225.0, 226.0, 227.0, 228.0, 229.0, 230.0, 231.0, 232.0, 233.0, 234.0, 235.0, 236.0, 237.0, 238.0, 239.0, 240.0, 241.0, 242.0, 243.0, 244.0, 245.0, 246.0, 247.0, 248.0, 249.0, 250.0, 251.0, 252.0, 253.0, 254.0, 255.0, 256.0, 257.0, 258.0, 259.0, 260.0, 261.0, 262.0, 263.0, 264.0, 265.0, 266.0, 267.0, 268.0, 269.0, 270.0, 271.0, 272.0, 273.0, 274.0, 275.0, 276.0, 277.0, 278.0, 279.0, 280.0, 281.0, 282.0, 283.0, 284.0, 285.0, 286.0, 287.0, 288.0, 289.0, 290.0, 291.0, 292.0, 293.0, 294.0, 295.0, 296.0, 297.0, 298.0, 299.0, 300.0, 301.0, 302.0, 303.0, 304.0, 305.0, 306.0, 307.0, 308.0, 309.0, 310.0, 311.0, 312.0, 313.0, 314.0, 315.0, 316.0, 317.0, 318.0, 319.0, 320.0, 321.0, 322.0, 323.0, 324.0, 325.0, 326.0, 327.0, 328.0, 329.0, 330.0, 331.0, 332.0, 333.0, 334.0, 335.0, 336.0, 337.0, 338.0, 339.0, 340.0, 341.0, 342.0, 343.0, 344.0, 345.0, 346.0, 347.0, 348.0, 349.0, 350.0, 351.0, 352.0, 353.0, 354.0, 355.0, 356.0, 357.0, 358.0, 359.0, 360.0, 361.0, 362.0, 363.0, 364.0, 365.0, 366.0, 367.0, 368.0, 369.0, 370.0, 371.0, 372.0, 373.0, 374.0, 375.0, 376.0, 377.0, 378.0, 379.0, 380.0, 381.0, 382.0, 383.0, 384.0, 385.0, 386.0, 387.0, 388.0, 389.0, 390.0, 391.0, 392.0, 393.0, 394.0, 395.0, 396.0, 397.0, 398.0, 399.0], \"xaxis\": \"x\", \"y\": [1.0, 1.0, 1.25, 1.562499609375, 1.9531239013674928, 2.4414039230361224, 3.0517534136818742, 3.8146894388026182, 4.768358160539394, 5.960442016364356, 7.450543638738187, 9.313165670772605, 11.641435404702055, 14.551760375122997, 18.18964753047124, 22.736976697269732, 28.42109162905983, 35.52616259671244, 44.407387718833334, 55.50874164452067, 69.38515675055109, 86.73024236319453, 108.41092242025807, 135.51071479329758, 169.38380270316603, 211.72258066080298, 264.6420192132133, 330.7850151669333, 413.4539142771019, 516.7746568115696, 645.9015570029812, 807.2726490483918, 1008.9278890280144, 1260.9053774137035, 1575.7342511744316, 1969.0470793604586, 2460.339562600389, 3073.911135559662, 3840.026687032248, 4796.34690755103, 5989.682398524394, 7478.133924346694, 9333.686783685751, 11645.329052363202, 14522.757893269549, 18100.719742380305, 22543.99066417733, 28052.930451455035, 34869.42133759025, 43282.807535883214, 53635.15906280694, 66324.76625658553, 81806.21416598423, 100584.70353843758, 123201.55877656813, 150207.29244946613, 182118.5578855828, 219356.4050753974, 262166.19823234633, 310524.96891653247, 364049.7720655122, 421929.1559466524, 482905.3917738519, 545332.3353662505, 607318.580208811, 666939.2607943022, 722472.0815956652, 772598.6248232881, 816521.1222594011, 853974.7170503135, 885150.1919726011, 910565.0243784683, 930924.1145677452, 947000.2164387464, 959547.918064675, 969251.8458152807, 976702.5221150187, 982391.1984673137, 986715.8813776309, 989992.7940813298, 992469.5595184227, 994337.9927553554, 995745.479985007, 996804.5847536158, 997600.8858955626, 998199.2254845505, 998648.608416199, 998985.999747346, 999239.2427613814, 999429.287383142, 999571.8841091337, 999678.8672610463, 999759.1246642257, 999819.3289929375, 999864.4885841999, 999898.3618473139, 999923.768802907, 999942.8251493814, 999957.1180447951, 999967.8380738808, 999975.8782968132, 999981.9085771458, 999986.4313510344, 999989.8234672488, 999992.3675745461, 999994.2756663461, 999995.7067415676, 999996.7800515677, 999997.5850360837, 999998.1887756048, 999998.6415808835, 999998.9811852013, 999999.2358886414, 999999.4269163351, 999999.5701871692, 999999.6776403307, 999999.758230222, 999999.8186726519, 999999.8640044807, 999999.8980033558, 999999.9235025143, 999999.9426268842, 999999.9569701623, 999999.9677276213, 999999.9757957157, 999999.9818467866, 999999.9863850898, 999999.9897888174, 999999.992341613, 999999.9942562098, 999999.9956921573, 999999.996769118, 999999.9975768385, 999999.9981826289, 999999.9986369717, 999999.9989777288, 999999.9992332966, 999999.9994249725, 999999.9995687293, 999999.999676547, 999999.9997574103, 999999.9998180576, 999999.9998635432, 999999.9998976574, 999999.9999232431, 999999.9999424323, 999999.9999568242, 999999.9999676181, 999999.9999757136, 999999.9999817852, 999999.9999863389, 999999.9999897542, 999999.9999923157, 999999.9999942367, 999999.9999956775, 999999.9999967581, 999999.9999975685, 999999.9999981764, 999999.9999986322, 999999.9999989741, 999999.9999992306, 999999.9999994229, 999999.9999995672, 999999.9999996753, 999999.9999997565, 999999.9999998173, 999999.999999863, 999999.9999998972, 999999.9999999229, 999999.9999999421, 999999.9999999566, 999999.9999999674, 999999.9999999756, 999999.9999999816, 999999.9999999861, 999999.9999999896, 999999.9999999922, 999999.9999999942, 999999.9999999956, 999999.9999999966, 999999.9999999974, 999999.999999998, 999999.9999999985, 999999.9999999988, 999999.9999999991, 999999.9999999993, 999999.9999999994, 999999.9999999995, 999999.9999999997, 999999.9999999998, 999999.9999999998, 999999.9999999998, 999999.9999999998, 999999.9999999998, 999999.9999999998, 999999.9999999998, 999999.9999999998, 999999.9999999998, 999999.9999999998, 999999.9999999998, 999999.9999999998, 999999.9999999998, 999999.9999999998, 999999.9999999998, 999999.9999999998, 999999.9999999998, 999999.9999999998, 999999.9999999998, 999999.9999999998, 999999.9999999998, 999999.9999999998, 999999.9999999998, 999999.9999999998, 999999.9999999998, 999999.9999999998, 999999.9999999998, 999999.9999999998, 999999.9999999998, 999999.9999999998, 999999.9999999998, 999999.9999999998, 999999.9999999998, 999999.9999999998, 999999.9999999998, 999999.9999999998, 999999.9999999998, 999999.9999999998, 999999.9999999998, 999999.9999999998, 999999.9999999998, 999999.9999999998, 999999.9999999998, 999999.9999999998, 999999.9999999998, 999999.9999999998, 999999.9999999998, 999999.9999999998, 999999.9999999998, 999999.9999999998, 999999.9999999998, 999999.9999999998, 999999.9999999998, 999999.9999999998, 999999.9999999998, 999999.9999999998, 999999.9999999998, 999999.9999999998, 999999.9999999998, 999999.9999999998, 999999.9999999998, 999999.9999999998, 999999.9999999998, 999999.9999999998, 999999.9999999998, 999999.9999999998, 999999.9999999998, 999999.9999999998, 999999.9999999998, 999999.9999999998, 999999.9999999998, 999999.9999999998, 999999.9999999998, 999999.9999999998, 999999.9999999998, 999999.9999999998, 999999.9999999998, 999999.9999999998, 999999.9999999998, 999999.9999999998, 999999.9999999998, 999999.9999999998, 999999.9999999998, 999999.9999999998, 999999.9999999998, 999999.9999999998, 999999.9999999998, 999999.9999999998, 999999.9999999998, 999999.9999999998, 999999.9999999998, 999999.9999999998, 999999.9999999998, 999999.9999999998, 999999.9999999998, 999999.9999999998, 999999.9999999998, 999999.9999999998, 999999.9999999998, 999999.9999999998, 999999.9999999998, 999999.9999999998, 999999.9999999998, 999999.9999999998, 999999.9999999998, 999999.9999999998, 999999.9999999998, 999999.9999999998, 999999.9999999998, 999999.9999999998, 999999.9999999998, 999999.9999999998, 999999.9999999998, 999999.9999999998, 999999.9999999998, 999999.9999999998, 999999.9999999998, 999999.9999999998, 999999.9999999998, 999999.9999999998, 999999.9999999998, 999999.9999999998, 999999.9999999998, 999999.9999999998, 999999.9999999998, 999999.9999999998, 999999.9999999998, 999999.9999999998, 999999.9999999998, 999999.9999999998, 999999.9999999998, 999999.9999999998, 999999.9999999998, 999999.9999999998, 999999.9999999998, 999999.9999999998, 999999.9999999998, 999999.9999999998, 999999.9999999998, 999999.9999999998, 999999.9999999998, 999999.9999999998, 999999.9999999998, 999999.9999999998, 999999.9999999998, 999999.9999999998, 999999.9999999998, 999999.9999999998, 999999.9999999998, 999999.9999999998, 999999.9999999998, 999999.9999999998, 999999.9999999998, 999999.9999999998, 999999.9999999998, 999999.9999999998, 999999.9999999998, 999999.9999999998, 999999.9999999998, 999999.9999999998, 999999.9999999998, 999999.9999999998, 999999.9999999998, 999999.9999999998, 999999.9999999998, 999999.9999999998, 999999.9999999998, 999999.9999999998, 999999.9999999998, 999999.9999999998, 999999.9999999998, 999999.9999999998, 999999.9999999998, 999999.9999999998, 999999.9999999998, 999999.9999999998, 999999.9999999998, 999999.9999999998, 999999.9999999998, 999999.9999999998, 999999.9999999998, 999999.9999999998, 999999.9999999998, 999999.9999999998, 999999.9999999998, 999999.9999999998, 999999.9999999998, 999999.9999999998, 999999.9999999998, 999999.9999999998, 999999.9999999998, 999999.9999999998, 999999.9999999998, 999999.9999999998, 999999.9999999998, 999999.9999999998, 999999.9999999998, 999999.9999999998, 999999.9999999998, 999999.9999999998, 999999.9999999998, 999999.9999999998, 999999.9999999998, 999999.9999999998, 999999.9999999998, 999999.9999999998, 999999.9999999998, 999999.9999999998, 999999.9999999998, 999999.9999999998], \"yaxis\": \"y\"}, {\"hoverlabel\": {\"namelength\": 0}, \"hovertemplate\": \"p=0.25<br>Estado=S<br>t=%{x}<br>value=%{y}\", \"legendgroup\": \"p=0.25\", \"line\": {\"color\": \"#00cc96\", \"dash\": \"solid\"}, \"mode\": \"lines\", \"name\": \"p=0.25\", \"showlegend\": false, \"type\": \"scattergl\", \"x\": [1.0, 2.0, 3.0, 4.0, 5.0, 6.0, 7.0, 8.0, 9.0, 10.0, 11.0, 12.0, 13.0, 14.0, 15.0, 16.0, 17.0, 18.0, 19.0, 20.0, 21.0, 22.0, 23.0, 24.0, 25.0, 26.0, 27.0, 28.0, 29.0, 30.0, 31.0, 32.0, 33.0, 34.0, 35.0, 36.0, 37.0, 38.0, 39.0, 40.0, 41.0, 42.0, 43.0, 44.0, 45.0, 46.0, 47.0, 48.0, 49.0, 50.0, 51.0, 52.0, 53.0, 54.0, 55.0, 56.0, 57.0, 58.0, 59.0, 60.0, 61.0, 62.0, 63.0, 64.0, 65.0, 66.0, 67.0, 68.0, 69.0, 70.0, 71.0, 72.0, 73.0, 74.0, 75.0, 76.0, 77.0, 78.0, 79.0, 80.0, 81.0, 82.0, 83.0, 84.0, 85.0, 86.0, 87.0, 88.0, 89.0, 90.0, 91.0, 92.0, 93.0, 94.0, 95.0, 96.0, 97.0, 98.0, 99.0, 100.0, 101.0, 102.0, 103.0, 104.0, 105.0, 106.0, 107.0, 108.0, 109.0, 110.0, 111.0, 112.0, 113.0, 114.0, 115.0, 116.0, 117.0, 118.0, 119.0, 120.0, 121.0, 122.0, 123.0, 124.0, 125.0, 126.0, 127.0, 128.0, 129.0, 130.0, 131.0, 132.0, 133.0, 134.0, 135.0, 136.0, 137.0, 138.0, 139.0, 140.0, 141.0, 142.0, 143.0, 144.0, 145.0, 146.0, 147.0, 148.0, 149.0, 150.0, 151.0, 152.0, 153.0, 154.0, 155.0, 156.0, 157.0, 158.0, 159.0, 160.0, 161.0, 162.0, 163.0, 164.0, 165.0, 166.0, 167.0, 168.0, 169.0, 170.0, 171.0, 172.0, 173.0, 174.0, 175.0, 176.0, 177.0, 178.0, 179.0, 180.0, 181.0, 182.0, 183.0, 184.0, 185.0, 186.0, 187.0, 188.0, 189.0, 190.0, 191.0, 192.0, 193.0, 194.0, 195.0, 196.0, 197.0, 198.0, 199.0, 200.0, 201.0, 202.0, 203.0, 204.0, 205.0, 206.0, 207.0, 208.0, 209.0, 210.0, 211.0, 212.0, 213.0, 214.0, 215.0, 216.0, 217.0, 218.0, 219.0, 220.0, 221.0, 222.0, 223.0, 224.0, 225.0, 226.0, 227.0, 228.0, 229.0, 230.0, 231.0, 232.0, 233.0, 234.0, 235.0, 236.0, 237.0, 238.0, 239.0, 240.0, 241.0, 242.0, 243.0, 244.0, 245.0, 246.0, 247.0, 248.0, 249.0, 250.0, 251.0, 252.0, 253.0, 254.0, 255.0, 256.0, 257.0, 258.0, 259.0, 260.0, 261.0, 262.0, 263.0, 264.0, 265.0, 266.0, 267.0, 268.0, 269.0, 270.0, 271.0, 272.0, 273.0, 274.0, 275.0, 276.0, 277.0, 278.0, 279.0, 280.0, 281.0, 282.0, 283.0, 284.0, 285.0, 286.0, 287.0, 288.0, 289.0, 290.0, 291.0, 292.0, 293.0, 294.0, 295.0, 296.0, 297.0, 298.0, 299.0, 300.0, 301.0, 302.0, 303.0, 304.0, 305.0, 306.0, 307.0, 308.0, 309.0, 310.0, 311.0, 312.0, 313.0, 314.0, 315.0, 316.0, 317.0, 318.0, 319.0, 320.0, 321.0, 322.0, 323.0, 324.0, 325.0, 326.0, 327.0, 328.0, 329.0, 330.0, 331.0, 332.0, 333.0, 334.0, 335.0, 336.0, 337.0, 338.0, 339.0, 340.0, 341.0, 342.0, 343.0, 344.0, 345.0, 346.0, 347.0, 348.0, 349.0, 350.0, 351.0, 352.0, 353.0, 354.0, 355.0, 356.0, 357.0, 358.0, 359.0, 360.0, 361.0, 362.0, 363.0, 364.0, 365.0, 366.0, 367.0, 368.0, 369.0, 370.0, 371.0, 372.0, 373.0, 374.0, 375.0, 376.0, 377.0, 378.0, 379.0, 380.0, 381.0, 382.0, 383.0, 384.0, 385.0, 386.0, 387.0, 388.0, 389.0, 390.0, 391.0, 392.0, 393.0, 394.0, 395.0, 396.0, 397.0, 398.0, 399.0], \"xaxis\": \"x2\", \"y\": [1000000.0, 1000000.0, 999998.75, 999998.4375003906, 999998.0468760986, 999997.5585960769, 999996.9482465864, 999996.1853105612, 999995.2316418395, 999994.0395579836, 999992.5494563612, 999990.6868343293, 999988.3585645953, 999985.4482396248, 999981.8103524696, 999977.2630233028, 999971.5789083709, 999964.4738374032, 999955.5926122812, 999944.4912583554, 999930.6148432494, 999913.2697576368, 999891.5890775798, 999864.4892852067, 999830.6161972969, 999788.2774193392, 999735.3579807868, 999669.214984833, 999586.5460857229, 999483.2253431884, 999354.098442997, 999192.7273509516, 998991.072110972, 998739.0946225863, 998424.2657488256, 998030.9529206395, 997539.6604373996, 996926.0888644403, 996159.9733129678, 995203.653092449, 994010.3176014756, 992521.8660756533, 990666.3132163143, 988354.6709476368, 985477.2421067305, 981899.2802576197, 977456.0093358227, 971947.0695485449, 965130.5786624098, 956717.1924641167, 946364.840937193, 933675.2337434145, 918193.7858340158, 899415.2964615624, 876798.4412234318, 849792.7075505338, 817881.4421144172, 780643.5949246027, 737833.8017676537, 689475.0310834675, 635950.2279344879, 578070.8440533476, 517094.6082261481, 454667.6646337495, 392681.419791189, 333060.7392056978, 277527.9184043348, 227401.37517671194, 183478.87774059887, 146025.28294968652, 114849.80802739889, 89434.97562153172, 69075.88543225476, 52999.78356125357, 40452.081935325055, 30748.154184719315, 23297.477884981316, 17608.80153268634, 13284.118622369133, 10007.205918670166, 7530.440481577301, 5662.00724464457, 4254.5200149930315, 3195.4152463842183, 2399.114104437409, 1800.774515449535, 1351.3915838010143, 1014.0002526539611, 760.7572386185639, 570.7126168579562, 428.1158908662619, 321.1327389536891, 240.87533577426802, 180.67100706254132, 135.5114158000797, 101.63815268606413, 76.23119709303137, 57.17485061858315, 42.881955204880796, 32.16192611923907, 24.1217031867709, 18.09142285422422, 13.568648965563625, 10.176532751182094, 7.632425453863107, 5.724333653924987, 4.293258432415314, 3.219948432291858, 2.4149639162933454, 1.8112243951763958, 1.3584191164700314, 1.0188147986773401, 0.7641113585559651, 0.5730836648726836, 0.4298128307564184, 0.32235966925509274, 0.24176977796014398, 0.1813273481093347, 0.13599551934748888, 0.10199664416722953, 0.07649748574476689, 0.05737311579287052, 0.043029837659560144, 0.032272378681227565, 0.024204284301958978, 0.018153213430196047, 0.013614910189062357, 0.010211182641796768, 0.007658386952243745, 0.0057437901850789785, 0.004307842697016895, 0.0032308819936588407, 0.002423161524347961, 0.0018173711141571403, 0.0013630283065140247, 0.0010222712298855186, 0.0007667033933103085, 0.0005750275449827313, 0.00043127068784087896, 0.00032345298677682877, 0.00024258974008262157, 0.0001819423632696271, 0.00013645680155605078, 0.00010234257206320763, 7.675692904740572e-05, 5.7567725889384747e-05, 4.31757653132081e-05, 3.2381853088736534e-05, 2.4286448024213314e-05, 1.821480691432953e-05, 1.3661105185747147e-05, 1.024582888931036e-05, 7.684342563152313e-06, 5.763256922364235e-06, 4.32250089943409e-06, 3.2419338822364807e-06, 2.4314504116773605e-06, 1.8236460164189339e-06, 1.3677636161446571e-06, 1.0258518159389496e-06, 7.693888619542122e-07, 5.770707502961159e-07, 4.3283216655254364e-07, 3.246823325753212e-07, 2.4354085326194763e-07, 1.8265563994646072e-07, 1.3702083379030228e-07, 1.0279472917318344e-07, 7.706694304943085e-08, 5.78584149479866e-08, 4.3422915041446686e-08, 3.259629011154175e-08, 2.444721758365631e-08, 1.83936208486557e-08, 1.3853423297405243e-08, 1.0360963642597198e-08, 7.799826562404633e-09, 5.820766091346741e-09, 4.423782229423523e-09, 3.3760443329811096e-09, 2.561137080192566e-09, 1.979060471057892e-09, 1.5133991837501526e-09, 1.1641532182693481e-09, 9.313225746154785e-10, 6.984919309616089e-10, 5.820766091346741e-10, 4.656612873077393e-10, 3.4924596548080444e-10, 2.3283064365386963e-10, 2.3283064365386963e-10, 2.3283064365386963e-10, 2.3283064365386963e-10, 2.3283064365386963e-10, 2.3283064365386963e-10, 2.3283064365386963e-10, 2.3283064365386963e-10, 2.3283064365386963e-10, 2.3283064365386963e-10, 2.3283064365386963e-10, 2.3283064365386963e-10, 2.3283064365386963e-10, 2.3283064365386963e-10, 2.3283064365386963e-10, 2.3283064365386963e-10, 2.3283064365386963e-10, 2.3283064365386963e-10, 2.3283064365386963e-10, 2.3283064365386963e-10, 2.3283064365386963e-10, 2.3283064365386963e-10, 2.3283064365386963e-10, 2.3283064365386963e-10, 2.3283064365386963e-10, 2.3283064365386963e-10, 2.3283064365386963e-10, 2.3283064365386963e-10, 2.3283064365386963e-10, 2.3283064365386963e-10, 2.3283064365386963e-10, 2.3283064365386963e-10, 2.3283064365386963e-10, 2.3283064365386963e-10, 2.3283064365386963e-10, 2.3283064365386963e-10, 2.3283064365386963e-10, 2.3283064365386963e-10, 2.3283064365386963e-10, 2.3283064365386963e-10, 2.3283064365386963e-10, 2.3283064365386963e-10, 2.3283064365386963e-10, 2.3283064365386963e-10, 2.3283064365386963e-10, 2.3283064365386963e-10, 2.3283064365386963e-10, 2.3283064365386963e-10, 2.3283064365386963e-10, 2.3283064365386963e-10, 2.3283064365386963e-10, 2.3283064365386963e-10, 2.3283064365386963e-10, 2.3283064365386963e-10, 2.3283064365386963e-10, 2.3283064365386963e-10, 2.3283064365386963e-10, 2.3283064365386963e-10, 2.3283064365386963e-10, 2.3283064365386963e-10, 2.3283064365386963e-10, 2.3283064365386963e-10, 2.3283064365386963e-10, 2.3283064365386963e-10, 2.3283064365386963e-10, 2.3283064365386963e-10, 2.3283064365386963e-10, 2.3283064365386963e-10, 2.3283064365386963e-10, 2.3283064365386963e-10, 2.3283064365386963e-10, 2.3283064365386963e-10, 2.3283064365386963e-10, 2.3283064365386963e-10, 2.3283064365386963e-10, 2.3283064365386963e-10, 2.3283064365386963e-10, 2.3283064365386963e-10, 2.3283064365386963e-10, 2.3283064365386963e-10, 2.3283064365386963e-10, 2.3283064365386963e-10, 2.3283064365386963e-10, 2.3283064365386963e-10, 2.3283064365386963e-10, 2.3283064365386963e-10, 2.3283064365386963e-10, 2.3283064365386963e-10, 2.3283064365386963e-10, 2.3283064365386963e-10, 2.3283064365386963e-10, 2.3283064365386963e-10, 2.3283064365386963e-10, 2.3283064365386963e-10, 2.3283064365386963e-10, 2.3283064365386963e-10, 2.3283064365386963e-10, 2.3283064365386963e-10, 2.3283064365386963e-10, 2.3283064365386963e-10, 2.3283064365386963e-10, 2.3283064365386963e-10, 2.3283064365386963e-10, 2.3283064365386963e-10, 2.3283064365386963e-10, 2.3283064365386963e-10, 2.3283064365386963e-10, 2.3283064365386963e-10, 2.3283064365386963e-10, 2.3283064365386963e-10, 2.3283064365386963e-10, 2.3283064365386963e-10, 2.3283064365386963e-10, 2.3283064365386963e-10, 2.3283064365386963e-10, 2.3283064365386963e-10, 2.3283064365386963e-10, 2.3283064365386963e-10, 2.3283064365386963e-10, 2.3283064365386963e-10, 2.3283064365386963e-10, 2.3283064365386963e-10, 2.3283064365386963e-10, 2.3283064365386963e-10, 2.3283064365386963e-10, 2.3283064365386963e-10, 2.3283064365386963e-10, 2.3283064365386963e-10, 2.3283064365386963e-10, 2.3283064365386963e-10, 2.3283064365386963e-10, 2.3283064365386963e-10, 2.3283064365386963e-10, 2.3283064365386963e-10, 2.3283064365386963e-10, 2.3283064365386963e-10, 2.3283064365386963e-10, 2.3283064365386963e-10, 2.3283064365386963e-10, 2.3283064365386963e-10, 2.3283064365386963e-10, 2.3283064365386963e-10, 2.3283064365386963e-10, 2.3283064365386963e-10, 2.3283064365386963e-10, 2.3283064365386963e-10, 2.3283064365386963e-10, 2.3283064365386963e-10, 2.3283064365386963e-10, 2.3283064365386963e-10, 2.3283064365386963e-10, 2.3283064365386963e-10, 2.3283064365386963e-10, 2.3283064365386963e-10, 2.3283064365386963e-10, 2.3283064365386963e-10, 2.3283064365386963e-10, 2.3283064365386963e-10, 2.3283064365386963e-10, 2.3283064365386963e-10, 2.3283064365386963e-10, 2.3283064365386963e-10, 2.3283064365386963e-10, 2.3283064365386963e-10, 2.3283064365386963e-10, 2.3283064365386963e-10, 2.3283064365386963e-10, 2.3283064365386963e-10, 2.3283064365386963e-10, 2.3283064365386963e-10, 2.3283064365386963e-10, 2.3283064365386963e-10, 2.3283064365386963e-10, 2.3283064365386963e-10, 2.3283064365386963e-10, 2.3283064365386963e-10, 2.3283064365386963e-10, 2.3283064365386963e-10, 2.3283064365386963e-10, 2.3283064365386963e-10, 2.3283064365386963e-10, 2.3283064365386963e-10, 2.3283064365386963e-10, 2.3283064365386963e-10, 2.3283064365386963e-10, 2.3283064365386963e-10, 2.3283064365386963e-10, 2.3283064365386963e-10, 2.3283064365386963e-10, 2.3283064365386963e-10, 2.3283064365386963e-10, 2.3283064365386963e-10, 2.3283064365386963e-10, 2.3283064365386963e-10, 2.3283064365386963e-10, 2.3283064365386963e-10, 2.3283064365386963e-10, 2.3283064365386963e-10, 2.3283064365386963e-10, 2.3283064365386963e-10, 2.3283064365386963e-10, 2.3283064365386963e-10, 2.3283064365386963e-10, 2.3283064365386963e-10, 2.3283064365386963e-10, 2.3283064365386963e-10, 2.3283064365386963e-10, 2.3283064365386963e-10, 2.3283064365386963e-10, 2.3283064365386963e-10], \"yaxis\": \"y2\"}, {\"hoverlabel\": {\"namelength\": 0}, \"hovertemplate\": \"p=0.4<br>Estado=I<br>t=%{x}<br>value=%{y}\", \"legendgroup\": \"p=0.4\", \"line\": {\"color\": \"#ab63fa\", \"dash\": \"solid\"}, \"mode\": \"lines\", \"name\": \"p=0.4\", \"showlegend\": true, \"type\": \"scattergl\", \"x\": [1.0, 2.0, 3.0, 4.0, 5.0, 6.0, 7.0, 8.0, 9.0, 10.0, 11.0, 12.0, 13.0, 14.0, 15.0, 16.0, 17.0, 18.0, 19.0, 20.0, 21.0, 22.0, 23.0, 24.0, 25.0, 26.0, 27.0, 28.0, 29.0, 30.0, 31.0, 32.0, 33.0, 34.0, 35.0, 36.0, 37.0, 38.0, 39.0, 40.0, 41.0, 42.0, 43.0, 44.0, 45.0, 46.0, 47.0, 48.0, 49.0, 50.0, 51.0, 52.0, 53.0, 54.0, 55.0, 56.0, 57.0, 58.0, 59.0, 60.0, 61.0, 62.0, 63.0, 64.0, 65.0, 66.0, 67.0, 68.0, 69.0, 70.0, 71.0, 72.0, 73.0, 74.0, 75.0, 76.0, 77.0, 78.0, 79.0, 80.0, 81.0, 82.0, 83.0, 84.0, 85.0, 86.0, 87.0, 88.0, 89.0, 90.0, 91.0, 92.0, 93.0, 94.0, 95.0, 96.0, 97.0, 98.0, 99.0, 100.0, 101.0, 102.0, 103.0, 104.0, 105.0, 106.0, 107.0, 108.0, 109.0, 110.0, 111.0, 112.0, 113.0, 114.0, 115.0, 116.0, 117.0, 118.0, 119.0, 120.0, 121.0, 122.0, 123.0, 124.0, 125.0, 126.0, 127.0, 128.0, 129.0, 130.0, 131.0, 132.0, 133.0, 134.0, 135.0, 136.0, 137.0, 138.0, 139.0, 140.0, 141.0, 142.0, 143.0, 144.0, 145.0, 146.0, 147.0, 148.0, 149.0, 150.0, 151.0, 152.0, 153.0, 154.0, 155.0, 156.0, 157.0, 158.0, 159.0, 160.0, 161.0, 162.0, 163.0, 164.0, 165.0, 166.0, 167.0, 168.0, 169.0, 170.0, 171.0, 172.0, 173.0, 174.0, 175.0, 176.0, 177.0, 178.0, 179.0, 180.0, 181.0, 182.0, 183.0, 184.0, 185.0, 186.0, 187.0, 188.0, 189.0, 190.0, 191.0, 192.0, 193.0, 194.0, 195.0, 196.0, 197.0, 198.0, 199.0, 200.0, 201.0, 202.0, 203.0, 204.0, 205.0, 206.0, 207.0, 208.0, 209.0, 210.0, 211.0, 212.0, 213.0, 214.0, 215.0, 216.0, 217.0, 218.0, 219.0, 220.0, 221.0, 222.0, 223.0, 224.0, 225.0, 226.0, 227.0, 228.0, 229.0, 230.0, 231.0, 232.0, 233.0, 234.0, 235.0, 236.0, 237.0, 238.0, 239.0, 240.0, 241.0, 242.0, 243.0, 244.0, 245.0, 246.0, 247.0, 248.0, 249.0, 250.0, 251.0, 252.0, 253.0, 254.0, 255.0, 256.0, 257.0, 258.0, 259.0, 260.0, 261.0, 262.0, 263.0, 264.0, 265.0, 266.0, 267.0, 268.0, 269.0, 270.0, 271.0, 272.0, 273.0, 274.0, 275.0, 276.0, 277.0, 278.0, 279.0, 280.0, 281.0, 282.0, 283.0, 284.0, 285.0, 286.0, 287.0, 288.0, 289.0, 290.0, 291.0, 292.0, 293.0, 294.0, 295.0, 296.0, 297.0, 298.0, 299.0, 300.0, 301.0, 302.0, 303.0, 304.0, 305.0, 306.0, 307.0, 308.0, 309.0, 310.0, 311.0, 312.0, 313.0, 314.0, 315.0, 316.0, 317.0, 318.0, 319.0, 320.0, 321.0, 322.0, 323.0, 324.0, 325.0, 326.0, 327.0, 328.0, 329.0, 330.0, 331.0, 332.0, 333.0, 334.0, 335.0, 336.0, 337.0, 338.0, 339.0, 340.0, 341.0, 342.0, 343.0, 344.0, 345.0, 346.0, 347.0, 348.0, 349.0, 350.0, 351.0, 352.0, 353.0, 354.0, 355.0, 356.0, 357.0, 358.0, 359.0, 360.0, 361.0, 362.0, 363.0, 364.0, 365.0, 366.0, 367.0, 368.0, 369.0, 370.0, 371.0, 372.0, 373.0, 374.0, 375.0, 376.0, 377.0, 378.0, 379.0, 380.0, 381.0, 382.0, 383.0, 384.0, 385.0, 386.0, 387.0, 388.0, 389.0, 390.0, 391.0, 392.0, 393.0, 394.0, 395.0, 396.0, 397.0, 398.0, 399.0], \"xaxis\": \"x\", \"y\": [1.0, 1.0, 1.4, 1.959999216, 2.7439973657612295, 3.841593300257104, 5.378224717224312, 7.529503033993594, 10.541281570224657, 14.757749750867662, 20.660762534743643, 28.924896801797694, 40.494520862654774, 56.691673285228724, 79.36705702099226, 111.1113601774931, 155.55096595474615, 217.76167389544082, 304.8473753949701, 426.74915278404404, 597.3759679619009, 836.1836119278219, 1170.377375485808, 1637.9804123997114, 2292.099385427034, 3206.8376517607776, 4485.4591893751885, 6271.5951274694435, 8764.500016280062, 12239.573438577938, 17075.479950825775, 23789.043124935662, 33078.29294578991, 45871.94073842287, 63379.023054948266, 87123.87205156771, 118937.19323969162, 160853.64816127397, 214845.5489750672, 282320.3245993349, 363366.5481663193, 455899.0681023246, 555121.1112246272, 653905.7764635722, 744430.9812520301, 820532.379413698, 879435.9769126553, 921847.3126823909, 950665.250595449, 969425.5833577454, 981281.4320334416, 988628.7053053775, 993125.5006460138, 995856.3968910611, 997506.9703559469, 998501.6961348457, 999100.1197151185, 999459.7479152603, 999675.7320002301, 999805.3971402438, 999883.223136037, 999929.9284268878, 999957.9550921225, 999974.7723481638, 999984.8631543245, 999990.917800945, 999994.5506475725, 999996.7303766654, 999998.038221723, 999998.8229314944, 999999.2937583425, 999999.576254806, 999999.7457528118, 999999.8474516612, 999999.9084709875, 999999.9450825892, 999999.9670495522, 999999.980229731, 999999.9881378384, 999999.992882703, 999999.9957296217, 999999.997437773, 999999.9984626638, 999999.9990775983, 999999.999446559, 999999.9996679354, 999999.9998007612, 999999.9998804567, 999999.9999282741, 999999.9999569644, 999999.9999741786, 999999.9999845072, 999999.9999907044, 999999.9999944227, 999999.9999966536, 999999.9999979922, 999999.9999987953, 999999.9999992772, 999999.9999995664, 999999.9999997398, 999999.9999998439, 999999.9999999063, 999999.9999999438, 999999.9999999662, 999999.9999999797, 999999.9999999879, 999999.9999999928, 999999.9999999957, 999999.9999999974, 999999.9999999985, 999999.9999999991, 999999.9999999994, 999999.9999999997, 999999.9999999998, 999999.9999999999, 999999.9999999999, 999999.9999999999, 999999.9999999999, 999999.9999999999, 999999.9999999999, 999999.9999999999, 999999.9999999999, 999999.9999999999, 999999.9999999999, 999999.9999999999, 999999.9999999999, 999999.9999999999, 999999.9999999999, 999999.9999999999, 999999.9999999999, 999999.9999999999, 999999.9999999999, 999999.9999999999, 999999.9999999999, 999999.9999999999, 999999.9999999999, 999999.9999999999, 999999.9999999999, 999999.9999999999, 999999.9999999999, 999999.9999999999, 999999.9999999999, 999999.9999999999, 999999.9999999999, 999999.9999999999, 999999.9999999999, 999999.9999999999, 999999.9999999999, 999999.9999999999, 999999.9999999999, 999999.9999999999, 999999.9999999999, 999999.9999999999, 999999.9999999999, 999999.9999999999, 999999.9999999999, 999999.9999999999, 999999.9999999999, 999999.9999999999, 999999.9999999999, 999999.9999999999, 999999.9999999999, 999999.9999999999, 999999.9999999999, 999999.9999999999, 999999.9999999999, 999999.9999999999, 999999.9999999999, 999999.9999999999, 999999.9999999999, 999999.9999999999, 999999.9999999999, 999999.9999999999, 999999.9999999999, 999999.9999999999, 999999.9999999999, 999999.9999999999, 999999.9999999999, 999999.9999999999, 999999.9999999999, 999999.9999999999, 999999.9999999999, 999999.9999999999, 999999.9999999999, 999999.9999999999, 999999.9999999999, 999999.9999999999, 999999.9999999999, 999999.9999999999, 999999.9999999999, 999999.9999999999, 999999.9999999999, 999999.9999999999, 999999.9999999999, 999999.9999999999, 999999.9999999999, 999999.9999999999, 999999.9999999999, 999999.9999999999, 999999.9999999999, 999999.9999999999, 999999.9999999999, 999999.9999999999, 999999.9999999999, 999999.9999999999, 999999.9999999999, 999999.9999999999, 999999.9999999999, 999999.9999999999, 999999.9999999999, 999999.9999999999, 999999.9999999999, 999999.9999999999, 999999.9999999999, 999999.9999999999, 999999.9999999999, 999999.9999999999, 999999.9999999999, 999999.9999999999, 999999.9999999999, 999999.9999999999, 999999.9999999999, 999999.9999999999, 999999.9999999999, 999999.9999999999, 999999.9999999999, 999999.9999999999, 999999.9999999999, 999999.9999999999, 999999.9999999999, 999999.9999999999, 999999.9999999999, 999999.9999999999, 999999.9999999999, 999999.9999999999, 999999.9999999999, 999999.9999999999, 999999.9999999999, 999999.9999999999, 999999.9999999999, 999999.9999999999, 999999.9999999999, 999999.9999999999, 999999.9999999999, 999999.9999999999, 999999.9999999999, 999999.9999999999, 999999.9999999999, 999999.9999999999, 999999.9999999999, 999999.9999999999, 999999.9999999999, 999999.9999999999, 999999.9999999999, 999999.9999999999, 999999.9999999999, 999999.9999999999, 999999.9999999999, 999999.9999999999, 999999.9999999999, 999999.9999999999, 999999.9999999999, 999999.9999999999, 999999.9999999999, 999999.9999999999, 999999.9999999999, 999999.9999999999, 999999.9999999999, 999999.9999999999, 999999.9999999999, 999999.9999999999, 999999.9999999999, 999999.9999999999, 999999.9999999999, 999999.9999999999, 999999.9999999999, 999999.9999999999, 999999.9999999999, 999999.9999999999, 999999.9999999999, 999999.9999999999, 999999.9999999999, 999999.9999999999, 999999.9999999999, 999999.9999999999, 999999.9999999999, 999999.9999999999, 999999.9999999999, 999999.9999999999, 999999.9999999999, 999999.9999999999, 999999.9999999999, 999999.9999999999, 999999.9999999999, 999999.9999999999, 999999.9999999999, 999999.9999999999, 999999.9999999999, 999999.9999999999, 999999.9999999999, 999999.9999999999, 999999.9999999999, 999999.9999999999, 999999.9999999999, 999999.9999999999, 999999.9999999999, 999999.9999999999, 999999.9999999999, 999999.9999999999, 999999.9999999999, 999999.9999999999, 999999.9999999999, 999999.9999999999, 999999.9999999999, 999999.9999999999, 999999.9999999999, 999999.9999999999, 999999.9999999999, 999999.9999999999, 999999.9999999999, 999999.9999999999, 999999.9999999999, 999999.9999999999, 999999.9999999999, 999999.9999999999, 999999.9999999999, 999999.9999999999, 999999.9999999999, 999999.9999999999, 999999.9999999999, 999999.9999999999, 999999.9999999999, 999999.9999999999, 999999.9999999999, 999999.9999999999, 999999.9999999999, 999999.9999999999, 999999.9999999999, 999999.9999999999, 999999.9999999999, 999999.9999999999, 999999.9999999999, 999999.9999999999, 999999.9999999999, 999999.9999999999, 999999.9999999999, 999999.9999999999, 999999.9999999999, 999999.9999999999, 999999.9999999999, 999999.9999999999, 999999.9999999999, 999999.9999999999, 999999.9999999999, 999999.9999999999, 999999.9999999999, 999999.9999999999, 999999.9999999999, 999999.9999999999, 999999.9999999999, 999999.9999999999, 999999.9999999999, 999999.9999999999, 999999.9999999999, 999999.9999999999, 999999.9999999999, 999999.9999999999, 999999.9999999999, 999999.9999999999, 999999.9999999999, 999999.9999999999, 999999.9999999999, 999999.9999999999, 999999.9999999999, 999999.9999999999, 999999.9999999999, 999999.9999999999, 999999.9999999999, 999999.9999999999, 999999.9999999999, 999999.9999999999, 999999.9999999999, 999999.9999999999, 999999.9999999999, 999999.9999999999, 999999.9999999999, 999999.9999999999, 999999.9999999999, 999999.9999999999, 999999.9999999999, 999999.9999999999, 999999.9999999999, 999999.9999999999, 999999.9999999999, 999999.9999999999, 999999.9999999999, 999999.9999999999, 999999.9999999999, 999999.9999999999], \"yaxis\": \"y\"}, {\"hoverlabel\": {\"namelength\": 0}, \"hovertemplate\": \"p=0.4<br>Estado=S<br>t=%{x}<br>value=%{y}\", \"legendgroup\": \"p=0.4\", \"line\": {\"color\": \"#ab63fa\", \"dash\": \"solid\"}, \"mode\": \"lines\", \"name\": \"p=0.4\", \"showlegend\": false, \"type\": \"scattergl\", \"x\": [1.0, 2.0, 3.0, 4.0, 5.0, 6.0, 7.0, 8.0, 9.0, 10.0, 11.0, 12.0, 13.0, 14.0, 15.0, 16.0, 17.0, 18.0, 19.0, 20.0, 21.0, 22.0, 23.0, 24.0, 25.0, 26.0, 27.0, 28.0, 29.0, 30.0, 31.0, 32.0, 33.0, 34.0, 35.0, 36.0, 37.0, 38.0, 39.0, 40.0, 41.0, 42.0, 43.0, 44.0, 45.0, 46.0, 47.0, 48.0, 49.0, 50.0, 51.0, 52.0, 53.0, 54.0, 55.0, 56.0, 57.0, 58.0, 59.0, 60.0, 61.0, 62.0, 63.0, 64.0, 65.0, 66.0, 67.0, 68.0, 69.0, 70.0, 71.0, 72.0, 73.0, 74.0, 75.0, 76.0, 77.0, 78.0, 79.0, 80.0, 81.0, 82.0, 83.0, 84.0, 85.0, 86.0, 87.0, 88.0, 89.0, 90.0, 91.0, 92.0, 93.0, 94.0, 95.0, 96.0, 97.0, 98.0, 99.0, 100.0, 101.0, 102.0, 103.0, 104.0, 105.0, 106.0, 107.0, 108.0, 109.0, 110.0, 111.0, 112.0, 113.0, 114.0, 115.0, 116.0, 117.0, 118.0, 119.0, 120.0, 121.0, 122.0, 123.0, 124.0, 125.0, 126.0, 127.0, 128.0, 129.0, 130.0, 131.0, 132.0, 133.0, 134.0, 135.0, 136.0, 137.0, 138.0, 139.0, 140.0, 141.0, 142.0, 143.0, 144.0, 145.0, 146.0, 147.0, 148.0, 149.0, 150.0, 151.0, 152.0, 153.0, 154.0, 155.0, 156.0, 157.0, 158.0, 159.0, 160.0, 161.0, 162.0, 163.0, 164.0, 165.0, 166.0, 167.0, 168.0, 169.0, 170.0, 171.0, 172.0, 173.0, 174.0, 175.0, 176.0, 177.0, 178.0, 179.0, 180.0, 181.0, 182.0, 183.0, 184.0, 185.0, 186.0, 187.0, 188.0, 189.0, 190.0, 191.0, 192.0, 193.0, 194.0, 195.0, 196.0, 197.0, 198.0, 199.0, 200.0, 201.0, 202.0, 203.0, 204.0, 205.0, 206.0, 207.0, 208.0, 209.0, 210.0, 211.0, 212.0, 213.0, 214.0, 215.0, 216.0, 217.0, 218.0, 219.0, 220.0, 221.0, 222.0, 223.0, 224.0, 225.0, 226.0, 227.0, 228.0, 229.0, 230.0, 231.0, 232.0, 233.0, 234.0, 235.0, 236.0, 237.0, 238.0, 239.0, 240.0, 241.0, 242.0, 243.0, 244.0, 245.0, 246.0, 247.0, 248.0, 249.0, 250.0, 251.0, 252.0, 253.0, 254.0, 255.0, 256.0, 257.0, 258.0, 259.0, 260.0, 261.0, 262.0, 263.0, 264.0, 265.0, 266.0, 267.0, 268.0, 269.0, 270.0, 271.0, 272.0, 273.0, 274.0, 275.0, 276.0, 277.0, 278.0, 279.0, 280.0, 281.0, 282.0, 283.0, 284.0, 285.0, 286.0, 287.0, 288.0, 289.0, 290.0, 291.0, 292.0, 293.0, 294.0, 295.0, 296.0, 297.0, 298.0, 299.0, 300.0, 301.0, 302.0, 303.0, 304.0, 305.0, 306.0, 307.0, 308.0, 309.0, 310.0, 311.0, 312.0, 313.0, 314.0, 315.0, 316.0, 317.0, 318.0, 319.0, 320.0, 321.0, 322.0, 323.0, 324.0, 325.0, 326.0, 327.0, 328.0, 329.0, 330.0, 331.0, 332.0, 333.0, 334.0, 335.0, 336.0, 337.0, 338.0, 339.0, 340.0, 341.0, 342.0, 343.0, 344.0, 345.0, 346.0, 347.0, 348.0, 349.0, 350.0, 351.0, 352.0, 353.0, 354.0, 355.0, 356.0, 357.0, 358.0, 359.0, 360.0, 361.0, 362.0, 363.0, 364.0, 365.0, 366.0, 367.0, 368.0, 369.0, 370.0, 371.0, 372.0, 373.0, 374.0, 375.0, 376.0, 377.0, 378.0, 379.0, 380.0, 381.0, 382.0, 383.0, 384.0, 385.0, 386.0, 387.0, 388.0, 389.0, 390.0, 391.0, 392.0, 393.0, 394.0, 395.0, 396.0, 397.0, 398.0, 399.0], \"xaxis\": \"x2\", \"y\": [1000000.0, 1000000.0, 999998.6, 999998.040000784, 999997.2560026342, 999996.1584066998, 999994.6217752828, 999992.470496966, 999989.4587184298, 999985.2422502491, 999979.3392374653, 999971.0751031982, 999959.5054791373, 999943.3083267148, 999920.632942979, 999888.8886398225, 999844.4490340452, 999782.2383261046, 999695.152624605, 999573.250847216, 999402.6240320381, 999163.8163880722, 998829.6226245142, 998362.0195876003, 997707.9006145729, 996793.1623482392, 995514.5408106248, 993728.4048725306, 991235.4999837199, 987760.4265614221, 982924.5200491742, 976210.9568750643, 966921.7070542101, 954128.0592615771, 936620.9769450517, 912876.1279484322, 881062.8067603083, 839146.3518387261, 785154.4510249328, 717679.675400665, 636633.4518336807, 544100.9318976754, 444878.88877537276, 346094.22353642783, 255569.01874796988, 179467.62058630201, 120564.02308734471, 78152.68731760909, 49334.749404550996, 30574.416642254568, 18718.56796655839, 11371.294694622513, 6874.4993539862335, 4143.6031089389, 2493.02964405308, 1498.3038651542738, 899.8802848814521, 540.2520847397391, 324.26799976988696, 194.60285975621082, 116.77686396299396, 70.07157311215997, 42.044907877454534, 25.227651836234145, 15.136845675529912, 9.082199055003002, 5.449352427502163, 3.2696233346359804, 1.9617782769491896, 1.1770685055525973, 0.7062416574917734, 0.4237451939843595, 0.25424718821886927, 0.15254833875223994, 0.09152901254128665, 0.05491741083096713, 0.03295044775586575, 0.019770269049331546, 0.011862161569297314, 0.007117297034710646, 0.004270378267392516, 0.0025622269604355097, 0.0015373361529782414, 0.0009224016685038805, 0.0005534410011023283, 0.0003320645773783326, 0.00019923876971006393, 0.00011954328510910273, 7.17259244993329e-05, 4.3035601265728474e-05, 2.582138404250145e-05, 1.549278385937214e-05, 9.295647032558918e-06, 5.57734165340662e-06, 3.3463584259152412e-06, 2.0078150555491447e-06, 1.2046657502651215e-06, 7.228227332234383e-07, 4.336470738053322e-07, 2.601882442831993e-07, 1.5611294656991959e-07, 9.371433407068253e-08, 5.6228600442409515e-08, 3.3760443329811096e-08, 2.0256265997886658e-08, 1.210719347000122e-08, 7.2177499532699585e-09, 4.307366907596588e-09, 2.561137080192566e-09, 1.5133991837501526e-09, 9.313225746154785e-10, 5.820766091346741e-10, 3.4924596548080444e-10, 2.3283064365386963e-10, 1.1641532182693481e-10, 1.1641532182693481e-10, 1.1641532182693481e-10, 1.1641532182693481e-10, 1.1641532182693481e-10, 1.1641532182693481e-10, 1.1641532182693481e-10, 1.1641532182693481e-10, 1.1641532182693481e-10, 1.1641532182693481e-10, 1.1641532182693481e-10, 1.1641532182693481e-10, 1.1641532182693481e-10, 1.1641532182693481e-10, 1.1641532182693481e-10, 1.1641532182693481e-10, 1.1641532182693481e-10, 1.1641532182693481e-10, 1.1641532182693481e-10, 1.1641532182693481e-10, 1.1641532182693481e-10, 1.1641532182693481e-10, 1.1641532182693481e-10, 1.1641532182693481e-10, 1.1641532182693481e-10, 1.1641532182693481e-10, 1.1641532182693481e-10, 1.1641532182693481e-10, 1.1641532182693481e-10, 1.1641532182693481e-10, 1.1641532182693481e-10, 1.1641532182693481e-10, 1.1641532182693481e-10, 1.1641532182693481e-10, 1.1641532182693481e-10, 1.1641532182693481e-10, 1.1641532182693481e-10, 1.1641532182693481e-10, 1.1641532182693481e-10, 1.1641532182693481e-10, 1.1641532182693481e-10, 1.1641532182693481e-10, 1.1641532182693481e-10, 1.1641532182693481e-10, 1.1641532182693481e-10, 1.1641532182693481e-10, 1.1641532182693481e-10, 1.1641532182693481e-10, 1.1641532182693481e-10, 1.1641532182693481e-10, 1.1641532182693481e-10, 1.1641532182693481e-10, 1.1641532182693481e-10, 1.1641532182693481e-10, 1.1641532182693481e-10, 1.1641532182693481e-10, 1.1641532182693481e-10, 1.1641532182693481e-10, 1.1641532182693481e-10, 1.1641532182693481e-10, 1.1641532182693481e-10, 1.1641532182693481e-10, 1.1641532182693481e-10, 1.1641532182693481e-10, 1.1641532182693481e-10, 1.1641532182693481e-10, 1.1641532182693481e-10, 1.1641532182693481e-10, 1.1641532182693481e-10, 1.1641532182693481e-10, 1.1641532182693481e-10, 1.1641532182693481e-10, 1.1641532182693481e-10, 1.1641532182693481e-10, 1.1641532182693481e-10, 1.1641532182693481e-10, 1.1641532182693481e-10, 1.1641532182693481e-10, 1.1641532182693481e-10, 1.1641532182693481e-10, 1.1641532182693481e-10, 1.1641532182693481e-10, 1.1641532182693481e-10, 1.1641532182693481e-10, 1.1641532182693481e-10, 1.1641532182693481e-10, 1.1641532182693481e-10, 1.1641532182693481e-10, 1.1641532182693481e-10, 1.1641532182693481e-10, 1.1641532182693481e-10, 1.1641532182693481e-10, 1.1641532182693481e-10, 1.1641532182693481e-10, 1.1641532182693481e-10, 1.1641532182693481e-10, 1.1641532182693481e-10, 1.1641532182693481e-10, 1.1641532182693481e-10, 1.1641532182693481e-10, 1.1641532182693481e-10, 1.1641532182693481e-10, 1.1641532182693481e-10, 1.1641532182693481e-10, 1.1641532182693481e-10, 1.1641532182693481e-10, 1.1641532182693481e-10, 1.1641532182693481e-10, 1.1641532182693481e-10, 1.1641532182693481e-10, 1.1641532182693481e-10, 1.1641532182693481e-10, 1.1641532182693481e-10, 1.1641532182693481e-10, 1.1641532182693481e-10, 1.1641532182693481e-10, 1.1641532182693481e-10, 1.1641532182693481e-10, 1.1641532182693481e-10, 1.1641532182693481e-10, 1.1641532182693481e-10, 1.1641532182693481e-10, 1.1641532182693481e-10, 1.1641532182693481e-10, 1.1641532182693481e-10, 1.1641532182693481e-10, 1.1641532182693481e-10, 1.1641532182693481e-10, 1.1641532182693481e-10, 1.1641532182693481e-10, 1.1641532182693481e-10, 1.1641532182693481e-10, 1.1641532182693481e-10, 1.1641532182693481e-10, 1.1641532182693481e-10, 1.1641532182693481e-10, 1.1641532182693481e-10, 1.1641532182693481e-10, 1.1641532182693481e-10, 1.1641532182693481e-10, 1.1641532182693481e-10, 1.1641532182693481e-10, 1.1641532182693481e-10, 1.1641532182693481e-10, 1.1641532182693481e-10, 1.1641532182693481e-10, 1.1641532182693481e-10, 1.1641532182693481e-10, 1.1641532182693481e-10, 1.1641532182693481e-10, 1.1641532182693481e-10, 1.1641532182693481e-10, 1.1641532182693481e-10, 1.1641532182693481e-10, 1.1641532182693481e-10, 1.1641532182693481e-10, 1.1641532182693481e-10, 1.1641532182693481e-10, 1.1641532182693481e-10, 1.1641532182693481e-10, 1.1641532182693481e-10, 1.1641532182693481e-10, 1.1641532182693481e-10, 1.1641532182693481e-10, 1.1641532182693481e-10, 1.1641532182693481e-10, 1.1641532182693481e-10, 1.1641532182693481e-10, 1.1641532182693481e-10, 1.1641532182693481e-10, 1.1641532182693481e-10, 1.1641532182693481e-10, 1.1641532182693481e-10, 1.1641532182693481e-10, 1.1641532182693481e-10, 1.1641532182693481e-10, 1.1641532182693481e-10, 1.1641532182693481e-10, 1.1641532182693481e-10, 1.1641532182693481e-10, 1.1641532182693481e-10, 1.1641532182693481e-10, 1.1641532182693481e-10, 1.1641532182693481e-10, 1.1641532182693481e-10, 1.1641532182693481e-10, 1.1641532182693481e-10, 1.1641532182693481e-10, 1.1641532182693481e-10, 1.1641532182693481e-10, 1.1641532182693481e-10, 1.1641532182693481e-10, 1.1641532182693481e-10, 1.1641532182693481e-10, 1.1641532182693481e-10, 1.1641532182693481e-10, 1.1641532182693481e-10, 1.1641532182693481e-10, 1.1641532182693481e-10, 1.1641532182693481e-10, 1.1641532182693481e-10, 1.1641532182693481e-10, 1.1641532182693481e-10, 1.1641532182693481e-10, 1.1641532182693481e-10, 1.1641532182693481e-10, 1.1641532182693481e-10, 1.1641532182693481e-10, 1.1641532182693481e-10, 1.1641532182693481e-10, 1.1641532182693481e-10, 1.1641532182693481e-10, 1.1641532182693481e-10, 1.1641532182693481e-10, 1.1641532182693481e-10, 1.1641532182693481e-10, 1.1641532182693481e-10, 1.1641532182693481e-10, 1.1641532182693481e-10, 1.1641532182693481e-10, 1.1641532182693481e-10, 1.1641532182693481e-10, 1.1641532182693481e-10, 1.1641532182693481e-10, 1.1641532182693481e-10, 1.1641532182693481e-10, 1.1641532182693481e-10, 1.1641532182693481e-10, 1.1641532182693481e-10, 1.1641532182693481e-10, 1.1641532182693481e-10, 1.1641532182693481e-10, 1.1641532182693481e-10, 1.1641532182693481e-10, 1.1641532182693481e-10, 1.1641532182693481e-10, 1.1641532182693481e-10, 1.1641532182693481e-10, 1.1641532182693481e-10, 1.1641532182693481e-10, 1.1641532182693481e-10, 1.1641532182693481e-10, 1.1641532182693481e-10, 1.1641532182693481e-10, 1.1641532182693481e-10, 1.1641532182693481e-10, 1.1641532182693481e-10, 1.1641532182693481e-10, 1.1641532182693481e-10, 1.1641532182693481e-10, 1.1641532182693481e-10, 1.1641532182693481e-10, 1.1641532182693481e-10, 1.1641532182693481e-10, 1.1641532182693481e-10, 1.1641532182693481e-10, 1.1641532182693481e-10, 1.1641532182693481e-10, 1.1641532182693481e-10, 1.1641532182693481e-10, 1.1641532182693481e-10, 1.1641532182693481e-10, 1.1641532182693481e-10, 1.1641532182693481e-10, 1.1641532182693481e-10, 1.1641532182693481e-10, 1.1641532182693481e-10, 1.1641532182693481e-10, 1.1641532182693481e-10, 1.1641532182693481e-10, 1.1641532182693481e-10, 1.1641532182693481e-10, 1.1641532182693481e-10, 1.1641532182693481e-10, 1.1641532182693481e-10, 1.1641532182693481e-10, 1.1641532182693481e-10, 1.1641532182693481e-10, 1.1641532182693481e-10, 1.1641532182693481e-10, 1.1641532182693481e-10, 1.1641532182693481e-10, 1.1641532182693481e-10, 1.1641532182693481e-10, 1.1641532182693481e-10], \"yaxis\": \"y2\"}],\n",
       "                        {\"annotations\": [{\"font\": {}, \"showarrow\": false, \"text\": \"Estado=I\", \"x\": 0.24, \"xanchor\": \"center\", \"xref\": \"paper\", \"y\": 1.0, \"yanchor\": \"bottom\", \"yref\": \"paper\"}, {\"font\": {}, \"showarrow\": false, \"text\": \"Estado=S\", \"x\": 0.74, \"xanchor\": \"center\", \"xref\": \"paper\", \"y\": 1.0, \"yanchor\": \"bottom\", \"yref\": \"paper\"}], \"height\": 400, \"legend\": {\"tracegroupgap\": 0}, \"margin\": {\"t\": 60}, \"template\": {\"data\": {\"bar\": [{\"error_x\": {\"color\": \"#2a3f5f\"}, \"error_y\": {\"color\": \"#2a3f5f\"}, \"marker\": {\"line\": {\"color\": \"#E5ECF6\", \"width\": 0.5}}, \"type\": \"bar\"}], \"barpolar\": [{\"marker\": {\"line\": {\"color\": \"#E5ECF6\", \"width\": 0.5}}, \"type\": \"barpolar\"}], \"carpet\": [{\"aaxis\": {\"endlinecolor\": \"#2a3f5f\", \"gridcolor\": \"white\", \"linecolor\": \"white\", \"minorgridcolor\": \"white\", \"startlinecolor\": \"#2a3f5f\"}, \"baxis\": {\"endlinecolor\": \"#2a3f5f\", \"gridcolor\": \"white\", \"linecolor\": \"white\", \"minorgridcolor\": \"white\", \"startlinecolor\": \"#2a3f5f\"}, \"type\": \"carpet\"}], \"choropleth\": [{\"colorbar\": {\"outlinewidth\": 0, \"ticks\": \"\"}, \"type\": \"choropleth\"}], \"contour\": [{\"colorbar\": {\"outlinewidth\": 0, \"ticks\": \"\"}, \"colorscale\": [[0.0, \"#0d0887\"], [0.1111111111111111, \"#46039f\"], [0.2222222222222222, \"#7201a8\"], [0.3333333333333333, \"#9c179e\"], [0.4444444444444444, \"#bd3786\"], [0.5555555555555556, \"#d8576b\"], [0.6666666666666666, \"#ed7953\"], [0.7777777777777778, \"#fb9f3a\"], [0.8888888888888888, \"#fdca26\"], [1.0, \"#f0f921\"]], \"type\": \"contour\"}], \"contourcarpet\": [{\"colorbar\": {\"outlinewidth\": 0, \"ticks\": \"\"}, \"type\": \"contourcarpet\"}], \"heatmap\": [{\"colorbar\": {\"outlinewidth\": 0, \"ticks\": \"\"}, \"colorscale\": [[0.0, \"#0d0887\"], [0.1111111111111111, \"#46039f\"], [0.2222222222222222, \"#7201a8\"], [0.3333333333333333, \"#9c179e\"], [0.4444444444444444, \"#bd3786\"], [0.5555555555555556, \"#d8576b\"], [0.6666666666666666, \"#ed7953\"], [0.7777777777777778, \"#fb9f3a\"], [0.8888888888888888, \"#fdca26\"], [1.0, \"#f0f921\"]], \"type\": \"heatmap\"}], \"heatmapgl\": [{\"colorbar\": {\"outlinewidth\": 0, \"ticks\": \"\"}, \"colorscale\": [[0.0, \"#0d0887\"], [0.1111111111111111, \"#46039f\"], [0.2222222222222222, \"#7201a8\"], [0.3333333333333333, \"#9c179e\"], [0.4444444444444444, \"#bd3786\"], [0.5555555555555556, \"#d8576b\"], [0.6666666666666666, \"#ed7953\"], [0.7777777777777778, \"#fb9f3a\"], [0.8888888888888888, \"#fdca26\"], [1.0, \"#f0f921\"]], \"type\": \"heatmapgl\"}], \"histogram\": [{\"marker\": {\"colorbar\": {\"outlinewidth\": 0, \"ticks\": \"\"}}, \"type\": \"histogram\"}], \"histogram2d\": [{\"colorbar\": {\"outlinewidth\": 0, \"ticks\": \"\"}, \"colorscale\": [[0.0, \"#0d0887\"], [0.1111111111111111, \"#46039f\"], [0.2222222222222222, \"#7201a8\"], [0.3333333333333333, \"#9c179e\"], [0.4444444444444444, \"#bd3786\"], [0.5555555555555556, \"#d8576b\"], [0.6666666666666666, \"#ed7953\"], [0.7777777777777778, \"#fb9f3a\"], [0.8888888888888888, \"#fdca26\"], [1.0, \"#f0f921\"]], \"type\": \"histogram2d\"}], \"histogram2dcontour\": [{\"colorbar\": {\"outlinewidth\": 0, \"ticks\": \"\"}, \"colorscale\": [[0.0, \"#0d0887\"], [0.1111111111111111, \"#46039f\"], [0.2222222222222222, \"#7201a8\"], [0.3333333333333333, \"#9c179e\"], [0.4444444444444444, \"#bd3786\"], [0.5555555555555556, \"#d8576b\"], [0.6666666666666666, \"#ed7953\"], [0.7777777777777778, \"#fb9f3a\"], [0.8888888888888888, \"#fdca26\"], [1.0, \"#f0f921\"]], \"type\": \"histogram2dcontour\"}], \"mesh3d\": [{\"colorbar\": {\"outlinewidth\": 0, \"ticks\": \"\"}, \"type\": \"mesh3d\"}], \"parcoords\": [{\"line\": {\"colorbar\": {\"outlinewidth\": 0, \"ticks\": \"\"}}, \"type\": \"parcoords\"}], \"scatter\": [{\"marker\": {\"colorbar\": {\"outlinewidth\": 0, \"ticks\": \"\"}}, \"type\": \"scatter\"}], \"scatter3d\": [{\"line\": {\"colorbar\": {\"outlinewidth\": 0, \"ticks\": \"\"}}, \"marker\": {\"colorbar\": {\"outlinewidth\": 0, \"ticks\": \"\"}}, \"type\": \"scatter3d\"}], \"scattercarpet\": [{\"marker\": {\"colorbar\": {\"outlinewidth\": 0, \"ticks\": \"\"}}, \"type\": \"scattercarpet\"}], \"scattergeo\": [{\"marker\": {\"colorbar\": {\"outlinewidth\": 0, \"ticks\": \"\"}}, \"type\": \"scattergeo\"}], \"scattergl\": [{\"marker\": {\"colorbar\": {\"outlinewidth\": 0, \"ticks\": \"\"}}, \"type\": \"scattergl\"}], \"scattermapbox\": [{\"marker\": {\"colorbar\": {\"outlinewidth\": 0, \"ticks\": \"\"}}, \"type\": \"scattermapbox\"}], \"scatterpolar\": [{\"marker\": {\"colorbar\": {\"outlinewidth\": 0, \"ticks\": \"\"}}, \"type\": \"scatterpolar\"}], \"scatterpolargl\": [{\"marker\": {\"colorbar\": {\"outlinewidth\": 0, \"ticks\": \"\"}}, \"type\": \"scatterpolargl\"}], \"scatterternary\": [{\"marker\": {\"colorbar\": {\"outlinewidth\": 0, \"ticks\": \"\"}}, \"type\": \"scatterternary\"}], \"surface\": [{\"colorbar\": {\"outlinewidth\": 0, \"ticks\": \"\"}, \"colorscale\": [[0.0, \"#0d0887\"], [0.1111111111111111, \"#46039f\"], [0.2222222222222222, \"#7201a8\"], [0.3333333333333333, \"#9c179e\"], [0.4444444444444444, \"#bd3786\"], [0.5555555555555556, \"#d8576b\"], [0.6666666666666666, \"#ed7953\"], [0.7777777777777778, \"#fb9f3a\"], [0.8888888888888888, \"#fdca26\"], [1.0, \"#f0f921\"]], \"type\": \"surface\"}], \"table\": [{\"cells\": {\"fill\": {\"color\": \"#EBF0F8\"}, \"line\": {\"color\": \"white\"}}, \"header\": {\"fill\": {\"color\": \"#C8D4E3\"}, \"line\": {\"color\": \"white\"}}, \"type\": \"table\"}]}, \"layout\": {\"annotationdefaults\": {\"arrowcolor\": \"#2a3f5f\", \"arrowhead\": 0, \"arrowwidth\": 1}, \"colorscale\": {\"diverging\": [[0, \"#8e0152\"], [0.1, \"#c51b7d\"], [0.2, \"#de77ae\"], [0.3, \"#f1b6da\"], [0.4, \"#fde0ef\"], [0.5, \"#f7f7f7\"], [0.6, \"#e6f5d0\"], [0.7, \"#b8e186\"], [0.8, \"#7fbc41\"], [0.9, \"#4d9221\"], [1, \"#276419\"]], \"sequential\": [[0.0, \"#0d0887\"], [0.1111111111111111, \"#46039f\"], [0.2222222222222222, \"#7201a8\"], [0.3333333333333333, \"#9c179e\"], [0.4444444444444444, \"#bd3786\"], [0.5555555555555556, \"#d8576b\"], [0.6666666666666666, \"#ed7953\"], [0.7777777777777778, \"#fb9f3a\"], [0.8888888888888888, \"#fdca26\"], [1.0, \"#f0f921\"]], \"sequentialminus\": [[0.0, \"#0d0887\"], [0.1111111111111111, \"#46039f\"], [0.2222222222222222, \"#7201a8\"], [0.3333333333333333, \"#9c179e\"], [0.4444444444444444, \"#bd3786\"], [0.5555555555555556, \"#d8576b\"], [0.6666666666666666, \"#ed7953\"], [0.7777777777777778, \"#fb9f3a\"], [0.8888888888888888, \"#fdca26\"], [1.0, \"#f0f921\"]]}, \"colorway\": [\"#636efa\", \"#EF553B\", \"#00cc96\", \"#ab63fa\", \"#FFA15A\", \"#19d3f3\", \"#FF6692\", \"#B6E880\", \"#FF97FF\", \"#FECB52\"], \"font\": {\"color\": \"#2a3f5f\"}, \"geo\": {\"bgcolor\": \"white\", \"lakecolor\": \"white\", \"landcolor\": \"#E5ECF6\", \"showlakes\": true, \"showland\": true, \"subunitcolor\": \"white\"}, \"hoverlabel\": {\"align\": \"left\"}, \"hovermode\": \"closest\", \"mapbox\": {\"style\": \"light\"}, \"paper_bgcolor\": \"white\", \"plot_bgcolor\": \"#E5ECF6\", \"polar\": {\"angularaxis\": {\"gridcolor\": \"white\", \"linecolor\": \"white\", \"ticks\": \"\"}, \"bgcolor\": \"#E5ECF6\", \"radialaxis\": {\"gridcolor\": \"white\", \"linecolor\": \"white\", \"ticks\": \"\"}}, \"scene\": {\"xaxis\": {\"backgroundcolor\": \"#E5ECF6\", \"gridcolor\": \"white\", \"gridwidth\": 2, \"linecolor\": \"white\", \"showbackground\": true, \"ticks\": \"\", \"zerolinecolor\": \"white\"}, \"yaxis\": {\"backgroundcolor\": \"#E5ECF6\", \"gridcolor\": \"white\", \"gridwidth\": 2, \"linecolor\": \"white\", \"showbackground\": true, \"ticks\": \"\", \"zerolinecolor\": \"white\"}, \"zaxis\": {\"backgroundcolor\": \"#E5ECF6\", \"gridcolor\": \"white\", \"gridwidth\": 2, \"linecolor\": \"white\", \"showbackground\": true, \"ticks\": \"\", \"zerolinecolor\": \"white\"}}, \"shapedefaults\": {\"line\": {\"color\": \"#2a3f5f\"}}, \"ternary\": {\"aaxis\": {\"gridcolor\": \"white\", \"linecolor\": \"white\", \"ticks\": \"\"}, \"baxis\": {\"gridcolor\": \"white\", \"linecolor\": \"white\", \"ticks\": \"\"}, \"bgcolor\": \"#E5ECF6\", \"caxis\": {\"gridcolor\": \"white\", \"linecolor\": \"white\", \"ticks\": \"\"}}, \"title\": {\"x\": 0.05}, \"xaxis\": {\"automargin\": true, \"gridcolor\": \"white\", \"linecolor\": \"white\", \"ticks\": \"\", \"zerolinecolor\": \"white\", \"zerolinewidth\": 2}, \"yaxis\": {\"automargin\": true, \"gridcolor\": \"white\", \"linecolor\": \"white\", \"ticks\": \"\", \"zerolinecolor\": \"white\", \"zerolinewidth\": 2}}}, \"width\": 600, \"xaxis\": {\"anchor\": \"y\", \"domain\": [0.0, 0.48], \"title\": {\"text\": \"t\"}}, \"xaxis2\": {\"anchor\": \"y2\", \"domain\": [0.5, 0.98], \"matches\": \"x\", \"title\": {\"text\": \"t\"}}, \"yaxis\": {\"anchor\": \"x\", \"domain\": [0.0, 1.0], \"title\": {\"text\": \"value\"}}, \"yaxis2\": {\"anchor\": \"x2\", \"domain\": [0.0, 1.0], \"matches\": \"y\", \"showticklabels\": false}},\n",
       "                        {\"responsive\": true}\n",
       "                    ).then(function(){\n",
       "                            \n",
       "var gd = document.getElementById('03db680c-5fd2-4d3e-a35e-2e8215d9da8f');\n",
       "var x = new MutationObserver(function (mutations, observer) {{\n",
       "        var display = window.getComputedStyle(gd).display;\n",
       "        if (!display || display === 'none') {{\n",
       "            console.log([gd, 'removed!']);\n",
       "            Plotly.purge(gd);\n",
       "            observer.disconnect();\n",
       "        }}\n",
       "}});\n",
       "\n",
       "// Listen for the removal of the full notebook cells\n",
       "var notebookContainer = gd.closest('#notebook-container');\n",
       "if (notebookContainer) {{\n",
       "    x.observe(notebookContainer, {childList: true});\n",
       "}}\n",
       "\n",
       "// Listen for the clearing of the current output cell\n",
       "var outputEl = gd.closest('.output');\n",
       "if (outputEl) {{\n",
       "    x.observe(outputEl, {childList: true});\n",
       "}}\n",
       "\n",
       "                        })\n",
       "                };\n",
       "                });\n",
       "            </script>\n",
       "        </div>"
      ]
     },
     "metadata": {},
     "output_type": "display_data"
    }
   ],
   "source": [
    "px.line(df,x='t',y='value',color='p',facet_col='Estado', height=400,width=600)"
   ]
  },
  {
   "cell_type": "markdown",
   "metadata": {},
   "source": [
    "Otra suposicion es que **todos se terminan informando**. Tiene una forma de S. En el modelo de broadcasting, estimar la poblacion era facil porque se correlaciona muy bien con los informados iniciales. En este no. Puede empezar tranquilo en los dos y uno llegar a una poblacion muy grande y otra que empezo mejor llegar a una mas chica nada mas. Es dificil darse cuenta de entrada cual es la poblacion final al que se va a llegar."
   ]
  },
  {
   "cell_type": "markdown",
   "metadata": {},
   "source": [
    "#### Si le sacamos $P$, nos queda asi, es mas abrupto. $P$ le agrega un factor mas para que se relentice la expansion (que no sea tan abrupta"
   ]
  },
  {
   "cell_type": "code",
   "execution_count": 171,
   "metadata": {},
   "outputs": [
    {
     "data": {
      "text/html": [
       "<div>\n",
       "<style scoped>\n",
       "    .dataframe tbody tr th:only-of-type {\n",
       "        vertical-align: middle;\n",
       "    }\n",
       "\n",
       "    .dataframe tbody tr th {\n",
       "        vertical-align: top;\n",
       "    }\n",
       "\n",
       "    .dataframe thead th {\n",
       "        text-align: right;\n",
       "    }\n",
       "</style>\n",
       "<table border=\"1\" class=\"dataframe\">\n",
       "  <thead>\n",
       "    <tr style=\"text-align: right;\">\n",
       "      <th></th>\n",
       "      <th>t</th>\n",
       "      <th>I</th>\n",
       "      <th>S</th>\n",
       "      <th>p</th>\n",
       "    </tr>\n",
       "  </thead>\n",
       "  <tbody>\n",
       "    <tr>\n",
       "      <th>0</th>\n",
       "      <td>1.0</td>\n",
       "      <td>1.000000</td>\n",
       "      <td>1000000.000000</td>\n",
       "      <td>sin p</td>\n",
       "    </tr>\n",
       "    <tr>\n",
       "      <th>1</th>\n",
       "      <td>2.0</td>\n",
       "      <td>1.000000</td>\n",
       "      <td>1000000.000000</td>\n",
       "      <td>sin p</td>\n",
       "    </tr>\n",
       "    <tr>\n",
       "      <th>2</th>\n",
       "      <td>3.0</td>\n",
       "      <td>2.000000</td>\n",
       "      <td>999998.000000</td>\n",
       "      <td>sin p</td>\n",
       "    </tr>\n",
       "    <tr>\n",
       "      <th>3</th>\n",
       "      <td>4.0</td>\n",
       "      <td>3.999996</td>\n",
       "      <td>999996.000004</td>\n",
       "      <td>sin p</td>\n",
       "    </tr>\n",
       "    <tr>\n",
       "      <th>4</th>\n",
       "      <td>5.0</td>\n",
       "      <td>7.999976</td>\n",
       "      <td>999992.000024</td>\n",
       "      <td>sin p</td>\n",
       "    </tr>\n",
       "  </tbody>\n",
       "</table>\n",
       "</div>"
      ],
      "text/plain": [
       "     t         I               S      p\n",
       "0  1.0  1.000000  1000000.000000  sin p\n",
       "1  2.0  1.000000  1000000.000000  sin p\n",
       "2  3.0  2.000000   999998.000000  sin p\n",
       "3  4.0  3.999996   999996.000004  sin p\n",
       "4  5.0  7.999976   999992.000024  sin p"
      ]
     },
     "execution_count": 171,
     "metadata": {},
     "output_type": "execute_result"
    }
   ],
   "source": [
    "t= np.arange(1,150,1)\n",
    "N= 1000000\n",
    "\n",
    "p= 0.05\n",
    "df= pd.DataFrame({'t':t})\n",
    "df['I']= 1\n",
    "df['S']= N\n",
    "df['p']='sin p'\n",
    "for i in t:\n",
    "    df.loc[i+1,'I']= df.loc[i,'I'] +  df.loc[i,'S']  * df.loc[i,'I']/N\n",
    "    df.loc[i+1,'S']= N-df.loc[i+1,'I']\n",
    "\n",
    "\n",
    "p= 0.15\n",
    "df2= pd.DataFrame({'t':t})\n",
    "df2['I']= 1\n",
    "df2['S']= N\n",
    "df2['p']='0,15'\n",
    "for i in t:\n",
    "    df2.loc[i+1,'I']= df2.loc[i,'I'] + p * df2.loc[i,'S']  * df2.loc[i,'I']/N\n",
    "    df2.loc[i+1,'S']= N-df2.loc[i+1,'I']\n",
    "    \n",
    "df= pd.concat([df,df2])\n",
    "df= df.dropna().reset_index(drop=True)\n",
    "df.head()"
   ]
  },
  {
   "cell_type": "code",
   "execution_count": 172,
   "metadata": {},
   "outputs": [
    {
     "data": {
      "application/vnd.plotly.v1+json": {
       "config": {
        "plotlyServerURL": "https://plot.ly"
       },
       "data": [
        {
         "hoverlabel": {
          "namelength": 0
         },
         "hovertemplate": "p=sin p<br>t=%{x}<br>I=%{y}",
         "legendgroup": "p=sin p",
         "line": {
          "color": "#636efa",
          "dash": "solid"
         },
         "mode": "lines",
         "name": "p=sin p",
         "showlegend": true,
         "type": "scatter",
         "x": [
          1,
          2,
          3,
          4,
          5,
          6,
          7,
          8,
          9,
          10,
          11,
          12,
          13,
          14,
          15,
          16,
          17,
          18,
          19,
          20,
          21,
          22,
          23,
          24,
          25,
          26,
          27,
          28,
          29,
          30,
          31,
          32,
          33,
          34,
          35,
          36,
          37,
          38,
          39,
          40,
          41,
          42,
          43,
          44,
          45,
          46,
          47,
          48,
          49,
          50,
          51,
          52,
          53,
          54,
          55,
          56,
          57,
          58,
          59,
          60,
          61,
          62,
          63,
          64,
          65,
          66,
          67,
          68,
          69,
          70,
          71,
          72,
          73,
          74,
          75,
          76,
          77,
          78,
          79,
          80,
          81,
          82,
          83,
          84,
          85,
          86,
          87,
          88,
          89,
          90,
          91,
          92,
          93,
          94,
          95,
          96,
          97,
          98,
          99,
          100,
          101,
          102,
          103,
          104,
          105,
          106,
          107,
          108,
          109,
          110,
          111,
          112,
          113,
          114,
          115,
          116,
          117,
          118,
          119,
          120,
          121,
          122,
          123,
          124,
          125,
          126,
          127,
          128,
          129,
          130,
          131,
          132,
          133,
          134,
          135,
          136,
          137,
          138,
          139,
          140,
          141,
          142,
          143,
          144,
          145,
          146,
          147,
          148,
          149
         ],
         "xaxis": "x",
         "y": [
          1,
          1,
          2,
          3.9999960000000003,
          7.999976000032,
          15.999888000448,
          31.999520004479972,
          63.99801603967943,
          127.99193633330184,
          255.96749073083734,
          511.86946210536365,
          1023.4769138644913,
          2045.906322735769,
          4087.626912790128,
          8158.54513180209,
          16250.528404936527,
          32236.977136433405,
          63434.73157797188,
          122845.49798557442,
          230599.97959582508,
          408023.60860205523,
          649563.9520274673,
          877194.5762813927,
          984918.8279052933,
          999772.5582482498,
          999999.9482702495,
          999999.9999999973,
          1000000,
          1000000,
          1000000,
          1000000,
          1000000,
          1000000,
          1000000,
          1000000,
          1000000,
          1000000,
          1000000,
          1000000,
          1000000,
          1000000,
          1000000,
          1000000,
          1000000,
          1000000,
          1000000,
          1000000,
          1000000,
          1000000,
          1000000,
          1000000,
          1000000,
          1000000,
          1000000,
          1000000,
          1000000,
          1000000,
          1000000,
          1000000,
          1000000,
          1000000,
          1000000,
          1000000,
          1000000,
          1000000,
          1000000,
          1000000,
          1000000,
          1000000,
          1000000,
          1000000,
          1000000,
          1000000,
          1000000,
          1000000,
          1000000,
          1000000,
          1000000,
          1000000,
          1000000,
          1000000,
          1000000,
          1000000,
          1000000,
          1000000,
          1000000,
          1000000,
          1000000,
          1000000,
          1000000,
          1000000,
          1000000,
          1000000,
          1000000,
          1000000,
          1000000,
          1000000,
          1000000,
          1000000,
          1000000,
          1000000,
          1000000,
          1000000,
          1000000,
          1000000,
          1000000,
          1000000,
          1000000,
          1000000,
          1000000,
          1000000,
          1000000,
          1000000,
          1000000,
          1000000,
          1000000,
          1000000,
          1000000,
          1000000,
          1000000,
          1000000,
          1000000,
          1000000,
          1000000,
          1000000,
          1000000,
          1000000,
          1000000,
          1000000,
          1000000,
          1000000,
          1000000,
          1000000,
          1000000,
          1000000,
          1000000,
          1000000,
          1000000,
          1000000,
          1000000,
          1000000,
          1000000,
          1000000,
          1000000,
          1000000,
          1000000,
          1000000,
          1000000,
          1000000
         ],
         "yaxis": "y"
        },
        {
         "hoverlabel": {
          "namelength": 0
         },
         "hovertemplate": "p=0,15<br>t=%{x}<br>I=%{y}",
         "legendgroup": "p=0,15",
         "line": {
          "color": "#EF553B",
          "dash": "solid"
         },
         "mode": "lines",
         "name": "p=0,15",
         "showlegend": true,
         "type": "scatter",
         "x": [
          1,
          2,
          3,
          4,
          5,
          6,
          7,
          8,
          9,
          10,
          11,
          12,
          13,
          14,
          15,
          16,
          17,
          18,
          19,
          20,
          21,
          22,
          23,
          24,
          25,
          26,
          27,
          28,
          29,
          30,
          31,
          32,
          33,
          34,
          35,
          36,
          37,
          38,
          39,
          40,
          41,
          42,
          43,
          44,
          45,
          46,
          47,
          48,
          49,
          50,
          51,
          52,
          53,
          54,
          55,
          56,
          57,
          58,
          59,
          60,
          61,
          62,
          63,
          64,
          65,
          66,
          67,
          68,
          69,
          70,
          71,
          72,
          73,
          74,
          75,
          76,
          77,
          78,
          79,
          80,
          81,
          82,
          83,
          84,
          85,
          86,
          87,
          88,
          89,
          90,
          91,
          92,
          93,
          94,
          95,
          96,
          97,
          98,
          99,
          100,
          101,
          102,
          103,
          104,
          105,
          106,
          107,
          108,
          109,
          110,
          111,
          112,
          113,
          114,
          115,
          116,
          117,
          118,
          119,
          120,
          121,
          122,
          123,
          124,
          125,
          126,
          127,
          128,
          129,
          130,
          131,
          132,
          133,
          134,
          135,
          136,
          137,
          138,
          139,
          140,
          141,
          142,
          143,
          144,
          145,
          146,
          147,
          148,
          149
         ],
         "xaxis": "x",
         "y": [
          1,
          1,
          1.15,
          1.3224998016249998,
          1.520874509517891,
          1.7490053389866835,
          2.0113556809817346,
          2.3130584262962435,
          2.6600163877047875,
          3.0590177845074282,
          3.5178690485450717,
          4.045547549516436,
          4.652377226975655,
          5.350230564329924,
          6.152760855234349,
          7.07566930504958,
          8.137012191042599,
          9.35755408805388,
          10.761174066689184,
          12.375332806262469,
          14.23160975487253,
          16.366320837295977,
          18.82122878442171,
          21.644359966287023,
          24.890943689482324,
          28.62449230904301,
          32.91804325116547,
          37.85558719920457,
          43.53371032226293,
          50.0634825930122,
          57.572629029120634,
          66.20802619234672,
          76.13857259578889,
          87.55848892282168,
          100.69111228789757,
          115.79325832606813,
          133.1602358631773,
          153.1316114953916,
          176.09783582613449,
          202.50785963288726,
          232.8778871628384,
          267.8014354207147,
          307.9608930924999,
          354.1408010696237,
          407.2431088740199,
          468.30469816266407,
          538.5175064935155,
          619.2516323018228,
          712.08185625948,
          818.8180756128999,
          941.5402174986923,
          1082.6382754263211,
          1244.8582008949566,
          1431.3544802381498,
          1645.7503359266575,
          1892.2066121904256,
          2175.500537139507,
          2501.1156973223688,
          2875.344714961015,
          3305.406281120689,
          3799.5783666863017,
          4367.349602324558,
          5019.590981290903,
          5768.75018444162,
          6629.070940304289,
          7616.839894120195,
          8750.663440742324,
          10051.776840255701,
          11544.387633647111,
          13256.054845818791,
          15218.104624180307,
          17466.081711554478,
          20040.234366734447,
          22986.027872723567,
          26354.678432027256,
          30203.69483554301,
          34597.40958361667,
          39607.473908674685,
          45313.28219656194,
          51802.28049453244,
          59170.10112904717,
          67520.451168261,
          76964.66714460532,
          87620.83321799414,
          99612.34663862092,
          113065.80569398614,
          128108.09508549953,
          144862.55674435914,
          163444.1662040361,
          183953.69181472162,
          206470.90147709002,
          231047.00172513918,
          257696.6444329836,
          286390.0070151282,
          317045.62264967867,
          349524.7770209321,
          383628.35811134207,
          419097.0042559628,
          455615.2100479088,
          492819.70861104515,
          530311.9751233805,
          567674.1527479985,
          604487.1841054745,
          640349.5483591307,
          674894.8490004389,
          707806.617769406,
          738829.079211092,
          767773.1798495692,
          794517.8084725568,
          819006.6975464352,
          841241.9065845128,
          861275.0007630978,
          879197.0568366414,
          895128.4956496058,
          909209.5164384576,
          921591.6521868882,
          932430.7240078376,
          941881.2743479462,
          950092.4152550414,
          957204.937914524,
          963349.4846265104,
          968645.5728909625,
          973201.2719424177,
          977113.3553772294,
          980467.7822953316,
          983340.3888217625,
          985797.6991018066,
          987897.7884339152,
          989691.1506401094,
          991221.5371878243,
          992526.7473982489,
          993639.3578628441,
          994587.385518158,
          995394.8832311049,
          996082.4696813709,
          996667.7971725956,
          997165.9620603538,
          997589.8629856443,
          997950.5122237335,
          998257.3053301517,
          998518.2539829221,
          998740.1865497949,
          998928.9204978362,
          999089.4103414657,
          999225.874414217,
          999341.9033615211,
          999440.5528936151,
          999524.4230124131,
          999595.7256345304
         ],
         "yaxis": "y"
        }
       ],
       "layout": {
        "height": 400,
        "legend": {
         "tracegroupgap": 0
        },
        "margin": {
         "t": 60
        },
        "template": {
         "data": {
          "bar": [
           {
            "error_x": {
             "color": "#2a3f5f"
            },
            "error_y": {
             "color": "#2a3f5f"
            },
            "marker": {
             "line": {
              "color": "#E5ECF6",
              "width": 0.5
             }
            },
            "type": "bar"
           }
          ],
          "barpolar": [
           {
            "marker": {
             "line": {
              "color": "#E5ECF6",
              "width": 0.5
             }
            },
            "type": "barpolar"
           }
          ],
          "carpet": [
           {
            "aaxis": {
             "endlinecolor": "#2a3f5f",
             "gridcolor": "white",
             "linecolor": "white",
             "minorgridcolor": "white",
             "startlinecolor": "#2a3f5f"
            },
            "baxis": {
             "endlinecolor": "#2a3f5f",
             "gridcolor": "white",
             "linecolor": "white",
             "minorgridcolor": "white",
             "startlinecolor": "#2a3f5f"
            },
            "type": "carpet"
           }
          ],
          "choropleth": [
           {
            "colorbar": {
             "outlinewidth": 0,
             "ticks": ""
            },
            "type": "choropleth"
           }
          ],
          "contour": [
           {
            "colorbar": {
             "outlinewidth": 0,
             "ticks": ""
            },
            "colorscale": [
             [
              0,
              "#0d0887"
             ],
             [
              0.1111111111111111,
              "#46039f"
             ],
             [
              0.2222222222222222,
              "#7201a8"
             ],
             [
              0.3333333333333333,
              "#9c179e"
             ],
             [
              0.4444444444444444,
              "#bd3786"
             ],
             [
              0.5555555555555556,
              "#d8576b"
             ],
             [
              0.6666666666666666,
              "#ed7953"
             ],
             [
              0.7777777777777778,
              "#fb9f3a"
             ],
             [
              0.8888888888888888,
              "#fdca26"
             ],
             [
              1,
              "#f0f921"
             ]
            ],
            "type": "contour"
           }
          ],
          "contourcarpet": [
           {
            "colorbar": {
             "outlinewidth": 0,
             "ticks": ""
            },
            "type": "contourcarpet"
           }
          ],
          "heatmap": [
           {
            "colorbar": {
             "outlinewidth": 0,
             "ticks": ""
            },
            "colorscale": [
             [
              0,
              "#0d0887"
             ],
             [
              0.1111111111111111,
              "#46039f"
             ],
             [
              0.2222222222222222,
              "#7201a8"
             ],
             [
              0.3333333333333333,
              "#9c179e"
             ],
             [
              0.4444444444444444,
              "#bd3786"
             ],
             [
              0.5555555555555556,
              "#d8576b"
             ],
             [
              0.6666666666666666,
              "#ed7953"
             ],
             [
              0.7777777777777778,
              "#fb9f3a"
             ],
             [
              0.8888888888888888,
              "#fdca26"
             ],
             [
              1,
              "#f0f921"
             ]
            ],
            "type": "heatmap"
           }
          ],
          "heatmapgl": [
           {
            "colorbar": {
             "outlinewidth": 0,
             "ticks": ""
            },
            "colorscale": [
             [
              0,
              "#0d0887"
             ],
             [
              0.1111111111111111,
              "#46039f"
             ],
             [
              0.2222222222222222,
              "#7201a8"
             ],
             [
              0.3333333333333333,
              "#9c179e"
             ],
             [
              0.4444444444444444,
              "#bd3786"
             ],
             [
              0.5555555555555556,
              "#d8576b"
             ],
             [
              0.6666666666666666,
              "#ed7953"
             ],
             [
              0.7777777777777778,
              "#fb9f3a"
             ],
             [
              0.8888888888888888,
              "#fdca26"
             ],
             [
              1,
              "#f0f921"
             ]
            ],
            "type": "heatmapgl"
           }
          ],
          "histogram": [
           {
            "marker": {
             "colorbar": {
              "outlinewidth": 0,
              "ticks": ""
             }
            },
            "type": "histogram"
           }
          ],
          "histogram2d": [
           {
            "colorbar": {
             "outlinewidth": 0,
             "ticks": ""
            },
            "colorscale": [
             [
              0,
              "#0d0887"
             ],
             [
              0.1111111111111111,
              "#46039f"
             ],
             [
              0.2222222222222222,
              "#7201a8"
             ],
             [
              0.3333333333333333,
              "#9c179e"
             ],
             [
              0.4444444444444444,
              "#bd3786"
             ],
             [
              0.5555555555555556,
              "#d8576b"
             ],
             [
              0.6666666666666666,
              "#ed7953"
             ],
             [
              0.7777777777777778,
              "#fb9f3a"
             ],
             [
              0.8888888888888888,
              "#fdca26"
             ],
             [
              1,
              "#f0f921"
             ]
            ],
            "type": "histogram2d"
           }
          ],
          "histogram2dcontour": [
           {
            "colorbar": {
             "outlinewidth": 0,
             "ticks": ""
            },
            "colorscale": [
             [
              0,
              "#0d0887"
             ],
             [
              0.1111111111111111,
              "#46039f"
             ],
             [
              0.2222222222222222,
              "#7201a8"
             ],
             [
              0.3333333333333333,
              "#9c179e"
             ],
             [
              0.4444444444444444,
              "#bd3786"
             ],
             [
              0.5555555555555556,
              "#d8576b"
             ],
             [
              0.6666666666666666,
              "#ed7953"
             ],
             [
              0.7777777777777778,
              "#fb9f3a"
             ],
             [
              0.8888888888888888,
              "#fdca26"
             ],
             [
              1,
              "#f0f921"
             ]
            ],
            "type": "histogram2dcontour"
           }
          ],
          "mesh3d": [
           {
            "colorbar": {
             "outlinewidth": 0,
             "ticks": ""
            },
            "type": "mesh3d"
           }
          ],
          "parcoords": [
           {
            "line": {
             "colorbar": {
              "outlinewidth": 0,
              "ticks": ""
             }
            },
            "type": "parcoords"
           }
          ],
          "scatter": [
           {
            "marker": {
             "colorbar": {
              "outlinewidth": 0,
              "ticks": ""
             }
            },
            "type": "scatter"
           }
          ],
          "scatter3d": [
           {
            "line": {
             "colorbar": {
              "outlinewidth": 0,
              "ticks": ""
             }
            },
            "marker": {
             "colorbar": {
              "outlinewidth": 0,
              "ticks": ""
             }
            },
            "type": "scatter3d"
           }
          ],
          "scattercarpet": [
           {
            "marker": {
             "colorbar": {
              "outlinewidth": 0,
              "ticks": ""
             }
            },
            "type": "scattercarpet"
           }
          ],
          "scattergeo": [
           {
            "marker": {
             "colorbar": {
              "outlinewidth": 0,
              "ticks": ""
             }
            },
            "type": "scattergeo"
           }
          ],
          "scattergl": [
           {
            "marker": {
             "colorbar": {
              "outlinewidth": 0,
              "ticks": ""
             }
            },
            "type": "scattergl"
           }
          ],
          "scattermapbox": [
           {
            "marker": {
             "colorbar": {
              "outlinewidth": 0,
              "ticks": ""
             }
            },
            "type": "scattermapbox"
           }
          ],
          "scatterpolar": [
           {
            "marker": {
             "colorbar": {
              "outlinewidth": 0,
              "ticks": ""
             }
            },
            "type": "scatterpolar"
           }
          ],
          "scatterpolargl": [
           {
            "marker": {
             "colorbar": {
              "outlinewidth": 0,
              "ticks": ""
             }
            },
            "type": "scatterpolargl"
           }
          ],
          "scatterternary": [
           {
            "marker": {
             "colorbar": {
              "outlinewidth": 0,
              "ticks": ""
             }
            },
            "type": "scatterternary"
           }
          ],
          "surface": [
           {
            "colorbar": {
             "outlinewidth": 0,
             "ticks": ""
            },
            "colorscale": [
             [
              0,
              "#0d0887"
             ],
             [
              0.1111111111111111,
              "#46039f"
             ],
             [
              0.2222222222222222,
              "#7201a8"
             ],
             [
              0.3333333333333333,
              "#9c179e"
             ],
             [
              0.4444444444444444,
              "#bd3786"
             ],
             [
              0.5555555555555556,
              "#d8576b"
             ],
             [
              0.6666666666666666,
              "#ed7953"
             ],
             [
              0.7777777777777778,
              "#fb9f3a"
             ],
             [
              0.8888888888888888,
              "#fdca26"
             ],
             [
              1,
              "#f0f921"
             ]
            ],
            "type": "surface"
           }
          ],
          "table": [
           {
            "cells": {
             "fill": {
              "color": "#EBF0F8"
             },
             "line": {
              "color": "white"
             }
            },
            "header": {
             "fill": {
              "color": "#C8D4E3"
             },
             "line": {
              "color": "white"
             }
            },
            "type": "table"
           }
          ]
         },
         "layout": {
          "annotationdefaults": {
           "arrowcolor": "#2a3f5f",
           "arrowhead": 0,
           "arrowwidth": 1
          },
          "colorscale": {
           "diverging": [
            [
             0,
             "#8e0152"
            ],
            [
             0.1,
             "#c51b7d"
            ],
            [
             0.2,
             "#de77ae"
            ],
            [
             0.3,
             "#f1b6da"
            ],
            [
             0.4,
             "#fde0ef"
            ],
            [
             0.5,
             "#f7f7f7"
            ],
            [
             0.6,
             "#e6f5d0"
            ],
            [
             0.7,
             "#b8e186"
            ],
            [
             0.8,
             "#7fbc41"
            ],
            [
             0.9,
             "#4d9221"
            ],
            [
             1,
             "#276419"
            ]
           ],
           "sequential": [
            [
             0,
             "#0d0887"
            ],
            [
             0.1111111111111111,
             "#46039f"
            ],
            [
             0.2222222222222222,
             "#7201a8"
            ],
            [
             0.3333333333333333,
             "#9c179e"
            ],
            [
             0.4444444444444444,
             "#bd3786"
            ],
            [
             0.5555555555555556,
             "#d8576b"
            ],
            [
             0.6666666666666666,
             "#ed7953"
            ],
            [
             0.7777777777777778,
             "#fb9f3a"
            ],
            [
             0.8888888888888888,
             "#fdca26"
            ],
            [
             1,
             "#f0f921"
            ]
           ],
           "sequentialminus": [
            [
             0,
             "#0d0887"
            ],
            [
             0.1111111111111111,
             "#46039f"
            ],
            [
             0.2222222222222222,
             "#7201a8"
            ],
            [
             0.3333333333333333,
             "#9c179e"
            ],
            [
             0.4444444444444444,
             "#bd3786"
            ],
            [
             0.5555555555555556,
             "#d8576b"
            ],
            [
             0.6666666666666666,
             "#ed7953"
            ],
            [
             0.7777777777777778,
             "#fb9f3a"
            ],
            [
             0.8888888888888888,
             "#fdca26"
            ],
            [
             1,
             "#f0f921"
            ]
           ]
          },
          "colorway": [
           "#636efa",
           "#EF553B",
           "#00cc96",
           "#ab63fa",
           "#FFA15A",
           "#19d3f3",
           "#FF6692",
           "#B6E880",
           "#FF97FF",
           "#FECB52"
          ],
          "font": {
           "color": "#2a3f5f"
          },
          "geo": {
           "bgcolor": "white",
           "lakecolor": "white",
           "landcolor": "#E5ECF6",
           "showlakes": true,
           "showland": true,
           "subunitcolor": "white"
          },
          "hoverlabel": {
           "align": "left"
          },
          "hovermode": "closest",
          "mapbox": {
           "style": "light"
          },
          "paper_bgcolor": "white",
          "plot_bgcolor": "#E5ECF6",
          "polar": {
           "angularaxis": {
            "gridcolor": "white",
            "linecolor": "white",
            "ticks": ""
           },
           "bgcolor": "#E5ECF6",
           "radialaxis": {
            "gridcolor": "white",
            "linecolor": "white",
            "ticks": ""
           }
          },
          "scene": {
           "xaxis": {
            "backgroundcolor": "#E5ECF6",
            "gridcolor": "white",
            "gridwidth": 2,
            "linecolor": "white",
            "showbackground": true,
            "ticks": "",
            "zerolinecolor": "white"
           },
           "yaxis": {
            "backgroundcolor": "#E5ECF6",
            "gridcolor": "white",
            "gridwidth": 2,
            "linecolor": "white",
            "showbackground": true,
            "ticks": "",
            "zerolinecolor": "white"
           },
           "zaxis": {
            "backgroundcolor": "#E5ECF6",
            "gridcolor": "white",
            "gridwidth": 2,
            "linecolor": "white",
            "showbackground": true,
            "ticks": "",
            "zerolinecolor": "white"
           }
          },
          "shapedefaults": {
           "line": {
            "color": "#2a3f5f"
           }
          },
          "ternary": {
           "aaxis": {
            "gridcolor": "white",
            "linecolor": "white",
            "ticks": ""
           },
           "baxis": {
            "gridcolor": "white",
            "linecolor": "white",
            "ticks": ""
           },
           "bgcolor": "#E5ECF6",
           "caxis": {
            "gridcolor": "white",
            "linecolor": "white",
            "ticks": ""
           }
          },
          "title": {
           "x": 0.05
          },
          "xaxis": {
           "automargin": true,
           "gridcolor": "white",
           "linecolor": "white",
           "ticks": "",
           "zerolinecolor": "white",
           "zerolinewidth": 2
          },
          "yaxis": {
           "automargin": true,
           "gridcolor": "white",
           "linecolor": "white",
           "ticks": "",
           "zerolinecolor": "white",
           "zerolinewidth": 2
          }
         }
        },
        "width": 600,
        "xaxis": {
         "anchor": "y",
         "autorange": true,
         "domain": [
          0,
          0.98
         ],
         "range": [
          1,
          149
         ],
         "title": {
          "text": "t"
         },
         "type": "linear"
        },
        "yaxis": {
         "anchor": "x",
         "autorange": true,
         "domain": [
          0,
          1
         ],
         "range": [
          -55554.5,
          1055555.5
         ],
         "title": {
          "text": "I"
         },
         "type": "linear"
        }
       }
      },
      "image/png": "[encoded data removed]",
      "text/html": [
       "<div>\n",
       "        \n",
       "        \n",
       "            <div id=\"def4223f-941a-4a40-9b99-2480cdecc9e5\" class=\"plotly-graph-div\" style=\"height:400px; width:600px;\"></div>\n",
       "            <script type=\"text/javascript\">\n",
       "                require([\"plotly\"], function(Plotly) {\n",
       "                    window.PLOTLYENV=window.PLOTLYENV || {};\n",
       "                    \n",
       "                if (document.getElementById(\"def4223f-941a-4a40-9b99-2480cdecc9e5\")) {\n",
       "                    Plotly.newPlot(\n",
       "                        'def4223f-941a-4a40-9b99-2480cdecc9e5',\n",
       "                        [{\"hoverlabel\": {\"namelength\": 0}, \"hovertemplate\": \"p=sin p<br>t=%{x}<br>I=%{y}\", \"legendgroup\": \"p=sin p\", \"line\": {\"color\": \"#636efa\", \"dash\": \"solid\"}, \"mode\": \"lines\", \"name\": \"p=sin p\", \"showlegend\": true, \"type\": \"scatter\", \"x\": [1.0, 2.0, 3.0, 4.0, 5.0, 6.0, 7.0, 8.0, 9.0, 10.0, 11.0, 12.0, 13.0, 14.0, 15.0, 16.0, 17.0, 18.0, 19.0, 20.0, 21.0, 22.0, 23.0, 24.0, 25.0, 26.0, 27.0, 28.0, 29.0, 30.0, 31.0, 32.0, 33.0, 34.0, 35.0, 36.0, 37.0, 38.0, 39.0, 40.0, 41.0, 42.0, 43.0, 44.0, 45.0, 46.0, 47.0, 48.0, 49.0, 50.0, 51.0, 52.0, 53.0, 54.0, 55.0, 56.0, 57.0, 58.0, 59.0, 60.0, 61.0, 62.0, 63.0, 64.0, 65.0, 66.0, 67.0, 68.0, 69.0, 70.0, 71.0, 72.0, 73.0, 74.0, 75.0, 76.0, 77.0, 78.0, 79.0, 80.0, 81.0, 82.0, 83.0, 84.0, 85.0, 86.0, 87.0, 88.0, 89.0, 90.0, 91.0, 92.0, 93.0, 94.0, 95.0, 96.0, 97.0, 98.0, 99.0, 100.0, 101.0, 102.0, 103.0, 104.0, 105.0, 106.0, 107.0, 108.0, 109.0, 110.0, 111.0, 112.0, 113.0, 114.0, 115.0, 116.0, 117.0, 118.0, 119.0, 120.0, 121.0, 122.0, 123.0, 124.0, 125.0, 126.0, 127.0, 128.0, 129.0, 130.0, 131.0, 132.0, 133.0, 134.0, 135.0, 136.0, 137.0, 138.0, 139.0, 140.0, 141.0, 142.0, 143.0, 144.0, 145.0, 146.0, 147.0, 148.0, 149.0], \"xaxis\": \"x\", \"y\": [1.0, 1.0, 2.0, 3.9999960000000003, 7.999976000032, 15.999888000448, 31.999520004479972, 63.99801603967943, 127.99193633330184, 255.96749073083734, 511.86946210536365, 1023.4769138644913, 2045.906322735769, 4087.626912790128, 8158.54513180209, 16250.528404936527, 32236.977136433405, 63434.73157797188, 122845.49798557442, 230599.97959582508, 408023.60860205523, 649563.9520274673, 877194.5762813927, 984918.8279052933, 999772.5582482498, 999999.9482702495, 999999.9999999973, 1000000.0, 1000000.0, 1000000.0, 1000000.0, 1000000.0, 1000000.0, 1000000.0, 1000000.0, 1000000.0, 1000000.0, 1000000.0, 1000000.0, 1000000.0, 1000000.0, 1000000.0, 1000000.0, 1000000.0, 1000000.0, 1000000.0, 1000000.0, 1000000.0, 1000000.0, 1000000.0, 1000000.0, 1000000.0, 1000000.0, 1000000.0, 1000000.0, 1000000.0, 1000000.0, 1000000.0, 1000000.0, 1000000.0, 1000000.0, 1000000.0, 1000000.0, 1000000.0, 1000000.0, 1000000.0, 1000000.0, 1000000.0, 1000000.0, 1000000.0, 1000000.0, 1000000.0, 1000000.0, 1000000.0, 1000000.0, 1000000.0, 1000000.0, 1000000.0, 1000000.0, 1000000.0, 1000000.0, 1000000.0, 1000000.0, 1000000.0, 1000000.0, 1000000.0, 1000000.0, 1000000.0, 1000000.0, 1000000.0, 1000000.0, 1000000.0, 1000000.0, 1000000.0, 1000000.0, 1000000.0, 1000000.0, 1000000.0, 1000000.0, 1000000.0, 1000000.0, 1000000.0, 1000000.0, 1000000.0, 1000000.0, 1000000.0, 1000000.0, 1000000.0, 1000000.0, 1000000.0, 1000000.0, 1000000.0, 1000000.0, 1000000.0, 1000000.0, 1000000.0, 1000000.0, 1000000.0, 1000000.0, 1000000.0, 1000000.0, 1000000.0, 1000000.0, 1000000.0, 1000000.0, 1000000.0, 1000000.0, 1000000.0, 1000000.0, 1000000.0, 1000000.0, 1000000.0, 1000000.0, 1000000.0, 1000000.0, 1000000.0, 1000000.0, 1000000.0, 1000000.0, 1000000.0, 1000000.0, 1000000.0, 1000000.0, 1000000.0, 1000000.0, 1000000.0, 1000000.0, 1000000.0, 1000000.0], \"yaxis\": \"y\"}, {\"hoverlabel\": {\"namelength\": 0}, \"hovertemplate\": \"p=0,15<br>t=%{x}<br>I=%{y}\", \"legendgroup\": \"p=0,15\", \"line\": {\"color\": \"#EF553B\", \"dash\": \"solid\"}, \"mode\": \"lines\", \"name\": \"p=0,15\", \"showlegend\": true, \"type\": \"scatter\", \"x\": [1.0, 2.0, 3.0, 4.0, 5.0, 6.0, 7.0, 8.0, 9.0, 10.0, 11.0, 12.0, 13.0, 14.0, 15.0, 16.0, 17.0, 18.0, 19.0, 20.0, 21.0, 22.0, 23.0, 24.0, 25.0, 26.0, 27.0, 28.0, 29.0, 30.0, 31.0, 32.0, 33.0, 34.0, 35.0, 36.0, 37.0, 38.0, 39.0, 40.0, 41.0, 42.0, 43.0, 44.0, 45.0, 46.0, 47.0, 48.0, 49.0, 50.0, 51.0, 52.0, 53.0, 54.0, 55.0, 56.0, 57.0, 58.0, 59.0, 60.0, 61.0, 62.0, 63.0, 64.0, 65.0, 66.0, 67.0, 68.0, 69.0, 70.0, 71.0, 72.0, 73.0, 74.0, 75.0, 76.0, 77.0, 78.0, 79.0, 80.0, 81.0, 82.0, 83.0, 84.0, 85.0, 86.0, 87.0, 88.0, 89.0, 90.0, 91.0, 92.0, 93.0, 94.0, 95.0, 96.0, 97.0, 98.0, 99.0, 100.0, 101.0, 102.0, 103.0, 104.0, 105.0, 106.0, 107.0, 108.0, 109.0, 110.0, 111.0, 112.0, 113.0, 114.0, 115.0, 116.0, 117.0, 118.0, 119.0, 120.0, 121.0, 122.0, 123.0, 124.0, 125.0, 126.0, 127.0, 128.0, 129.0, 130.0, 131.0, 132.0, 133.0, 134.0, 135.0, 136.0, 137.0, 138.0, 139.0, 140.0, 141.0, 142.0, 143.0, 144.0, 145.0, 146.0, 147.0, 148.0, 149.0], \"xaxis\": \"x\", \"y\": [1.0, 1.0, 1.15, 1.3224998016249998, 1.520874509517891, 1.7490053389866835, 2.0113556809817346, 2.3130584262962435, 2.6600163877047875, 3.0590177845074282, 3.5178690485450717, 4.045547549516436, 4.652377226975655, 5.350230564329924, 6.152760855234349, 7.07566930504958, 8.137012191042599, 9.35755408805388, 10.761174066689184, 12.375332806262469, 14.23160975487253, 16.366320837295977, 18.82122878442171, 21.644359966287023, 24.890943689482324, 28.62449230904301, 32.91804325116547, 37.85558719920457, 43.53371032226293, 50.0634825930122, 57.572629029120634, 66.20802619234672, 76.13857259578889, 87.55848892282168, 100.69111228789757, 115.79325832606813, 133.1602358631773, 153.1316114953916, 176.09783582613449, 202.50785963288726, 232.8778871628384, 267.8014354207147, 307.9608930924999, 354.1408010696237, 407.2431088740199, 468.30469816266407, 538.5175064935155, 619.2516323018228, 712.08185625948, 818.8180756128999, 941.5402174986923, 1082.6382754263211, 1244.8582008949566, 1431.3544802381498, 1645.7503359266575, 1892.2066121904256, 2175.500537139507, 2501.1156973223688, 2875.344714961015, 3305.406281120689, 3799.5783666863017, 4367.349602324558, 5019.590981290903, 5768.75018444162, 6629.070940304289, 7616.839894120195, 8750.663440742324, 10051.776840255701, 11544.387633647111, 13256.054845818791, 15218.104624180307, 17466.081711554478, 20040.234366734447, 22986.027872723567, 26354.678432027256, 30203.69483554301, 34597.40958361667, 39607.473908674685, 45313.28219656194, 51802.28049453244, 59170.10112904717, 67520.451168261, 76964.66714460532, 87620.83321799414, 99612.34663862092, 113065.80569398614, 128108.09508549953, 144862.55674435914, 163444.1662040361, 183953.69181472162, 206470.90147709002, 231047.00172513918, 257696.6444329836, 286390.0070151282, 317045.62264967867, 349524.7770209321, 383628.35811134207, 419097.0042559628, 455615.2100479088, 492819.70861104515, 530311.9751233805, 567674.1527479985, 604487.1841054745, 640349.5483591307, 674894.8490004389, 707806.617769406, 738829.079211092, 767773.1798495692, 794517.8084725568, 819006.6975464352, 841241.9065845128, 861275.0007630978, 879197.0568366414, 895128.4956496058, 909209.5164384576, 921591.6521868882, 932430.7240078376, 941881.2743479462, 950092.4152550414, 957204.937914524, 963349.4846265104, 968645.5728909625, 973201.2719424177, 977113.3553772294, 980467.7822953316, 983340.3888217625, 985797.6991018066, 987897.7884339152, 989691.1506401094, 991221.5371878243, 992526.7473982489, 993639.3578628441, 994587.385518158, 995394.8832311049, 996082.4696813709, 996667.7971725956, 997165.9620603538, 997589.8629856443, 997950.5122237335, 998257.3053301517, 998518.2539829221, 998740.1865497949, 998928.9204978362, 999089.4103414657, 999225.874414217, 999341.9033615211, 999440.5528936151, 999524.4230124131, 999595.7256345304], \"yaxis\": \"y\"}],\n",
       "                        {\"height\": 400, \"legend\": {\"tracegroupgap\": 0}, \"margin\": {\"t\": 60}, \"template\": {\"data\": {\"bar\": [{\"error_x\": {\"color\": \"#2a3f5f\"}, \"error_y\": {\"color\": \"#2a3f5f\"}, \"marker\": {\"line\": {\"color\": \"#E5ECF6\", \"width\": 0.5}}, \"type\": \"bar\"}], \"barpolar\": [{\"marker\": {\"line\": {\"color\": \"#E5ECF6\", \"width\": 0.5}}, \"type\": \"barpolar\"}], \"carpet\": [{\"aaxis\": {\"endlinecolor\": \"#2a3f5f\", \"gridcolor\": \"white\", \"linecolor\": \"white\", \"minorgridcolor\": \"white\", \"startlinecolor\": \"#2a3f5f\"}, \"baxis\": {\"endlinecolor\": \"#2a3f5f\", \"gridcolor\": \"white\", \"linecolor\": \"white\", \"minorgridcolor\": \"white\", \"startlinecolor\": \"#2a3f5f\"}, \"type\": \"carpet\"}], \"choropleth\": [{\"colorbar\": {\"outlinewidth\": 0, \"ticks\": \"\"}, \"type\": \"choropleth\"}], \"contour\": [{\"colorbar\": {\"outlinewidth\": 0, \"ticks\": \"\"}, \"colorscale\": [[0.0, \"#0d0887\"], [0.1111111111111111, \"#46039f\"], [0.2222222222222222, \"#7201a8\"], [0.3333333333333333, \"#9c179e\"], [0.4444444444444444, \"#bd3786\"], [0.5555555555555556, \"#d8576b\"], [0.6666666666666666, \"#ed7953\"], [0.7777777777777778, \"#fb9f3a\"], [0.8888888888888888, \"#fdca26\"], [1.0, \"#f0f921\"]], \"type\": \"contour\"}], \"contourcarpet\": [{\"colorbar\": {\"outlinewidth\": 0, \"ticks\": \"\"}, \"type\": \"contourcarpet\"}], \"heatmap\": [{\"colorbar\": {\"outlinewidth\": 0, \"ticks\": \"\"}, \"colorscale\": [[0.0, \"#0d0887\"], [0.1111111111111111, \"#46039f\"], [0.2222222222222222, \"#7201a8\"], [0.3333333333333333, \"#9c179e\"], [0.4444444444444444, \"#bd3786\"], [0.5555555555555556, \"#d8576b\"], [0.6666666666666666, \"#ed7953\"], [0.7777777777777778, \"#fb9f3a\"], [0.8888888888888888, \"#fdca26\"], [1.0, \"#f0f921\"]], \"type\": \"heatmap\"}], \"heatmapgl\": [{\"colorbar\": {\"outlinewidth\": 0, \"ticks\": \"\"}, \"colorscale\": [[0.0, \"#0d0887\"], [0.1111111111111111, \"#46039f\"], [0.2222222222222222, \"#7201a8\"], [0.3333333333333333, \"#9c179e\"], [0.4444444444444444, \"#bd3786\"], [0.5555555555555556, \"#d8576b\"], [0.6666666666666666, \"#ed7953\"], [0.7777777777777778, \"#fb9f3a\"], [0.8888888888888888, \"#fdca26\"], [1.0, \"#f0f921\"]], \"type\": \"heatmapgl\"}], \"histogram\": [{\"marker\": {\"colorbar\": {\"outlinewidth\": 0, \"ticks\": \"\"}}, \"type\": \"histogram\"}], \"histogram2d\": [{\"colorbar\": {\"outlinewidth\": 0, \"ticks\": \"\"}, \"colorscale\": [[0.0, \"#0d0887\"], [0.1111111111111111, \"#46039f\"], [0.2222222222222222, \"#7201a8\"], [0.3333333333333333, \"#9c179e\"], [0.4444444444444444, \"#bd3786\"], [0.5555555555555556, \"#d8576b\"], [0.6666666666666666, \"#ed7953\"], [0.7777777777777778, \"#fb9f3a\"], [0.8888888888888888, \"#fdca26\"], [1.0, \"#f0f921\"]], \"type\": \"histogram2d\"}], \"histogram2dcontour\": [{\"colorbar\": {\"outlinewidth\": 0, \"ticks\": \"\"}, \"colorscale\": [[0.0, \"#0d0887\"], [0.1111111111111111, \"#46039f\"], [0.2222222222222222, \"#7201a8\"], [0.3333333333333333, \"#9c179e\"], [0.4444444444444444, \"#bd3786\"], [0.5555555555555556, \"#d8576b\"], [0.6666666666666666, \"#ed7953\"], [0.7777777777777778, \"#fb9f3a\"], [0.8888888888888888, \"#fdca26\"], [1.0, \"#f0f921\"]], \"type\": \"histogram2dcontour\"}], \"mesh3d\": [{\"colorbar\": {\"outlinewidth\": 0, \"ticks\": \"\"}, \"type\": \"mesh3d\"}], \"parcoords\": [{\"line\": {\"colorbar\": {\"outlinewidth\": 0, \"ticks\": \"\"}}, \"type\": \"parcoords\"}], \"scatter\": [{\"marker\": {\"colorbar\": {\"outlinewidth\": 0, \"ticks\": \"\"}}, \"type\": \"scatter\"}], \"scatter3d\": [{\"line\": {\"colorbar\": {\"outlinewidth\": 0, \"ticks\": \"\"}}, \"marker\": {\"colorbar\": {\"outlinewidth\": 0, \"ticks\": \"\"}}, \"type\": \"scatter3d\"}], \"scattercarpet\": [{\"marker\": {\"colorbar\": {\"outlinewidth\": 0, \"ticks\": \"\"}}, \"type\": \"scattercarpet\"}], \"scattergeo\": [{\"marker\": {\"colorbar\": {\"outlinewidth\": 0, \"ticks\": \"\"}}, \"type\": \"scattergeo\"}], \"scattergl\": [{\"marker\": {\"colorbar\": {\"outlinewidth\": 0, \"ticks\": \"\"}}, \"type\": \"scattergl\"}], \"scattermapbox\": [{\"marker\": {\"colorbar\": {\"outlinewidth\": 0, \"ticks\": \"\"}}, \"type\": \"scattermapbox\"}], \"scatterpolar\": [{\"marker\": {\"colorbar\": {\"outlinewidth\": 0, \"ticks\": \"\"}}, \"type\": \"scatterpolar\"}], \"scatterpolargl\": [{\"marker\": {\"colorbar\": {\"outlinewidth\": 0, \"ticks\": \"\"}}, \"type\": \"scatterpolargl\"}], \"scatterternary\": [{\"marker\": {\"colorbar\": {\"outlinewidth\": 0, \"ticks\": \"\"}}, \"type\": \"scatterternary\"}], \"surface\": [{\"colorbar\": {\"outlinewidth\": 0, \"ticks\": \"\"}, \"colorscale\": [[0.0, \"#0d0887\"], [0.1111111111111111, \"#46039f\"], [0.2222222222222222, \"#7201a8\"], [0.3333333333333333, \"#9c179e\"], [0.4444444444444444, \"#bd3786\"], [0.5555555555555556, \"#d8576b\"], [0.6666666666666666, \"#ed7953\"], [0.7777777777777778, \"#fb9f3a\"], [0.8888888888888888, \"#fdca26\"], [1.0, \"#f0f921\"]], \"type\": \"surface\"}], \"table\": [{\"cells\": {\"fill\": {\"color\": \"#EBF0F8\"}, \"line\": {\"color\": \"white\"}}, \"header\": {\"fill\": {\"color\": \"#C8D4E3\"}, \"line\": {\"color\": \"white\"}}, \"type\": \"table\"}]}, \"layout\": {\"annotationdefaults\": {\"arrowcolor\": \"#2a3f5f\", \"arrowhead\": 0, \"arrowwidth\": 1}, \"colorscale\": {\"diverging\": [[0, \"#8e0152\"], [0.1, \"#c51b7d\"], [0.2, \"#de77ae\"], [0.3, \"#f1b6da\"], [0.4, \"#fde0ef\"], [0.5, \"#f7f7f7\"], [0.6, \"#e6f5d0\"], [0.7, \"#b8e186\"], [0.8, \"#7fbc41\"], [0.9, \"#4d9221\"], [1, \"#276419\"]], \"sequential\": [[0.0, \"#0d0887\"], [0.1111111111111111, \"#46039f\"], [0.2222222222222222, \"#7201a8\"], [0.3333333333333333, \"#9c179e\"], [0.4444444444444444, \"#bd3786\"], [0.5555555555555556, \"#d8576b\"], [0.6666666666666666, \"#ed7953\"], [0.7777777777777778, \"#fb9f3a\"], [0.8888888888888888, \"#fdca26\"], [1.0, \"#f0f921\"]], \"sequentialminus\": [[0.0, \"#0d0887\"], [0.1111111111111111, \"#46039f\"], [0.2222222222222222, \"#7201a8\"], [0.3333333333333333, \"#9c179e\"], [0.4444444444444444, \"#bd3786\"], [0.5555555555555556, \"#d8576b\"], [0.6666666666666666, \"#ed7953\"], [0.7777777777777778, \"#fb9f3a\"], [0.8888888888888888, \"#fdca26\"], [1.0, \"#f0f921\"]]}, \"colorway\": [\"#636efa\", \"#EF553B\", \"#00cc96\", \"#ab63fa\", \"#FFA15A\", \"#19d3f3\", \"#FF6692\", \"#B6E880\", \"#FF97FF\", \"#FECB52\"], \"font\": {\"color\": \"#2a3f5f\"}, \"geo\": {\"bgcolor\": \"white\", \"lakecolor\": \"white\", \"landcolor\": \"#E5ECF6\", \"showlakes\": true, \"showland\": true, \"subunitcolor\": \"white\"}, \"hoverlabel\": {\"align\": \"left\"}, \"hovermode\": \"closest\", \"mapbox\": {\"style\": \"light\"}, \"paper_bgcolor\": \"white\", \"plot_bgcolor\": \"#E5ECF6\", \"polar\": {\"angularaxis\": {\"gridcolor\": \"white\", \"linecolor\": \"white\", \"ticks\": \"\"}, \"bgcolor\": \"#E5ECF6\", \"radialaxis\": {\"gridcolor\": \"white\", \"linecolor\": \"white\", \"ticks\": \"\"}}, \"scene\": {\"xaxis\": {\"backgroundcolor\": \"#E5ECF6\", \"gridcolor\": \"white\", \"gridwidth\": 2, \"linecolor\": \"white\", \"showbackground\": true, \"ticks\": \"\", \"zerolinecolor\": \"white\"}, \"yaxis\": {\"backgroundcolor\": \"#E5ECF6\", \"gridcolor\": \"white\", \"gridwidth\": 2, \"linecolor\": \"white\", \"showbackground\": true, \"ticks\": \"\", \"zerolinecolor\": \"white\"}, \"zaxis\": {\"backgroundcolor\": \"#E5ECF6\", \"gridcolor\": \"white\", \"gridwidth\": 2, \"linecolor\": \"white\", \"showbackground\": true, \"ticks\": \"\", \"zerolinecolor\": \"white\"}}, \"shapedefaults\": {\"line\": {\"color\": \"#2a3f5f\"}}, \"ternary\": {\"aaxis\": {\"gridcolor\": \"white\", \"linecolor\": \"white\", \"ticks\": \"\"}, \"baxis\": {\"gridcolor\": \"white\", \"linecolor\": \"white\", \"ticks\": \"\"}, \"bgcolor\": \"#E5ECF6\", \"caxis\": {\"gridcolor\": \"white\", \"linecolor\": \"white\", \"ticks\": \"\"}}, \"title\": {\"x\": 0.05}, \"xaxis\": {\"automargin\": true, \"gridcolor\": \"white\", \"linecolor\": \"white\", \"ticks\": \"\", \"zerolinecolor\": \"white\", \"zerolinewidth\": 2}, \"yaxis\": {\"automargin\": true, \"gridcolor\": \"white\", \"linecolor\": \"white\", \"ticks\": \"\", \"zerolinecolor\": \"white\", \"zerolinewidth\": 2}}}, \"width\": 600, \"xaxis\": {\"anchor\": \"y\", \"domain\": [0.0, 0.98], \"title\": {\"text\": \"t\"}}, \"yaxis\": {\"anchor\": \"x\", \"domain\": [0.0, 1.0], \"title\": {\"text\": \"I\"}}},\n",
       "                        {\"responsive\": true}\n",
       "                    ).then(function(){\n",
       "                            \n",
       "var gd = document.getElementById('def4223f-941a-4a40-9b99-2480cdecc9e5');\n",
       "var x = new MutationObserver(function (mutations, observer) {{\n",
       "        var display = window.getComputedStyle(gd).display;\n",
       "        if (!display || display === 'none') {{\n",
       "            console.log([gd, 'removed!']);\n",
       "            Plotly.purge(gd);\n",
       "            observer.disconnect();\n",
       "        }}\n",
       "}});\n",
       "\n",
       "// Listen for the removal of the full notebook cells\n",
       "var notebookContainer = gd.closest('#notebook-container');\n",
       "if (notebookContainer) {{\n",
       "    x.observe(notebookContainer, {childList: true});\n",
       "}}\n",
       "\n",
       "// Listen for the clearing of the current output cell\n",
       "var outputEl = gd.closest('.output');\n",
       "if (outputEl) {{\n",
       "    x.observe(outputEl, {childList: true});\n",
       "}}\n",
       "\n",
       "                        })\n",
       "                };\n",
       "                });\n",
       "            </script>\n",
       "        </div>"
      ]
     },
     "metadata": {},
     "output_type": "display_data"
    }
   ],
   "source": [
    "px.line(df,x='t',y='I',color='p', height=400,width=600)"
   ]
  },
  {
   "cell_type": "markdown",
   "metadata": {},
   "source": [
    "### Bass Model\n",
    "\n",
    "La mayoria de los bienes e  informacion es expanden mediante **ambos broadcast y difusion**. La difference equation del Bass es la suma de la difference equation del broadcast y del de difusion. Mientras mayor sea $P_{diffusion}$, mas parecido a un S-shape es.\n",
    "\n",
    "#### $$I_{t+1}= I_t + [P_{broad}*S_t] + [P_{diffuse}*\\frac{I_t}{N}*S_t]$$\n",
    "\n",
    "Ya que $S_t = [(1-\\frac{I_t}{N})*N]$, si lo distribuyo, es lo mismo que:\n",
    "\n",
    "#### $I_{t+1}= I_t + (P_{broad} + P_{diffuse}*\\frac{I_t}{N})*(1-\\frac{I_t}{N})*N$ \n",
    "\n",
    "Entonces el cambio en porcentaje de infectados sobre el total es:\n",
    "\n",
    "$\\Delta \\frac{I_t}{N}= (P_{broad} + P_{diffuse}*\\frac{I_t}{N})*(1-\\frac{I_t}{N})$\n",
    "\n",
    "$\\Delta I_t= (P_{broad} + P_{diffuse}*\\frac{I_t}{N})*(1-\\frac{I_t}{N})*N$\n",
    "\n",
    "$\\Delta I_t= (P_{broad} + P_{diffuse}*\\frac{I_t}{N})*S_t$\n",
    "\n",
    "$\\Delta I_t= [P_{broad}*S_t] + [P_{diffuse}*\\frac{I_t}{N}*S_t]$ ecuacion original del libro\n",
    "\n",
    "Situaciones:\n",
    "\n",
    "- Cuando $I_t≈N --> I_{t+1}≈0$\n",
    "- Cuando $I_t=0 --> I_{t+1}=P_{broad}*N$\n",
    "- Cuando $\\frac{I_t}{N}=\\epsilon --> I_{t+1}=(P_{broad} + P_{dif}*\\epsilon)*S_t$\n",
    "\n",
    "Lo bueno de este modelo es que al ser tan simple, no se necesita mucha data para estimar los parametros y completar el modelo."
   ]
  },
  {
   "cell_type": "code",
   "execution_count": 253,
   "metadata": {},
   "outputs": [
    {
     "data": {
      "text/html": [
       "<div>\n",
       "<style scoped>\n",
       "    .dataframe tbody tr th:only-of-type {\n",
       "        vertical-align: middle;\n",
       "    }\n",
       "\n",
       "    .dataframe tbody tr th {\n",
       "        vertical-align: top;\n",
       "    }\n",
       "\n",
       "    .dataframe thead th {\n",
       "        text-align: right;\n",
       "    }\n",
       "</style>\n",
       "<table border=\"1\" class=\"dataframe\">\n",
       "  <thead>\n",
       "    <tr style=\"text-align: right;\">\n",
       "      <th></th>\n",
       "      <th>t</th>\n",
       "      <th>I</th>\n",
       "      <th>S</th>\n",
       "      <th>p</th>\n",
       "    </tr>\n",
       "  </thead>\n",
       "  <tbody>\n",
       "    <tr>\n",
       "      <th>0</th>\n",
       "      <td>1.0</td>\n",
       "      <td>0.00000</td>\n",
       "      <td>1000000.00000</td>\n",
       "      <td>b=0.01, d=0.3</td>\n",
       "    </tr>\n",
       "    <tr>\n",
       "      <th>1</th>\n",
       "      <td>2.0</td>\n",
       "      <td>0.00000</td>\n",
       "      <td>1000000.00000</td>\n",
       "      <td>b=0.01, d=0.3</td>\n",
       "    </tr>\n",
       "    <tr>\n",
       "      <th>2</th>\n",
       "      <td>3.0</td>\n",
       "      <td>10000.00000</td>\n",
       "      <td>990000.00000</td>\n",
       "      <td>b=0.01, d=0.3</td>\n",
       "    </tr>\n",
       "    <tr>\n",
       "      <th>3</th>\n",
       "      <td>4.0</td>\n",
       "      <td>22870.00000</td>\n",
       "      <td>977130.00000</td>\n",
       "      <td>b=0.01, d=0.3</td>\n",
       "    </tr>\n",
       "    <tr>\n",
       "      <th>4</th>\n",
       "      <td>5.0</td>\n",
       "      <td>39345.38893</td>\n",
       "      <td>960654.61107</td>\n",
       "      <td>b=0.01, d=0.3</td>\n",
       "    </tr>\n",
       "  </tbody>\n",
       "</table>\n",
       "</div>"
      ],
      "text/plain": [
       "     t            I              S              p\n",
       "0  1.0      0.00000  1000000.00000  b=0.01, d=0.3\n",
       "1  2.0      0.00000  1000000.00000  b=0.01, d=0.3\n",
       "2  3.0  10000.00000   990000.00000  b=0.01, d=0.3\n",
       "3  4.0  22870.00000   977130.00000  b=0.01, d=0.3\n",
       "4  5.0  39345.38893   960654.61107  b=0.01, d=0.3"
      ]
     },
     "execution_count": 253,
     "metadata": {},
     "output_type": "execute_result"
    }
   ],
   "source": [
    "t= np.arange(1,50,1)\n",
    "N= 1000000\n",
    "\n",
    "p_d= 0.3\n",
    "p_b= 0.01\n",
    "df= pd.DataFrame({'t':t})\n",
    "df['I']= 0\n",
    "df['S']= N\n",
    "df['p']='b=0.01, d=0.3'\n",
    "for i in t:\n",
    "    df.loc[i+1,'I']= df.loc[i,'I'] + p_b*df.loc[i,'S'] +  df.loc[i,'S'] * p_d * df.loc[i,'I']/N # forma 1\n",
    "    df.loc[i+1,'S']= N-df.loc[i+1,'I']\n",
    "\n",
    "\n",
    "p_d= 0.1\n",
    "p_b= 0.01\n",
    "df2= pd.DataFrame({'t':t})\n",
    "df2['I']= 0\n",
    "df2['S']= N\n",
    "df2['p']='b=0.05, d=0.15'\n",
    "for i in t:\n",
    "    df2.loc[i+1,'I']= df2.loc[i,'I'] + ((p_b+ p_d*df2.loc[i,'I']/N)*(1-df2.loc[i,'I']/N)*N) # forma 2\n",
    "    df2.loc[i+1,'S']= N-df2.loc[i+1,'I']\n",
    "    \n",
    "df= pd.concat([df,df2])\n",
    "df= df.dropna().reset_index(drop=True)\n",
    "df.head()"
   ]
  },
  {
   "cell_type": "code",
   "execution_count": 247,
   "metadata": {},
   "outputs": [
    {
     "data": {
      "application/vnd.plotly.v1+json": {
       "config": {
        "plotlyServerURL": "https://plot.ly"
       },
       "data": [
        {
         "hoverlabel": {
          "namelength": 0
         },
         "hovertemplate": "p=b=0.01, d=0.3<br>t=%{x}<br>I=%{y}",
         "legendgroup": "p=b=0.01, d=0.3",
         "line": {
          "color": "#636efa",
          "dash": "solid"
         },
         "mode": "lines",
         "name": "p=b=0.01, d=0.3",
         "showlegend": true,
         "type": "scatter",
         "x": [
          1,
          2,
          3,
          4,
          5,
          6,
          7,
          8,
          9,
          10,
          11,
          12,
          13,
          14,
          15,
          16,
          17,
          18,
          19,
          20,
          21,
          22,
          23,
          24,
          25,
          26,
          27,
          28,
          29,
          30,
          31,
          32,
          33,
          34,
          35,
          36,
          37,
          38,
          39,
          40,
          41,
          42,
          43,
          44,
          45,
          46,
          47,
          48,
          49
         ],
         "xaxis": "x",
         "y": [
          0,
          0,
          10000,
          22870,
          39345.38893,
          60291.13383068411,
          86685.05639600568,
          119569.43305013371,
          159955.51383869335,
          208666.88292969431,
          266117.7185698272,
          332046.26491403417,
          405263.2651260958,
          483518.11779446434,
          563601.4408842085,
          641751.8834906023,
          714306.2857137562,
          778385.0676276908,
          832351.7431879917,
          875890.9213960827,
          909743.816745723,
          935279.37996986,
          954086.1445820776,
          967687.0151258322,
          977390.8017393807,
          984246.3004463763,
          989055.4935931119,
          992412.3559131001,
          994747.2538772022,
          996367.3277727203,
          997489.4972709237,
          998265.8623297515,
          998802.5428374908,
          999173.3243867719,
          999429.3888091017,
          999606.1805991408,
          999728.218085291,
          999812.448319228,
          999870.5787875775,
          999910.6943384734,
          999938.3767008963,
          999957.4787843891,
          999970.6598188124,
          999979.7550167267,
          999986.0308385836,
          999990.3612200815,
          999993.3492139843,
          999995.4109443794,
          999996.8335453039
         ],
         "yaxis": "y"
        },
        {
         "hoverlabel": {
          "namelength": 0
         },
         "hovertemplate": "p=b=0.05, d=0.15<br>t=%{x}<br>I=%{y}",
         "legendgroup": "p=b=0.05, d=0.15",
         "line": {
          "color": "#EF553B",
          "dash": "solid"
         },
         "mode": "lines",
         "name": "p=b=0.05, d=0.15",
         "showlegend": true,
         "type": "scatter",
         "x": [
          1,
          2,
          3,
          4,
          5,
          6,
          7,
          8,
          9,
          10,
          11,
          12,
          13,
          14,
          15,
          16,
          17,
          18,
          19,
          20,
          21,
          22,
          23,
          24,
          25,
          26,
          27,
          28,
          29,
          30,
          31,
          32,
          33,
          34,
          35,
          36,
          37,
          38,
          39,
          40,
          41,
          42,
          43,
          44,
          45,
          46,
          47,
          48,
          49
         ],
         "xaxis": "x",
         "y": [
          0,
          0,
          10000,
          20890,
          32726.46079,
          45564.74013751606,
          59457.95219551257,
          74455.64308518032,
          90602.28668412377,
          107935.6150504557,
          126484.8107053647,
          146268.60293493033,
          167293.32677862042,
          189551.02047023043,
          213017.6533764206,
          237651.59011529878,
          263392.4053972427,
          290160.16596089996,
          317855.28870633524,
          346359.06623404665,
          375534.9219188588,
          405230.41713349574,
          435279.98557849164,
          465508.3176960347,
          495734.2669042586,
          525775.1045873315,
          555450.9179398094,
          584588.9283303745,
          613027.5103674626,
          640619.7134538013,
          667236.1259380804,
          692766.9724968218,
          717123.3922032946,
          740237.901537075,
          762064.0975882106,
          782575.6974878561,
          801765.0380319027,
          819641.1738337441,
          836227.7140944253,
          851560.5293809648,
          865685.4435052928,
          878656.0047110736,
          890531.4076735876,
          901374.6155589003,
          911250.7112018057,
          920225.4893433886,
          928364.2882605657,
          935731.049032262,
          942387.5838328638
         ],
         "yaxis": "y"
        }
       ],
       "layout": {
        "height": 400,
        "legend": {
         "tracegroupgap": 0
        },
        "margin": {
         "t": 60
        },
        "template": {
         "data": {
          "bar": [
           {
            "error_x": {
             "color": "#2a3f5f"
            },
            "error_y": {
             "color": "#2a3f5f"
            },
            "marker": {
             "line": {
              "color": "#E5ECF6",
              "width": 0.5
             }
            },
            "type": "bar"
           }
          ],
          "barpolar": [
           {
            "marker": {
             "line": {
              "color": "#E5ECF6",
              "width": 0.5
             }
            },
            "type": "barpolar"
           }
          ],
          "carpet": [
           {
            "aaxis": {
             "endlinecolor": "#2a3f5f",
             "gridcolor": "white",
             "linecolor": "white",
             "minorgridcolor": "white",
             "startlinecolor": "#2a3f5f"
            },
            "baxis": {
             "endlinecolor": "#2a3f5f",
             "gridcolor": "white",
             "linecolor": "white",
             "minorgridcolor": "white",
             "startlinecolor": "#2a3f5f"
            },
            "type": "carpet"
           }
          ],
          "choropleth": [
           {
            "colorbar": {
             "outlinewidth": 0,
             "ticks": ""
            },
            "type": "choropleth"
           }
          ],
          "contour": [
           {
            "colorbar": {
             "outlinewidth": 0,
             "ticks": ""
            },
            "colorscale": [
             [
              0,
              "#0d0887"
             ],
             [
              0.1111111111111111,
              "#46039f"
             ],
             [
              0.2222222222222222,
              "#7201a8"
             ],
             [
              0.3333333333333333,
              "#9c179e"
             ],
             [
              0.4444444444444444,
              "#bd3786"
             ],
             [
              0.5555555555555556,
              "#d8576b"
             ],
             [
              0.6666666666666666,
              "#ed7953"
             ],
             [
              0.7777777777777778,
              "#fb9f3a"
             ],
             [
              0.8888888888888888,
              "#fdca26"
             ],
             [
              1,
              "#f0f921"
             ]
            ],
            "type": "contour"
           }
          ],
          "contourcarpet": [
           {
            "colorbar": {
             "outlinewidth": 0,
             "ticks": ""
            },
            "type": "contourcarpet"
           }
          ],
          "heatmap": [
           {
            "colorbar": {
             "outlinewidth": 0,
             "ticks": ""
            },
            "colorscale": [
             [
              0,
              "#0d0887"
             ],
             [
              0.1111111111111111,
              "#46039f"
             ],
             [
              0.2222222222222222,
              "#7201a8"
             ],
             [
              0.3333333333333333,
              "#9c179e"
             ],
             [
              0.4444444444444444,
              "#bd3786"
             ],
             [
              0.5555555555555556,
              "#d8576b"
             ],
             [
              0.6666666666666666,
              "#ed7953"
             ],
             [
              0.7777777777777778,
              "#fb9f3a"
             ],
             [
              0.8888888888888888,
              "#fdca26"
             ],
             [
              1,
              "#f0f921"
             ]
            ],
            "type": "heatmap"
           }
          ],
          "heatmapgl": [
           {
            "colorbar": {
             "outlinewidth": 0,
             "ticks": ""
            },
            "colorscale": [
             [
              0,
              "#0d0887"
             ],
             [
              0.1111111111111111,
              "#46039f"
             ],
             [
              0.2222222222222222,
              "#7201a8"
             ],
             [
              0.3333333333333333,
              "#9c179e"
             ],
             [
              0.4444444444444444,
              "#bd3786"
             ],
             [
              0.5555555555555556,
              "#d8576b"
             ],
             [
              0.6666666666666666,
              "#ed7953"
             ],
             [
              0.7777777777777778,
              "#fb9f3a"
             ],
             [
              0.8888888888888888,
              "#fdca26"
             ],
             [
              1,
              "#f0f921"
             ]
            ],
            "type": "heatmapgl"
           }
          ],
          "histogram": [
           {
            "marker": {
             "colorbar": {
              "outlinewidth": 0,
              "ticks": ""
             }
            },
            "type": "histogram"
           }
          ],
          "histogram2d": [
           {
            "colorbar": {
             "outlinewidth": 0,
             "ticks": ""
            },
            "colorscale": [
             [
              0,
              "#0d0887"
             ],
             [
              0.1111111111111111,
              "#46039f"
             ],
             [
              0.2222222222222222,
              "#7201a8"
             ],
             [
              0.3333333333333333,
              "#9c179e"
             ],
             [
              0.4444444444444444,
              "#bd3786"
             ],
             [
              0.5555555555555556,
              "#d8576b"
             ],
             [
              0.6666666666666666,
              "#ed7953"
             ],
             [
              0.7777777777777778,
              "#fb9f3a"
             ],
             [
              0.8888888888888888,
              "#fdca26"
             ],
             [
              1,
              "#f0f921"
             ]
            ],
            "type": "histogram2d"
           }
          ],
          "histogram2dcontour": [
           {
            "colorbar": {
             "outlinewidth": 0,
             "ticks": ""
            },
            "colorscale": [
             [
              0,
              "#0d0887"
             ],
             [
              0.1111111111111111,
              "#46039f"
             ],
             [
              0.2222222222222222,
              "#7201a8"
             ],
             [
              0.3333333333333333,
              "#9c179e"
             ],
             [
              0.4444444444444444,
              "#bd3786"
             ],
             [
              0.5555555555555556,
              "#d8576b"
             ],
             [
              0.6666666666666666,
              "#ed7953"
             ],
             [
              0.7777777777777778,
              "#fb9f3a"
             ],
             [
              0.8888888888888888,
              "#fdca26"
             ],
             [
              1,
              "#f0f921"
             ]
            ],
            "type": "histogram2dcontour"
           }
          ],
          "mesh3d": [
           {
            "colorbar": {
             "outlinewidth": 0,
             "ticks": ""
            },
            "type": "mesh3d"
           }
          ],
          "parcoords": [
           {
            "line": {
             "colorbar": {
              "outlinewidth": 0,
              "ticks": ""
             }
            },
            "type": "parcoords"
           }
          ],
          "scatter": [
           {
            "marker": {
             "colorbar": {
              "outlinewidth": 0,
              "ticks": ""
             }
            },
            "type": "scatter"
           }
          ],
          "scatter3d": [
           {
            "line": {
             "colorbar": {
              "outlinewidth": 0,
              "ticks": ""
             }
            },
            "marker": {
             "colorbar": {
              "outlinewidth": 0,
              "ticks": ""
             }
            },
            "type": "scatter3d"
           }
          ],
          "scattercarpet": [
           {
            "marker": {
             "colorbar": {
              "outlinewidth": 0,
              "ticks": ""
             }
            },
            "type": "scattercarpet"
           }
          ],
          "scattergeo": [
           {
            "marker": {
             "colorbar": {
              "outlinewidth": 0,
              "ticks": ""
             }
            },
            "type": "scattergeo"
           }
          ],
          "scattergl": [
           {
            "marker": {
             "colorbar": {
              "outlinewidth": 0,
              "ticks": ""
             }
            },
            "type": "scattergl"
           }
          ],
          "scattermapbox": [
           {
            "marker": {
             "colorbar": {
              "outlinewidth": 0,
              "ticks": ""
             }
            },
            "type": "scattermapbox"
           }
          ],
          "scatterpolar": [
           {
            "marker": {
             "colorbar": {
              "outlinewidth": 0,
              "ticks": ""
             }
            },
            "type": "scatterpolar"
           }
          ],
          "scatterpolargl": [
           {
            "marker": {
             "colorbar": {
              "outlinewidth": 0,
              "ticks": ""
             }
            },
            "type": "scatterpolargl"
           }
          ],
          "scatterternary": [
           {
            "marker": {
             "colorbar": {
              "outlinewidth": 0,
              "ticks": ""
             }
            },
            "type": "scatterternary"
           }
          ],
          "surface": [
           {
            "colorbar": {
             "outlinewidth": 0,
             "ticks": ""
            },
            "colorscale": [
             [
              0,
              "#0d0887"
             ],
             [
              0.1111111111111111,
              "#46039f"
             ],
             [
              0.2222222222222222,
              "#7201a8"
             ],
             [
              0.3333333333333333,
              "#9c179e"
             ],
             [
              0.4444444444444444,
              "#bd3786"
             ],
             [
              0.5555555555555556,
              "#d8576b"
             ],
             [
              0.6666666666666666,
              "#ed7953"
             ],
             [
              0.7777777777777778,
              "#fb9f3a"
             ],
             [
              0.8888888888888888,
              "#fdca26"
             ],
             [
              1,
              "#f0f921"
             ]
            ],
            "type": "surface"
           }
          ],
          "table": [
           {
            "cells": {
             "fill": {
              "color": "#EBF0F8"
             },
             "line": {
              "color": "white"
             }
            },
            "header": {
             "fill": {
              "color": "#C8D4E3"
             },
             "line": {
              "color": "white"
             }
            },
            "type": "table"
           }
          ]
         },
         "layout": {
          "annotationdefaults": {
           "arrowcolor": "#2a3f5f",
           "arrowhead": 0,
           "arrowwidth": 1
          },
          "colorscale": {
           "diverging": [
            [
             0,
             "#8e0152"
            ],
            [
             0.1,
             "#c51b7d"
            ],
            [
             0.2,
             "#de77ae"
            ],
            [
             0.3,
             "#f1b6da"
            ],
            [
             0.4,
             "#fde0ef"
            ],
            [
             0.5,
             "#f7f7f7"
            ],
            [
             0.6,
             "#e6f5d0"
            ],
            [
             0.7,
             "#b8e186"
            ],
            [
             0.8,
             "#7fbc41"
            ],
            [
             0.9,
             "#4d9221"
            ],
            [
             1,
             "#276419"
            ]
           ],
           "sequential": [
            [
             0,
             "#0d0887"
            ],
            [
             0.1111111111111111,
             "#46039f"
            ],
            [
             0.2222222222222222,
             "#7201a8"
            ],
            [
             0.3333333333333333,
             "#9c179e"
            ],
            [
             0.4444444444444444,
             "#bd3786"
            ],
            [
             0.5555555555555556,
             "#d8576b"
            ],
            [
             0.6666666666666666,
             "#ed7953"
            ],
            [
             0.7777777777777778,
             "#fb9f3a"
            ],
            [
             0.8888888888888888,
             "#fdca26"
            ],
            [
             1,
             "#f0f921"
            ]
           ],
           "sequentialminus": [
            [
             0,
             "#0d0887"
            ],
            [
             0.1111111111111111,
             "#46039f"
            ],
            [
             0.2222222222222222,
             "#7201a8"
            ],
            [
             0.3333333333333333,
             "#9c179e"
            ],
            [
             0.4444444444444444,
             "#bd3786"
            ],
            [
             0.5555555555555556,
             "#d8576b"
            ],
            [
             0.6666666666666666,
             "#ed7953"
            ],
            [
             0.7777777777777778,
             "#fb9f3a"
            ],
            [
             0.8888888888888888,
             "#fdca26"
            ],
            [
             1,
             "#f0f921"
            ]
           ]
          },
          "colorway": [
           "#636efa",
           "#EF553B",
           "#00cc96",
           "#ab63fa",
           "#FFA15A",
           "#19d3f3",
           "#FF6692",
           "#B6E880",
           "#FF97FF",
           "#FECB52"
          ],
          "font": {
           "color": "#2a3f5f"
          },
          "geo": {
           "bgcolor": "white",
           "lakecolor": "white",
           "landcolor": "#E5ECF6",
           "showlakes": true,
           "showland": true,
           "subunitcolor": "white"
          },
          "hoverlabel": {
           "align": "left"
          },
          "hovermode": "closest",
          "mapbox": {
           "style": "light"
          },
          "paper_bgcolor": "white",
          "plot_bgcolor": "#E5ECF6",
          "polar": {
           "angularaxis": {
            "gridcolor": "white",
            "linecolor": "white",
            "ticks": ""
           },
           "bgcolor": "#E5ECF6",
           "radialaxis": {
            "gridcolor": "white",
            "linecolor": "white",
            "ticks": ""
           }
          },
          "scene": {
           "xaxis": {
            "backgroundcolor": "#E5ECF6",
            "gridcolor": "white",
            "gridwidth": 2,
            "linecolor": "white",
            "showbackground": true,
            "ticks": "",
            "zerolinecolor": "white"
           },
           "yaxis": {
            "backgroundcolor": "#E5ECF6",
            "gridcolor": "white",
            "gridwidth": 2,
            "linecolor": "white",
            "showbackground": true,
            "ticks": "",
            "zerolinecolor": "white"
           },
           "zaxis": {
            "backgroundcolor": "#E5ECF6",
            "gridcolor": "white",
            "gridwidth": 2,
            "linecolor": "white",
            "showbackground": true,
            "ticks": "",
            "zerolinecolor": "white"
           }
          },
          "shapedefaults": {
           "line": {
            "color": "#2a3f5f"
           }
          },
          "ternary": {
           "aaxis": {
            "gridcolor": "white",
            "linecolor": "white",
            "ticks": ""
           },
           "baxis": {
            "gridcolor": "white",
            "linecolor": "white",
            "ticks": ""
           },
           "bgcolor": "#E5ECF6",
           "caxis": {
            "gridcolor": "white",
            "linecolor": "white",
            "ticks": ""
           }
          },
          "title": {
           "x": 0.05
          },
          "xaxis": {
           "automargin": true,
           "gridcolor": "white",
           "linecolor": "white",
           "ticks": "",
           "zerolinecolor": "white",
           "zerolinewidth": 2
          },
          "yaxis": {
           "automargin": true,
           "gridcolor": "white",
           "linecolor": "white",
           "ticks": "",
           "zerolinecolor": "white",
           "zerolinewidth": 2
          }
         }
        },
        "width": 600,
        "xaxis": {
         "anchor": "y",
         "autorange": true,
         "domain": [
          0,
          0.98
         ],
         "range": [
          1,
          49
         ],
         "title": {
          "text": "t"
         },
         "type": "linear"
        },
        "yaxis": {
         "anchor": "x",
         "autorange": true,
         "domain": [
          0,
          1
         ],
         "range": [
          -55555.37964140577,
          1055552.2131867097
         ],
         "title": {
          "text": "I"
         },
         "type": "linear"
        }
       }
      },
      "image/png": "[encoded data removed]",
      "text/html": [
       "<div>\n",
       "        \n",
       "        \n",
       "            <div id=\"d857d4c9-5571-49f3-ab16-7d27bb203267\" class=\"plotly-graph-div\" style=\"height:400px; width:600px;\"></div>\n",
       "            <script type=\"text/javascript\">\n",
       "                require([\"plotly\"], function(Plotly) {\n",
       "                    window.PLOTLYENV=window.PLOTLYENV || {};\n",
       "                    \n",
       "                if (document.getElementById(\"d857d4c9-5571-49f3-ab16-7d27bb203267\")) {\n",
       "                    Plotly.newPlot(\n",
       "                        'd857d4c9-5571-49f3-ab16-7d27bb203267',\n",
       "                        [{\"hoverlabel\": {\"namelength\": 0}, \"hovertemplate\": \"p=b=0.01, d=0.3<br>t=%{x}<br>I=%{y}\", \"legendgroup\": \"p=b=0.01, d=0.3\", \"line\": {\"color\": \"#636efa\", \"dash\": \"solid\"}, \"mode\": \"lines\", \"name\": \"p=b=0.01, d=0.3\", \"showlegend\": true, \"type\": \"scatter\", \"x\": [1.0, 2.0, 3.0, 4.0, 5.0, 6.0, 7.0, 8.0, 9.0, 10.0, 11.0, 12.0, 13.0, 14.0, 15.0, 16.0, 17.0, 18.0, 19.0, 20.0, 21.0, 22.0, 23.0, 24.0, 25.0, 26.0, 27.0, 28.0, 29.0, 30.0, 31.0, 32.0, 33.0, 34.0, 35.0, 36.0, 37.0, 38.0, 39.0, 40.0, 41.0, 42.0, 43.0, 44.0, 45.0, 46.0, 47.0, 48.0, 49.0], \"xaxis\": \"x\", \"y\": [0.0, 0.0, 10000.0, 22870.0, 39345.38893, 60291.13383068411, 86685.05639600568, 119569.43305013371, 159955.51383869335, 208666.88292969431, 266117.7185698272, 332046.26491403417, 405263.2651260958, 483518.11779446434, 563601.4408842085, 641751.8834906023, 714306.2857137562, 778385.0676276908, 832351.7431879917, 875890.9213960827, 909743.816745723, 935279.37996986, 954086.1445820776, 967687.0151258322, 977390.8017393807, 984246.3004463763, 989055.4935931119, 992412.3559131001, 994747.2538772022, 996367.3277727203, 997489.4972709237, 998265.8623297515, 998802.5428374908, 999173.3243867719, 999429.3888091017, 999606.1805991408, 999728.218085291, 999812.448319228, 999870.5787875775, 999910.6943384734, 999938.3767008963, 999957.4787843891, 999970.6598188124, 999979.7550167267, 999986.0308385836, 999990.3612200815, 999993.3492139843, 999995.4109443794, 999996.8335453039], \"yaxis\": \"y\"}, {\"hoverlabel\": {\"namelength\": 0}, \"hovertemplate\": \"p=b=0.05, d=0.15<br>t=%{x}<br>I=%{y}\", \"legendgroup\": \"p=b=0.05, d=0.15\", \"line\": {\"color\": \"#EF553B\", \"dash\": \"solid\"}, \"mode\": \"lines\", \"name\": \"p=b=0.05, d=0.15\", \"showlegend\": true, \"type\": \"scatter\", \"x\": [1.0, 2.0, 3.0, 4.0, 5.0, 6.0, 7.0, 8.0, 9.0, 10.0, 11.0, 12.0, 13.0, 14.0, 15.0, 16.0, 17.0, 18.0, 19.0, 20.0, 21.0, 22.0, 23.0, 24.0, 25.0, 26.0, 27.0, 28.0, 29.0, 30.0, 31.0, 32.0, 33.0, 34.0, 35.0, 36.0, 37.0, 38.0, 39.0, 40.0, 41.0, 42.0, 43.0, 44.0, 45.0, 46.0, 47.0, 48.0, 49.0], \"xaxis\": \"x\", \"y\": [0.0, 0.0, 10000.0, 20890.0, 32726.46079, 45564.74013751606, 59457.95219551257, 74455.64308518032, 90602.28668412377, 107935.6150504557, 126484.8107053647, 146268.60293493033, 167293.32677862042, 189551.02047023043, 213017.6533764206, 237651.59011529878, 263392.4053972427, 290160.16596089996, 317855.28870633524, 346359.06623404665, 375534.9219188588, 405230.41713349574, 435279.98557849164, 465508.3176960347, 495734.2669042586, 525775.1045873315, 555450.9179398094, 584588.9283303745, 613027.5103674626, 640619.7134538013, 667236.1259380804, 692766.9724968218, 717123.3922032946, 740237.901537075, 762064.0975882106, 782575.6974878561, 801765.0380319027, 819641.1738337441, 836227.7140944253, 851560.5293809648, 865685.4435052928, 878656.0047110736, 890531.4076735876, 901374.6155589003, 911250.7112018057, 920225.4893433886, 928364.2882605657, 935731.049032262, 942387.5838328638], \"yaxis\": \"y\"}],\n",
       "                        {\"height\": 400, \"legend\": {\"tracegroupgap\": 0}, \"margin\": {\"t\": 60}, \"template\": {\"data\": {\"bar\": [{\"error_x\": {\"color\": \"#2a3f5f\"}, \"error_y\": {\"color\": \"#2a3f5f\"}, \"marker\": {\"line\": {\"color\": \"#E5ECF6\", \"width\": 0.5}}, \"type\": \"bar\"}], \"barpolar\": [{\"marker\": {\"line\": {\"color\": \"#E5ECF6\", \"width\": 0.5}}, \"type\": \"barpolar\"}], \"carpet\": [{\"aaxis\": {\"endlinecolor\": \"#2a3f5f\", \"gridcolor\": \"white\", \"linecolor\": \"white\", \"minorgridcolor\": \"white\", \"startlinecolor\": \"#2a3f5f\"}, \"baxis\": {\"endlinecolor\": \"#2a3f5f\", \"gridcolor\": \"white\", \"linecolor\": \"white\", \"minorgridcolor\": \"white\", \"startlinecolor\": \"#2a3f5f\"}, \"type\": \"carpet\"}], \"choropleth\": [{\"colorbar\": {\"outlinewidth\": 0, \"ticks\": \"\"}, \"type\": \"choropleth\"}], \"contour\": [{\"colorbar\": {\"outlinewidth\": 0, \"ticks\": \"\"}, \"colorscale\": [[0.0, \"#0d0887\"], [0.1111111111111111, \"#46039f\"], [0.2222222222222222, \"#7201a8\"], [0.3333333333333333, \"#9c179e\"], [0.4444444444444444, \"#bd3786\"], [0.5555555555555556, \"#d8576b\"], [0.6666666666666666, \"#ed7953\"], [0.7777777777777778, \"#fb9f3a\"], [0.8888888888888888, \"#fdca26\"], [1.0, \"#f0f921\"]], \"type\": \"contour\"}], \"contourcarpet\": [{\"colorbar\": {\"outlinewidth\": 0, \"ticks\": \"\"}, \"type\": \"contourcarpet\"}], \"heatmap\": [{\"colorbar\": {\"outlinewidth\": 0, \"ticks\": \"\"}, \"colorscale\": [[0.0, \"#0d0887\"], [0.1111111111111111, \"#46039f\"], [0.2222222222222222, \"#7201a8\"], [0.3333333333333333, \"#9c179e\"], [0.4444444444444444, \"#bd3786\"], [0.5555555555555556, \"#d8576b\"], [0.6666666666666666, \"#ed7953\"], [0.7777777777777778, \"#fb9f3a\"], [0.8888888888888888, \"#fdca26\"], [1.0, \"#f0f921\"]], \"type\": \"heatmap\"}], \"heatmapgl\": [{\"colorbar\": {\"outlinewidth\": 0, \"ticks\": \"\"}, \"colorscale\": [[0.0, \"#0d0887\"], [0.1111111111111111, \"#46039f\"], [0.2222222222222222, \"#7201a8\"], [0.3333333333333333, \"#9c179e\"], [0.4444444444444444, \"#bd3786\"], [0.5555555555555556, \"#d8576b\"], [0.6666666666666666, \"#ed7953\"], [0.7777777777777778, \"#fb9f3a\"], [0.8888888888888888, \"#fdca26\"], [1.0, \"#f0f921\"]], \"type\": \"heatmapgl\"}], \"histogram\": [{\"marker\": {\"colorbar\": {\"outlinewidth\": 0, \"ticks\": \"\"}}, \"type\": \"histogram\"}], \"histogram2d\": [{\"colorbar\": {\"outlinewidth\": 0, \"ticks\": \"\"}, \"colorscale\": [[0.0, \"#0d0887\"], [0.1111111111111111, \"#46039f\"], [0.2222222222222222, \"#7201a8\"], [0.3333333333333333, \"#9c179e\"], [0.4444444444444444, \"#bd3786\"], [0.5555555555555556, \"#d8576b\"], [0.6666666666666666, \"#ed7953\"], [0.7777777777777778, \"#fb9f3a\"], [0.8888888888888888, \"#fdca26\"], [1.0, \"#f0f921\"]], \"type\": \"histogram2d\"}], \"histogram2dcontour\": [{\"colorbar\": {\"outlinewidth\": 0, \"ticks\": \"\"}, \"colorscale\": [[0.0, \"#0d0887\"], [0.1111111111111111, \"#46039f\"], [0.2222222222222222, \"#7201a8\"], [0.3333333333333333, \"#9c179e\"], [0.4444444444444444, \"#bd3786\"], [0.5555555555555556, \"#d8576b\"], [0.6666666666666666, \"#ed7953\"], [0.7777777777777778, \"#fb9f3a\"], [0.8888888888888888, \"#fdca26\"], [1.0, \"#f0f921\"]], \"type\": \"histogram2dcontour\"}], \"mesh3d\": [{\"colorbar\": {\"outlinewidth\": 0, \"ticks\": \"\"}, \"type\": \"mesh3d\"}], \"parcoords\": [{\"line\": {\"colorbar\": {\"outlinewidth\": 0, \"ticks\": \"\"}}, \"type\": \"parcoords\"}], \"scatter\": [{\"marker\": {\"colorbar\": {\"outlinewidth\": 0, \"ticks\": \"\"}}, \"type\": \"scatter\"}], \"scatter3d\": [{\"line\": {\"colorbar\": {\"outlinewidth\": 0, \"ticks\": \"\"}}, \"marker\": {\"colorbar\": {\"outlinewidth\": 0, \"ticks\": \"\"}}, \"type\": \"scatter3d\"}], \"scattercarpet\": [{\"marker\": {\"colorbar\": {\"outlinewidth\": 0, \"ticks\": \"\"}}, \"type\": \"scattercarpet\"}], \"scattergeo\": [{\"marker\": {\"colorbar\": {\"outlinewidth\": 0, \"ticks\": \"\"}}, \"type\": \"scattergeo\"}], \"scattergl\": [{\"marker\": {\"colorbar\": {\"outlinewidth\": 0, \"ticks\": \"\"}}, \"type\": \"scattergl\"}], \"scattermapbox\": [{\"marker\": {\"colorbar\": {\"outlinewidth\": 0, \"ticks\": \"\"}}, \"type\": \"scattermapbox\"}], \"scatterpolar\": [{\"marker\": {\"colorbar\": {\"outlinewidth\": 0, \"ticks\": \"\"}}, \"type\": \"scatterpolar\"}], \"scatterpolargl\": [{\"marker\": {\"colorbar\": {\"outlinewidth\": 0, \"ticks\": \"\"}}, \"type\": \"scatterpolargl\"}], \"scatterternary\": [{\"marker\": {\"colorbar\": {\"outlinewidth\": 0, \"ticks\": \"\"}}, \"type\": \"scatterternary\"}], \"surface\": [{\"colorbar\": {\"outlinewidth\": 0, \"ticks\": \"\"}, \"colorscale\": [[0.0, \"#0d0887\"], [0.1111111111111111, \"#46039f\"], [0.2222222222222222, \"#7201a8\"], [0.3333333333333333, \"#9c179e\"], [0.4444444444444444, \"#bd3786\"], [0.5555555555555556, \"#d8576b\"], [0.6666666666666666, \"#ed7953\"], [0.7777777777777778, \"#fb9f3a\"], [0.8888888888888888, \"#fdca26\"], [1.0, \"#f0f921\"]], \"type\": \"surface\"}], \"table\": [{\"cells\": {\"fill\": {\"color\": \"#EBF0F8\"}, \"line\": {\"color\": \"white\"}}, \"header\": {\"fill\": {\"color\": \"#C8D4E3\"}, \"line\": {\"color\": \"white\"}}, \"type\": \"table\"}]}, \"layout\": {\"annotationdefaults\": {\"arrowcolor\": \"#2a3f5f\", \"arrowhead\": 0, \"arrowwidth\": 1}, \"colorscale\": {\"diverging\": [[0, \"#8e0152\"], [0.1, \"#c51b7d\"], [0.2, \"#de77ae\"], [0.3, \"#f1b6da\"], [0.4, \"#fde0ef\"], [0.5, \"#f7f7f7\"], [0.6, \"#e6f5d0\"], [0.7, \"#b8e186\"], [0.8, \"#7fbc41\"], [0.9, \"#4d9221\"], [1, \"#276419\"]], \"sequential\": [[0.0, \"#0d0887\"], [0.1111111111111111, \"#46039f\"], [0.2222222222222222, \"#7201a8\"], [0.3333333333333333, \"#9c179e\"], [0.4444444444444444, \"#bd3786\"], [0.5555555555555556, \"#d8576b\"], [0.6666666666666666, \"#ed7953\"], [0.7777777777777778, \"#fb9f3a\"], [0.8888888888888888, \"#fdca26\"], [1.0, \"#f0f921\"]], \"sequentialminus\": [[0.0, \"#0d0887\"], [0.1111111111111111, \"#46039f\"], [0.2222222222222222, \"#7201a8\"], [0.3333333333333333, \"#9c179e\"], [0.4444444444444444, \"#bd3786\"], [0.5555555555555556, \"#d8576b\"], [0.6666666666666666, \"#ed7953\"], [0.7777777777777778, \"#fb9f3a\"], [0.8888888888888888, \"#fdca26\"], [1.0, \"#f0f921\"]]}, \"colorway\": [\"#636efa\", \"#EF553B\", \"#00cc96\", \"#ab63fa\", \"#FFA15A\", \"#19d3f3\", \"#FF6692\", \"#B6E880\", \"#FF97FF\", \"#FECB52\"], \"font\": {\"color\": \"#2a3f5f\"}, \"geo\": {\"bgcolor\": \"white\", \"lakecolor\": \"white\", \"landcolor\": \"#E5ECF6\", \"showlakes\": true, \"showland\": true, \"subunitcolor\": \"white\"}, \"hoverlabel\": {\"align\": \"left\"}, \"hovermode\": \"closest\", \"mapbox\": {\"style\": \"light\"}, \"paper_bgcolor\": \"white\", \"plot_bgcolor\": \"#E5ECF6\", \"polar\": {\"angularaxis\": {\"gridcolor\": \"white\", \"linecolor\": \"white\", \"ticks\": \"\"}, \"bgcolor\": \"#E5ECF6\", \"radialaxis\": {\"gridcolor\": \"white\", \"linecolor\": \"white\", \"ticks\": \"\"}}, \"scene\": {\"xaxis\": {\"backgroundcolor\": \"#E5ECF6\", \"gridcolor\": \"white\", \"gridwidth\": 2, \"linecolor\": \"white\", \"showbackground\": true, \"ticks\": \"\", \"zerolinecolor\": \"white\"}, \"yaxis\": {\"backgroundcolor\": \"#E5ECF6\", \"gridcolor\": \"white\", \"gridwidth\": 2, \"linecolor\": \"white\", \"showbackground\": true, \"ticks\": \"\", \"zerolinecolor\": \"white\"}, \"zaxis\": {\"backgroundcolor\": \"#E5ECF6\", \"gridcolor\": \"white\", \"gridwidth\": 2, \"linecolor\": \"white\", \"showbackground\": true, \"ticks\": \"\", \"zerolinecolor\": \"white\"}}, \"shapedefaults\": {\"line\": {\"color\": \"#2a3f5f\"}}, \"ternary\": {\"aaxis\": {\"gridcolor\": \"white\", \"linecolor\": \"white\", \"ticks\": \"\"}, \"baxis\": {\"gridcolor\": \"white\", \"linecolor\": \"white\", \"ticks\": \"\"}, \"bgcolor\": \"#E5ECF6\", \"caxis\": {\"gridcolor\": \"white\", \"linecolor\": \"white\", \"ticks\": \"\"}}, \"title\": {\"x\": 0.05}, \"xaxis\": {\"automargin\": true, \"gridcolor\": \"white\", \"linecolor\": \"white\", \"ticks\": \"\", \"zerolinecolor\": \"white\", \"zerolinewidth\": 2}, \"yaxis\": {\"automargin\": true, \"gridcolor\": \"white\", \"linecolor\": \"white\", \"ticks\": \"\", \"zerolinecolor\": \"white\", \"zerolinewidth\": 2}}}, \"width\": 600, \"xaxis\": {\"anchor\": \"y\", \"domain\": [0.0, 0.98], \"title\": {\"text\": \"t\"}}, \"yaxis\": {\"anchor\": \"x\", \"domain\": [0.0, 1.0], \"title\": {\"text\": \"I\"}}},\n",
       "                        {\"responsive\": true}\n",
       "                    ).then(function(){\n",
       "                            \n",
       "var gd = document.getElementById('d857d4c9-5571-49f3-ab16-7d27bb203267');\n",
       "var x = new MutationObserver(function (mutations, observer) {{\n",
       "        var display = window.getComputedStyle(gd).display;\n",
       "        if (!display || display === 'none') {{\n",
       "            console.log([gd, 'removed!']);\n",
       "            Plotly.purge(gd);\n",
       "            observer.disconnect();\n",
       "        }}\n",
       "}});\n",
       "\n",
       "// Listen for the removal of the full notebook cells\n",
       "var notebookContainer = gd.closest('#notebook-container');\n",
       "if (notebookContainer) {{\n",
       "    x.observe(notebookContainer, {childList: true});\n",
       "}}\n",
       "\n",
       "// Listen for the clearing of the current output cell\n",
       "var outputEl = gd.closest('.output');\n",
       "if (outputEl) {{\n",
       "    x.observe(outputEl, {childList: true});\n",
       "}}\n",
       "\n",
       "                        })\n",
       "                };\n",
       "                });\n",
       "            </script>\n",
       "        </div>"
      ]
     },
     "metadata": {},
     "output_type": "display_data"
    }
   ],
   "source": [
    "px.line(df,x='t',y='I',color='p', height=400,width=600)"
   ]
  },
  {
   "cell_type": "markdown",
   "metadata": {},
   "source": [
    "### SIR Model\n",
    "\n",
    "En los modelos anteriores, una persona que adopta una tecnologia o adquiere una enfermedad o informacion, nunca la pierde. Si queremos modelar que los individuos puedan abandonar el estado de infectado, usamos otro estado mas, **recuperado/removido**.\n",
    "- S: susceptible\n",
    "- I: infectado/informado\n",
    "- R: recuperado/removido\n",
    "\n",
    "Asumimos que los que se recuperan vuelven a entrar a los susceptibles.\n",
    "\n",
    "#### $$I_{t+1}=I_t + [P_{contact}*P_{spread}*\\frac{I_t}{N}*S_t] - [P_{recover}*I_t]$$\n",
    "\n",
    "El modelo SIR produce un **tipping point** conocido como **basic reproduction number, $R_0$ (numero basico de reproduccion)**: el ratio de la probabilidad de contacto y de espread con la probabilidad de recuperacion:\n",
    "#### $$R_0 = \\frac{P_{contact}*P_{spread}}{P_{recover}}$$\n",
    "\n",
    "Si es >1, se puede expandir a la poblacion. Si es <1, se disipan. En este modelo, **no debe expandirse a toda la poblacion necesariamente**. Si lo hace o no, depende de $R_0$. Las medidas que se toman son para reducir esta metrica. Por ejemplo se puede vacunar. No es necesario vacunar a todos. Lo necesario es que la proporcion de vacunados, $V>= \\frac{R_0-1}{R_0}$. Si $R_0$ es mayor, se necesita una proporcion de vacunados mayor.\n"
   ]
  },
  {
   "cell_type": "code",
   "execution_count": 301,
   "metadata": {},
   "outputs": [
    {
     "data": {
      "text/html": [
       "<div>\n",
       "<style scoped>\n",
       "    .dataframe tbody tr th:only-of-type {\n",
       "        vertical-align: middle;\n",
       "    }\n",
       "\n",
       "    .dataframe tbody tr th {\n",
       "        vertical-align: top;\n",
       "    }\n",
       "\n",
       "    .dataframe thead th {\n",
       "        text-align: right;\n",
       "    }\n",
       "</style>\n",
       "<table border=\"1\" class=\"dataframe\">\n",
       "  <thead>\n",
       "    <tr style=\"text-align: right;\">\n",
       "      <th></th>\n",
       "      <th>I</th>\n",
       "      <th>R_0</th>\n",
       "      <th>S</th>\n",
       "      <th>t</th>\n",
       "    </tr>\n",
       "  </thead>\n",
       "  <tbody>\n",
       "    <tr>\n",
       "      <th>0</th>\n",
       "      <td>1.000000</td>\n",
       "      <td>3.6</td>\n",
       "      <td>1000000.000000</td>\n",
       "      <td>1.0</td>\n",
       "    </tr>\n",
       "    <tr>\n",
       "      <th>1</th>\n",
       "      <td>1.000000</td>\n",
       "      <td>3.6</td>\n",
       "      <td>1000000.000000</td>\n",
       "      <td>2.0</td>\n",
       "    </tr>\n",
       "    <tr>\n",
       "      <th>2</th>\n",
       "      <td>1.260000</td>\n",
       "      <td>3.6</td>\n",
       "      <td>999998.740000</td>\n",
       "      <td>3.0</td>\n",
       "    </tr>\n",
       "    <tr>\n",
       "      <th>3</th>\n",
       "      <td>1.587599</td>\n",
       "      <td>3.6</td>\n",
       "      <td>999998.412401</td>\n",
       "      <td>4.0</td>\n",
       "    </tr>\n",
       "    <tr>\n",
       "      <th>4</th>\n",
       "      <td>2.000374</td>\n",
       "      <td>3.6</td>\n",
       "      <td>999997.999626</td>\n",
       "      <td>5.0</td>\n",
       "    </tr>\n",
       "  </tbody>\n",
       "</table>\n",
       "</div>"
      ],
      "text/plain": [
       "          I  R_0               S    t\n",
       "0  1.000000  3.6  1000000.000000  1.0\n",
       "1  1.000000  3.6  1000000.000000  2.0\n",
       "2  1.260000  3.6   999998.740000  3.0\n",
       "3  1.587599  3.6   999998.412401  4.0\n",
       "4  2.000374  3.6   999997.999626  5.0"
      ]
     },
     "execution_count": 301,
     "metadata": {},
     "output_type": "execute_result"
    }
   ],
   "source": [
    "t= np.arange(1,150,1)\n",
    "N= 1000000\n",
    "\n",
    "p_con= 0.6\n",
    "p_spr= 0.6\n",
    "p_rec= 0.1\n",
    "df= pd.DataFrame({'t':t})\n",
    "df['I']= 1\n",
    "df['S']= N\n",
    "df['R_0']= p_con*p_spr/p_rec\n",
    "for i in t:\n",
    "    df.loc[i+1,'I']= df.loc[i,'I'] + [p_con*p_spr*df.loc[i,'I']/N*df.loc[i,'S']] - [p_rec*df.loc[i,'I']] \n",
    "    df.loc[i+1,'S']= N-df.loc[i+1,'I']\n",
    "\n",
    "\n",
    "p_con= 0.6\n",
    "p_spr= 0.9\n",
    "p_rec= 0.4\n",
    "df2= pd.DataFrame({'t':t})\n",
    "df2['I']= 1\n",
    "df2['S']= N\n",
    "df2['R_0']= p_con*p_spr/p_rec\n",
    "for i in t:\n",
    "    df2.loc[i+1,'I']= df2.loc[i,'I'] + [p_con*p_spr*df2.loc[i,'I']/N*df2.loc[i,'S']] - [p_rec*df2.loc[i,'I']] \n",
    "    df2.loc[i+1,'S']= N-df2.loc[i+1,'I']\n",
    "\n",
    "p_con= 0.6\n",
    "p_spr= 0.4\n",
    "p_rec= 0.4\n",
    "df3= pd.DataFrame({'t':t})\n",
    "df3['I']= 1\n",
    "df3['S']= N\n",
    "df3['R_0']= p_con*p_spr/p_rec\n",
    "for i in t:\n",
    "    df3.loc[i+1,'I']= df3.loc[i,'I'] + [p_con*p_spr*df3.loc[i,'I']/N*df3.loc[i,'S']] - [p_rec*df3.loc[i,'I']] \n",
    "    df3.loc[i+1,'S']= N-df3.loc[i+1,'I']    \n",
    "\n",
    "df= pd.concat([df,df2,df3],sort=True)\n",
    "df= df.dropna().reset_index(drop=True)\n",
    "df.head()"
   ]
  },
  {
   "cell_type": "code",
   "execution_count": 302,
   "metadata": {},
   "outputs": [
    {
     "data": {
      "application/vnd.plotly.v1+json": {
       "config": {
        "plotlyServerURL": "https://plot.ly"
       },
       "data": [
        {
         "hoverlabel": {
          "namelength": 0
         },
         "hovertemplate": "R_0=3.5999999999999996<br>t=%{x}<br>I=%{y}",
         "legendgroup": "R_0=3.5999999999999996",
         "line": {
          "color": "#636efa",
          "dash": "solid"
         },
         "mode": "lines",
         "name": "R_0=3.5999999999999996",
         "showlegend": true,
         "type": "scatter",
         "x": [
          1,
          2,
          3,
          4,
          5,
          6,
          7,
          8,
          9,
          10,
          11,
          12,
          13,
          14,
          15,
          16,
          17,
          18,
          19,
          20,
          21,
          22,
          23,
          24,
          25,
          26,
          27,
          28,
          29,
          30,
          31,
          32,
          33,
          34,
          35,
          36,
          37,
          38,
          39,
          40,
          41,
          42,
          43,
          44,
          45,
          46,
          47,
          48,
          49,
          50,
          51,
          52,
          53,
          54,
          55,
          56,
          57,
          58,
          59,
          60,
          61,
          62,
          63,
          64,
          65,
          66,
          67,
          68,
          69,
          70,
          71,
          72,
          73,
          74,
          75,
          76,
          77,
          78,
          79,
          80,
          81,
          82,
          83,
          84,
          85,
          86,
          87,
          88,
          89,
          90,
          91,
          92,
          93,
          94,
          95,
          96,
          97,
          98,
          99,
          100,
          101,
          102,
          103,
          104,
          105,
          106,
          107,
          108,
          109,
          110,
          111,
          112,
          113,
          114,
          115,
          116,
          117,
          118,
          119,
          120,
          121,
          122,
          123,
          124,
          125,
          126,
          127,
          128,
          129,
          130,
          131,
          132,
          133,
          134,
          135,
          136,
          137,
          138,
          139,
          140,
          141,
          142,
          143,
          144,
          145,
          146,
          147,
          148,
          149
         ],
         "xaxis": "x",
         "y": [
          1,
          1,
          1.2599999999999998,
          1.5875994284639998,
          2.0003743724947394,
          2.5204702688042246,
          3.1757902516959877,
          4.001492086305204,
          5.041874264446546,
          6.352752421824053,
          8.004453522811506,
          10.085588373083066,
          12.707804731211244,
          16.011775825537775,
          20.174745244470163,
          25.42003248070796,
          32.02900830159355,
          40.35618115135367,
          50.84820194701706,
          64.06780365897065,
          80.72395492425537,
          101.70983731607825,
          128.15067085749612,
          161.46393314644627,
          203.43517034790773,
          256.31341572569136,
          322.931253050222,
          406.8558363893689,
          512.5787624488273,
          645.7546553699456,
          813.5007460991559,
          1024.772698037931,
          1290.8355422580412,
          1625.8529309421556,
          2047.6230697960168,
          2578.4956742580353,
          3246.5110391859444,
          4086.8095691603694,
          5143.367332658417,
          6471.119317242888,
          8138.535201047561,
          10230.709481441198,
          12853.013676678196,
          16135.32524680829,
          20236.784271483142,
          25350.91830451456,
          31710.79620249076,
          39593.596360651834,
          49323.576380224025,
          61271.89277178539,
          75851.05674866821,
          93501.11369176165,
          114664.11827744376,
          139743.55942225544,
          169046.7104080413,
          202711.21060621119,
          240623.06479786924,
          282341.2562927362,
          327052.01232706185,
          373578.8487759129,
          420467.3332066651,
          466143.43965458515,
          509116.43968489446,
          548174.8763062948,
          582521.8939410998,
          611818.1538743244,
          636135.1506539816,
          655849.8350608938,
          671520.7499629415,
          683777.7026062214,
          693241.2045145198,
          700473.9053390677,
          705958.1915852778,
          710091.612821562,
          713192.5966593383,
          715510.947016078,
          717239.6637323141,
          718526.1916196124,
          719482.2417450934,
          720191.9339716615,
          720718.3249714703,
          721108.5240421671,
          721397.6390524723,
          721611.7858991419,
          721770.3651954411,
          721887.774519486,
          721974.6906543017,
          722039.0268040854,
          722086.6455309988,
          722121.8888535427,
          722147.9719053569,
          722167.2750030224,
          722181.5601931035,
          722192.1317254502,
          722199.9549286533,
          722205.7442464816,
          722210.0284224256,
          722213.1987568447,
          722215.5448285306,
          722217.2809348389,
          722218.5656607687,
          722219.5163619332,
          722220.2198829725,
          722220.7404897341,
          722221.1257393906,
          722221.4108244941,
          722221.6217876663,
          722221.7779005211,
          722221.8934240922,
          722221.978911567,
          722222.0421723161,
          722222.08898528,
          722222.1236268786,
          722222.1492616644,
          722222.1682314074,
          722222.1822690183,
          722222.1926568507,
          722222.2003438469,
          722222.2060322242,
          722222.2102416237,
          722222.2133565792,
          722222.2156616463,
          722222.217367396,
          722222.2186296508,
          722222.2195637194,
          722222.2202549301,
          722222.220766426,
          722222.221144933,
          722222.2214250283,
          722222.2216322988,
          722222.2217856789,
          722222.2218991801,
          722222.221983171,
          722222.2220453243,
          722222.2220913176,
          722222.2221253528,
          722222.2221505388,
          722222.2221691766,
          722222.2221829684,
          722222.2221931744,
          722222.2222007269,
          722222.2222063157,
          722222.2222104515,
          722222.2222135118,
          722222.2222157764,
          722222.2222174524,
          722222.2222186925,
          722222.2222196102,
          722222.2222202894
         ],
         "yaxis": "y"
        },
        {
         "hoverlabel": {
          "namelength": 0
         },
         "hovertemplate": "R_0=1.35<br>t=%{x}<br>I=%{y}",
         "legendgroup": "R_0=1.35",
         "line": {
          "color": "#EF553B",
          "dash": "solid"
         },
         "mode": "lines",
         "name": "R_0=1.35",
         "showlegend": true,
         "type": "scatter",
         "x": [
          1,
          2,
          3,
          4,
          5,
          6,
          7,
          8,
          9,
          10,
          11,
          12,
          13,
          14,
          15,
          16,
          17,
          18,
          19,
          20,
          21,
          22,
          23,
          24,
          25,
          26,
          27,
          28,
          29,
          30,
          31,
          32,
          33,
          34,
          35,
          36,
          37,
          38,
          39,
          40,
          41,
          42,
          43,
          44,
          45,
          46,
          47,
          48,
          49,
          50,
          51,
          52,
          53,
          54,
          55,
          56,
          57,
          58,
          59,
          60,
          61,
          62,
          63,
          64,
          65,
          66,
          67,
          68,
          69,
          70,
          71,
          72,
          73,
          74,
          75,
          76,
          77,
          78,
          79,
          80,
          81,
          82,
          83,
          84,
          85,
          86,
          87,
          88,
          89,
          90,
          91,
          92,
          93,
          94,
          95,
          96,
          97,
          98,
          99,
          100,
          101,
          102,
          103,
          104,
          105,
          106,
          107,
          108,
          109,
          110,
          111,
          112,
          113,
          114,
          115,
          116,
          117,
          118,
          119,
          120,
          121,
          122,
          123,
          124,
          125,
          126,
          127,
          128,
          129,
          130,
          131,
          132,
          133,
          134,
          135,
          136,
          137,
          138,
          139,
          140,
          141,
          142,
          143,
          144,
          145,
          146,
          147,
          148,
          149
         ],
         "xaxis": "x",
         "y": [
          1,
          1,
          1.1400000000000001,
          1.2995992982160005,
          1.4815422879287392,
          1.688957022956285,
          1.9254094657792191,
          2.1949647890994397,
          2.5022572579233313,
          2.8525698929352497,
          3.251925283882488,
          3.7071891131162884,
          4.2261881675969635,
          4.817844866300668,
          5.492330613303016,
          6.261240609689832,
          7.137793125354063,
          8.137056650934653,
          9.276208827752399,
          10.574831597690618,
          12.055247634753114,
          13.74290382596096,
          15.666808373196485,
          17.860029003046307,
          20.360260813929358,
          23.210473476160445,
          26.45964885074025,
          30.16362162881454,
          34.38603734105091,
          39.19944407303346,
          44.686536481193706,
          50.94157326982777,
          58.07199220390457,
          66.20025004006081,
          75.46591851019244,
          86.02807174499682,
          98.06800534156719,
          111.79233272920388,
          127.43651064743763,
          145.26885250338606,
          165.59509621252596,
          188.76360194489916,
          215.1712651005787,
          245.2702409310642,
          279.5755896162265,
          318.67396440693125,
          363.23348075228256,
          414.0149212343707,
          471.88444969548016,
          537.8280281885607,
          612.9677522814904,
          698.5803436896172,
          796.118063978005,
          907.232338790158,
          1033.8004081418449,
          1177.955343908411,
          1342.1197995077773,
          1529.0438772385014,
          1741.8475134554906,
          1984.067787648788,
          2259.711554427186,
          2573.313772040018,
          2930.00185049016,
          3335.56625770309,
          3796.537492561378,
          4320.269345176461,
          4915.028100805134,
          5590.086984252733,
          6355.824662902698,
          7223.8260018504725,
          8206.982464572833,
          9319.588546579174,
          10577.429388534392,
          11997.853216195716,
          13599.82048629253,
          15403.919591053422,
          17432.336734866374,
          19708.76524116727,
          22258.23724417171,
          25106.858730738117,
          28281.427601165822,
          31808.914325862646,
          35715.78653496478,
          40027.16324964181,
          44765.79225377238,
          49950.85604500225,
          55596.62836070315,
          61711.0243852594,
          68294.11251262955,
          75336.68193029833,
          82818.98495263596,
          90709.79134096912,
          98965.89835633883,
          107532.22964598857,
          116342.62437360268,
          125321.36441299299,
          134385.41546651156,
          143447.27609116546,
          152418.2493942221,
          161211.89002527756,
          169747.34694663447,
          177952.32814963593,
          185765.45729989206,
          193137.86655392442,
          200033.96070309303,
          206431.37906686013,
          212320.25843395985,
          217701.952858324,
          222587.39050819227,
          226995.24611618608,
          230950.08602240428,
          234480.60925931268,
          237618.0702515625,
          240394.93253934,
          242843.7723559269,
          244996.42768884578,
          246883.37279192443,
          248533.289111791,
          249972.79985721022,
          251226.3354762551,
          252316.09975904375,
          253262.1100585974,
          254082.28941548115,
          254792.59264455782,
          255407.15237086668,
          255938.43442240264,
          256397.3948456602,
          256793.63311888633,
          257135.53794991592,
          257430.4234294361,
          257684.65433974544,
          257903.760162925,
          258092.5378523997,
          258255.14378038578,
          258395.1754935648,
          258515.74403475478,
          258619.53764614533,
          258708.87768036046,
          258785.76752466982,
          258851.93530252407,
          258908.87106355187,
          258957.85911413154,
          259000.0060797438,
          259036.26523028198,
          259067.4575421168,
          259094.28991705147,
          259117.37092892325,
          259137.2244237292,
          259154.30125875282
         ],
         "yaxis": "y"
        },
        {
         "hoverlabel": {
          "namelength": 0
         },
         "hovertemplate": "R_0=0.6<br>t=%{x}<br>I=%{y}",
         "legendgroup": "R_0=0.6",
         "line": {
          "color": "#00cc96",
          "dash": "solid"
         },
         "mode": "lines",
         "name": "R_0=0.6",
         "showlegend": true,
         "type": "scatter",
         "x": [
          1,
          2,
          3,
          4,
          5,
          6,
          7,
          8,
          9,
          10,
          11,
          12,
          13,
          14,
          15,
          16,
          17,
          18,
          19,
          20,
          21,
          22,
          23,
          24,
          25,
          26,
          27,
          28,
          29,
          30,
          31,
          32,
          33,
          34,
          35,
          36,
          37,
          38,
          39,
          40,
          41,
          42,
          43,
          44,
          45,
          46,
          47,
          48,
          49,
          50,
          51,
          52,
          53,
          54,
          55,
          56,
          57,
          58,
          59,
          60,
          61,
          62,
          63,
          64,
          65,
          66,
          67,
          68,
          69,
          70,
          71,
          72,
          73,
          74,
          75,
          76,
          77,
          78,
          79,
          80,
          81,
          82,
          83,
          84,
          85,
          86,
          87,
          88,
          89,
          90,
          91,
          92,
          93,
          94,
          95,
          96,
          97,
          98,
          99,
          100,
          101,
          102,
          103,
          104,
          105,
          106,
          107,
          108,
          109,
          110,
          111,
          112,
          113,
          114,
          115,
          116,
          117,
          118,
          119,
          120,
          121,
          122,
          123,
          124,
          125,
          126,
          127,
          128,
          129,
          130,
          131,
          132,
          133,
          134,
          135,
          136,
          137,
          138,
          139,
          140,
          141,
          142,
          143,
          144,
          145,
          146,
          147,
          148,
          149
         ],
         "xaxis": "x",
         "y": [
          1,
          1,
          0.84,
          0.7055998306559998,
          0.5927037382619708,
          0.49787105582860236,
          0.4182116274058848,
          0.3512977250447116,
          0.2950900594191357,
          0.24787562901331966,
          0.20821551362502994,
          0.1749010210401371,
          0.14691685033202706,
          0.12341014909860812,
          0.10366452158761523,
          0.08707819555447685,
          0.07314568244593364,
          0.061442371970514456,
          0.05161159154919252,
          0.04335373626202019,
          0.036417138009005805,
          0.030590395609274967,
          0.025695932087205615,
          0.02158458279478529,
          0.018131049435805034,
          0.01523008144717984,
          0.012793268359961772,
          0.010746345383087635,
          0.009026930094077469,
          0.0075826212594685615,
          0.006369401844154516,
          0.005350297539353167,
          0.004494249926186496,
          0.003775169933149069,
          0.0031711427404247598,
          0.0026637598995433226,
          0.0022375583139134427,
          0.0018795489824856917,
          0.001578821144440132,
          0.0013262097607314683,
          0.0011140161985923138,
          0.0009357736065196958,
          0.0007860498292663832,
          0.0006602818564354721,
          0.0005546367593011632,
          0.00046589487773914787,
          0.0003913516972487903,
          0.00032873542565222633,
          0.00027613775752193404,
          0.00023195571630012408,
          0.00019484280167919143,
          0.00016366795340140951,
          0.00013748108085075508,
          0.00011548410791009802,
          9.700665064128156e-05,
          8.148558653641804e-05,
          6.844789268899757e-05,
          5.749622985763353e-05,
          4.829683307961877e-05,
          4.056933978631994e-05,
          3.4078245420113744e-05,
          2.8625726152616828e-05,
          2.404560996800147e-05,
          2.0198312372982467e-05,
          1.6966582393207357e-05,
          1.4251929210225091e-05,
          1.1971620536540329e-05,
          1.0056161250659479e-05,
          8.447175450529692e-06,
          7.095627378427815e-06,
          5.960326997867281e-06,
          5.00667467819999e-06,
          4.205606729681976e-06,
          3.5327096529286153e-06,
          2.9674761084570413e-06,
          2.4926799311018015e-06,
          2.093851142124022e-06,
          1.758834959383126e-06,
          1.4774213658810832e-06,
          1.2410339473395857e-06,
          1.0424685157648824e-06,
          8.756735532422402e-07,
          7.355657847232979e-07,
          6.178752591674404e-07,
          5.190152177005583e-07,
          4.359727828684042e-07,
          3.6621713760941394e-07,
          3.0762239559187555e-07,
          2.5840281229715273e-07,
          2.1705836232959225e-07,
          1.8232902435684616e-07,
          1.5315638045974278e-07,
          1.2865135958617828e-07,
          1.0806714205238578e-07,
          9.077639932400126e-08,
          7.625217543215908e-08,
          6.405182736301223e-08,
          5.380353498492929e-08,
          4.519496938733991e-08,
          3.796377428536503e-08,
          3.1889570399706276e-08,
          2.6787239135753028e-08,
          2.2501280874032375e-08,
          1.890107593418707e-08,
          1.5876903784717054e-08,
          1.3336599179162265e-08,
          1.120274331049626e-08,
          9.410304380816829e-09,
          7.904655679886114e-09,
          6.63991077110432e-09,
          5.577525047727618e-09,
          4.685121040091192e-09,
          3.935501673676596e-09,
          3.3058214058883366e-09,
          2.7768899809462e-09,
          2.3325875839948064e-09,
          1.9593735705556354e-09,
          1.6458737992667327e-09,
          1.3825339913840547e-09,
          1.1613285527626053e-09,
          9.755159843205881e-10,
          8.194334268292938e-10,
          6.883240785366066e-10,
          5.781922259707494e-10,
          4.856814698154294e-10,
          4.0797243464496057e-10,
          3.4269684510176687e-10,
          2.878653498854841e-10,
          2.418068939038066e-10,
          2.031177908791975e-10,
          1.7061894433852587e-10,
          1.4331991324436174e-10,
          1.2038872712526384e-10,
          1.0112653078522161e-10,
          8.494628585958616e-11,
          7.135488012205236e-11,
          5.993809930252397e-11,
          5.034800341412013e-11,
          4.229232286786091e-11,
          3.552555120900316e-11,
          2.9841463015562655e-11,
          2.5066828933072625e-11,
          2.1056136303781002e-11,
          1.768715449517604e-11,
          1.485720977594787e-11,
          1.2480056211796213e-11,
          1.0483247217908818e-11,
          8.805927663043407e-12,
          7.396979236956461e-12
         ],
         "yaxis": "y"
        }
       ],
       "layout": {
        "height": 400,
        "legend": {
         "tracegroupgap": 0
        },
        "margin": {
         "t": 60
        },
        "template": {
         "data": {
          "bar": [
           {
            "error_x": {
             "color": "#2a3f5f"
            },
            "error_y": {
             "color": "#2a3f5f"
            },
            "marker": {
             "line": {
              "color": "#E5ECF6",
              "width": 0.5
             }
            },
            "type": "bar"
           }
          ],
          "barpolar": [
           {
            "marker": {
             "line": {
              "color": "#E5ECF6",
              "width": 0.5
             }
            },
            "type": "barpolar"
           }
          ],
          "carpet": [
           {
            "aaxis": {
             "endlinecolor": "#2a3f5f",
             "gridcolor": "white",
             "linecolor": "white",
             "minorgridcolor": "white",
             "startlinecolor": "#2a3f5f"
            },
            "baxis": {
             "endlinecolor": "#2a3f5f",
             "gridcolor": "white",
             "linecolor": "white",
             "minorgridcolor": "white",
             "startlinecolor": "#2a3f5f"
            },
            "type": "carpet"
           }
          ],
          "choropleth": [
           {
            "colorbar": {
             "outlinewidth": 0,
             "ticks": ""
            },
            "type": "choropleth"
           }
          ],
          "contour": [
           {
            "colorbar": {
             "outlinewidth": 0,
             "ticks": ""
            },
            "colorscale": [
             [
              0,
              "#0d0887"
             ],
             [
              0.1111111111111111,
              "#46039f"
             ],
             [
              0.2222222222222222,
              "#7201a8"
             ],
             [
              0.3333333333333333,
              "#9c179e"
             ],
             [
              0.4444444444444444,
              "#bd3786"
             ],
             [
              0.5555555555555556,
              "#d8576b"
             ],
             [
              0.6666666666666666,
              "#ed7953"
             ],
             [
              0.7777777777777778,
              "#fb9f3a"
             ],
             [
              0.8888888888888888,
              "#fdca26"
             ],
             [
              1,
              "#f0f921"
             ]
            ],
            "type": "contour"
           }
          ],
          "contourcarpet": [
           {
            "colorbar": {
             "outlinewidth": 0,
             "ticks": ""
            },
            "type": "contourcarpet"
           }
          ],
          "heatmap": [
           {
            "colorbar": {
             "outlinewidth": 0,
             "ticks": ""
            },
            "colorscale": [
             [
              0,
              "#0d0887"
             ],
             [
              0.1111111111111111,
              "#46039f"
             ],
             [
              0.2222222222222222,
              "#7201a8"
             ],
             [
              0.3333333333333333,
              "#9c179e"
             ],
             [
              0.4444444444444444,
              "#bd3786"
             ],
             [
              0.5555555555555556,
              "#d8576b"
             ],
             [
              0.6666666666666666,
              "#ed7953"
             ],
             [
              0.7777777777777778,
              "#fb9f3a"
             ],
             [
              0.8888888888888888,
              "#fdca26"
             ],
             [
              1,
              "#f0f921"
             ]
            ],
            "type": "heatmap"
           }
          ],
          "heatmapgl": [
           {
            "colorbar": {
             "outlinewidth": 0,
             "ticks": ""
            },
            "colorscale": [
             [
              0,
              "#0d0887"
             ],
             [
              0.1111111111111111,
              "#46039f"
             ],
             [
              0.2222222222222222,
              "#7201a8"
             ],
             [
              0.3333333333333333,
              "#9c179e"
             ],
             [
              0.4444444444444444,
              "#bd3786"
             ],
             [
              0.5555555555555556,
              "#d8576b"
             ],
             [
              0.6666666666666666,
              "#ed7953"
             ],
             [
              0.7777777777777778,
              "#fb9f3a"
             ],
             [
              0.8888888888888888,
              "#fdca26"
             ],
             [
              1,
              "#f0f921"
             ]
            ],
            "type": "heatmapgl"
           }
          ],
          "histogram": [
           {
            "marker": {
             "colorbar": {
              "outlinewidth": 0,
              "ticks": ""
             }
            },
            "type": "histogram"
           }
          ],
          "histogram2d": [
           {
            "colorbar": {
             "outlinewidth": 0,
             "ticks": ""
            },
            "colorscale": [
             [
              0,
              "#0d0887"
             ],
             [
              0.1111111111111111,
              "#46039f"
             ],
             [
              0.2222222222222222,
              "#7201a8"
             ],
             [
              0.3333333333333333,
              "#9c179e"
             ],
             [
              0.4444444444444444,
              "#bd3786"
             ],
             [
              0.5555555555555556,
              "#d8576b"
             ],
             [
              0.6666666666666666,
              "#ed7953"
             ],
             [
              0.7777777777777778,
              "#fb9f3a"
             ],
             [
              0.8888888888888888,
              "#fdca26"
             ],
             [
              1,
              "#f0f921"
             ]
            ],
            "type": "histogram2d"
           }
          ],
          "histogram2dcontour": [
           {
            "colorbar": {
             "outlinewidth": 0,
             "ticks": ""
            },
            "colorscale": [
             [
              0,
              "#0d0887"
             ],
             [
              0.1111111111111111,
              "#46039f"
             ],
             [
              0.2222222222222222,
              "#7201a8"
             ],
             [
              0.3333333333333333,
              "#9c179e"
             ],
             [
              0.4444444444444444,
              "#bd3786"
             ],
             [
              0.5555555555555556,
              "#d8576b"
             ],
             [
              0.6666666666666666,
              "#ed7953"
             ],
             [
              0.7777777777777778,
              "#fb9f3a"
             ],
             [
              0.8888888888888888,
              "#fdca26"
             ],
             [
              1,
              "#f0f921"
             ]
            ],
            "type": "histogram2dcontour"
           }
          ],
          "mesh3d": [
           {
            "colorbar": {
             "outlinewidth": 0,
             "ticks": ""
            },
            "type": "mesh3d"
           }
          ],
          "parcoords": [
           {
            "line": {
             "colorbar": {
              "outlinewidth": 0,
              "ticks": ""
             }
            },
            "type": "parcoords"
           }
          ],
          "scatter": [
           {
            "marker": {
             "colorbar": {
              "outlinewidth": 0,
              "ticks": ""
             }
            },
            "type": "scatter"
           }
          ],
          "scatter3d": [
           {
            "line": {
             "colorbar": {
              "outlinewidth": 0,
              "ticks": ""
             }
            },
            "marker": {
             "colorbar": {
              "outlinewidth": 0,
              "ticks": ""
             }
            },
            "type": "scatter3d"
           }
          ],
          "scattercarpet": [
           {
            "marker": {
             "colorbar": {
              "outlinewidth": 0,
              "ticks": ""
             }
            },
            "type": "scattercarpet"
           }
          ],
          "scattergeo": [
           {
            "marker": {
             "colorbar": {
              "outlinewidth": 0,
              "ticks": ""
             }
            },
            "type": "scattergeo"
           }
          ],
          "scattergl": [
           {
            "marker": {
             "colorbar": {
              "outlinewidth": 0,
              "ticks": ""
             }
            },
            "type": "scattergl"
           }
          ],
          "scattermapbox": [
           {
            "marker": {
             "colorbar": {
              "outlinewidth": 0,
              "ticks": ""
             }
            },
            "type": "scattermapbox"
           }
          ],
          "scatterpolar": [
           {
            "marker": {
             "colorbar": {
              "outlinewidth": 0,
              "ticks": ""
             }
            },
            "type": "scatterpolar"
           }
          ],
          "scatterpolargl": [
           {
            "marker": {
             "colorbar": {
              "outlinewidth": 0,
              "ticks": ""
             }
            },
            "type": "scatterpolargl"
           }
          ],
          "scatterternary": [
           {
            "marker": {
             "colorbar": {
              "outlinewidth": 0,
              "ticks": ""
             }
            },
            "type": "scatterternary"
           }
          ],
          "surface": [
           {
            "colorbar": {
             "outlinewidth": 0,
             "ticks": ""
            },
            "colorscale": [
             [
              0,
              "#0d0887"
             ],
             [
              0.1111111111111111,
              "#46039f"
             ],
             [
              0.2222222222222222,
              "#7201a8"
             ],
             [
              0.3333333333333333,
              "#9c179e"
             ],
             [
              0.4444444444444444,
              "#bd3786"
             ],
             [
              0.5555555555555556,
              "#d8576b"
             ],
             [
              0.6666666666666666,
              "#ed7953"
             ],
             [
              0.7777777777777778,
              "#fb9f3a"
             ],
             [
              0.8888888888888888,
              "#fdca26"
             ],
             [
              1,
              "#f0f921"
             ]
            ],
            "type": "surface"
           }
          ],
          "table": [
           {
            "cells": {
             "fill": {
              "color": "#EBF0F8"
             },
             "line": {
              "color": "white"
             }
            },
            "header": {
             "fill": {
              "color": "#C8D4E3"
             },
             "line": {
              "color": "white"
             }
            },
            "type": "table"
           }
          ]
         },
         "layout": {
          "annotationdefaults": {
           "arrowcolor": "#2a3f5f",
           "arrowhead": 0,
           "arrowwidth": 1
          },
          "colorscale": {
           "diverging": [
            [
             0,
             "#8e0152"
            ],
            [
             0.1,
             "#c51b7d"
            ],
            [
             0.2,
             "#de77ae"
            ],
            [
             0.3,
             "#f1b6da"
            ],
            [
             0.4,
             "#fde0ef"
            ],
            [
             0.5,
             "#f7f7f7"
            ],
            [
             0.6,
             "#e6f5d0"
            ],
            [
             0.7,
             "#b8e186"
            ],
            [
             0.8,
             "#7fbc41"
            ],
            [
             0.9,
             "#4d9221"
            ],
            [
             1,
             "#276419"
            ]
           ],
           "sequential": [
            [
             0,
             "#0d0887"
            ],
            [
             0.1111111111111111,
             "#46039f"
            ],
            [
             0.2222222222222222,
             "#7201a8"
            ],
            [
             0.3333333333333333,
             "#9c179e"
            ],
            [
             0.4444444444444444,
             "#bd3786"
            ],
            [
             0.5555555555555556,
             "#d8576b"
            ],
            [
             0.6666666666666666,
             "#ed7953"
            ],
            [
             0.7777777777777778,
             "#fb9f3a"
            ],
            [
             0.8888888888888888,
             "#fdca26"
            ],
            [
             1,
             "#f0f921"
            ]
           ],
           "sequentialminus": [
            [
             0,
             "#0d0887"
            ],
            [
             0.1111111111111111,
             "#46039f"
            ],
            [
             0.2222222222222222,
             "#7201a8"
            ],
            [
             0.3333333333333333,
             "#9c179e"
            ],
            [
             0.4444444444444444,
             "#bd3786"
            ],
            [
             0.5555555555555556,
             "#d8576b"
            ],
            [
             0.6666666666666666,
             "#ed7953"
            ],
            [
             0.7777777777777778,
             "#fb9f3a"
            ],
            [
             0.8888888888888888,
             "#fdca26"
            ],
            [
             1,
             "#f0f921"
            ]
           ]
          },
          "colorway": [
           "#636efa",
           "#EF553B",
           "#00cc96",
           "#ab63fa",
           "#FFA15A",
           "#19d3f3",
           "#FF6692",
           "#B6E880",
           "#FF97FF",
           "#FECB52"
          ],
          "font": {
           "color": "#2a3f5f"
          },
          "geo": {
           "bgcolor": "white",
           "lakecolor": "white",
           "landcolor": "#E5ECF6",
           "showlakes": true,
           "showland": true,
           "subunitcolor": "white"
          },
          "hoverlabel": {
           "align": "left"
          },
          "hovermode": "closest",
          "mapbox": {
           "style": "light"
          },
          "paper_bgcolor": "white",
          "plot_bgcolor": "#E5ECF6",
          "polar": {
           "angularaxis": {
            "gridcolor": "white",
            "linecolor": "white",
            "ticks": ""
           },
           "bgcolor": "#E5ECF6",
           "radialaxis": {
            "gridcolor": "white",
            "linecolor": "white",
            "ticks": ""
           }
          },
          "scene": {
           "xaxis": {
            "backgroundcolor": "#E5ECF6",
            "gridcolor": "white",
            "gridwidth": 2,
            "linecolor": "white",
            "showbackground": true,
            "ticks": "",
            "zerolinecolor": "white"
           },
           "yaxis": {
            "backgroundcolor": "#E5ECF6",
            "gridcolor": "white",
            "gridwidth": 2,
            "linecolor": "white",
            "showbackground": true,
            "ticks": "",
            "zerolinecolor": "white"
           },
           "zaxis": {
            "backgroundcolor": "#E5ECF6",
            "gridcolor": "white",
            "gridwidth": 2,
            "linecolor": "white",
            "showbackground": true,
            "ticks": "",
            "zerolinecolor": "white"
           }
          },
          "shapedefaults": {
           "line": {
            "color": "#2a3f5f"
           }
          },
          "ternary": {
           "aaxis": {
            "gridcolor": "white",
            "linecolor": "white",
            "ticks": ""
           },
           "baxis": {
            "gridcolor": "white",
            "linecolor": "white",
            "ticks": ""
           },
           "bgcolor": "#E5ECF6",
           "caxis": {
            "gridcolor": "white",
            "linecolor": "white",
            "ticks": ""
           }
          },
          "title": {
           "x": 0.05
          },
          "xaxis": {
           "automargin": true,
           "gridcolor": "white",
           "linecolor": "white",
           "ticks": "",
           "zerolinecolor": "white",
           "zerolinewidth": 2
          },
          "yaxis": {
           "automargin": true,
           "gridcolor": "white",
           "linecolor": "white",
           "ticks": "",
           "zerolinecolor": "white",
           "zerolinewidth": 2
          }
         }
        },
        "width": 600,
        "xaxis": {
         "anchor": "y",
         "autorange": true,
         "domain": [
          0,
          0.98
         ],
         "range": [
          1,
          149
         ],
         "title": {
          "text": "t"
         },
         "type": "linear"
        },
        "yaxis": {
         "anchor": "x",
         "autorange": true,
         "domain": [
          0,
          1
         ],
         "range": [
          -40123.45679001607,
          762345.6790103054
         ],
         "title": {
          "text": "I"
         },
         "type": "linear"
        }
       }
      },
      "image/png": "[encoded data removed]",
      "text/html": [
       "<div>\n",
       "        \n",
       "        \n",
       "            <div id=\"983fec31-984f-4552-93bf-36425e35da6e\" class=\"plotly-graph-div\" style=\"height:400px; width:600px;\"></div>\n",
       "            <script type=\"text/javascript\">\n",
       "                require([\"plotly\"], function(Plotly) {\n",
       "                    window.PLOTLYENV=window.PLOTLYENV || {};\n",
       "                    \n",
       "                if (document.getElementById(\"983fec31-984f-4552-93bf-36425e35da6e\")) {\n",
       "                    Plotly.newPlot(\n",
       "                        '983fec31-984f-4552-93bf-36425e35da6e',\n",
       "                        [{\"hoverlabel\": {\"namelength\": 0}, \"hovertemplate\": \"R_0=3.5999999999999996<br>t=%{x}<br>I=%{y}\", \"legendgroup\": \"R_0=3.5999999999999996\", \"line\": {\"color\": \"#636efa\", \"dash\": \"solid\"}, \"mode\": \"lines\", \"name\": \"R_0=3.5999999999999996\", \"showlegend\": true, \"type\": \"scatter\", \"x\": [1.0, 2.0, 3.0, 4.0, 5.0, 6.0, 7.0, 8.0, 9.0, 10.0, 11.0, 12.0, 13.0, 14.0, 15.0, 16.0, 17.0, 18.0, 19.0, 20.0, 21.0, 22.0, 23.0, 24.0, 25.0, 26.0, 27.0, 28.0, 29.0, 30.0, 31.0, 32.0, 33.0, 34.0, 35.0, 36.0, 37.0, 38.0, 39.0, 40.0, 41.0, 42.0, 43.0, 44.0, 45.0, 46.0, 47.0, 48.0, 49.0, 50.0, 51.0, 52.0, 53.0, 54.0, 55.0, 56.0, 57.0, 58.0, 59.0, 60.0, 61.0, 62.0, 63.0, 64.0, 65.0, 66.0, 67.0, 68.0, 69.0, 70.0, 71.0, 72.0, 73.0, 74.0, 75.0, 76.0, 77.0, 78.0, 79.0, 80.0, 81.0, 82.0, 83.0, 84.0, 85.0, 86.0, 87.0, 88.0, 89.0, 90.0, 91.0, 92.0, 93.0, 94.0, 95.0, 96.0, 97.0, 98.0, 99.0, 100.0, 101.0, 102.0, 103.0, 104.0, 105.0, 106.0, 107.0, 108.0, 109.0, 110.0, 111.0, 112.0, 113.0, 114.0, 115.0, 116.0, 117.0, 118.0, 119.0, 120.0, 121.0, 122.0, 123.0, 124.0, 125.0, 126.0, 127.0, 128.0, 129.0, 130.0, 131.0, 132.0, 133.0, 134.0, 135.0, 136.0, 137.0, 138.0, 139.0, 140.0, 141.0, 142.0, 143.0, 144.0, 145.0, 146.0, 147.0, 148.0, 149.0], \"xaxis\": \"x\", \"y\": [1.0, 1.0, 1.2599999999999998, 1.5875994284639998, 2.0003743724947394, 2.5204702688042246, 3.1757902516959877, 4.001492086305204, 5.041874264446546, 6.352752421824053, 8.004453522811506, 10.085588373083066, 12.707804731211244, 16.011775825537775, 20.174745244470163, 25.42003248070796, 32.02900830159355, 40.35618115135367, 50.84820194701706, 64.06780365897065, 80.72395492425537, 101.70983731607825, 128.15067085749612, 161.46393314644627, 203.43517034790773, 256.31341572569136, 322.931253050222, 406.8558363893689, 512.5787624488273, 645.7546553699456, 813.5007460991559, 1024.772698037931, 1290.8355422580412, 1625.8529309421556, 2047.6230697960168, 2578.4956742580353, 3246.5110391859444, 4086.8095691603694, 5143.367332658417, 6471.119317242888, 8138.535201047561, 10230.709481441198, 12853.013676678196, 16135.32524680829, 20236.784271483142, 25350.91830451456, 31710.79620249076, 39593.596360651834, 49323.576380224025, 61271.89277178539, 75851.05674866821, 93501.11369176165, 114664.11827744376, 139743.55942225544, 169046.7104080413, 202711.21060621119, 240623.06479786924, 282341.2562927362, 327052.01232706185, 373578.8487759129, 420467.3332066651, 466143.43965458515, 509116.43968489446, 548174.8763062948, 582521.8939410998, 611818.1538743244, 636135.1506539816, 655849.8350608938, 671520.7499629415, 683777.7026062214, 693241.2045145198, 700473.9053390677, 705958.1915852778, 710091.612821562, 713192.5966593383, 715510.947016078, 717239.6637323141, 718526.1916196124, 719482.2417450934, 720191.9339716615, 720718.3249714703, 721108.5240421671, 721397.6390524723, 721611.7858991419, 721770.3651954411, 721887.774519486, 721974.6906543017, 722039.0268040854, 722086.6455309988, 722121.8888535427, 722147.9719053569, 722167.2750030224, 722181.5601931035, 722192.1317254502, 722199.9549286533, 722205.7442464816, 722210.0284224256, 722213.1987568447, 722215.5448285306, 722217.2809348389, 722218.5656607687, 722219.5163619332, 722220.2198829725, 722220.7404897341, 722221.1257393906, 722221.4108244941, 722221.6217876663, 722221.7779005211, 722221.8934240922, 722221.978911567, 722222.0421723161, 722222.08898528, 722222.1236268786, 722222.1492616644, 722222.1682314074, 722222.1822690183, 722222.1926568507, 722222.2003438469, 722222.2060322242, 722222.2102416237, 722222.2133565792, 722222.2156616463, 722222.217367396, 722222.2186296508, 722222.2195637194, 722222.2202549301, 722222.220766426, 722222.221144933, 722222.2214250283, 722222.2216322988, 722222.2217856789, 722222.2218991801, 722222.221983171, 722222.2220453243, 722222.2220913176, 722222.2221253528, 722222.2221505388, 722222.2221691766, 722222.2221829684, 722222.2221931744, 722222.2222007269, 722222.2222063157, 722222.2222104515, 722222.2222135118, 722222.2222157764, 722222.2222174524, 722222.2222186925, 722222.2222196102, 722222.2222202894], \"yaxis\": \"y\"}, {\"hoverlabel\": {\"namelength\": 0}, \"hovertemplate\": \"R_0=1.35<br>t=%{x}<br>I=%{y}\", \"legendgroup\": \"R_0=1.35\", \"line\": {\"color\": \"#EF553B\", \"dash\": \"solid\"}, \"mode\": \"lines\", \"name\": \"R_0=1.35\", \"showlegend\": true, \"type\": \"scatter\", \"x\": [1.0, 2.0, 3.0, 4.0, 5.0, 6.0, 7.0, 8.0, 9.0, 10.0, 11.0, 12.0, 13.0, 14.0, 15.0, 16.0, 17.0, 18.0, 19.0, 20.0, 21.0, 22.0, 23.0, 24.0, 25.0, 26.0, 27.0, 28.0, 29.0, 30.0, 31.0, 32.0, 33.0, 34.0, 35.0, 36.0, 37.0, 38.0, 39.0, 40.0, 41.0, 42.0, 43.0, 44.0, 45.0, 46.0, 47.0, 48.0, 49.0, 50.0, 51.0, 52.0, 53.0, 54.0, 55.0, 56.0, 57.0, 58.0, 59.0, 60.0, 61.0, 62.0, 63.0, 64.0, 65.0, 66.0, 67.0, 68.0, 69.0, 70.0, 71.0, 72.0, 73.0, 74.0, 75.0, 76.0, 77.0, 78.0, 79.0, 80.0, 81.0, 82.0, 83.0, 84.0, 85.0, 86.0, 87.0, 88.0, 89.0, 90.0, 91.0, 92.0, 93.0, 94.0, 95.0, 96.0, 97.0, 98.0, 99.0, 100.0, 101.0, 102.0, 103.0, 104.0, 105.0, 106.0, 107.0, 108.0, 109.0, 110.0, 111.0, 112.0, 113.0, 114.0, 115.0, 116.0, 117.0, 118.0, 119.0, 120.0, 121.0, 122.0, 123.0, 124.0, 125.0, 126.0, 127.0, 128.0, 129.0, 130.0, 131.0, 132.0, 133.0, 134.0, 135.0, 136.0, 137.0, 138.0, 139.0, 140.0, 141.0, 142.0, 143.0, 144.0, 145.0, 146.0, 147.0, 148.0, 149.0], \"xaxis\": \"x\", \"y\": [1.0, 1.0, 1.1400000000000001, 1.2995992982160005, 1.4815422879287392, 1.688957022956285, 1.9254094657792191, 2.1949647890994397, 2.5022572579233313, 2.8525698929352497, 3.251925283882488, 3.7071891131162884, 4.2261881675969635, 4.817844866300668, 5.492330613303016, 6.261240609689832, 7.137793125354063, 8.137056650934653, 9.276208827752399, 10.574831597690618, 12.055247634753114, 13.74290382596096, 15.666808373196485, 17.860029003046307, 20.360260813929358, 23.210473476160445, 26.45964885074025, 30.16362162881454, 34.38603734105091, 39.19944407303346, 44.686536481193706, 50.94157326982777, 58.07199220390457, 66.20025004006081, 75.46591851019244, 86.02807174499682, 98.06800534156719, 111.79233272920388, 127.43651064743763, 145.26885250338606, 165.59509621252596, 188.76360194489916, 215.1712651005787, 245.2702409310642, 279.5755896162265, 318.67396440693125, 363.23348075228256, 414.0149212343707, 471.88444969548016, 537.8280281885607, 612.9677522814904, 698.5803436896172, 796.118063978005, 907.232338790158, 1033.8004081418449, 1177.955343908411, 1342.1197995077773, 1529.0438772385014, 1741.8475134554906, 1984.067787648788, 2259.711554427186, 2573.313772040018, 2930.00185049016, 3335.56625770309, 3796.537492561378, 4320.269345176461, 4915.028100805134, 5590.086984252733, 6355.824662902698, 7223.8260018504725, 8206.982464572833, 9319.588546579174, 10577.429388534392, 11997.853216195716, 13599.82048629253, 15403.919591053422, 17432.336734866374, 19708.76524116727, 22258.23724417171, 25106.858730738117, 28281.427601165822, 31808.914325862646, 35715.78653496478, 40027.16324964181, 44765.79225377238, 49950.85604500225, 55596.62836070315, 61711.0243852594, 68294.11251262955, 75336.68193029833, 82818.98495263596, 90709.79134096912, 98965.89835633883, 107532.22964598857, 116342.62437360268, 125321.36441299299, 134385.41546651156, 143447.27609116546, 152418.2493942221, 161211.89002527756, 169747.34694663447, 177952.32814963593, 185765.45729989206, 193137.86655392442, 200033.96070309303, 206431.37906686013, 212320.25843395985, 217701.952858324, 222587.39050819227, 226995.24611618608, 230950.08602240428, 234480.60925931268, 237618.0702515625, 240394.93253934, 242843.7723559269, 244996.42768884578, 246883.37279192443, 248533.289111791, 249972.79985721022, 251226.3354762551, 252316.09975904375, 253262.1100585974, 254082.28941548115, 254792.59264455782, 255407.15237086668, 255938.43442240264, 256397.3948456602, 256793.63311888633, 257135.53794991592, 257430.4234294361, 257684.65433974544, 257903.760162925, 258092.5378523997, 258255.14378038578, 258395.1754935648, 258515.74403475478, 258619.53764614533, 258708.87768036046, 258785.76752466982, 258851.93530252407, 258908.87106355187, 258957.85911413154, 259000.0060797438, 259036.26523028198, 259067.4575421168, 259094.28991705147, 259117.37092892325, 259137.2244237292, 259154.30125875282], \"yaxis\": \"y\"}, {\"hoverlabel\": {\"namelength\": 0}, \"hovertemplate\": \"R_0=0.6<br>t=%{x}<br>I=%{y}\", \"legendgroup\": \"R_0=0.6\", \"line\": {\"color\": \"#00cc96\", \"dash\": \"solid\"}, \"mode\": \"lines\", \"name\": \"R_0=0.6\", \"showlegend\": true, \"type\": \"scatter\", \"x\": [1.0, 2.0, 3.0, 4.0, 5.0, 6.0, 7.0, 8.0, 9.0, 10.0, 11.0, 12.0, 13.0, 14.0, 15.0, 16.0, 17.0, 18.0, 19.0, 20.0, 21.0, 22.0, 23.0, 24.0, 25.0, 26.0, 27.0, 28.0, 29.0, 30.0, 31.0, 32.0, 33.0, 34.0, 35.0, 36.0, 37.0, 38.0, 39.0, 40.0, 41.0, 42.0, 43.0, 44.0, 45.0, 46.0, 47.0, 48.0, 49.0, 50.0, 51.0, 52.0, 53.0, 54.0, 55.0, 56.0, 57.0, 58.0, 59.0, 60.0, 61.0, 62.0, 63.0, 64.0, 65.0, 66.0, 67.0, 68.0, 69.0, 70.0, 71.0, 72.0, 73.0, 74.0, 75.0, 76.0, 77.0, 78.0, 79.0, 80.0, 81.0, 82.0, 83.0, 84.0, 85.0, 86.0, 87.0, 88.0, 89.0, 90.0, 91.0, 92.0, 93.0, 94.0, 95.0, 96.0, 97.0, 98.0, 99.0, 100.0, 101.0, 102.0, 103.0, 104.0, 105.0, 106.0, 107.0, 108.0, 109.0, 110.0, 111.0, 112.0, 113.0, 114.0, 115.0, 116.0, 117.0, 118.0, 119.0, 120.0, 121.0, 122.0, 123.0, 124.0, 125.0, 126.0, 127.0, 128.0, 129.0, 130.0, 131.0, 132.0, 133.0, 134.0, 135.0, 136.0, 137.0, 138.0, 139.0, 140.0, 141.0, 142.0, 143.0, 144.0, 145.0, 146.0, 147.0, 148.0, 149.0], \"xaxis\": \"x\", \"y\": [1.0, 1.0, 0.84, 0.7055998306559998, 0.5927037382619708, 0.49787105582860236, 0.4182116274058848, 0.3512977250447116, 0.2950900594191357, 0.24787562901331966, 0.20821551362502994, 0.1749010210401371, 0.14691685033202706, 0.12341014909860812, 0.10366452158761523, 0.08707819555447685, 0.07314568244593364, 0.061442371970514456, 0.05161159154919252, 0.04335373626202019, 0.036417138009005805, 0.030590395609274967, 0.025695932087205615, 0.02158458279478529, 0.018131049435805034, 0.01523008144717984, 0.012793268359961772, 0.010746345383087635, 0.009026930094077469, 0.0075826212594685615, 0.006369401844154516, 0.005350297539353167, 0.004494249926186496, 0.003775169933149069, 0.0031711427404247598, 0.0026637598995433226, 0.0022375583139134427, 0.0018795489824856917, 0.001578821144440132, 0.0013262097607314683, 0.0011140161985923138, 0.0009357736065196958, 0.0007860498292663832, 0.0006602818564354721, 0.0005546367593011632, 0.00046589487773914787, 0.0003913516972487903, 0.00032873542565222633, 0.00027613775752193404, 0.00023195571630012408, 0.00019484280167919143, 0.00016366795340140951, 0.00013748108085075508, 0.00011548410791009802, 9.700665064128156e-05, 8.148558653641804e-05, 6.844789268899757e-05, 5.749622985763353e-05, 4.829683307961877e-05, 4.056933978631994e-05, 3.4078245420113744e-05, 2.8625726152616828e-05, 2.404560996800147e-05, 2.0198312372982467e-05, 1.6966582393207357e-05, 1.4251929210225091e-05, 1.1971620536540329e-05, 1.0056161250659479e-05, 8.447175450529692e-06, 7.095627378427815e-06, 5.960326997867281e-06, 5.00667467819999e-06, 4.205606729681976e-06, 3.5327096529286153e-06, 2.9674761084570413e-06, 2.4926799311018015e-06, 2.093851142124022e-06, 1.758834959383126e-06, 1.4774213658810832e-06, 1.2410339473395857e-06, 1.0424685157648824e-06, 8.756735532422402e-07, 7.355657847232979e-07, 6.178752591674404e-07, 5.190152177005583e-07, 4.359727828684042e-07, 3.6621713760941394e-07, 3.0762239559187555e-07, 2.5840281229715273e-07, 2.1705836232959225e-07, 1.8232902435684616e-07, 1.5315638045974278e-07, 1.2865135958617828e-07, 1.0806714205238578e-07, 9.077639932400126e-08, 7.625217543215908e-08, 6.405182736301223e-08, 5.380353498492929e-08, 4.519496938733991e-08, 3.796377428536503e-08, 3.1889570399706276e-08, 2.6787239135753028e-08, 2.2501280874032375e-08, 1.890107593418707e-08, 1.5876903784717054e-08, 1.3336599179162265e-08, 1.120274331049626e-08, 9.410304380816829e-09, 7.904655679886114e-09, 6.63991077110432e-09, 5.577525047727618e-09, 4.685121040091192e-09, 3.935501673676596e-09, 3.3058214058883366e-09, 2.7768899809462e-09, 2.3325875839948064e-09, 1.9593735705556354e-09, 1.6458737992667327e-09, 1.3825339913840547e-09, 1.1613285527626053e-09, 9.755159843205881e-10, 8.194334268292938e-10, 6.883240785366066e-10, 5.781922259707494e-10, 4.856814698154294e-10, 4.0797243464496057e-10, 3.4269684510176687e-10, 2.878653498854841e-10, 2.418068939038066e-10, 2.031177908791975e-10, 1.7061894433852587e-10, 1.4331991324436174e-10, 1.2038872712526384e-10, 1.0112653078522161e-10, 8.494628585958616e-11, 7.135488012205236e-11, 5.993809930252397e-11, 5.034800341412013e-11, 4.229232286786091e-11, 3.552555120900316e-11, 2.9841463015562655e-11, 2.5066828933072625e-11, 2.1056136303781002e-11, 1.768715449517604e-11, 1.485720977594787e-11, 1.2480056211796213e-11, 1.0483247217908818e-11, 8.805927663043407e-12, 7.396979236956461e-12], \"yaxis\": \"y\"}],\n",
       "                        {\"height\": 400, \"legend\": {\"tracegroupgap\": 0}, \"margin\": {\"t\": 60}, \"template\": {\"data\": {\"bar\": [{\"error_x\": {\"color\": \"#2a3f5f\"}, \"error_y\": {\"color\": \"#2a3f5f\"}, \"marker\": {\"line\": {\"color\": \"#E5ECF6\", \"width\": 0.5}}, \"type\": \"bar\"}], \"barpolar\": [{\"marker\": {\"line\": {\"color\": \"#E5ECF6\", \"width\": 0.5}}, \"type\": \"barpolar\"}], \"carpet\": [{\"aaxis\": {\"endlinecolor\": \"#2a3f5f\", \"gridcolor\": \"white\", \"linecolor\": \"white\", \"minorgridcolor\": \"white\", \"startlinecolor\": \"#2a3f5f\"}, \"baxis\": {\"endlinecolor\": \"#2a3f5f\", \"gridcolor\": \"white\", \"linecolor\": \"white\", \"minorgridcolor\": \"white\", \"startlinecolor\": \"#2a3f5f\"}, \"type\": \"carpet\"}], \"choropleth\": [{\"colorbar\": {\"outlinewidth\": 0, \"ticks\": \"\"}, \"type\": \"choropleth\"}], \"contour\": [{\"colorbar\": {\"outlinewidth\": 0, \"ticks\": \"\"}, \"colorscale\": [[0.0, \"#0d0887\"], [0.1111111111111111, \"#46039f\"], [0.2222222222222222, \"#7201a8\"], [0.3333333333333333, \"#9c179e\"], [0.4444444444444444, \"#bd3786\"], [0.5555555555555556, \"#d8576b\"], [0.6666666666666666, \"#ed7953\"], [0.7777777777777778, \"#fb9f3a\"], [0.8888888888888888, \"#fdca26\"], [1.0, \"#f0f921\"]], \"type\": \"contour\"}], \"contourcarpet\": [{\"colorbar\": {\"outlinewidth\": 0, \"ticks\": \"\"}, \"type\": \"contourcarpet\"}], \"heatmap\": [{\"colorbar\": {\"outlinewidth\": 0, \"ticks\": \"\"}, \"colorscale\": [[0.0, \"#0d0887\"], [0.1111111111111111, \"#46039f\"], [0.2222222222222222, \"#7201a8\"], [0.3333333333333333, \"#9c179e\"], [0.4444444444444444, \"#bd3786\"], [0.5555555555555556, \"#d8576b\"], [0.6666666666666666, \"#ed7953\"], [0.7777777777777778, \"#fb9f3a\"], [0.8888888888888888, \"#fdca26\"], [1.0, \"#f0f921\"]], \"type\": \"heatmap\"}], \"heatmapgl\": [{\"colorbar\": {\"outlinewidth\": 0, \"ticks\": \"\"}, \"colorscale\": [[0.0, \"#0d0887\"], [0.1111111111111111, \"#46039f\"], [0.2222222222222222, \"#7201a8\"], [0.3333333333333333, \"#9c179e\"], [0.4444444444444444, \"#bd3786\"], [0.5555555555555556, \"#d8576b\"], [0.6666666666666666, \"#ed7953\"], [0.7777777777777778, \"#fb9f3a\"], [0.8888888888888888, \"#fdca26\"], [1.0, \"#f0f921\"]], \"type\": \"heatmapgl\"}], \"histogram\": [{\"marker\": {\"colorbar\": {\"outlinewidth\": 0, \"ticks\": \"\"}}, \"type\": \"histogram\"}], \"histogram2d\": [{\"colorbar\": {\"outlinewidth\": 0, \"ticks\": \"\"}, \"colorscale\": [[0.0, \"#0d0887\"], [0.1111111111111111, \"#46039f\"], [0.2222222222222222, \"#7201a8\"], [0.3333333333333333, \"#9c179e\"], [0.4444444444444444, \"#bd3786\"], [0.5555555555555556, \"#d8576b\"], [0.6666666666666666, \"#ed7953\"], [0.7777777777777778, \"#fb9f3a\"], [0.8888888888888888, \"#fdca26\"], [1.0, \"#f0f921\"]], \"type\": \"histogram2d\"}], \"histogram2dcontour\": [{\"colorbar\": {\"outlinewidth\": 0, \"ticks\": \"\"}, \"colorscale\": [[0.0, \"#0d0887\"], [0.1111111111111111, \"#46039f\"], [0.2222222222222222, \"#7201a8\"], [0.3333333333333333, \"#9c179e\"], [0.4444444444444444, \"#bd3786\"], [0.5555555555555556, \"#d8576b\"], [0.6666666666666666, \"#ed7953\"], [0.7777777777777778, \"#fb9f3a\"], [0.8888888888888888, \"#fdca26\"], [1.0, \"#f0f921\"]], \"type\": \"histogram2dcontour\"}], \"mesh3d\": [{\"colorbar\": {\"outlinewidth\": 0, \"ticks\": \"\"}, \"type\": \"mesh3d\"}], \"parcoords\": [{\"line\": {\"colorbar\": {\"outlinewidth\": 0, \"ticks\": \"\"}}, \"type\": \"parcoords\"}], \"scatter\": [{\"marker\": {\"colorbar\": {\"outlinewidth\": 0, \"ticks\": \"\"}}, \"type\": \"scatter\"}], \"scatter3d\": [{\"line\": {\"colorbar\": {\"outlinewidth\": 0, \"ticks\": \"\"}}, \"marker\": {\"colorbar\": {\"outlinewidth\": 0, \"ticks\": \"\"}}, \"type\": \"scatter3d\"}], \"scattercarpet\": [{\"marker\": {\"colorbar\": {\"outlinewidth\": 0, \"ticks\": \"\"}}, \"type\": \"scattercarpet\"}], \"scattergeo\": [{\"marker\": {\"colorbar\": {\"outlinewidth\": 0, \"ticks\": \"\"}}, \"type\": \"scattergeo\"}], \"scattergl\": [{\"marker\": {\"colorbar\": {\"outlinewidth\": 0, \"ticks\": \"\"}}, \"type\": \"scattergl\"}], \"scattermapbox\": [{\"marker\": {\"colorbar\": {\"outlinewidth\": 0, \"ticks\": \"\"}}, \"type\": \"scattermapbox\"}], \"scatterpolar\": [{\"marker\": {\"colorbar\": {\"outlinewidth\": 0, \"ticks\": \"\"}}, \"type\": \"scatterpolar\"}], \"scatterpolargl\": [{\"marker\": {\"colorbar\": {\"outlinewidth\": 0, \"ticks\": \"\"}}, \"type\": \"scatterpolargl\"}], \"scatterternary\": [{\"marker\": {\"colorbar\": {\"outlinewidth\": 0, \"ticks\": \"\"}}, \"type\": \"scatterternary\"}], \"surface\": [{\"colorbar\": {\"outlinewidth\": 0, \"ticks\": \"\"}, \"colorscale\": [[0.0, \"#0d0887\"], [0.1111111111111111, \"#46039f\"], [0.2222222222222222, \"#7201a8\"], [0.3333333333333333, \"#9c179e\"], [0.4444444444444444, \"#bd3786\"], [0.5555555555555556, \"#d8576b\"], [0.6666666666666666, \"#ed7953\"], [0.7777777777777778, \"#fb9f3a\"], [0.8888888888888888, \"#fdca26\"], [1.0, \"#f0f921\"]], \"type\": \"surface\"}], \"table\": [{\"cells\": {\"fill\": {\"color\": \"#EBF0F8\"}, \"line\": {\"color\": \"white\"}}, \"header\": {\"fill\": {\"color\": \"#C8D4E3\"}, \"line\": {\"color\": \"white\"}}, \"type\": \"table\"}]}, \"layout\": {\"annotationdefaults\": {\"arrowcolor\": \"#2a3f5f\", \"arrowhead\": 0, \"arrowwidth\": 1}, \"colorscale\": {\"diverging\": [[0, \"#8e0152\"], [0.1, \"#c51b7d\"], [0.2, \"#de77ae\"], [0.3, \"#f1b6da\"], [0.4, \"#fde0ef\"], [0.5, \"#f7f7f7\"], [0.6, \"#e6f5d0\"], [0.7, \"#b8e186\"], [0.8, \"#7fbc41\"], [0.9, \"#4d9221\"], [1, \"#276419\"]], \"sequential\": [[0.0, \"#0d0887\"], [0.1111111111111111, \"#46039f\"], [0.2222222222222222, \"#7201a8\"], [0.3333333333333333, \"#9c179e\"], [0.4444444444444444, \"#bd3786\"], [0.5555555555555556, \"#d8576b\"], [0.6666666666666666, \"#ed7953\"], [0.7777777777777778, \"#fb9f3a\"], [0.8888888888888888, \"#fdca26\"], [1.0, \"#f0f921\"]], \"sequentialminus\": [[0.0, \"#0d0887\"], [0.1111111111111111, \"#46039f\"], [0.2222222222222222, \"#7201a8\"], [0.3333333333333333, \"#9c179e\"], [0.4444444444444444, \"#bd3786\"], [0.5555555555555556, \"#d8576b\"], [0.6666666666666666, \"#ed7953\"], [0.7777777777777778, \"#fb9f3a\"], [0.8888888888888888, \"#fdca26\"], [1.0, \"#f0f921\"]]}, \"colorway\": [\"#636efa\", \"#EF553B\", \"#00cc96\", \"#ab63fa\", \"#FFA15A\", \"#19d3f3\", \"#FF6692\", \"#B6E880\", \"#FF97FF\", \"#FECB52\"], \"font\": {\"color\": \"#2a3f5f\"}, \"geo\": {\"bgcolor\": \"white\", \"lakecolor\": \"white\", \"landcolor\": \"#E5ECF6\", \"showlakes\": true, \"showland\": true, \"subunitcolor\": \"white\"}, \"hoverlabel\": {\"align\": \"left\"}, \"hovermode\": \"closest\", \"mapbox\": {\"style\": \"light\"}, \"paper_bgcolor\": \"white\", \"plot_bgcolor\": \"#E5ECF6\", \"polar\": {\"angularaxis\": {\"gridcolor\": \"white\", \"linecolor\": \"white\", \"ticks\": \"\"}, \"bgcolor\": \"#E5ECF6\", \"radialaxis\": {\"gridcolor\": \"white\", \"linecolor\": \"white\", \"ticks\": \"\"}}, \"scene\": {\"xaxis\": {\"backgroundcolor\": \"#E5ECF6\", \"gridcolor\": \"white\", \"gridwidth\": 2, \"linecolor\": \"white\", \"showbackground\": true, \"ticks\": \"\", \"zerolinecolor\": \"white\"}, \"yaxis\": {\"backgroundcolor\": \"#E5ECF6\", \"gridcolor\": \"white\", \"gridwidth\": 2, \"linecolor\": \"white\", \"showbackground\": true, \"ticks\": \"\", \"zerolinecolor\": \"white\"}, \"zaxis\": {\"backgroundcolor\": \"#E5ECF6\", \"gridcolor\": \"white\", \"gridwidth\": 2, \"linecolor\": \"white\", \"showbackground\": true, \"ticks\": \"\", \"zerolinecolor\": \"white\"}}, \"shapedefaults\": {\"line\": {\"color\": \"#2a3f5f\"}}, \"ternary\": {\"aaxis\": {\"gridcolor\": \"white\", \"linecolor\": \"white\", \"ticks\": \"\"}, \"baxis\": {\"gridcolor\": \"white\", \"linecolor\": \"white\", \"ticks\": \"\"}, \"bgcolor\": \"#E5ECF6\", \"caxis\": {\"gridcolor\": \"white\", \"linecolor\": \"white\", \"ticks\": \"\"}}, \"title\": {\"x\": 0.05}, \"xaxis\": {\"automargin\": true, \"gridcolor\": \"white\", \"linecolor\": \"white\", \"ticks\": \"\", \"zerolinecolor\": \"white\", \"zerolinewidth\": 2}, \"yaxis\": {\"automargin\": true, \"gridcolor\": \"white\", \"linecolor\": \"white\", \"ticks\": \"\", \"zerolinecolor\": \"white\", \"zerolinewidth\": 2}}}, \"width\": 600, \"xaxis\": {\"anchor\": \"y\", \"domain\": [0.0, 0.98], \"title\": {\"text\": \"t\"}}, \"yaxis\": {\"anchor\": \"x\", \"domain\": [0.0, 1.0], \"title\": {\"text\": \"I\"}}},\n",
       "                        {\"responsive\": true}\n",
       "                    ).then(function(){\n",
       "                            \n",
       "var gd = document.getElementById('983fec31-984f-4552-93bf-36425e35da6e');\n",
       "var x = new MutationObserver(function (mutations, observer) {{\n",
       "        var display = window.getComputedStyle(gd).display;\n",
       "        if (!display || display === 'none') {{\n",
       "            console.log([gd, 'removed!']);\n",
       "            Plotly.purge(gd);\n",
       "            observer.disconnect();\n",
       "        }}\n",
       "}});\n",
       "\n",
       "// Listen for the removal of the full notebook cells\n",
       "var notebookContainer = gd.closest('#notebook-container');\n",
       "if (notebookContainer) {{\n",
       "    x.observe(notebookContainer, {childList: true});\n",
       "}}\n",
       "\n",
       "// Listen for the clearing of the current output cell\n",
       "var outputEl = gd.closest('.output');\n",
       "if (outputEl) {{\n",
       "    x.observe(outputEl, {childList: true});\n",
       "}}\n",
       "\n",
       "                        })\n",
       "                };\n",
       "                });\n",
       "            </script>\n",
       "        </div>"
      ]
     },
     "metadata": {},
     "output_type": "display_data"
    }
   ],
   "source": [
    "px.line(df,x='t',y='I',color='R_0', height=400,width=600)"
   ]
  },
  {
   "cell_type": "markdown",
   "metadata": {},
   "source": [
    "#### SIR en networks\n",
    "\n",
    "El SIR comun asume random mixing. Si metemos el modelo en una red, vemos la importancia de la distribucion de grados en la transmision. En un **hub-and-spoke network**, hay ciertos individuos muy conectados. De esta forma, si un hub esta infectado, puede infectar a todos los demas en muy poco tiempo. Incluso si lo tiene otro, se lo va a pasar al hub y este va a infectar a los demas. Para este caso, el $R_0$ no tiene tanta importancia. El **hub es un superspreader**. Si el hub tiene mucho betweenness (conecta con muchas comunidades) puede transmitirlo muy rapido a mucha gente. \n",
    "\n",
    "El superspreader/hub tiene mas chances que los demas de pasarlo pero tambien de adquirirlo, por eso **su contribucion es el cuadrado del grado del nodo**.\n",
    "\n",
    "Los tipping points son muy importantes: hacer un producto un poquito mejor puede empujar la transmision (con el $R_0$) y que se expanda mucho. Hay otros casos donde algo es tan bueno que el $R_0$ esta muy por encima de 1. Justin Bieber tenia un $R_0=24$. Estos tipping points son contextuales: pueden ir cambiando con el contexto... no es que pequeñas decisiones marquen para siempre el camino del sistema (direct tipping points). Estos ultimos ocurren cuando hay situaciones inestables.\n",
    "\n",
    "En otros casos, esto no es realista, ya que la probabilidad de contagio no varia segun la cantidad de gente que lo tenga, algo que si puede pasar en por ejemplo contextos sociales, donde el contagio se hace mas probablecon mas exposicion, ya que el contagio es una opcion. Lo mismo para pertenecer a un movimiento social, etc. En esos casos, $P_{spread}$ podria variar en funcion de otras cosas."
   ]
  },
  {
   "cell_type": "code",
   "execution_count": null,
   "metadata": {},
   "outputs": [],
   "source": []
  },
  {
   "cell_type": "markdown",
   "metadata": {},
   "source": [
    "## 12. Entropy: Modeling Uncertainty"
   ]
  },
  {
   "cell_type": "code",
   "execution_count": null,
   "metadata": {},
   "outputs": [],
   "source": []
  },
  {
   "cell_type": "code",
   "execution_count": null,
   "metadata": {},
   "outputs": [],
   "source": []
  }
 ],
 "metadata": {
  "kernelspec": {
   "display_name": "Python 3",
   "language": "python",
   "name": "python3"
  },
  "language_info": {
   "codemirror_mode": {
    "name": "ipython",
    "version": 3
   },
   "file_extension": ".py",
   "mimetype": "text/x-python",
   "name": "python",
   "nbconvert_exporter": "python",
   "pygments_lexer": "ipython3",
   "version": "3.7.2"
  }
 },
 "nbformat": 4,
 "nbformat_minor": 2
}
